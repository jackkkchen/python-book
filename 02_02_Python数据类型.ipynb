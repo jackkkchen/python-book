{
 "cells": [
  {
   "attachments": {},
   "cell_type": "markdown",
   "metadata": {},
   "source": [
    "---\n",
    "title: \"Python数据类型\"\n",
    "format:\n",
    "  html:\n",
    "   code-fold: false\n",
    "   code-tools: true\n",
    "jupyter: python3\n",
    "---"
   ]
  },
  {
   "cell_type": "markdown",
   "metadata": {},
   "source": [
    "<video controls style=\"width: 100%;\">\n",
    "  <source src=\"http://szmspython.oss-cn-hangzhou.aliyuncs.com/%E5%91%A8%E4%B8%80%E7%8E%AF%E5%A2%83%E6%90%AD%E5%BB%BA%26%E5%9F%BA%E7%A1%80%E8%AF%AD%E6%B3%95/%E6%96%B0%E6%89%8B%E7%AC%AC%E4%B8%80%E5%A4%A9/%E5%91%A8%E4%BA%8C%E8%A7%86%E9%A2%91.mp4\" type=\"video/mp4\">\n",
    "</video>\n",
    "\n",
    "<style>\n",
    "video {\n",
    "  max-width: 100%;\n",
    "  height: auto;\n",
    "  \n",
    "}\n",
    "</style>\n",
    "\n",
    "\n",
    "## 数据类型"
   ]
  },
  {
   "cell_type": "markdown",
   "metadata": {},
   "source": [
    "当我们编写程序时，数据是不可或缺的。\n",
    "\n",
    "在Python中，数据类型用于表示数据的不同种类和属性，决定了数据的存储方式和可进行的操作。Python中的数据类型包括数字类型（整数、浮点数）、布尔类型（True和False）以及字符串等。通过了解和灵活运用这些数据类型，我们可以有效地处理和操作各种数据，使程序更加灵活和高效。数据类型是Python编程的基础，也是我们展开深入学习的起点。了解和正确使用这些数据类型对于编写Python代码非常重要。\n",
    "\n",
    "::: {.callout-note}\n",
    "你可以使用`type()`函数来查看元素的类型。尝试在代码框中输入`print(type(元素名))`，来查看你的元素的数据类型。\n",
    "\n",
    ":::"
   ]
  },
  {
   "cell_type": "markdown",
   "metadata": {},
   "source": [
    "### 一、数字类型(Numeric Types)\n",
    "\n",
    "#### 1. 整数类型(`int`)\n",
    "\n",
    "整数类型(`int`)是数字类型数据中的一个重要的组成部分，是基本的数字类型之一，也是进行算术运算和计数操作的基础。在Python中，整数是用来表示没有小数部分的数值，可以是正数、负数或零。\n",
    "\n",
    "整数类型的数据可以用常规的整数表示方式来表示，例如：`10`、`-5`等。整数类型也支持基本的算术运算，如加法、减法等。同时，Python的整数类型支持无限精度，即整数的大小不受限制，可以表示任意大的整数。\n",
    "\n",
    "试试看下面的代码，创建一些整数对象。"
   ]
  },
  {
   "cell_type": "code",
   "execution_count": 21,
   "metadata": {},
   "outputs": [
    {
     "name": "stdout",
     "output_type": "stream",
     "text": [
      "10\n",
      "<class 'int'>\n",
      "-5\n",
      "<class 'int'>\n"
     ]
    }
   ],
   "source": [
    "# 定义整数变量\n",
    "num1 = 10\n",
    "\n",
    "print(num1)\n",
    "print(type(num1))"
   ]
  },
  {
   "cell_type": "code",
   "execution_count": null,
   "metadata": {},
   "outputs": [],
   "source": [
    "num2 = -5\n",
    "\n",
    "print(num2)\n",
    "print(type(num2))"
   ]
  },
  {
   "cell_type": "markdown",
   "metadata": {},
   "source": [
    "在编写程序时，整数类型经常用于计数、计算和存储整数数据。在处理整数时，需要注意整数运算的结果可能会超出预期，因为整数运算可能会产生浮点数结果。"
   ]
  },
  {
   "cell_type": "markdown",
   "metadata": {},
   "source": [
    "#### 2. 浮点数类型(`float`)\n",
    "\n",
    "浮点数类型(float)也是数字类型中的一个重要组成部分，用于标识带有小数部分的数值，例如：`3.14`、`0.5`、`-2.71828`等。在Python中，浮点数的表示方式和数学中的实数类似，使用小数点来标识小数部分。\n",
    "\n",
    "浮点数可以用常规的十进制来标识，也可以使用科学计数法表示，例如：`1.23`、`5e-3`等。浮点数和整数一样，支持基本的算术运算。与整数不同的是，在计算机中，浮点数是有限的，因此它们具有一定的精度限制。在进行复杂运算时，可能会出现精度丢失的问题。\n",
    "\n",
    "下面是一些浮点数的例子，你可以在JupyterLab中尝试一下。"
   ]
  },
  {
   "cell_type": "code",
   "execution_count": 22,
   "metadata": {},
   "outputs": [
    {
     "name": "stdout",
     "output_type": "stream",
     "text": [
      "3.1415926\n",
      "<class 'float'>\n",
      "25.5\n",
      "<class 'float'>\n"
     ]
    }
   ],
   "source": [
    "# 定义浮点数变量\n",
    "pi = 3.1415926\n",
    "\n",
    "print(pi)\n",
    "print(type(pi))"
   ]
  },
  {
   "cell_type": "code",
   "execution_count": null,
   "metadata": {},
   "outputs": [],
   "source": [
    "temperature = 25.5\n",
    "\n",
    "print(temperature)\n",
    "print(type(temperature))"
   ]
  },
  {
   "cell_type": "markdown",
   "metadata": {},
   "source": [
    "在编写程序时，浮点数常用于涉及小数的计算和数据处理。需要注意的是，由于浮点数的精度限制，可能会出现舍入误差，因此在比较浮点数是否相等时，应使用适当的误差范围进行比较，以确保计算结果的准确性。"
   ]
  },
  {
   "cell_type": "markdown",
   "metadata": {},
   "source": [
    "### 二、布尔类型(Boolean Type)\n",
    "\n",
    "布尔类型(bool)是Python数据类型中的一个关键部分。布尔类型只有两个取值：`True`(表示'真')和`False`(表示'假')。布尔类型通常用于表示逻辑条件的结果，如判断某条件是否成立，或变量是否满足某种条件。\n",
    "\n",
    "::: {.callout-note}\n",
    "对于布尔类型的数据，首先需要注意的是布尔类型只能取`True`或`False`这两个值，区分大小写（首字母必须大写）。\n",
    "\n",
    ":::\n",
    "\n",
    "布尔类型通常用于条件判断和逻辑运算，如if语句、while循环和逻辑运算符（and、or、not）等。布尔类型在编程中非常重要，因为它们用于控制程序的流程和决策。在条件判断和逻辑运算时，布尔类型充当关键的判断条件，根据不同的条件结果执行相应的代码块。\n",
    "\n",
    "下面是一个布尔类型的数据的应用示例："
   ]
  },
  {
   "cell_type": "code",
   "execution_count": 1,
   "metadata": {},
   "outputs": [
    {
     "name": "stdout",
     "output_type": "stream",
     "text": [
      "你是一个成年人。\n",
      "是成年人吗: True\n"
     ]
    }
   ],
   "source": [
    "# 使用布尔类型进行条件判断\n",
    "age = 25\n",
    "is_adult = age >= 18  # 将判断结果赋值给变量is_adult\n",
    "if is_adult:\n",
    "    print(\"你是一个成年人。\")\n",
    "    print(\"是成年人吗:\", is_adult)  # 输出布尔值\n",
    "else:\n",
    "    print(\"你还没有成年。\")\n",
    "    print(\"成年了吗:\", is_adult)  # 输出布尔值"
   ]
  },
  {
   "cell_type": "markdown",
   "metadata": {},
   "source": [
    "可以看到，由于变量`age`的值为`25`，大于条件判断中的`18`，因此，条件成立，程序会返回布尔值`True`，然后输出语句：`You are an adult.` 这说明在条件判断中，布尔类型的值会根据条件的真假返回True或False，从而影响程序的执行分支。在这个例子中，由于条件为真，所以输出了相应的信息。\n",
    "\n",
    "你可以试修改变量`age`的值，试试看不同的情况下，程序的运行情况。\n",
    "\n",
    "在实际应用中，布尔类型通常与条件语句和循环结构紧密结合，帮助程序做出复杂的决策和执行不同的操作。熟练掌握布尔类型的用法，是编写高效和灵活的Python代码的关键。"
   ]
  },
  {
   "cell_type": "markdown",
   "metadata": {},
   "source": [
    "### 三、字符串类型(String Type)\n",
    "\n",
    "#### 1. 字符串的定义\n",
    "现在，让我们来看看Python中最常用的数据类型——字符串(`str`)。字符串类型`str`是其中一种常见且重要的数据类型。字符串用于表示文本信息，可以包含字母、数字、标点符号等字符序列。在Python中，字符串可以使用单引号`' '`或双引号`\" \"`来定义，例如："
   ]
  },
  {
   "cell_type": "code",
   "execution_count": 24,
   "metadata": {},
   "outputs": [
    {
     "name": "stdout",
     "output_type": "stream",
     "text": [
      "Hello, Python!\n",
      "Welcome to the world of Python!\n"
     ]
    }
   ],
   "source": [
    "message1 = 'Hello, Python!'\n",
    "\n",
    "print(message1)"
   ]
  },
  {
   "cell_type": "code",
   "execution_count": null,
   "metadata": {},
   "outputs": [],
   "source": [
    "message2 = \"Welcome to the world of Python!\"\n",
    "\n",
    "print(message2)"
   ]
  },
  {
   "cell_type": "markdown",
   "metadata": {},
   "source": [
    "#### 2. 字符串拼接(格式化字符串)\n",
    "\n",
    "在Python中，字符串拼接的目的是将多个字符串连接成一个新的字符串。这样一来，在输出时，我们就可以一次性输出许多字符串的内容，而不用写太繁琐的代码。\n",
    "\n",
    "字符串拼接在处理文本信息和字符串处理任务中非常常见，这在构建动态文本、输出用户友好的提示信息以及处理数据时非常有用。\n",
    "\n",
    "在这里，我们向你介绍三个最常用的字符串拼接方法：使用`+`运算符、`.format()`方法，以及更加简洁和直观的`f-string`(格式化字符串)方式。通过了解这些拼接方式，我们可以灵活地处理字符串，并使代码更加清晰易读。"
   ]
  },
  {
   "cell_type": "markdown",
   "metadata": {},
   "source": [
    "##### (1) 使用`+`运算符进行字符串拼接\n",
    "\n",
    "通过`+`运算符，我们可以将两个字符串连接成一个新的字符串。例如："
   ]
  },
  {
   "cell_type": "code",
   "execution_count": 25,
   "metadata": {},
   "outputs": [
    {
     "name": "stdout",
     "output_type": "stream",
     "text": [
      "Hello, Python!\n"
     ]
    }
   ],
   "source": [
    "name = \"Python\"\n",
    "greeting = \"Hello, \" + name + \"!\"\n",
    "print(greeting)"
   ]
  },
  {
   "cell_type": "markdown",
   "metadata": {},
   "source": [
    "在上面的示例代码中，我们定义了一个名为`name`的字符串变量，然后使用`+`运算符将`\"Hello,\"`、`name`和`\"!\"`连接在一起，形成新的字符串`greeting`。\n",
    "\n",
    "使用`+`运算符，你还可以将更多的元素拼接在一起，但这种方式太过繁琐，我们还有更简便的字符串拼接方式——`.format()`方法和`f-string`。让我们来看看这两种更灵活的拼接方式。"
   ]
  },
  {
   "cell_type": "markdown",
   "metadata": {},
   "source": [
    "##### (2) 使用`.format()`方法拼接字符串\n",
    "\n",
    "相较于使用`+`运算符，使用`.format()`方法更加灵活，可以在字符串中插入多个变量值，对于多个值的拼接，是一种更常用方式。\n",
    "\n",
    "`.format()`方式使用占位符 {} 来表示将要被替换的部分。例如："
   ]
  },
  {
   "cell_type": "code",
   "execution_count": 26,
   "metadata": {},
   "outputs": [
    {
     "name": "stdout",
     "output_type": "stream",
     "text": [
      "Hello, Python!\n"
     ]
    }
   ],
   "source": [
    "name = \"Python\"\n",
    "greeting = \"Hello, {}!\".format(name)\n",
    "print(greeting)\n"
   ]
  },
  {
   "cell_type": "markdown",
   "metadata": {},
   "source": [
    "在这个例子中，我们定义了一个名为`name`的字符串变量，然后使用`.format()`方法将 {} 替换为`name`的值，从而形成新的字符串`greeting`。\n",
    "\n",
    "::: {.callout-note}\n",
    "在使用`.format()`方法时，一定要注意，使用占位符`{ }`来表示将要被替换的部分，如`\"Hello, {}!\".format(name)`\n",
    "\n",
    "另外，`.format()`方法还需要遵守位置对应的规则，在使用该方法时，需要确保占位符`{ }`的未知和传入的变量值一一对应。如果占位符的个数大于传入的变量值，或者顺序不匹配，会导致错误或者意想不到的结果。\n",
    "\n",
    ":::\n",
    "\n",
    "在使用`.format()`方式输出数字类型的数据时，我们还可以对数据进行以下两种格式控制：\n",
    "\n",
    "**a. 浮点数格式化**\n",
    "\n",
    "使用`:.nf`来限制浮点数的小数位数，其中`n`代表要显示的小数位，例如：\n",
    "\n",
    "\n"
   ]
  },
  {
   "cell_type": "code",
   "execution_count": 27,
   "metadata": {},
   "outputs": [
    {
     "name": "stdout",
     "output_type": "stream",
     "text": [
      "The value of pi is 3.14\n"
     ]
    }
   ],
   "source": [
    "pi = 3.1415926\n",
    "print(\"The value of pi is {:.2f}\".format(pi))\n"
   ]
  },
  {
   "cell_type": "markdown",
   "metadata": {},
   "source": [
    "在上面的代码中，我们在使用`.format()`方法时，通过在占位符中规定``:.2f``，实现了对变量精度的控制。\n"
   ]
  },
  {
   "cell_type": "markdown",
   "metadata": {},
   "source": [
    "**b. 整数宽度控制**\n",
    "\n",
    "使用`{:n}`来规定整数的宽度，其中`n`代表要显示的最小字符宽度。如果整数的宽度不足，会使用空格进行填充。例如："
   ]
  },
  {
   "cell_type": "code",
   "execution_count": 28,
   "metadata": {},
   "outputs": [
    {
     "name": "stdout",
     "output_type": "stream",
     "text": [
      "The number is    42\n"
     ]
    }
   ],
   "source": [
    "number = 42\n",
    "print(\"The number is {:5}\".format(number))\n"
   ]
  },
  {
   "cell_type": "markdown",
   "metadata": {},
   "source": [
    "在上面的代码中，我们使用了`.format()`方法来格式化输出。在字符串中的占位符`{:5}`中，我们指定了一个字段宽度为`5`，这样输出的内容将总共占据5个字符的宽度。"
   ]
  },
  {
   "cell_type": "markdown",
   "metadata": {},
   "source": [
    "##### (3) 使用`f-string`方式拼接字符串\n",
    "\n",
    "`f-string`是最新的格式化字符串方式，简洁直观，易于理解。它在拼接字符串时更加简便，适用于大部分字符串格式化的场景。需要注意的是，`f-string`只适用于 Python 3.6 及以上的版本。\n",
    "\n",
    "在我们后面的学习中，`f-string`方式将会是我们最常使用的字符串拼接方式。\n",
    "\n",
    "`f-string`方式的使用非常简单，只需要在字符串前面加上`f`或`F`前缀，然后在字符串中使用`{}`占位符来引用变量或表达式。Python 将自动将这些花括号中的内容替换为对应的变量值或表达式结果。\n",
    "\n",
    "例如："
   ]
  },
  {
   "cell_type": "code",
   "execution_count": 29,
   "metadata": {},
   "outputs": [
    {
     "name": "stdout",
     "output_type": "stream",
     "text": [
      "Hello, Python!\n"
     ]
    }
   ],
   "source": [
    "name = \"Python\"\n",
    "greeting = f\"Hello, {name}!\"\n",
    "print(greeting)\n"
   ]
  },
  {
   "cell_type": "markdown",
   "metadata": {},
   "source": [
    "这里我们定义了一个名为`name`的字符串变量，然后使用`f`前缀以及`{}`占位符，将`{}`替换为`name`的值，形成新的字符串`greeting`。\n",
    "\n",
    "使用`f-string`的好处是，它不仅使字符串的格式化更加简洁明了，而且还支持在花括号中进行更复杂的表达式计算，甚至可以调用函数。在实际使用中，`f-string`是推荐的字符串格式化方法，因为它既简单又强大，能够满足大多数字符串格式化的需求。"
   ]
  },
  {
   "cell_type": "markdown",
   "metadata": {},
   "source": [
    "### 四、数据类型转换\n",
    "\n",
    "#### 1. 整数与浮点数之间的转换\n",
    "\n",
    "将整数转换为浮点数可以使用`float()`函数。例如：\n"
   ]
  },
  {
   "cell_type": "code",
   "execution_count": 21,
   "metadata": {},
   "outputs": [
    {
     "name": "stdout",
     "output_type": "stream",
     "text": [
      "10.0\n",
      "<class 'float'>\n"
     ]
    }
   ],
   "source": [
    "num_int = 10\n",
    "num_float = float(num_int)\n",
    "print(num_float)\n",
    "print(type(num_float))"
   ]
  },
  {
   "cell_type": "markdown",
   "metadata": {},
   "source": [
    "将浮点数转换为整数可以使用`int()`函数。这会截取浮点数的小数部分，只保留整数部分。例如：\n"
   ]
  },
  {
   "cell_type": "code",
   "execution_count": 20,
   "metadata": {},
   "outputs": [
    {
     "name": "stdout",
     "output_type": "stream",
     "text": [
      "3\n",
      "<class 'int'>\n"
     ]
    }
   ],
   "source": [
    "num_float = 3.14\n",
    "num_int = int(num_float)\n",
    "print(num_int)\n",
    "print(type(num_int))"
   ]
  },
  {
   "cell_type": "markdown",
   "metadata": {},
   "source": [
    "#### 2. 整数或浮点数与字符串之间的转换\n",
    "\n",
    "将整数或浮点数转换为字符串可以使用`str()`函数。例如：\n"
   ]
  },
  {
   "cell_type": "code",
   "execution_count": 4,
   "metadata": {},
   "outputs": [
    {
     "name": "stdout",
     "output_type": "stream",
     "text": [
      "42\n",
      "<class 'str'>\n"
     ]
    }
   ],
   "source": [
    "num_int = 42\n",
    "num_float = 3.14\n",
    "\n",
    "str_int = str(num_int)\n",
    "\n",
    "print(str_int)\n",
    "print(type(str_int))\n"
   ]
  },
  {
   "cell_type": "code",
   "execution_count": 5,
   "metadata": {},
   "outputs": [
    {
     "name": "stdout",
     "output_type": "stream",
     "text": [
      "3.14\n",
      "<class 'str'>\n"
     ]
    }
   ],
   "source": [
    "str_float = str(num_float)\n",
    "\n",
    "print(str_float)\n",
    "print(type(str_float))"
   ]
  },
  {
   "cell_type": "markdown",
   "metadata": {},
   "source": [
    "将字符串转换为整数或浮点数可以使用`int()`或`float()`函数。但要注意，字符串必须包含有效的整数或浮点数表示，否则会抛出`ValueError`错误。例如："
   ]
  },
  {
   "cell_type": "code",
   "execution_count": 8,
   "metadata": {},
   "outputs": [
    {
     "name": "stdout",
     "output_type": "stream",
     "text": [
      "123\n",
      "<class 'int'>\n"
     ]
    }
   ],
   "source": [
    "num_str_int = \"123\"\n",
    "num_str_float = \"3.14\"\n",
    "\n",
    "int_num = int(num_str_int)\n",
    "\n",
    "print(int_num)\n",
    "print(type(int_num))"
   ]
  },
  {
   "cell_type": "code",
   "execution_count": 9,
   "metadata": {},
   "outputs": [
    {
     "name": "stdout",
     "output_type": "stream",
     "text": [
      "3.14\n",
      "<class 'float'>\n"
     ]
    }
   ],
   "source": [
    "float_num = float(num_str_float)\n",
    "\n",
    "print(float_num)\n",
    "print(type(float_num))"
   ]
  },
  {
   "cell_type": "markdown",
   "metadata": {},
   "source": [
    "::: {.callout-note}\n",
    "注意事项：\n",
    "\n",
    "* 在进行数据类型转换时，要确保数据的有效性。如果转换的字符串不能表示有效的整数或浮点数，将会抛出ValueError错误。\n",
    "\n",
    "* 在将浮点数转换为整数时，小数部分会被截取，不会进行四舍五入。\n",
    "\n",
    "* 在将字符串转换为数值类型（整数或浮点数）时，如果字符串中包含非数字字符或不符合数值表示的内容，将会抛出ValueError错误。因此，在进行转换之前，最好使用合适的校验机制来确保数据的有效性。\n",
    "\n",
    "* 注意数据类型转换后的结果可能会产生意外的结果，特别是在涉及数值计算和精度要求较高的情况下。要谨慎处理数据类型转换，确保程序的正确性和准确性。\n",
    "\n",
    ":::"
   ]
  },
  {
   "cell_type": "markdown",
   "metadata": {},
   "source": [
    "## 运算符"
   ]
  },
  {
   "cell_type": "markdown",
   "metadata": {},
   "source": [
    "当你编写Python代码时，你可能会经常涉及到各种计算和比较操作。在Python中，运算符就是用来执行这些操作的特殊符号或关键字。它们使你能够对变量、常量和表达式进行各种数学运算、逻辑操作和比较判断。例如，你可以使用运算符来执行加法、减法、乘法等数学运算，也可以用它们来判断两个值是否相等、大小关系等。通过灵活使用这些运算符，你可以让你的代码更加强大和智能。"
   ]
  },
  {
   "cell_type": "markdown",
   "metadata": {},
   "source": [
    "### 一、算术运算符\n",
    "\n",
    "算术运算符就像编程中的特殊工具，用来做数学计算。在Python里，你可以使用这些特殊符号来做加减乘除、取余、整数除法和乘方运算。它们就像计算器上的加号、减号等按钮一样，帮助你在程序中处理数字和数据，完成各种数学运算。这些运算符让你的程序变得灵活又强大，可以进行更复杂的计算。\n",
    "\n",
    "下面是Python中常见的算术运算符："
   ]
  },
  {
   "cell_type": "markdown",
   "metadata": {},
   "source": [
    "| 运算符   | 名称  | 描述                          | 举例              |\n",
    "|---------|----------|-------------------------------|------------------|\n",
    "| `+`       | 加法运算符 | 用于相加两个数或连接两个字符串 | `a = 5 + 3 # 结果为8` |\n",
    "| `-`       | 减法运算符 | 用于从一个数中减去另一个数    | `b = 10 - 5 # 结果为5` |\n",
    "| `*`       | 乘法运算符 | 用于将两个数相乘              | `c = 2 * 3 # 结果为6` |\n",
    "| `/`       | 除法运算符 | 用于将一个数除以另一个数，得到浮点数结果 | `d = 10 / 2 # 结果为5.0` |\n",
    "| `//`      | 整数除法运算符 | 用于将一个数除以另一个数，得到整数结果（向下取整） | `e = 10 // 3 # 结果为3` |\n",
    "| `%`       | 取余运算符 | 用于得到两个数相除的余数       | `f = 10 % 3 # 结果为1` |\n",
    "| `**`      | 幂运算符  | 用于将一个数的值提高到另一个数的幂 | `g = 2 ** 3 # 结果为8` |"
   ]
  },
  {
   "cell_type": "markdown",
   "metadata": {},
   "source": [
    "通过下面的一系列例子，你可以更好地理解算术运算符在编程中的简单应用："
   ]
  },
  {
   "cell_type": "code",
   "execution_count": 11,
   "metadata": {},
   "outputs": [
    {
     "name": "stdout",
     "output_type": "stream",
     "text": [
      "a 的值是: 8\n",
      "b 的值是: Hello World\n"
     ]
    }
   ],
   "source": [
    "# 加法运算符 (+)：用于相加两个数或连接两个字符串。\n",
    "a = 5 + 3\n",
    "b = \"Hello\" + \" \" + \"World\"\n",
    "\n",
    "print(f\"a 的值是: {a}\")\n",
    "print(f\"b 的值是: {b}\")\n",
    "\n"
   ]
  },
  {
   "cell_type": "code",
   "execution_count": 12,
   "metadata": {},
   "outputs": [
    {
     "name": "stdout",
     "output_type": "stream",
     "text": [
      "c 的值是: 5\n"
     ]
    }
   ],
   "source": [
    "# 减法运算符 (-)：用于从一个数中减去另一个数。\n",
    "c = 10 - 5\n",
    "\n",
    "print(f\"c 的值是: {c}\")\n"
   ]
  },
  {
   "cell_type": "code",
   "execution_count": 13,
   "metadata": {},
   "outputs": [
    {
     "name": "stdout",
     "output_type": "stream",
     "text": [
      "d 的值是: 6\n"
     ]
    }
   ],
   "source": [
    "# 乘法运算符 (*)：用于将两个数相乘。\n",
    "d = 2 * 3\n",
    "\n",
    "print(f\"d 的值是: {d}\")\n"
   ]
  },
  {
   "cell_type": "code",
   "execution_count": 14,
   "metadata": {},
   "outputs": [
    {
     "name": "stdout",
     "output_type": "stream",
     "text": [
      "e 的值是: 5.0\n"
     ]
    }
   ],
   "source": [
    "# 除法运算符 (/)：用于将一个数除以另一个数，得到浮点数结果。\n",
    "e = 10 / 2\n",
    "\n",
    "print(f\"e 的值是: {e}\")\n",
    "\n"
   ]
  },
  {
   "cell_type": "code",
   "execution_count": 15,
   "metadata": {},
   "outputs": [
    {
     "name": "stdout",
     "output_type": "stream",
     "text": [
      "f 的值是: 3\n"
     ]
    }
   ],
   "source": [
    "# 整数除法运算符 (//)：用于将一个数除以另一个数，得到整数结果（向下取整）。\n",
    "f = 10 // 3\n",
    "\n",
    "print(f\"f 的值是: {f}\")\n",
    "\n"
   ]
  },
  {
   "cell_type": "code",
   "execution_count": 16,
   "metadata": {},
   "outputs": [
    {
     "name": "stdout",
     "output_type": "stream",
     "text": [
      "g 的值是: 1\n"
     ]
    }
   ],
   "source": [
    "# 取余运算符（模运算符） (%)：用于得到两个数相除的余数。\n",
    "g = 10 % 3\n",
    "\n",
    "print(f\"g 的值是: {g}\")\n",
    "\n"
   ]
  },
  {
   "cell_type": "code",
   "execution_count": 17,
   "metadata": {},
   "outputs": [
    {
     "name": "stdout",
     "output_type": "stream",
     "text": [
      "h 的值是: 8\n"
     ]
    }
   ],
   "source": [
    "# 幂运算符 (**)：用于将一个数的值提高到另一个数的幂。\n",
    "h = 2 ** 3\n",
    "\n",
    "print(f\"h 的值是: {h}\")"
   ]
  },
  {
   "cell_type": "markdown",
   "metadata": {},
   "source": [
    "### 二、赋值运算符\n",
    "\n",
    "赋值运算符是编程中用来给变量赋值的特殊符号。在Python中，常见的赋值运算符是等号`=`。它的作用是将右边的值赋给左边的变量，从而将数据存储在变量中，方便后续的使用和操作。\n",
    "\n",
    "除了等号外，还有一些拓展的赋值运算符，它们的作用是在进行运算的同时进行赋值，使得代码更加简洁高效。以下是常见的拓展赋值运算符："
   ]
  },
  {
   "cell_type": "markdown",
   "metadata": {},
   "source": [
    "| 运算符 | 名称                 | 描述                                 | 示例                           |\n",
    "|--------|----------------------|--------------------------------------|--------------------------------|\n",
    "| `=`    | 等号                 | 将右边的值赋给左边的变量              | `x = 10`                       |\n",
    "| `+=`   | 加等                 | 将右边的值与左边的变量相加，并赋值    | `x += 5`（等同于`x = x + 5`）   |\n",
    "| `-=`   | 减等                 | 将右边的值从左边的变量中减去，并赋值  | `y -= 3`（等同于`y = y - 3`）   |\n",
    "| `*=`   | 乘等                 | 将右边的值与左边的变量相乘，并赋值    | `z *= 4`（等同于`z = z * 4`）   |\n",
    "| `/=`   | 除等                 | 将左边的变量除以右边的值，并赋值      | `a /= 2`（等同于`a = a / 2`）   |\n",
    "| `//=`  | 整数除等             | 将左边的变量整数除以右边的值，并赋值  | `b //= 3`（等同于`b = b // 3`） |\n",
    "| `%=`   | 取余等               | 将左边的变量除以右边的值取余，并赋值  | `c %= 4`（等同于`c = c % 4`）   |\n",
    "| `**=`  | 幂等                 | 将左边的变量的值提高到右边的值的幂，并赋值 | `d **= 3`（等同于`d = d ** 3`）|"
   ]
  },
  {
   "cell_type": "markdown",
   "metadata": {},
   "source": [
    "你可以在在JupyterLab中尝试以下关于赋值运算符的简单示例，这将有助于你更好地理解赋值运算符的概念。"
   ]
  },
  {
   "cell_type": "code",
   "execution_count": 19,
   "metadata": {},
   "outputs": [
    {
     "name": "stdout",
     "output_type": "stream",
     "text": [
      "x 的值是: 10\n"
     ]
    }
   ],
   "source": [
    "# 赋值运算符：将右边的值赋给左边的变量\n",
    "x = 10\n",
    "print(f\"x 的值是: {x}\")\n"
   ]
  },
  {
   "cell_type": "code",
   "execution_count": null,
   "metadata": {},
   "outputs": [],
   "source": [
    "# 扩展赋值运算符示例：\n",
    "# 加等运算符：将右边的值与左边的变量相加，并赋值\n",
    "x += 5  # 等同于 x = x + 5\n",
    "print(f\"x 的值是: {x}\")\n"
   ]
  },
  {
   "cell_type": "code",
   "execution_count": null,
   "metadata": {},
   "outputs": [],
   "source": [
    "# 减等运算符：将右边的值从左边的变量中减去，并赋值\n",
    "y = 20\n",
    "y -= 3  # 等同于 y = y - 3\n",
    "print(f\"y 的值是: {y}\")\n"
   ]
  },
  {
   "cell_type": "code",
   "execution_count": null,
   "metadata": {},
   "outputs": [],
   "source": [
    "# 乘等运算符：将右边的值与左边的变量相乘，并赋值\n",
    "z = 3\n",
    "z *= 4  # 等同于 z = z * 4\n",
    "print(f\"z 的值是: {z}\")\n"
   ]
  },
  {
   "cell_type": "code",
   "execution_count": null,
   "metadata": {},
   "outputs": [],
   "source": [
    "# 除等运算符：将左边的变量除以右边的值，并赋值\n",
    "a = 15\n",
    "a /= 2  # 等同于 a = a / 2\n",
    "print(f\"a 的值是: {a}\")\n"
   ]
  },
  {
   "cell_type": "code",
   "execution_count": null,
   "metadata": {},
   "outputs": [],
   "source": [
    "# 整数除等运算符：将左边的变量整数除以右边的值，并赋值\n",
    "b = 10\n",
    "b //= 3  # 等同于 b = b // 3\n",
    "print(f\"b 的值是: {b}\")\n"
   ]
  },
  {
   "cell_type": "code",
   "execution_count": null,
   "metadata": {},
   "outputs": [],
   "source": [
    "# 取余等运算符：将左边的变量除以右边的值取余，并赋值\n",
    "c = 17\n",
    "c %= 4  # 等同于 c = c % 4\n",
    "print(f\"c 的值是: {c}\")\n"
   ]
  },
  {
   "cell_type": "code",
   "execution_count": null,
   "metadata": {},
   "outputs": [],
   "source": [
    "# 幂等运算符：将左边的变量的值提高到右边的值的幂，并赋值\n",
    "d = 2\n",
    "d **= 3  # 等同于 d = d ** 3\n",
    "print(f\"d 的值是: {d}\")"
   ]
  },
  {
   "cell_type": "markdown",
   "metadata": {},
   "source": [
    "### 三、比较运算符\n",
    "\n",
    "比较运算符在Python中是用来比较两个值之间的关系的特殊符号。它们让我们可以判断变量之间是否相等、大小关系以及其他比较情况。通过使用这些运算符，我们可以轻松地进行逻辑判断，从而在程序中做出不同的决策和控制流程。让我们看看以下比较运算符的示例和用法。"
   ]
  },
  {
   "cell_type": "markdown",
   "metadata": {},
   "source": [
    "| 运算符 | 名称     | 描述                             | 示例                                    |\n",
    "| ------ | -------- | -------------------------------- | --------------------------------------- |\n",
    "| `==`   | 等于     | 判断两个操作数是否相等           | `x == y` （如果`x`等于`y`，结果为`True`）     |\n",
    "| `!=`   | 不等于   | 判断两个操作数是否不相等         | `x != y` （如果`x`不等于`y`，结果为`True`）   |\n",
    "| `>`    | 大于     | 判断左操作数是否大于右操作数     | `x > y` （如果`x`大于`y`，结果为`True`）      |\n",
    "| `<`    | 小于     | 判断左操作数是否小于右操作数     | `x < y` （如果`x`小于`y`，结果为`True`）      |\n",
    "| `>=`   | 大于等于 | 判断左操作数是否大于等于右操作数 | `x >= y` （如果`x`大于等于`y`，结果为`True`） |\n",
    "| `<=`   | 小于等于 | 判断左操作数是否小于等于右操作数 | `x <= y` （如果`x`小于等于`y`，结果为`True`） |"
   ]
  },
  {
   "cell_type": "markdown",
   "metadata": {},
   "source": [
    "这些比较运算符允许我们对变量进行各种比较操作，用于条件判断、循环控制和逻辑运算，是编程中非常常用的一类运算符。以下代码是比较运算符的简单应用示例："
   ]
  },
  {
   "cell_type": "code",
   "execution_count": 22,
   "metadata": {},
   "outputs": [
    {
     "name": "stdout",
     "output_type": "stream",
     "text": [
      "False\n"
     ]
    }
   ],
   "source": [
    "x = 5\n",
    "y = 10\n",
    "\n",
    "# 等于运算符 (==)：判断两个操作数是否相等\n",
    "print(x == y)\n"
   ]
  },
  {
   "cell_type": "code",
   "execution_count": 23,
   "metadata": {},
   "outputs": [
    {
     "name": "stdout",
     "output_type": "stream",
     "text": [
      "True\n"
     ]
    }
   ],
   "source": [
    "# 不等于运算符 (!=)：判断两个操作数是否不相等\n",
    "print(x != y)\n"
   ]
  },
  {
   "cell_type": "code",
   "execution_count": 24,
   "metadata": {},
   "outputs": [
    {
     "name": "stdout",
     "output_type": "stream",
     "text": [
      "False\n"
     ]
    }
   ],
   "source": [
    "# 大于运算符 (>)：判断左操作数是否大于右操作数\n",
    "print(x > y)\n"
   ]
  },
  {
   "cell_type": "code",
   "execution_count": 25,
   "metadata": {},
   "outputs": [
    {
     "name": "stdout",
     "output_type": "stream",
     "text": [
      "True\n"
     ]
    }
   ],
   "source": [
    "# 小于运算符 (<)：判断左操作数是否小于右操作数\n",
    "print(x < y)\n"
   ]
  },
  {
   "cell_type": "code",
   "execution_count": 26,
   "metadata": {},
   "outputs": [
    {
     "name": "stdout",
     "output_type": "stream",
     "text": [
      "False\n"
     ]
    }
   ],
   "source": [
    "# 大于等于运算符 (>=)：判断左操作数是否大于等于右操作数\n",
    "print(x >= y)\n"
   ]
  },
  {
   "cell_type": "code",
   "execution_count": 27,
   "metadata": {},
   "outputs": [
    {
     "name": "stdout",
     "output_type": "stream",
     "text": [
      "True\n"
     ]
    }
   ],
   "source": [
    "# 小于等于运算符 (<=)：判断左操作数是否小于等于右操作数\n",
    "print(x <= y)"
   ]
  },
  {
   "cell_type": "markdown",
   "metadata": {},
   "source": [
    "::: {.callout-note}\n",
    "在Python中应用运算符时，务必注意赋值运算符`=`表示赋值操作，而`==`才与我们在日常生活中理解的'等于'概念相近。因此，在使用这些运算符时要区分清楚，避免混淆。\n",
    "\n",
    ":::"
   ]
  },
  {
   "cell_type": "markdown",
   "metadata": {},
   "source": [
    "### 四、逻辑运算符\n",
    "\n",
    "在编程世界中，逻辑运算符是我们用来进行逻辑判断的特殊工具。它们让我们可以对布尔值进行逻辑操作，以便在程序中根据不同的条件做出不同的决策和控制流程。通过合理地使用逻辑运算符，我们能够将复杂的条件表达式简化为更直观、更高效的代码，使得程序更加灵活、可读性更强。现在，让我们一起来了解一下逻辑运算符的各种用法和示例。"
   ]
  },
  {
   "cell_type": "markdown",
   "metadata": {},
   "source": [
    "| 运算符 | 名称       | 描述                                    | 示例                                  |\n",
    "|--------|------------|-----------------------------------------|---------------------------------------|\n",
    "| `and`  | 逻辑\"与\"     | 当两个操作数都为`True`时，结果为`True`      | `x and y` （如果`x`和`y`都为`True`，结果为True；否则为False）    |\n",
    "| `or`   | 逻辑\"或\"     | 当两个操作数中有一个为`True`时，结果为`True` | `x or y` （如果`x`或`y`有一个为`True`，结果为`True`；如果`x`和`y`都为`False`，结果为`False`）  |\n",
    "| `not`  | 逻辑\"非\"     | 用于取反操作，如果操作数为`True`，则结果为`False`，如果为`False`，则结果为`True` | `not x` （如果`x`为`Fals`e，结果为`True`；如果`x`为`True`，结果为`False`）     |"
   ]
  },
  {
   "cell_type": "markdown",
   "metadata": {},
   "source": [
    "逻辑运算符是在条件判断、循环控制和逻辑运算中非常常用的工具，它们帮助我们进行布尔值的组合和判断，使得程序更加灵活、高效和直观。\n",
    "\n",
    "尝试一下下面的代码，相信你能很快掌握逻辑运算符的概念。"
   ]
  },
  {
   "cell_type": "code",
   "execution_count": 28,
   "metadata": {},
   "outputs": [
    {
     "name": "stdout",
     "output_type": "stream",
     "text": [
      "False\n"
     ]
    }
   ],
   "source": [
    "# 定义两个变量\n",
    "x = True\n",
    "y = False\n",
    "\n",
    "# 逻辑与运算符 (and)：当两个操作数都为True时，结果为True，否则为False\n",
    "print(x and y)\n"
   ]
  },
  {
   "cell_type": "code",
   "execution_count": 29,
   "metadata": {},
   "outputs": [
    {
     "name": "stdout",
     "output_type": "stream",
     "text": [
      "True\n"
     ]
    }
   ],
   "source": [
    "# 逻辑或运算符 (or)：当两个操作数中有一个为True时，结果为True，否则为False\n",
    "print(x or y)\n"
   ]
  },
  {
   "cell_type": "code",
   "execution_count": 30,
   "metadata": {},
   "outputs": [
    {
     "name": "stdout",
     "output_type": "stream",
     "text": [
      "False\n"
     ]
    }
   ],
   "source": [
    "# 逻辑非运算符 (not)：用于取反操作，如果操作数为True，则结果为False，如果为False，则结果为True\n",
    "print(not x)"
   ]
  },
  {
   "cell_type": "markdown",
   "metadata": {},
   "source": [
    "### 五、身份运算符与成员运算符\n",
    "\n",
    "在Python中，身份运算符是用于比较两个对象的内存地址是否相同的特殊工具，允许我们判断两个变量是否指向同一个对象，以及是否指向不同的对象，从而更加精确地比较对象之间的关系。\n",
    "\n",
    "成员运算符则用于检查某个值是否属于某个容器（如列表、元组、集合等），允许我们判断一个值是否存在于容器中，从而帮助进行成员检查和数据过滤。在处理集合数据时，成员运算符非常有用，能够轻松地判断元素是否在容器中，并做出相应的处理。\n",
    "\n",
    "现在，让我们一起来探索这些运算符的用法和示例。"
   ]
  },
  {
   "cell_type": "markdown",
   "metadata": {},
   "source": [
    "**身份运算符 (Identity Operators)**\n",
    "\n",
    "| 运算符 | 名称       | 描述               | 示例                                    |\n",
    "|--------|------------|--------------------|-----------------------------------------|\n",
    "| `is`   | 是同一对象 | 判断两个对象的内存地址是否相同 | `x is y` （如果`x`和`y`指向同一对象，结果为`True`） |\n",
    "| `is not`| 不是同一对象 | 判断两个对象的内存地址是否不相同 | `x is not y` （如果`x`和`y`指向不同对象，结果为`True`） |"
   ]
  },
  {
   "cell_type": "markdown",
   "metadata": {},
   "source": [
    "**成员运算符 (Membership Operators):**\n",
    "\n",
    "| 运算符   | 名称       | 描述                           | 示例                                          |\n",
    "|----------|------------|--------------------------------|-----------------------------------------------|\n",
    "| `in`     | 存在于     | 判断某个值是否存在于某个容器中 | `x in list` （如果`x`在列表`list`中，结果为`True`）  |\n",
    "| `not in` | 不存在于   | 判断某个值是否不存在于某个容器中 | `x not in set` （如果`x`不在集合`set`中，结果为`True`）|\n"
   ]
  },
  {
   "cell_type": "markdown",
   "metadata": {},
   "source": [
    "下面这些示例展示了身份运算符和成员运算符在Python中的基本用法。身份运算符用于比较对象的内存地址是否相同，而成员运算符用于判断值是否存在于容器中。这些运算符在Python编程中非常常用，能够帮助我们进行对象和数据的比较、判断和过滤。"
   ]
  },
  {
   "cell_type": "code",
   "execution_count": 33,
   "metadata": {},
   "outputs": [
    {
     "name": "stdout",
     "output_type": "stream",
     "text": [
      "True\n",
      "False\n"
     ]
    }
   ],
   "source": [
    "# 身份运算符示例\n",
    "x = [1, 2, 3]\n",
    "y = x\n",
    "z = [1, 2, 3]\n",
    "\n",
    "# is运算符：判断两个对象的内存地址是否相同\n",
    "print(x is y)\n",
    "print(x is z)\n",
    "\n"
   ]
  },
  {
   "cell_type": "code",
   "execution_count": 34,
   "metadata": {},
   "outputs": [
    {
     "name": "stdout",
     "output_type": "stream",
     "text": [
      "False\n",
      "True\n"
     ]
    }
   ],
   "source": [
    "# is not运算符：判断两个对象的内存地址是否不相同\n",
    "print(x is not y)\n",
    "print(x is not z)"
   ]
  },
  {
   "cell_type": "code",
   "execution_count": 35,
   "metadata": {},
   "outputs": [
    {
     "name": "stdout",
     "output_type": "stream",
     "text": [
      "True\n",
      "False\n"
     ]
    }
   ],
   "source": [
    "# 成员运算符示例\n",
    "fruits = [\"apple\", \"banana\", \"orange\"]\n",
    "\n",
    "# in运算符：判断某个值是否存在于某个容器中\n",
    "print(\"apple\" in fruits)\n",
    "print(\"grape\" in fruits)\n"
   ]
  },
  {
   "cell_type": "code",
   "execution_count": 36,
   "metadata": {},
   "outputs": [
    {
     "name": "stdout",
     "output_type": "stream",
     "text": [
      "False\n",
      "True\n"
     ]
    }
   ],
   "source": [
    "# not in运算符：判断某个值是否不存在于某个容器中\n",
    "print(\"apple\" not in fruits)\n",
    "print(\"grape\" not in fruits)"
   ]
  }
 ],
 "metadata": {
  "kernelspec": {
   "display_name": "Python 3",
   "language": "python",
   "name": "python3"
  },
  "language_info": {
   "codemirror_mode": {
    "name": "ipython",
    "version": 3
   },
   "file_extension": ".py",
   "mimetype": "text/x-python",
   "name": "python",
   "nbconvert_exporter": "python",
   "pygments_lexer": "ipython3",
   "version": "3.11.4"
  },
  "orig_nbformat": 4
 },
 "nbformat": 4,
 "nbformat_minor": 2
}
