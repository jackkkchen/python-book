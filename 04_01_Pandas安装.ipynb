{
 "cells": [
  {
   "attachments": {},
   "cell_type": "markdown",
   "metadata": {},
   "source": [
    "---\n",
    "title: \"Pandas安装\"\n",
    "# execute: \n",
    "#   enabled: true\n",
    "  # cache: true\n",
    "# jupyter: python3\n",
    "# toc: true\n",
    "# format:\n",
    "#   html:\n",
    "    # code-fold: true\n",
    "---\n",
    "\n",
    "<video controls style=\"width: 100%;\">\n",
    "  <source src=\"http://szmspython.oss-cn-hangzhou.aliyuncs.com/%E5%91%A8%E4%B8%80%E7%8E%AF%E5%A2%83%E6%90%AD%E5%BB%BA%26%E5%9F%BA%E7%A1%80%E8%AF%AD%E6%B3%95/%E5%A4%8F%E4%BB%A4%E8%90%A5%E7%AC%AC%E4%BA%8C%E5%91%A8/%E5%91%A8%E4%B8%80%E8%A7%86%E9%A2%91.mp4\" type=\"video/mp4\">\n",
    "</video>\n",
    "\n",
    "<style>\n",
    "video {\n",
    "  max-width: 100%;\n",
    "  height: auto;\n",
    "  \n",
    "}\n",
    "</style>\n"
   ]
  },
  {
   "attachments": {},
   "cell_type": "markdown",
   "metadata": {},
   "source": [
    "### 使用Anaconda安装\n",
    "对于没有经验的小白来说，直接上手用代码来安装各种包可能有点困难，而[Anaconda](https://docs.continuum.io/free/anaconda/)作为一个发行平台，可以非常轻松的安装除了Pandas之外的各种Python包（IPython、NumPy、 Matplotlib等）\n",
    "\n",
    "可以直接在jupyter代码块中安装"
   ]
  },
  {
   "cell_type": "code",
   "execution_count": null,
   "metadata": {},
   "outputs": [],
   "source": [
    "# 在jupyter代码块中使用\n",
    "conda install pandas"
   ]
  },
  {
   "attachments": {},
   "cell_type": "markdown",
   "metadata": {},
   "source": [
    "![](./img/conda_install.png)"
   ]
  },
  {
   "attachments": {},
   "cell_type": "markdown",
   "metadata": {},
   "source": [
    "<!-- <video width=\"600\" height=\"450\" controls poster=\"http://szmspython.oss-cn-hangzhou.aliyuncs.com/anaconda%E5%AE%89%E8%A3%85-%E5%B0%81%E9%9D%A2.jpg\">\n",
    "  <source src=\"http://szmspython.oss-cn-hangzhou.aliyuncs.com/anaconda%E5%AE%89%E8%A3%85.mp4\">\n",
    "</video>\n",
    "｜ -->"
   ]
  },
  {
   "attachments": {},
   "cell_type": "markdown",
   "metadata": {},
   "source": [
    "### 使用[PyPI](https://pypi.org/project/pandas/)中的 pip 安装"
   ]
  },
  {
   "cell_type": "code",
   "execution_count": null,
   "metadata": {},
   "outputs": [],
   "source": [
    "# 在命令行（终端）中使用\n",
    "pip install pandas"
   ]
  },
  {
   "attachments": {},
   "cell_type": "markdown",
   "metadata": {},
   "source": [
    "![](./img/pip_install.png)\n",
    "\n",
    "\n",
    "使用`pip show pandas`检验是否安装成功\n",
    "\n",
    "::: {.callout-tip}\n",
    "一般来说这是python自带的安装方式，但有时候你的虚拟环境没有或者服务器里的需要更新，可以[参考文档](https://pip.pypa.io/en/stable/installation/)\n",
    ":::"
   ]
  },
  {
   "attachments": {},
   "cell_type": "markdown",
   "metadata": {},
   "source": [
    "#### 安装pip的步骤\n",
    "1. 首先，确保您已经安装了Python。Pip是Python的包管理工具，它通常随着Python的安装一起提供。\n",
    "\n",
    "2. 打开终端（命令提示符）。\n",
    "\n",
    "3. 输入以下命令来检查是否已安装pip：\n"
   ]
  },
  {
   "cell_type": "code",
   "execution_count": null,
   "metadata": {},
   "outputs": [],
   "source": [
    "# 命令行中输入\n",
    "pip --version\n",
    "\n",
    "# 在jupyter中输入 \n",
    "%pip --version\n"
   ]
  },
  {
   "cell_type": "markdown",
   "metadata": {},
   "source": [
    "如果已经安装了pip，您将看到版本号信息。否则，将显示错误信息或没有任何输出。\n",
    "\n",
    "如果未安装pip，可以使用以下方法进行安装：\n",
    "\n",
    "<!-- 对于Windows操作系统：\n",
    "\n",
    "1. 访问[该链接](https://pip.pypa.io/en/stable/installation/) \n",
    "   \n",
    "2. 右键点击页面上的\"Raw\"按钮，选择\"另存为\"，将文件保存在您的计算机上。\n",
    "   \n",
    "3. 打开命令提示符，导航到保存`get-pip.py`文件的目录。\n",
    "   \n",
    "4. 运行以下命令来安装pip： -->"
   ]
  },
  {
   "cell_type": "markdown",
   "metadata": {},
   "source": [
    "\n",
    "::: {.panel-tabset}\n",
    "## Linux&MacOS\n",
    "\n",
    "打开终端，运行以下命令来安装pip\n",
    "\n",
    "```{python}\n",
    "$ curl https://bootstrap.pypa.io/get-pip.py -o get-pip.py\n",
    "python get-pip.py\n",
    "```\n",
    "\n",
    "## Windows\n",
    "使用Python自带的ensurepip模块来安装或升级pip。\n",
    "\n",
    "```{python}\n",
    "C:> py -m ensurepip --upgrade\n",
    "```\n",
    "::: "
   ]
  },
  {
   "cell_type": "markdown",
   "metadata": {},
   "source": []
  }
 ],
 "metadata": {
  "kernelspec": {
   "display_name": "base",
   "language": "python",
   "name": "python3"
  },
  "language_info": {
   "codemirror_mode": {
    "name": "ipython",
    "version": 3
   },
   "file_extension": ".py",
   "mimetype": "text/x-python",
   "name": "python",
   "nbconvert_exporter": "python",
   "pygments_lexer": "ipython3",
   "version": "3.11.3"
  },
  "orig_nbformat": 4
 },
 "nbformat": 4,
 "nbformat_minor": 2
}
