{
 "cells": [
  {
   "attachments": {},
   "cell_type": "markdown",
   "metadata": {},
   "source": [
    "---\n",
    "title: \"Dash创建股票APP\"\n",
    "format:\n",
    "  html:\n",
    "   code-fold: true\n",
    "   code-tools: true\n",
    "jupyter: python3\n",
    "---"
   ]
  },
  {
   "attachments": {},
   "cell_type": "markdown",
   "metadata": {},
   "source": [
    "## 为什么要使用Dash\n",
    "\n",
    "Dash Plotly是一个基于Python的开源框架，用于构建交互式数据可视化和分析应用。\n",
    "\n",
    "它的优势在于简洁的语法、强大的可视化功能和灵活的布局选项。通过使用Dash Plotly，您可以轻松创建漂亮、交互式的应用程序，展示和探索数据，无论是用于内部报告、数据分析还是对外展示。它提供了丰富的图表类型、注解和样式设置，以及与其他Python库的无缝集成，如pandas和numpy。Dash Plotly还支持部署到Web服务器上，使得应用程序能够通过浏览器进行访问和共享。\n",
    "\n",
    "总的来说，Dash Plotly提供了一种简单而强大的方式来创建数据驱动的应用程序，使得数据可视化和交互变得更加容易和高效。\n",
    "\n",
    "\n",
    "\n",
    "\n"
   ]
  },
  {
   "attachments": {},
   "cell_type": "markdown",
   "metadata": {},
   "source": [
    "## 案例背景\n",
    "使用Dash 模仿复现股票走势的交互可视化面板，可以查看股票日线级别的涨跌幅度、股票走势和买入卖出盈亏比。以英伟达股票为案例"
   ]
  },
  {
   "attachments": {},
   "cell_type": "markdown",
   "metadata": {},
   "source": [
    "## 相关链接\n",
    "[免费股票数据API](https://www.alphavantage.co/support/#api-key)\n",
    "\n",
    "[GitHub Python调用API](https://github.com/RomelTorres/alpha_vantage)\n",
    "\n",
    "[模仿案例网站](https://www.etoro.com/discover/markets/stocks/market-movers)\n"
   ]
  },
  {
   "attachments": {},
   "cell_type": "markdown",
   "metadata": {},
   "source": [
    "## Dash股票案例（上集）\n",
    "1. API获取&调用\n",
    "2. pands数据清洗\n",
    "3. 导出csv到本地\n",
    "4. Dash-Bootstrap主题\n",
    "5. Dash-layout排版\n",
    "6. Dash-调整位置和宽度\n",
    "\n",
    "\n",
    "<video width=\"600\" height=\"450\" controls poster=\"img/dash.png\">\n",
    "  <source src=\"http://szmspython.oss-cn-hangzhou.aliyuncs.com/Dash%20Plotly%E7%B3%BB%E5%88%97--%E5%88%9B%E5%BB%BA%E8%82%A1%E7%A5%A8app%EF%BC%88%E4%B8%8A%E9%9B%86%EF%BC%89.mp4\">\n",
    "</video>"
   ]
  },
  {
   "attachments": {},
   "cell_type": "markdown",
   "metadata": {},
   "source": [
    "## Dash股票案例（下集）\n",
    "1. app功能：涨跌百分比\n",
    "2. padnas数据清洗&过滤\n",
    "3. plotly绘制百分比图\n",
    "4. app功能：股票走势图\n",
    "5. update_traces VS update_layout\n",
    "6. app功能：滚动数据\n",
    "7. Bootstrap组件使用\n",
    "\n",
    "\n",
    "<video width=\"600\" height=\"450\" controls>\n",
    "  <source src=\"http://szmspython.oss-cn-hangzhou.aliyuncs.com/Dash%20Plotly%E7%B3%BB%E5%88%97--%E5%88%9B%E5%BB%BA%E8%82%A1%E7%A5%A8app%EF%BC%88%E4%B8%8B%E9%9B%86%EF%BC%89.mp4\">\n",
    "</video>"
   ]
  }
 ],
 "metadata": {
  "language_info": {
   "name": "python"
  },
  "orig_nbformat": 4
 },
 "nbformat": 4,
 "nbformat_minor": 2
}
