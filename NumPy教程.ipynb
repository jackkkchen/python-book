{
  "cells": [
    {
      "cell_type": "raw",
      "id": "004912dc",
      "metadata": {},
      "source": [
        "---\n",
        "title: NumPy基础入门\n",
        "format:\n",
        "  html:\n",
        "    code-fold: false\n",
        "    code-tools: true\n",
        "---"
      ]
    },
    {
      "attachments": {},
      "cell_type": "markdown",
      "id": "1294bcf6",
      "metadata": {},
      "source": [
        "## 1 NumPy简介{.unnumbered}\n",
        "\n",
        "NumPy（Numerical Python）是一个开源的Python科学计算库，是Python中用于科学计算和数据分析的核心库之一。它包含多维数组和矩阵数据结构，提供了高性能的多维数组对象ndarray（N-dimensional array）以及处理这些数组的各种函数，提供了高效的数组操作功能，使得处理大规模数据集变得更加高效和便捷。\n",
        "\n",
        "### 1.1 NumPy的安装和导入{.unnumbered}\n",
        "\n",
        "安装 NumPy ：\n",
        "\n",
        "`conda install numpy` 或者 `pip install numpy`\n",
        "\n",
        "导入 NumPy ："
      ]
    },
    {
      "cell_type": "code",
      "execution_count": null,
      "id": "82f4a546",
      "metadata": {},
      "outputs": [],
      "source": [
        "#| code-fold: false\n",
        "import numpy as np"
      ]
    },
    {
      "attachments": {},
      "cell_type": "markdown",
      "id": "05b8e944",
      "metadata": {},
      "source": [
        "使用 NumPy 缩短导入的名称np，可以提高代码的可读性\n",
        "\n",
        "### 1.2 NumPy中的核心对象：ndarray{.unnumbered}\n",
        "\n",
        "ndarray是NumPy中最重要的对象，它是N 维数组的简写，表示多维同类型数据的数组，可以是一维数组、二维数组或更高维度的数组。\n",
        "\n",
        "ndarray中的元素可以是任意数据类型，包括整数、浮点数、复数等。数据类型由dtype（data type）对象来描述。\n",
        "\n",
        "### 1.3 NumPy支持的数据类型{.unnumbered}\n",
        "\n",
        "1. 布尔类型（bool）：表示True或False的布尔值。\n",
        "2. 整数类型（int）：包括有符号和无符号的整数，如int8、int16、int32、int64、uint8、uint16、uint32、uint64等。\n",
        "3. 浮点数类型（float）：表示浮点数，包括float16、float32、float64等。\n",
        "4. 复数类型（complex）：表示复数，包括complex64、complex128等。\n",
        "5. 字符串类型（string）：表示固定长度的字符串，如S10表示长度为10的字符串。\n",
        "6. Unicode类型（unicode）：表示固定长度的Unicode字符串，如U10表示长度为10的Unicode字符串。\n",
        "7. 日期和时间类型（datetime）：表示日期和时间，包括datetime64、timedelta64等。\n",
        "\n",
        "## 2 NumPy基本操作{.unnumbered}\n",
        "\n",
        "### 2.1 创建NumPy数组{.unnumbered}\n",
        "\n",
        "要创建 NumPy 数组，您可以使用函数`np.array()`将序列转换为数组\n"
      ]
    },
    {
      "cell_type": "code",
      "execution_count": 1,
      "id": "76a17a7c",
      "metadata": {},
      "outputs": [
        {
          "name": "stdout",
          "output_type": "stream",
          "text": [
            "[[1 2 3]\n",
            " [4 5 6]]\n"
          ]
        }
      ],
      "source": [
        "#| code-fold: false\n",
        "import numpy as np\n",
        "a = np.array([(1, 2, 3),(4, 5, 6)])\n",
        "print(a)"
      ]
    },
    {
      "attachments": {},
      "cell_type": "markdown",
      "id": "8e128941",
      "metadata": {},
      "source": [
        "您也可以创建一个元素都为0或1的数组（默认元素类型为float64，可以通过dtype进行设置）：\n"
      ]
    },
    {
      "cell_type": "code",
      "execution_count": 2,
      "id": "8204530b",
      "metadata": {},
      "outputs": [
        {
          "name": "stdout",
          "output_type": "stream",
          "text": [
            "[[0. 0.]\n",
            " [0. 0.]]\n",
            "[1 1 1]\n"
          ]
        }
      ],
      "source": [
        "#| code-fold: false\n",
        "print(np.zeros((2,2)))\n",
        "print(np.ones(3,dtype=np.int32))"
      ]
    },
    {
      "attachments": {},
      "cell_type": "markdown",
      "id": "01c4ceeb",
      "metadata": {},
      "source": [
        "您也可以创建一个空数组，元素的初始内容是随机的。"
      ]
    },
    {
      "cell_type": "code",
      "execution_count": 3,
      "id": "733b0017",
      "metadata": {},
      "outputs": [
        {
          "name": "stdout",
          "output_type": "stream",
          "text": [
            "[[-2.68156159e+154  1.29074307e-231  1.48219694e-323]\n",
            " [ 0.00000000e+000  0.00000000e+000  4.17201348e-309]]\n"
          ]
        }
      ],
      "source": [
        "#| code-fold: false\n",
        "print(np.empty((2,3)))"
      ]
    },
    {
      "attachments": {},
      "cell_type": "markdown",
      "id": "d8755b8c",
      "metadata": {},
      "source": [
        "创建一个有序数组："
      ]
    },
    {
      "cell_type": "code",
      "execution_count": 4,
      "id": "6bd10773",
      "metadata": {},
      "outputs": [
        {
          "name": "stdout",
          "output_type": "stream",
          "text": [
            "[0 1 2 3]\n",
            "[1 3 5 7]\n",
            "[ 0.  2.  4.  6.  8. 10.]\n"
          ]
        }
      ],
      "source": [
        "#| code-fold: false\n",
        "print(np.arange(4))      # 默认从index 0开始，不包含4\n",
        "print(np.arange(1,9,2))  # 从1到9(不包含9)，步长为2\n",
        "print(np.linspace(0, 10, num=6))  # 从0到10，总数为6，包含首尾"
      ]
    },
    {
      "attachments": {},
      "cell_type": "markdown",
      "id": "48814e97",
      "metadata": {},
      "source": [
        "`random.Generator`生成随机数,`Generator.integers`生成随机整数："
      ]
    },
    {
      "cell_type": "code",
      "execution_count": 5,
      "id": "b27bbbc8",
      "metadata": {},
      "outputs": [
        {
          "name": "stdout",
          "output_type": "stream",
          "text": [
            "2*2随机数数组:\n",
            " [[0.98175928 0.53018039]\n",
            " [0.22108467 0.19259586]]\n",
            "数值从0到4的2*2随机整数数组:\n",
            " [[4 3 4 0]\n",
            " [1 3 0 0]]\n"
          ]
        }
      ],
      "source": [
        "np_rng = np.random.default_rng()\n",
        "print(\"2*2随机数数组:\\n\",np_rng.random((2,2)))\n",
        "print(\"数值从0到4的2*2随机整数数组:\\n\",np_rng.integers(5, size=(2, 4)))"
      ]
    },
    {
      "attachments": {},
      "cell_type": "markdown",
      "id": "fb5e6139",
      "metadata": {},
      "source": [
        "还可以基于已有的数组进行复制得到新数组："
      ]
    },
    {
      "cell_type": "code",
      "execution_count": 6,
      "id": "d131761c",
      "metadata": {},
      "outputs": [
        {
          "name": "stdout",
          "output_type": "stream",
          "text": [
            "[0 1 2 3]\n"
          ]
        }
      ],
      "source": [
        "#| code-fold: false\n",
        "a = np.arange(4)\n",
        "c = a.copy()\n",
        "print(c)"
      ]
    },
    {
      "attachments": {},
      "cell_type": "markdown",
      "id": "0b2fb762",
      "metadata": {},
      "source": [
        "### 2.2 数组的形状、维度和大小{.unnumbered}\n",
        "\n",
        "在 NumPy 中，维度称为轴。以下面这个二维数组为例，它的第一个轴的长度为2（行），第二个轴长度为3（列）。\n"
      ]
    },
    {
      "cell_type": "code",
      "execution_count": 7,
      "id": "872187e5",
      "metadata": {},
      "outputs": [
        {
          "name": "stdout",
          "output_type": "stream",
          "text": [
            "以此数组为例：\n",
            "[[1 2 3]\n",
            " [4 5 6]]\n",
            "数组的维度是：2\n",
            "数组的形状是：(2, 3)\n",
            "数组一共包含6个元素\n"
          ]
        }
      ],
      "source": [
        "a = np.array([[1, 2, 3], [4, 5, 6]])\n",
        "print(f\"以此数组为例：\\n{a}\")\n",
        "print(f\"数组的维度是：{a.ndim}\")\n",
        "print(f\"数组的形状是：{a.shape}\")\n",
        "print(f\"数组一共包含{a.size}个元素\")"
      ]
    },
    {
      "attachments": {},
      "cell_type": "markdown",
      "id": "a1210148",
      "metadata": {},
      "source": [
        "### 2.3 数组的索引和切片{.unnumbered}\n",
        "\n",
        "1. 索引默认从0开始，切片起始为第一个索引，结尾为最后一个索引时可以省略不写。\n",
        "\n",
        "2. 前闭后开规则，默认含首不含尾。\n",
        "\n",
        "3. -n意味着反向第n个数。\n",
        "\n",
        "4. 修改切片元素时原数组的元素也会相应改变。"
      ]
    },
    {
      "cell_type": "code",
      "execution_count": 8,
      "id": "c71b606e",
      "metadata": {},
      "outputs": [
        {
          "name": "stdout",
          "output_type": "stream",
          "text": [
            "以此数组为例: [0 1 2 3 4 5 6 7 8 9]\n",
            "从0到4的切片: [0 1 2 3]\n",
            "从4到6的切片: [4 5]\n",
            "从0到9步长为3的切片 [0 3 6 9]\n",
            "从0到4的切片: [0 1 2 3 4]\n",
            "修改切片元素后: [99  1  2  3  4  5  6  7  8  9]\n"
          ]
        }
      ],
      "source": [
        "arr = np.arange(10)\n",
        "print('以此数组为例:', arr)\n",
        "\n",
        "slice_one = arr[:4] # 提取单个元素去掉冒号即可arr[4]\n",
        "print('从0到4的切片:', slice_one)\n",
        "\n",
        "slice_two = arr[4:6]\n",
        "print('从4到6的切片:', slice_two)\n",
        "\n",
        "slice_three = arr[0:10:3]  # 前两个数可省略：arr[::3] \n",
        "print('从0到9步长为3的切片', slice_three)\n",
        "\n",
        "slice_four = arr[:-5]\n",
        "print('从0到4的切片:', slice_four)\n",
        "\n",
        "slice_four[0] = 99\n",
        "print('修改切片元素后:', arr)"
      ]
    },
    {
      "cell_type": "code",
      "execution_count": 9,
      "id": "ca8e7441",
      "metadata": {},
      "outputs": [
        {
          "name": "stdout",
          "output_type": "stream",
          "text": [
            "二维数组：\n",
            " [[1 2 3]\n",
            " [4 5 6]\n",
            " [7 8 9]]\n",
            "行索引从1开始(第二行)，列索引到2结束(第三列但不包含):\n",
            "[[4 5]\n",
            " [7 8]]\n"
          ]
        }
      ],
      "source": [
        "arr = np.array([(1,2,3),(4,5,6),(7,8,9)])\n",
        "print(\"二维数组：\\n\",arr)\n",
        "print(f\"行索引从1开始(第二行)，列索引到2结束(第三列但不包含):\\n{arr[1:,:2]}\")"
      ]
    },
    {
      "cell_type": "code",
      "execution_count": 10,
      "id": "2c684035",
      "metadata": {},
      "outputs": [
        {
          "name": "stdout",
          "output_type": "stream",
          "text": [
            "多维数组:\n",
            " [[[ 0  1  2  3]\n",
            "  [ 4  5  6  7]\n",
            "  [ 8  9 10 11]]\n",
            "\n",
            " [[12 13 14 15]\n",
            "  [16 17 18 19]\n",
            "  [20 21 22 23]]]\n",
            "数组的形状为: (2, 3, 4)\n",
            "第一维度从第二个元素开始:\n",
            " [[[12 13 14 15]\n",
            "  [16 17 18 19]\n",
            "  [20 21 22 23]]]\n",
            "第三维度到第二个元素结束(不包含):\n",
            " [[[ 0]\n",
            "  [ 4]\n",
            "  [ 8]]\n",
            "\n",
            " [[12]\n",
            "  [16]\n",
            "  [20]]]\n"
          ]
        }
      ],
      "source": [
        "arr = np.arange(24).reshape((2, 3, 4))\n",
        "print(\"多维数组:\\n\",arr)\n",
        "print(\"数组的形状为:\",arr.shape)\n",
        "print(\"第一维度从第二个元素开始:\\n\",arr[1:, ...])  # 等价于 arr[1:, :, :]\n",
        "print(\"第三维度到第二个元素结束(不包含):\\n\",arr[..., :1])  # 等价于 arr[:, :, :1]"
      ]
    },
    {
      "attachments": {},
      "cell_type": "markdown",
      "id": "53c69bb4",
      "metadata": {},
      "source": [
        "也可以用逻辑条件来筛选满足条件的元素：\n"
      ]
    },
    {
      "cell_type": "code",
      "execution_count": 11,
      "id": "ebc85f8c",
      "metadata": {},
      "outputs": [
        {
          "name": "stdout",
          "output_type": "stream",
          "text": [
            "以此数组为例:\n",
            " [[[ 0  1  2  3]\n",
            "  [ 4  5  6  7]\n",
            "  [ 8  9 10 11]]\n",
            "\n",
            " [[12 13 14 15]\n",
            "  [16 17 18 19]\n",
            "  [20 21 22 23]]]\n",
            "大于12的元素: [13 14 15 16 17 18 19 20 21 22 23]\n",
            "返回布尔值:\n",
            " [[[False False False False]\n",
            "  [False False False False]\n",
            "  [False False False False]]\n",
            "\n",
            " [[False  True  True  True]\n",
            "  [ True  True  True  True]\n",
            "  [ True  True  True  True]]]\n"
          ]
        }
      ],
      "source": [
        "arr = np.arange(24).reshape((2, 3, 4))\n",
        "print(\"以此数组为例:\\n\",arr)\n",
        "print(\"大于12的元素:\",arr[arr>12])\n",
        "print(\"返回布尔值:\\n\",arr>12)"
      ]
    },
    {
      "attachments": {},
      "cell_type": "markdown",
      "id": "d5d4c98d",
      "metadata": {},
      "source": [
        "`np.nonzero()`可以用来返回满足条件的元素索引：\n"
      ]
    },
    {
      "cell_type": "code",
      "execution_count": 12,
      "id": "20dbb1cb",
      "metadata": {},
      "outputs": [
        {
          "name": "stdout",
          "output_type": "stream",
          "text": [
            "以此二维数组为例:\n",
            " [[ 0  1  2  3]\n",
            " [ 4  5  6  7]\n",
            " [ 8  9 10 11]]\n",
            "两个维度的元素索引: (array([0, 0, 0, 0, 1, 1]), array([0, 1, 2, 3, 0, 1]))\n"
          ]
        }
      ],
      "source": [
        "arr = np.arange(12).reshape((3, 4))\n",
        "print(\"以此二维数组为例:\\n\",arr)\n",
        "print(\"两个维度的元素索引:\",np.nonzero(arr<6))"
      ]
    },
    {
      "attachments": {},
      "cell_type": "markdown",
      "id": "cf3ae693",
      "metadata": {},
      "source": [
        "可以以坐标形式返回元素索引：\n"
      ]
    },
    {
      "cell_type": "code",
      "execution_count": 13,
      "id": "6d6746ef",
      "metadata": {},
      "outputs": [
        {
          "name": "stdout",
          "output_type": "stream",
          "text": [
            "(0, 0)\n",
            "(0, 1)\n",
            "(0, 2)\n",
            "(0, 3)\n",
            "(1, 0)\n",
            "(1, 1)\n"
          ]
        }
      ],
      "source": [
        "ind = np.nonzero(arr<6)\n",
        "\n",
        "list_of_coordinates= list(zip(ind[0], ind[1]))\n",
        "for coord in list_of_coordinates:\n",
        "    print(coord)"
      ]
    },
    {
      "attachments": {},
      "cell_type": "markdown",
      "id": "828d292e",
      "metadata": {},
      "source": [
        "### 2.4 数组的基本运算和操作{.unnumbered}\n",
        "\n",
        "数组上的算术运算符按元素应用。\n"
      ]
    },
    {
      "cell_type": "code",
      "execution_count": 14,
      "id": "680f8d59",
      "metadata": {},
      "outputs": [
        {
          "name": "stdout",
          "output_type": "stream",
          "text": [
            "数组a:\n",
            " [[22 33]\n",
            " [44 55]]\n",
            "数组b:\n",
            " [[2 3]\n",
            " [4 5]]\n",
            "a-b:\n",
            "[[20 30]\n",
            " [40 50]]\n",
            "a/b:\n",
            "[[11. 11.]\n",
            " [11. 11.]]\n",
            "b**2:\n",
            "[[ 4  9]\n",
            " [16 25]]\n",
            "b>=4:\n",
            "[[False False]\n",
            " [ True  True]]\n"
          ]
        }
      ],
      "source": [
        "a = np.array([(22,33),(44,55)])\n",
        "b = np.arange(2,6).reshape(2,2)\n",
        "print(\"数组a:\\n\",a)\n",
        "print(\"数组b:\\n\",b)\n",
        "print(f\"a-b:\\n{a-b}\")\n",
        "print(f\"a/b:\\n{a/b}\")\n",
        "print(f\"b**2:\\n{b**2}\")\n",
        "print(f\"b>=4:\\n{b>=4}\")"
      ]
    },
    {
      "attachments": {},
      "cell_type": "markdown",
      "id": "80b4cfaa",
      "metadata": {},
      "source": [
        "乘积运算符在NumPy数组中按元素进行运算，矩阵乘积运算用`@`或`.dot()`："
      ]
    },
    {
      "cell_type": "code",
      "execution_count": null,
      "id": "530f45aa",
      "metadata": {},
      "outputs": [],
      "source": [
        "A = np.array([(2,3),(3,4)])\n",
        "B = np.array([(4,2),(5,2)])\n",
        "print(\"数组A:\\n\",A)\n",
        "print(\"数组B:\\n\",B)\n",
        "print(f\"A*B:\\n{A*B}\")\n",
        "print(f\"A@B:\\n{A@B}\")\n",
        "print(f\"A.dot(B):\\n{A.dot(B)}\")"
      ]
    },
    {
      "attachments": {},
      "cell_type": "markdown",
      "id": "88fd1f0a",
      "metadata": {},
      "source": [
        "聚合函数（可以指定轴）："
      ]
    },
    {
      "cell_type": "code",
      "execution_count": null,
      "id": "3c16c9e7",
      "metadata": {},
      "outputs": [],
      "source": [
        "arr = np.arange(1,5).reshape(2,2)\n",
        "print(arr)\n",
        "print(\"数组元素求和:\",arr.sum())\n",
        "print(\"数组元素每列求和:\",arr.sum(axis=0))  # 行求和：axis=1\n",
        "print(\"数组元素最小值:\",arr.min())\n",
        "print(\"数组元素每列最小值:\",arr.min(axis=0)) "
      ]
    },
    {
      "attachments": {},
      "cell_type": "markdown",
      "id": "75eb3ce8",
      "metadata": {},
      "source": [
        "对元素进行排序/反转（以数组x和y为例）："
      ]
    },
    {
      "cell_type": "code",
      "execution_count": null,
      "id": "36fb590a",
      "metadata": {},
      "outputs": [],
      "source": [
        "x = np.array([7,2,5,3,6,4,9,1,8])\n",
        "y = np.array([[7,2,5],[3,6,4],[9,1,8]])\n",
        "print(\"数组x:\\n\",x)\n",
        "print(\"数组x排序后:\\n\",np.sort(x))\n",
        "print(\"数组x反转后:\\n\",np.flip(x))\n",
        "print(\"数组y:\\n\",y)\n",
        "print(\"数组y排序后:\\n\",np.sort(y))\n",
        "print(\"数组y反转后:\\n\",np.flip(y))\n",
        "print(\"数组y仅反转行:\\n\",np.flip(y,axis=0))\n",
        "y[:,1] = np.flip(y[:,1])\n",
        "print(\"数组y反转第二列:\\n\",y)"
      ]
    },
    {
      "attachments": {},
      "cell_type": "markdown",
      "id": "60c0b649",
      "metadata": {},
      "source": [
        "去重复值："
      ]
    },
    {
      "cell_type": "code",
      "execution_count": null,
      "id": "fc6517bd",
      "metadata": {},
      "outputs": [],
      "source": [
        "arr = np.array([1,2,2,5,7,7,8,9,9,12,14])\n",
        "print(\"数组:\",arr)\n",
        "print(\"去重后:\",np.unique(arr))\n",
        "\n",
        "unique_arr,indices_list = np.unique(arr, return_index=True)\n",
        "print(\"去重后数组的索引:\",indices_list)"
      ]
    },
    {
      "attachments": {},
      "cell_type": "markdown",
      "id": "3aa94f89",
      "metadata": {},
      "source": [
        "### 2.5 数组的形状操作和拼接、堆叠、拆分{.unnumbered}\n",
        "\n",
        "重塑数组的形状，添加新轴不会改变元素："
      ]
    },
    {
      "cell_type": "code",
      "execution_count": null,
      "id": "10c66fca",
      "metadata": {},
      "outputs": [],
      "source": [
        "a = np.arange(6)\n",
        "print(f\"数组:{a}\")\n",
        "print(f\"重塑形状:\\n{a.reshape(1,3,2)}\")\n",
        "row_vector = a[np.newaxis, :] # 从一维转为二维\n",
        "print(f\"添加新轴(转换为行向量):{row_vector}\")\n",
        "print(f\"相当于在索引位置0处添加轴：{np.expand_dims(a, axis=0)}\")\n",
        "col_vector = a[:, np.newaxis]\n",
        "print(f\"或者转换为列向量:\\n{col_vector}\")\n",
        "print(f\"相当于在索引位置1处添加轴：\\n{np.expand_dims(a, axis=1)}\")"
      ]
    },
    {
      "attachments": {},
      "cell_type": "markdown",
      "id": "f7f37f46",
      "metadata": {},
      "source": [
        "展平数组可用`flatten()`或`ravel()`，但使用`flatten`时，对展平数组的更改不会影响原数组，使用`ravel`数组的更改会影响原数组。"
      ]
    },
    {
      "cell_type": "code",
      "execution_count": null,
      "id": "a7d64666",
      "metadata": {},
      "outputs": [],
      "source": [
        "arr = np.arange(6).reshape(2,3)\n",
        "print(\"展平前:\\n\",arr)\n",
        "\n",
        "arr_one = arr.flatten()\n",
        "print(\"使用flatten展平后:\",arr_one)\n",
        "arr_one[0] = 99\n",
        "print(\"修改元素:\",arr_one)\n",
        "print(\"原数组不变:\\n\",arr)\n",
        "\n",
        "arr_two = arr.ravel()\n",
        "print(\"使用ravel展平后:\",arr_two)\n",
        "arr_two[0] = 99\n",
        "print(\"修改元素:\",arr_two)\n",
        "print(\"原数组改变:\\n\",arr)"
      ]
    },
    {
      "attachments": {},
      "cell_type": "markdown",
      "id": "d840a29b",
      "metadata": {},
      "source": [
        "转置矩阵（二维数组）："
      ]
    },
    {
      "cell_type": "code",
      "execution_count": null,
      "id": "82d89f66",
      "metadata": {},
      "outputs": [],
      "source": [
        "arr = np.arange(1,7).reshape(2,3)\n",
        "print(\"转置前:\\n\",arr)\n",
        "print(\"转置后:\\n\",arr.transpose())\n",
        "print(\"转置后:\\n\",arr.T)"
      ]
    },
    {
      "attachments": {},
      "cell_type": "markdown",
      "id": "9aacc413",
      "metadata": {},
      "source": [
        "拼接和堆叠数组："
      ]
    },
    {
      "cell_type": "code",
      "execution_count": null,
      "id": "07e85422",
      "metadata": {},
      "outputs": [],
      "source": [
        "a = np.array([(1,2),(3,4)])\n",
        "b = np.ones((3,2))\n",
        "c = np.zeros((1,2))\n",
        "print(f\"数组a:\\n{a}\")\n",
        "print(f\"数组b:\\n{b}\")\n",
        "print(f\"数组c:\\n{c}\")\n",
        "print(f\"拼接a,b,c:\\n{np.concatenate((a,b,c))}\")\n",
        "print(f\"垂直堆叠a,b,c:\\n{np.vstack((a,b,c))}\")\n",
        "print(f\"水平堆叠a,a:\\n{np.hstack((a,a))}\")"
      ]
    },
    {
      "attachments": {},
      "cell_type": "markdown",
      "id": "896a6870",
      "metadata": {},
      "source": [
        "分解数组：\n"
      ]
    },
    {
      "cell_type": "code",
      "execution_count": null,
      "id": "d322b12d",
      "metadata": {},
      "outputs": [],
      "source": [
        "arr = np.arange(1,25).reshape(2,12)\n",
        "print(\"以此数组为例:\\n\",arr)\n",
        "print(f\"拆分为4个形状相同的数组:\\n{np.hsplit(arr, 4)}\")\n",
        "print(f\"从第3列，第7列开始拆分:\\n{np.hsplit(arr, (3,7))}\")"
      ]
    },
    {
      "attachments": {},
      "cell_type": "markdown",
      "id": "6bd31eac",
      "metadata": {},
      "source": [
        "### 2.6 数学公式{.unnumbered}\n",
        "\n",
        "数组的运算可以帮助实现数学公式的运算，以均方误差公式为例：\n",
        "\n",
        "$$MeanSquareError=\\frac{1}{n}\\sum_{i=1}^{n}{(Prediction_i-Y_i)^2}$$\n",
        "将Prediction和Y看作一维数组进行运算即可：\n",
        "`error = (1/n)*np.sum(np.square(prediction-y))`"
      ]
    },
    {
      "cell_type": "code",
      "execution_count": null,
      "id": "c70e1f95",
      "metadata": {},
      "outputs": [],
      "source": [
        "prediction = np.array([2,2,2])\n",
        "y = np.array([1,2,3])\n",
        "print(\"观测值:\",y)\n",
        "print(\"预测值:\",prediction)\n",
        "print(\"预测值和观测值之差:\",prediction-y)\n",
        "error = (1/3)*np.sum(np.square(prediction-y))\n",
        "print(\"均方误差:\",error)"
      ]
    },
    {
      "attachments": {},
      "cell_type": "markdown",
      "id": "f0e421ad",
      "metadata": {},
      "source": [
        "### 2.7 数组的文件输入输出：读取和保存NumPy对象{.unnumbered}\n",
        "\n",
        "将数组对象存为`filename.npy`："
      ]
    },
    {
      "cell_type": "code",
      "execution_count": null,
      "id": "3792b100",
      "metadata": {},
      "outputs": [],
      "source": [
        "arr = np.array([1,2,3])\n",
        "np.save(\"arr\", arr)\n",
        "np.load('arr.npy')"
      ]
    },
    {
      "attachments": {},
      "cell_type": "markdown",
      "id": "52cbee97",
      "metadata": {},
      "source": [
        "也可以保存为文本："
      ]
    },
    {
      "cell_type": "code",
      "execution_count": null,
      "id": "3b895db3",
      "metadata": {},
      "outputs": [],
      "source": [
        "np.savetxt('arr.csv', arr)\n",
        "np.loadtxt('arr.csv')"
      ]
    },
    {
      "attachments": {},
      "cell_type": "markdown",
      "id": "cd8fe481",
      "metadata": {},
      "source": [
        "## 3 示例和练习{.unnumbered}\n"
      ]
    }
  ],
  "metadata": {
    "kernelspec": {
      "display_name": "Python 3",
      "language": "python",
      "name": "python3"
    },
    "language_info": {
      "codemirror_mode": {
        "name": "ipython",
        "version": 3
      },
      "file_extension": ".py",
      "mimetype": "text/x-python",
      "name": "python",
      "nbconvert_exporter": "python",
      "pygments_lexer": "ipython3",
      "version": "3.9.7"
    }
  },
  "nbformat": 4,
  "nbformat_minor": 5
}
