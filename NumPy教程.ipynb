{
  "cells": [
    {
      "cell_type": "raw",
      "metadata": {},
      "source": [
        "---\n",
        "title: NumPy基础入门\n",
        "format:\n",
        "  html:\n",
        "    code-fold: true\n",
        "---"
      ],
      "id": "004912dc"
    },
    {
      "cell_type": "markdown",
      "metadata": {},
      "source": [
        "## 1 NumPy简介{.unnumbered}\n",
        "\n",
        "NumPy（Numerical Python）是一个开源的Python科学计算库，是Python中用于科学计算和数据分析的核心库之一。它包含多维数组和矩阵数据结构，提供了高性能的多维数组对象ndarray（N-dimensional array）以及处理这些数组的各种函数，提供了高效的数组操作功能，使得处理大规模数据集变得更加高效和便捷。\n",
        "\n",
        "### 1.1 NumPy的安装和导入{.unnumbered}\n",
        "\n",
        "安装 NumPy ：\n",
        "\n",
        "`conda install numpy` 或者 `pip install numpy`\n",
        "\n",
        "导入 NumPy ："
      ],
      "id": "1294bcf6"
    },
    {
      "cell_type": "code",
      "metadata": {},
      "source": [
        "#| code-fold: false\n",
        "import numpy as np"
      ],
      "id": "82f4a546",
      "execution_count": null,
      "outputs": []
    },
    {
      "cell_type": "markdown",
      "metadata": {},
      "source": [
        "使用 NumPy 缩短导入的名称np，可以提高代码的可读性\n",
        "\n",
        "### 1.2 NumPy中的核心对象：ndarray{.unnumbered}\n",
        "\n",
        "ndarray是NumPy中最重要的对象，它是N 维数组的简写，表示多维同类型数据的数组，可以是一维数组、二维数组或更高维度的数组。\n",
        "\n",
        "ndarray中的元素可以是任意数据类型，包括整数、浮点数、复数等。数据类型由dtype（data type）对象来描述。\n",
        "\n",
        "### 1.3 NumPy支持的数据类型{.unnumbered}\n",
        "\n",
        "1. 布尔类型（bool）：表示True或False的布尔值。\n",
        "2. 整数类型（int）：包括有符号和无符号的整数，如int8、int16、int32、int64、uint8、uint16、uint32、uint64等。\n",
        "3. 浮点数类型（float）：表示浮点数，包括float16、float32、float64等。\n",
        "4. 复数类型（complex）：表示复数，包括complex64、complex128等。\n",
        "5. 字符串类型（string）：表示固定长度的字符串，如S10表示长度为10的字符串。\n",
        "6. Unicode类型（unicode）：表示固定长度的Unicode字符串，如U10表示长度为10的Unicode字符串。\n",
        "7. 日期和时间类型（datetime）：表示日期和时间，包括datetime64、timedelta64等。\n",
        "\n",
        "## 2 NumPy基本操作{.unnumbered}\n",
        "\n",
        "### 2.1 创建NumPy数组{.unnumbered}\n",
        "\n",
        "要创建 NumPy 数组，您可以使用函数`np.array()`将序列转换为数组\n"
      ],
      "id": "05b8e944"
    },
    {
      "cell_type": "code",
      "metadata": {},
      "source": [
        "#| code-fold: false\n",
        "import numpy as np\n",
        "a = np.array([(1, 2, 3),(4, 5, 6)])\n",
        "print(a)"
      ],
      "id": "76a17a7c",
      "execution_count": null,
      "outputs": []
    },
    {
      "cell_type": "markdown",
      "metadata": {},
      "source": [
        "您也可以创建一个元素都为0或1的数组（默认元素类型为float64，可以通过dtype进行设置）：\n"
      ],
      "id": "8e128941"
    },
    {
      "cell_type": "code",
      "metadata": {},
      "source": [
        "#| code-fold: false\n",
        "print(np.zeros((2,2)))\n",
        "print(np.ones(3,dtype=np.int32))"
      ],
      "id": "8204530b",
      "execution_count": null,
      "outputs": []
    },
    {
      "cell_type": "markdown",
      "metadata": {},
      "source": [
        "您也可以创建一个空数组，元素的初始内容是随机的。"
      ],
      "id": "01c4ceeb"
    },
    {
      "cell_type": "code",
      "metadata": {},
      "source": [
        "#| code-fold: false\n",
        "print(np.empty((2,3)))"
      ],
      "id": "733b0017",
      "execution_count": null,
      "outputs": []
    },
    {
      "cell_type": "markdown",
      "metadata": {},
      "source": [
        "创建一个有序数组："
      ],
      "id": "d8755b8c"
    },
    {
      "cell_type": "code",
      "metadata": {},
      "source": [
        "#| code-fold: false\n",
        "print(np.arange(4))      # 默认从index 0开始，不包含4\n",
        "print(np.arange(1,9,2))  # 从1到9(不包含9)，步长为2\n",
        "print(np.linspace(0, 10, num=6))  # 从0到10，总数为6，包含首尾"
      ],
      "id": "6bd10773",
      "execution_count": null,
      "outputs": []
    },
    {
      "cell_type": "markdown",
      "metadata": {},
      "source": [
        "`random.Generator`生成随机数,`Generator.integers`生成随机整数："
      ],
      "id": "48814e97"
    },
    {
      "cell_type": "code",
      "metadata": {},
      "source": [
        "np_rng = np.random.default_rng()\n",
        "print(\"2*2随机数数组:\\n\",np_rng.random((2,2)))\n",
        "print(\"数值从0到4的2*2随机整数数组:\\n\",np_rng.integers(5, size=(2, 4)))"
      ],
      "id": "b27bbbc8",
      "execution_count": null,
      "outputs": []
    },
    {
      "cell_type": "markdown",
      "metadata": {},
      "source": [
        "还可以基于已有的数组进行复制得到新数组："
      ],
      "id": "fb5e6139"
    },
    {
      "cell_type": "code",
      "metadata": {},
      "source": [
        "#| code-fold: false\n",
        "a = np.arange(4)\n",
        "c = a.copy()\n",
        "print(c)"
      ],
      "id": "d131761c",
      "execution_count": null,
      "outputs": []
    },
    {
      "cell_type": "markdown",
      "metadata": {},
      "source": [
        "### 2.2 数组的形状、维度和大小{.unnumbered}\n",
        "\n",
        "在 NumPy 中，维度称为轴。以下面这个二维数组为例，它的第一个轴的长度为2（行），第二个轴长度为3（列）。\n"
      ],
      "id": "0b2fb762"
    },
    {
      "cell_type": "code",
      "metadata": {},
      "source": [
        "a = np.array([[1, 2, 3], [4, 5, 6]])\n",
        "print(f\"以此数组为例：\\n{a}\")\n",
        "print(f\"数组的维度是：{a.ndim}\")\n",
        "print(f\"数组的形状是：{a.shape}\")\n",
        "print(f\"数组一共包含{a.size}个元素\")"
      ],
      "id": "872187e5",
      "execution_count": null,
      "outputs": []
    },
    {
      "cell_type": "markdown",
      "metadata": {},
      "source": [
        "### 2.3 数组的索引和切片{.unnumbered}\n",
        "\n",
        "1. 索引默认从0开始，切片起始为第一个索引，结尾为最后一个索引时可以省略不写。\n",
        "\n",
        "2. 前闭后开规则，默认含首不含尾。\n",
        "\n",
        "3. -n意味着反向第n个数。\n",
        "\n",
        "4. 修改切片元素时原数组的元素也会相应改变。"
      ],
      "id": "a1210148"
    },
    {
      "cell_type": "code",
      "metadata": {},
      "source": [
        "arr = np.arange(10)\n",
        "print('以此数组为例:', arr)\n",
        "\n",
        "slice_one = arr[:4] # 提取单个元素去掉冒号即可arr[4]\n",
        "print('从0到4的切片:', slice_one)\n",
        "\n",
        "slice_two = arr[4:6]\n",
        "print('从4到6的切片:', slice_two)\n",
        "\n",
        "slice_three = arr[0:10:3]  # 前两个数可省略：arr[::3] \n",
        "print('从0到9步长为3的切片', slice_three)\n",
        "\n",
        "slice_four = arr[:-5]\n",
        "print('从0到4的切片:', slice_four)\n",
        "\n",
        "slice_four[0] = 99\n",
        "print('修改切片元素后:', arr)"
      ],
      "id": "c71b606e",
      "execution_count": null,
      "outputs": []
    },
    {
      "cell_type": "code",
      "metadata": {},
      "source": [
        "arr = np.array([(1,2,3),(4,5,6),(7,8,9)])\n",
        "print(\"二维数组：\\n\",arr)\n",
        "print(f\"行索引从1开始(第二行)，列索引到2结束(第三列但不包含):\\n{arr[1:,:2]}\")"
      ],
      "id": "ca8e7441",
      "execution_count": null,
      "outputs": []
    },
    {
      "cell_type": "code",
      "metadata": {},
      "source": [
        "arr = np.arange(24).reshape((2, 3, 4))\n",
        "print(\"多维数组:\\n\",arr)\n",
        "print(\"数组的形状为:\",arr.shape)\n",
        "print(\"第一维度从第二个元素开始:\\n\",arr[1:, ...])  # 等价于 arr[1:, :, :]\n",
        "print(\"第三维度到第二个元素结束(不包含):\\n\",arr[..., :1])  # 等价于 arr[:, :, :1]"
      ],
      "id": "2c684035",
      "execution_count": null,
      "outputs": []
    },
    {
      "cell_type": "markdown",
      "metadata": {},
      "source": [
        "也可以用逻辑条件来筛选满足条件的元素：\n"
      ],
      "id": "53c69bb4"
    },
    {
      "cell_type": "code",
      "metadata": {},
      "source": [
        "arr = np.arange(24).reshape((2, 3, 4))\n",
        "print(\"以此数组为例:\\n\",arr)\n",
        "print(\"大于12的元素:\",arr[arr>12])\n",
        "print(\"返回布尔值:\\n\",arr>12)"
      ],
      "id": "ebc85f8c",
      "execution_count": null,
      "outputs": []
    },
    {
      "cell_type": "markdown",
      "metadata": {},
      "source": [
        "`np.nonzero()`可以用来返回满足条件的元素索引：\n"
      ],
      "id": "d5d4c98d"
    },
    {
      "cell_type": "code",
      "metadata": {},
      "source": [
        "arr = np.arange(12).reshape((3, 4))\n",
        "print(\"以此二维数组为例:\\n\",arr)\n",
        "print(\"两个维度的元素索引:\",np.nonzero(arr<6))"
      ],
      "id": "20dbb1cb",
      "execution_count": null,
      "outputs": []
    },
    {
      "cell_type": "markdown",
      "metadata": {},
      "source": [
        "可以以坐标形式返回元素索引：\n"
      ],
      "id": "cf3ae693"
    },
    {
      "cell_type": "code",
      "metadata": {},
      "source": [
        "ind = np.nonzero(arr<6)\n",
        "\n",
        "list_of_coordinates= list(zip(ind[0], ind[1]))\n",
        "for coord in list_of_coordinates:\n",
        "    print(coord)"
      ],
      "id": "6d6746ef",
      "execution_count": null,
      "outputs": []
    },
    {
      "cell_type": "markdown",
      "metadata": {},
      "source": [
        "### 2.4 数组的基本运算和操作{.unnumbered}\n",
        "\n",
        "数组上的算术运算符按元素应用。\n"
      ],
      "id": "828d292e"
    },
    {
      "cell_type": "code",
      "metadata": {},
      "source": [
        "a = np.array([(22,33),(44,55)])\n",
        "b = np.arange(2,6).reshape(2,2)\n",
        "print(\"数组a:\\n\",a)\n",
        "print(\"数组b:\\n\",b)\n",
        "print(f\"a-b:\\n{a-b}\")\n",
        "print(f\"a/b:\\n{a/b}\")\n",
        "print(f\"b**2:\\n{b**2}\")\n",
        "print(f\"b>=4:\\n{b>=4}\")"
      ],
      "id": "680f8d59",
      "execution_count": null,
      "outputs": []
    },
    {
      "cell_type": "markdown",
      "metadata": {},
      "source": [
        "乘积运算符在NumPy数组中按元素进行运算，矩阵乘积运算用`@`或`.dot()`："
      ],
      "id": "80b4cfaa"
    },
    {
      "cell_type": "code",
      "metadata": {},
      "source": [
        "A = np.array([(2,3),(3,4)])\n",
        "B = np.array([(4,2),(5,2)])\n",
        "print(\"数组A:\\n\",A)\n",
        "print(\"数组B:\\n\",B)\n",
        "print(f\"A*B:\\n{A*B}\")\n",
        "print(f\"A@B:\\n{A@B}\")\n",
        "print(f\"A.dot(B):\\n{A.dot(B)}\")"
      ],
      "id": "530f45aa",
      "execution_count": null,
      "outputs": []
    },
    {
      "cell_type": "markdown",
      "metadata": {},
      "source": [
        "聚合函数（可以指定轴）："
      ],
      "id": "88fd1f0a"
    },
    {
      "cell_type": "code",
      "metadata": {},
      "source": [
        "arr = np.arange(1,5).reshape(2,2)\n",
        "print(arr)\n",
        "print(\"数组元素求和:\",arr.sum())\n",
        "print(\"数组元素每列求和:\",arr.sum(axis=0))  # 行求和：axis=1\n",
        "print(\"数组元素最小值:\",arr.min())\n",
        "print(\"数组元素每列最小值:\",arr.min(axis=0)) "
      ],
      "id": "3c16c9e7",
      "execution_count": null,
      "outputs": []
    },
    {
      "cell_type": "markdown",
      "metadata": {},
      "source": [
        "对元素进行排序/反转（以数组x和y为例）："
      ],
      "id": "75eb3ce8"
    },
    {
      "cell_type": "code",
      "metadata": {},
      "source": [
        "x = np.array([7,2,5,3,6,4,9,1,8])\n",
        "y = np.array([[7,2,5],[3,6,4],[9,1,8]])\n",
        "print(\"数组x:\\n\",x)\n",
        "print(\"数组x排序后:\\n\",np.sort(x))\n",
        "print(\"数组x反转后:\\n\",np.flip(x))\n",
        "print(\"数组y:\\n\",y)\n",
        "print(\"数组y排序后:\\n\",np.sort(y))\n",
        "print(\"数组y反转后:\\n\",np.flip(y))\n",
        "print(\"数组y仅反转行:\\n\",np.flip(y,axis=0))\n",
        "y[:,1] = np.flip(y[:,1])\n",
        "print(\"数组y反转第二列:\\n\",y)"
      ],
      "id": "36fb590a",
      "execution_count": null,
      "outputs": []
    },
    {
      "cell_type": "markdown",
      "metadata": {},
      "source": [
        "去重复值："
      ],
      "id": "60c0b649"
    },
    {
      "cell_type": "code",
      "metadata": {},
      "source": [
        "arr = np.array([1,2,2,5,7,7,8,9,9,12,14])\n",
        "print(\"数组:\",arr)\n",
        "print(\"去重后:\",np.unique(arr))\n",
        "\n",
        "unique_arr,indices_list = np.unique(arr, return_index=True)\n",
        "print(\"去重后数组的索引:\",indices_list)"
      ],
      "id": "fc6517bd",
      "execution_count": null,
      "outputs": []
    },
    {
      "cell_type": "markdown",
      "metadata": {},
      "source": [
        "### 2.5 数组的形状操作和拼接、堆叠、拆分{.unnumbered}\n",
        "\n",
        "重塑数组的形状，添加新轴不会改变元素："
      ],
      "id": "3aa94f89"
    },
    {
      "cell_type": "code",
      "metadata": {},
      "source": [
        "a = np.arange(6)\n",
        "print(f\"数组:{a}\")\n",
        "print(f\"重塑形状:\\n{a.reshape(1,3,2)}\")\n",
        "row_vector = a[np.newaxis, :] # 从一维转为二维\n",
        "print(f\"添加新轴(转换为行向量):{row_vector}\")\n",
        "print(f\"相当于在索引位置0处添加轴：{np.expand_dims(a, axis=0)}\")\n",
        "col_vector = a[:, np.newaxis]\n",
        "print(f\"或者转换为列向量:\\n{col_vector}\")\n",
        "print(f\"相当于在索引位置1处添加轴：\\n{np.expand_dims(a, axis=1)}\")"
      ],
      "id": "10c66fca",
      "execution_count": null,
      "outputs": []
    },
    {
      "cell_type": "markdown",
      "metadata": {},
      "source": [
        "展平数组可用`flatten()`或`ravel()`，但使用`flatten`时，对展平数组的更改不会影响原数组，使用`ravel`数组的更改会影响原数组。"
      ],
      "id": "f7f37f46"
    },
    {
      "cell_type": "code",
      "metadata": {},
      "source": [
        "arr = np.arange(6).reshape(2,3)\n",
        "print(\"展平前:\\n\",arr)\n",
        "\n",
        "arr_one = arr.flatten()\n",
        "print(\"使用flatten展平后:\",arr_one)\n",
        "arr_one[0] = 99\n",
        "print(\"修改元素:\",arr_one)\n",
        "print(\"原数组不变:\\n\",arr)\n",
        "\n",
        "arr_two = arr.ravel()\n",
        "print(\"使用ravel展平后:\",arr_two)\n",
        "arr_two[0] = 99\n",
        "print(\"修改元素:\",arr_two)\n",
        "print(\"原数组改变:\\n\",arr)"
      ],
      "id": "a7d64666",
      "execution_count": null,
      "outputs": []
    },
    {
      "cell_type": "markdown",
      "metadata": {},
      "source": [
        "转置矩阵（二维数组）："
      ],
      "id": "d840a29b"
    },
    {
      "cell_type": "code",
      "metadata": {},
      "source": [
        "arr = np.arange(1,7).reshape(2,3)\n",
        "print(\"转置前:\\n\",arr)\n",
        "print(\"转置后:\\n\",arr.transpose())\n",
        "print(\"转置后:\\n\",arr.T)"
      ],
      "id": "82d89f66",
      "execution_count": null,
      "outputs": []
    },
    {
      "cell_type": "markdown",
      "metadata": {},
      "source": [
        "拼接和堆叠数组："
      ],
      "id": "9aacc413"
    },
    {
      "cell_type": "code",
      "metadata": {},
      "source": [
        "a = np.array([(1,2),(3,4)])\n",
        "b = np.ones((3,2))\n",
        "c = np.zeros((1,2))\n",
        "print(f\"数组a:\\n{a}\")\n",
        "print(f\"数组b:\\n{b}\")\n",
        "print(f\"数组c:\\n{c}\")\n",
        "print(f\"拼接a,b,c:\\n{np.concatenate((a,b,c))}\")\n",
        "print(f\"垂直堆叠a,b,c:\\n{np.vstack((a,b,c))}\")\n",
        "print(f\"水平堆叠a,a:\\n{np.hstack((a,a))}\")"
      ],
      "id": "07e85422",
      "execution_count": null,
      "outputs": []
    },
    {
      "cell_type": "markdown",
      "metadata": {},
      "source": [
        "分解数组：\n"
      ],
      "id": "896a6870"
    },
    {
      "cell_type": "code",
      "metadata": {},
      "source": [
        "arr = np.arange(1,25).reshape(2,12)\n",
        "print(\"以此数组为例:\\n\",arr)\n",
        "print(f\"拆分为4个形状相同的数组:\\n{np.hsplit(arr, 4)}\")\n",
        "print(f\"从第3列，第7列开始拆分:\\n{np.hsplit(arr, (3,7))}\")"
      ],
      "id": "d322b12d",
      "execution_count": null,
      "outputs": []
    },
    {
      "cell_type": "markdown",
      "metadata": {},
      "source": [
        "### 2.6 数学公式{.unnumbered}\n",
        "\n",
        "数组的运算可以帮助实现数学公式的运算，以均方误差公式为例：\n",
        "\n",
        "$$MeanSquareError=\\frac{1}{n}\\sum_{i=1}^{n}{(Prediction_i-Y_i)^2}$$\n",
        "将Prediction和Y看作一维数组进行运算即可：\n",
        "`error = (1/n)*np.sum(np.square(prediction-y))`"
      ],
      "id": "6bd31eac"
    },
    {
      "cell_type": "code",
      "metadata": {},
      "source": [
        "prediction = np.array([2,2,2])\n",
        "y = np.array([1,2,3])\n",
        "print(\"观测值:\",y)\n",
        "print(\"预测值:\",prediction)\n",
        "print(\"预测值和观测值之差:\",prediction-y)\n",
        "error = (1/3)*np.sum(np.square(prediction-y))\n",
        "print(\"均方误差:\",error)"
      ],
      "id": "c70e1f95",
      "execution_count": null,
      "outputs": []
    },
    {
      "cell_type": "markdown",
      "metadata": {},
      "source": [
        "### 2.7 数组的文件输入输出：读取和保存NumPy对象{.unnumbered}\n",
        "\n",
        "将数组对象存为`filename.npy`："
      ],
      "id": "f0e421ad"
    },
    {
      "cell_type": "code",
      "metadata": {},
      "source": [
        "arr = np.array([1,2,3])\n",
        "np.save(\"arr\", arr)\n",
        "np.load('arr.npy')"
      ],
      "id": "3792b100",
      "execution_count": null,
      "outputs": []
    },
    {
      "cell_type": "markdown",
      "metadata": {},
      "source": [
        "也可以保存为文本："
      ],
      "id": "52cbee97"
    },
    {
      "cell_type": "code",
      "metadata": {},
      "source": [
        "np.savetxt('arr.csv', arr)\n",
        "np.loadtxt('arr.csv')"
      ],
      "id": "3b895db3",
      "execution_count": null,
      "outputs": []
    },
    {
      "cell_type": "markdown",
      "metadata": {},
      "source": [
        "## 3 示例和练习{.unnumbered}\n"
      ],
      "id": "cd8fe481"
    }
  ],
  "metadata": {
    "kernelspec": {
      "display_name": "Python 3",
      "language": "python",
      "name": "python3"
    }
  },
  "nbformat": 4,
  "nbformat_minor": 5
}