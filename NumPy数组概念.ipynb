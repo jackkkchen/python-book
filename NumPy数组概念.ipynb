{
  "cells": [
    {
      "cell_type": "raw",
      "id": "eebf00a5",
      "metadata": {},
      "source": [
        "---\n",
        "title: NumPy数组概念\n",
        "format:\n",
        "  html:\n",
        "    code-fold: false\n",
        "    code-tools: true\n",
        "---"
      ]
    },
    {
      "attachments": {},
      "cell_type": "markdown",
      "id": "fc74df7a",
      "metadata": {},
      "source": [
        "前面已经学习了Python的基本知识，掌握了Python的基础语法，现在我们来学习运用Python的一些基础库。众所周知，Python的优点之一在于其拥有大量的第三方库和框架，这些库和框架能够帮助开发者快速实现各种功能。其中NumPy库是Python中用于科学计算和数据分析的核心库之一。\n",
        "\n",
        "NumPy（Numerical Python）是一个开源的Python科学计算库，它包含多维数组和矩阵数据结构的运算，提供了高性能的多维数组对象ndarray（N-dimensional array）以及处理这些数组的各种函数，提供了高效的数组操作功能，使得处理大规模数据集变得更加高效和便捷。\n",
        "\n",
        "##  NumPy的安装和导入\n",
        "\n",
        "要安装 NumPy，可以选择conda安装或pip安装，在终端(terminal)输入以下安装指令：\n",
        "\n",
        "`conda install numpy` 或者 `pip install numpy`，安装成功以后便可导入NumPy进行运用。\n",
        "\n",
        "如果想直接在ipynb的代码块进行安装\n",
        "\n",
        "导入 NumPy ：\n",
        "\n",
        "通常导入库的方式都是`import 库名`的形式，但为了方便后续调用库中的一些函数，我们会采取`import 库名 as 缩写`的形式。"
      ]
    },
    {
      "cell_type": "code",
      "execution_count": 1,
      "id": "d73699dd",
      "metadata": {},
      "outputs": [],
      "source": [
        "import numpy as np"
      ]
    },
    {
      "attachments": {},
      "cell_type": "markdown",
      "id": "c29b36e3",
      "metadata": {},
      "source": [
        "使用 NumPy 缩短导入的名称np，可以提高代码的可读性。\n",
        "\n",
        "## NumPy中的核心对象：ndarray\n",
        " \n",
        "ndarray是NumPy中最重要的对象，它是N 维数组的简写，可以是一维数组、二维数组或更高维度的数组。"
      ]
    },
    {
      "cell_type": "code",
      "execution_count": 2,
      "id": "49b41bfe",
      "metadata": {},
      "outputs": [
        {
          "name": "stdout",
          "output_type": "stream",
          "text": [
            "这是一个一行三列的一维数组:\n"
          ]
        },
        {
          "data": {
            "text/plain": [
              "array([1, 2, 3])"
            ]
          },
          "execution_count": 2,
          "metadata": {},
          "output_type": "execute_result"
        }
      ],
      "source": [
        "print(\"这是一个一行三列的一维数组:\")\n",
        "np.array((1, 2, 3))"
      ]
    },
    {
      "cell_type": "code",
      "execution_count": 3,
      "id": "ceaf6b88",
      "metadata": {},
      "outputs": [
        {
          "name": "stdout",
          "output_type": "stream",
          "text": [
            "这是一个二行三列的二维数组:\n"
          ]
        },
        {
          "data": {
            "text/plain": [
              "array([[1, 2, 3],\n",
              "       [4, 5, 6]])"
            ]
          },
          "execution_count": 3,
          "metadata": {},
          "output_type": "execute_result"
        }
      ],
      "source": [
        "print(\"这是一个二行三列的二维数组:\")\n",
        "np.array([(1, 2, 3),(4, 5, 6)])"
      ]
    },
    {
      "attachments": {},
      "cell_type": "markdown",
      "id": "39c8b9d8",
      "metadata": {},
      "source": [
        "相对于一维数组，二维数组多了一个维度，示例代码中的二维数组包含两个子数组（也称为行）：[1,2,3]和[4,5,6]，一个子数组代表一个行向量。\n",
        "\n",
        "ndarray中的元素可以是任意数据类型，包括整数、浮点数、复数等。数据类型由dtype（data type）对象来描述。\n",
        "\n",
        "## 创建NumPy数组\n",
        "\n",
        "要创建 NumPy 数组，可以使用函数`np.array()`将序列转换为数组。\n",
        "\n",
        "::: {.callout-note}\n",
        "对象只能是一个，例如`((),(),...)`，不能是多个序列：`(),(),...`。\n",
        "\n",
        ":::\n"
      ]
    },
    {
      "cell_type": "code",
      "execution_count": 4,
      "id": "2382ff1c",
      "metadata": {},
      "outputs": [
        {
          "data": {
            "text/plain": [
              "array([[1, 2, 3],\n",
              "       [4, 5, 6]])"
            ]
          },
          "execution_count": 4,
          "metadata": {},
          "output_type": "execute_result"
        }
      ],
      "source": [
        "import numpy as np\n",
        "a = np.array(((1, 2, 3),(4, 5, 6)))\n",
        "a"
      ]
    },
    {
      "attachments": {},
      "cell_type": "markdown",
      "id": "76c99943",
      "metadata": {},
      "source": [
        "创建一个元素都为0的数组（默认元素类型为float64，简写为float_，可以通过dtype进行设置）："
      ]
    },
    {
      "cell_type": "code",
      "execution_count": 5,
      "id": "deb7f3c7",
      "metadata": {},
      "outputs": [
        {
          "data": {
            "text/plain": [
              "array([[0., 0.],\n",
              "       [0., 0.]])"
            ]
          },
          "execution_count": 5,
          "metadata": {},
          "output_type": "execute_result"
        }
      ],
      "source": [
        "np.zeros((2, 2))"
      ]
    },
    {
      "attachments": {},
      "cell_type": "markdown",
      "id": "564c504d",
      "metadata": {},
      "source": [
        "创建一个元素全为1的3x3矩阵，数值类型为整型："
      ]
    },
    {
      "cell_type": "code",
      "execution_count": 6,
      "id": "662d8fdc",
      "metadata": {},
      "outputs": [
        {
          "data": {
            "text/plain": [
              "array([[1, 1, 1],\n",
              "       [1, 1, 1],\n",
              "       [1, 1, 1]])"
            ]
          },
          "execution_count": 6,
          "metadata": {},
          "output_type": "execute_result"
        }
      ],
      "source": [
        "np.ones((3, 3), dtype=np.int_)"
      ]
    },
    {
      "attachments": {},
      "cell_type": "markdown",
      "id": "0cde232f",
      "metadata": {},
      "source": [
        "创建一个3x3单位矩阵（主对角线元素为1）："
      ]
    },
    {
      "cell_type": "code",
      "execution_count": 7,
      "id": "e86638ec",
      "metadata": {},
      "outputs": [
        {
          "data": {
            "text/plain": [
              "array([[1, 0, 0],\n",
              "       [0, 1, 0],\n",
              "       [0, 0, 1]])"
            ]
          },
          "execution_count": 7,
          "metadata": {},
          "output_type": "execute_result"
        }
      ],
      "source": [
        "np.eye(3, 3, dtype=np.int_)"
      ]
    },
    {
      "attachments": {},
      "cell_type": "markdown",
      "id": "7a913725",
      "metadata": {},
      "source": [
        "创建一个空数组，元素的初始内容会随机生成，可以设置dtype参数："
      ]
    },
    {
      "cell_type": "code",
      "execution_count": 8,
      "id": "7ef7ed05",
      "metadata": {},
      "outputs": [
        {
          "data": {
            "text/plain": [
              "array([[1.01582801e+094, 3.54586565e+068, 1.57001898e+155],\n",
              "       [3.71754479e+177, 3.97949006e-315, 0.00000000e+000]])"
            ]
          },
          "execution_count": 8,
          "metadata": {},
          "output_type": "execute_result"
        }
      ],
      "source": [
        "np.empty((2, 3), dtype=np.float_)"
      ]
    },
    {
      "attachments": {},
      "cell_type": "markdown",
      "id": "e6e523c2",
      "metadata": {},
      "source": [
        "创建一个等差数列型的一维数组：\n",
        "\n",
        "`np.arange()`第一个参数start代表起始值，默认从0开始，第二个参数stop代表结束值，但结束值不包含在数组中。第三个参数step为步长，即相邻元素的差值。"
      ]
    },
    {
      "cell_type": "code",
      "execution_count": 9,
      "id": "08e88c1a",
      "metadata": {},
      "outputs": [
        {
          "name": "stdout",
          "output_type": "stream",
          "text": [
            "创建一个值域从0-9,步长为2的数组:\n"
          ]
        },
        {
          "data": {
            "text/plain": [
              "array([0, 2, 4, 6, 8])"
            ]
          },
          "execution_count": 9,
          "metadata": {},
          "output_type": "execute_result"
        }
      ],
      "source": [
        "print(\"创建一个值域从0-9,步长为2的数组:\")\n",
        "np.arange(0, 10, 2)"
      ]
    },
    {
      "cell_type": "code",
      "execution_count": 10,
      "id": "99f65bdd",
      "metadata": {},
      "outputs": [
        {
          "name": "stdout",
          "output_type": "stream",
          "text": [
            "只含一个参数时,默认初始索引为0,步长为1:\n"
          ]
        },
        {
          "data": {
            "text/plain": [
              "array([0, 1, 2, 3])"
            ]
          },
          "execution_count": 10,
          "metadata": {},
          "output_type": "execute_result"
        }
      ],
      "source": [
        "print(\"只含一个参数时,默认初始索引为0,步长为1:\")\n",
        "np.arange(4)"
      ]
    },
    {
      "cell_type": "code",
      "execution_count": 11,
      "id": "f68fd586",
      "metadata": {},
      "outputs": [
        {
          "name": "stdout",
          "output_type": "stream",
          "text": [
            "创建一个包含6个元素,值域从0到10的整型数组:\n"
          ]
        },
        {
          "data": {
            "text/plain": [
              "array([ 0,  2,  4,  6,  8, 10])"
            ]
          },
          "execution_count": 11,
          "metadata": {},
          "output_type": "execute_result"
        }
      ],
      "source": [
        "print(\"创建一个包含6个元素,值域从0到10的整型数组:\") \n",
        "np.linspace(0, 10, num=6, dtype=np.int_) "
      ]
    },
    {
      "attachments": {},
      "cell_type": "markdown",
      "id": "ba128674",
      "metadata": {},
      "source": [
        "创建随机数组："
      ]
    },
    {
      "cell_type": "code",
      "execution_count": 12,
      "id": "612387b8",
      "metadata": {},
      "outputs": [
        {
          "name": "stdout",
          "output_type": "stream",
          "text": [
            "2x2的随机数组:\n"
          ]
        },
        {
          "data": {
            "text/plain": [
              "array([[0.2023206 , 0.48118652],\n",
              "       [0.3590971 , 0.46014934]])"
            ]
          },
          "execution_count": 12,
          "metadata": {},
          "output_type": "execute_result"
        }
      ],
      "source": [
        "print(\"2x2的随机数组:\")\n",
        "np.random.random((2, 2))"
      ]
    },
    {
      "attachments": {},
      "cell_type": "markdown",
      "id": "97d4250e",
      "metadata": {},
      "source": [
        "创建随机整型数组："
      ]
    },
    {
      "cell_type": "code",
      "execution_count": 13,
      "id": "bfe819c1",
      "metadata": {},
      "outputs": [
        {
          "data": {
            "text/plain": [
              "array([[4, 0, 2],\n",
              "       [3, 3, 3]])"
            ]
          },
          "execution_count": 13,
          "metadata": {},
          "output_type": "execute_result"
        }
      ],
      "source": [
        "np.random.randint(5, size=(2, 3))"
      ]
    },
    {
      "attachments": {},
      "cell_type": "markdown",
      "id": "09ac45de",
      "metadata": {},
      "source": [
        "基于已有的数组复制得到新数组："
      ]
    },
    {
      "cell_type": "code",
      "execution_count": 14,
      "id": "a5c545ce",
      "metadata": {},
      "outputs": [
        {
          "data": {
            "text/plain": [
              "array([0, 1, 2, 3])"
            ]
          },
          "execution_count": 14,
          "metadata": {},
          "output_type": "execute_result"
        }
      ],
      "source": [
        "a = np.arange(4)\n",
        "c = a.copy()\n",
        "c"
      ]
    },
    {
      "attachments": {},
      "cell_type": "markdown",
      "id": "04b0a405",
      "metadata": {},
      "source": [
        "## NumPy支持的数据类型\n",
        "\n",
        "1. 布尔类型（bool）：表示True或False的布尔值，设置`dtype = np.bool_`即可。\n",
        "2. 整数类型（int）：包括有符号和无符号的整数，如int_、int8、int16、int32、int64、uint8、uint16、uint32、uint64等，u意为unsigned，无符号，表示只能为正数。\n",
        "3. 浮点数类型（float）：表示浮点数，包括float16、float32、float64(float_)等。\n",
        "4. 复数类型（complex）：表示复数，包括complex64、complex128(complex_)等。\n",
        "5. 字符串类型（string）：表示固定长度的字符串，如S10表示长度为10的字符串。\n",
        "6. Unicode类型（unicode）：表示固定长度的Unicode字符串，如U10表示长度为10的Unicode字符串。\n",
        "7. 日期和时间类型（datetime）：表示日期和时间，包括datetime64、timedelta64等。\n",
        "\n",
        "## 数组的形状、维度和大小\n",
        "\n",
        "在 NumPy 中，维度称为轴。以下面这个二维数组为例，它的第一个轴的长度为2（行），第二个轴长度为3（列）。\n"
      ]
    },
    {
      "cell_type": "code",
      "execution_count": 15,
      "id": "82f101d5",
      "metadata": {},
      "outputs": [
        {
          "name": "stdout",
          "output_type": "stream",
          "text": [
            "以此数组为例:\n",
            "[[1 2 3]\n",
            " [4 5 6]]\n",
            "数组的维度是:2\n",
            "数组的形状是:(2, 3)\n",
            "数组一共包含6个元素\n"
          ]
        }
      ],
      "source": [
        "a = np.array([[1, 2, 3], [4, 5, 6]])\n",
        "\n",
        "print(f\"以此数组为例:\\n{a}\")\n",
        "\n",
        "print(f\"数组的维度是:{a.ndim}\")\n",
        "\n",
        "print(f\"数组的形状是:{a.shape}\")\n",
        "\n",
        "print(f\"数组一共包含{a.size}个元素\")"
      ]
    },
    {
      "attachments": {},
      "cell_type": "markdown",
      "id": "79f6977e",
      "metadata": {},
      "source": [
        "## 数组的形状操作\n",
        "\n",
        "::: {.callout-note}\n",
        "重塑数组的形状或添加新轴不会改变元素，只会改变数组的形状。\n",
        "\n",
        ":::\n"
      ]
    },
    {
      "cell_type": "code",
      "execution_count": 16,
      "id": "0ca038f5",
      "metadata": {},
      "outputs": [
        {
          "name": "stdout",
          "output_type": "stream",
          "text": [
            "原数组:[0 1 2 3 4 5]\n",
            "重塑形状:\n",
            "[[0 1 2]\n",
            " [3 4 5]]\n"
          ]
        }
      ],
      "source": [
        "a = np.arange(6)\n",
        "print(f\"原数组:{a}\")\n",
        "\n",
        "print(f\"重塑形状:\\n{a.reshape(2, 3)}\")"
      ]
    },
    {
      "cell_type": "code",
      "execution_count": 17,
      "id": "8c492d7b",
      "metadata": {},
      "outputs": [
        {
          "name": "stdout",
          "output_type": "stream",
          "text": [
            "添加新轴,从一维转为二维:\n",
            "[[0 1 2 3 4 5]]\n",
            "相当于在索引位置0处添加轴:\n",
            "[[0 1 2 3 4 5]]\n",
            "添加新轴,转换为列向量:\n",
            "[[0]\n",
            " [1]\n",
            " [2]\n",
            " [3]\n",
            " [4]\n",
            " [5]]\n",
            "相当于在索引位置1处添加轴:\n",
            "[[0]\n",
            " [1]\n",
            " [2]\n",
            " [3]\n",
            " [4]\n",
            " [5]]\n"
          ]
        }
      ],
      "source": [
        "row_vector = a[np.newaxis, :]\n",
        "print(f\"添加新轴,从一维转为二维:\\n{row_vector}\")\n",
        "\n",
        "print(f\"相当于在索引位置0处添加轴:\\n{np.expand_dims(a, axis=0)}\")\n",
        "\n",
        "col_vector = a[:, np.newaxis]\n",
        "print(f\"添加新轴,转换为列向量:\\n{col_vector}\")\n",
        "\n",
        "print(f\"相当于在索引位置1处添加轴:\\n{np.expand_dims(a, axis=1)}\")"
      ]
    },
    {
      "attachments": {},
      "cell_type": "markdown",
      "id": "c9240d8e",
      "metadata": {},
      "source": [
        "转置矩阵："
      ]
    },
    {
      "cell_type": "code",
      "execution_count": 18,
      "id": "565b8e80",
      "metadata": {},
      "outputs": [
        {
          "name": "stdout",
          "output_type": "stream",
          "text": [
            "原矩阵:\n",
            "[[1 2 3]\n",
            " [4 5 6]]\n",
            "转置后:\n",
            "[[1 4]\n",
            " [2 5]\n",
            " [3 6]]\n",
            "也可以用.T:\n",
            "[[1 4]\n",
            " [2 5]\n",
            " [3 6]]\n"
          ]
        }
      ],
      "source": [
        "arr = np.arange(1, 7).reshape(2, 3)\n",
        "print(f\"原矩阵:\\n{arr}\")\n",
        "\n",
        "print(f\"转置后:\\n{arr.transpose()}\")\n",
        "\n",
        "print(f\"也可以用.T:\\n{arr.T}\")"
      ]
    }
  ],
  "metadata": {
    "kernelspec": {
      "display_name": "Python 3",
      "language": "python",
      "name": "python3"
    },
    "language_info": {
      "codemirror_mode": {
        "name": "ipython",
        "version": 3
      },
      "file_extension": ".py",
      "mimetype": "text/x-python",
      "name": "python",
      "nbconvert_exporter": "python",
      "pygments_lexer": "ipython3",
      "version": "3.10.9"
    }
  },
  "nbformat": 4,
  "nbformat_minor": 5
}
