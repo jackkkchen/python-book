{
  "cells": [
    {
      "cell_type": "raw",
      "id": "eebf00a5",
      "metadata": {},
      "source": [
        "---\n",
        "title: NumPy数组的基本操作和变换\n",
        "format:\n",
        "  html:\n",
        "    code-fold: false\n",
        "    code-tools: true\n",
        "---"
      ]
    },
    {
      "attachments": {},
      "cell_type": "markdown",
      "id": "bb0addc6",
      "metadata": {},
      "source": [
        "## 数组的索引和切片\n",
        "\n",
        "1. 索引默认从0开始，第一个元素索引为0，第二个元素索引为1，依此类推。\n",
        "\n",
        "2. 前闭后开规则，默认含首不含尾。\n",
        "\n",
        "3. -n指反方向第n个数。\n",
        "\n",
        "4. 修改切片元素时原数组的元素也会相应改变。"
      ]
    },
    {
      "cell_type": "code",
      "execution_count": 1,
      "id": "a846d6a1",
      "metadata": {},
      "outputs": [
        {
          "name": "stdout",
          "output_type": "stream",
          "text": [
            "以此数组为例: [0 1 2 3 4 5 6 7 8 9]\n",
            "索引从0到4的切片: [0 1 2 3 4]\n",
            "索引从4到6的切片: [4 5 6]\n",
            "索引从0到9且步长为3的切片 [0 3 6 9]\n",
            "索引从0到4的切片: [0 1 2 3 4]\n",
            "修改切片元素后原数组随之改变: [99  1  2  3  4  5  6  7  8  9]\n"
          ]
        }
      ],
      "source": [
        "import numpy as np\n",
        "arr = np.arange(10)\n",
        "print('以此数组为例:', arr)\n",
        "\n",
        "slice_one = arr[:5] # 提取单个元素去掉冒号即可:arr[4]\n",
        "print('索引从0到4的切片:', slice_one)\n",
        "\n",
        "slice_two = arr[4:7]\n",
        "print('索引从4到6的切片:', slice_two)\n",
        "\n",
        "slice_three = arr[0:10:3]  # 前两个数可省略：arr[::3] \n",
        "print('索引从0到9且步长为3的切片', slice_three)\n",
        "\n",
        "slice_four = arr[:-5]\n",
        "print('索引从0到4的切片:', slice_four)\n",
        "\n",
        "slice_four[0] = 99\n",
        "print('修改切片元素后原数组随之改变:', arr)"
      ]
    },
    {
      "cell_type": "code",
      "execution_count": 2,
      "id": "f0d4acf1",
      "metadata": {},
      "outputs": [
        {
          "name": "stdout",
          "output_type": "stream",
          "text": [
            "二维数组:\n",
            "[[1 2 3]\n",
            " [4 5 6]\n",
            " [7 8 9]]\n",
            "行索引从1开始(第2行),列索引取到2(第3列但不包含):\n",
            "[[4 5]\n",
            " [7 8]]\n"
          ]
        }
      ],
      "source": [
        "arr = np.arange(1, 10).reshape(3, 3)\n",
        "print(f\"二维数组:\\n{arr}\")\n",
        "\n",
        "print(f\"行索引从1开始(第2行),列索引取到2(第3列但不包含):\\n{arr[1:, :2]}\")"
      ]
    },
    {
      "attachments": {},
      "cell_type": "markdown",
      "id": "44fbf39c",
      "metadata": {},
      "source": [
        "以下面的三维数组为例，该数组三个维度的轴长分别为2, 3, 4，意味着:\n",
        "\n",
        "第一个维度包含两个二维子数组，第二个维度包含三个一维子数组，第三个维度包含四个整数。（依次去掉最外层中括号来看）"
      ]
    },
    {
      "cell_type": "code",
      "execution_count": 3,
      "id": "c183f6aa",
      "metadata": {},
      "outputs": [
        {
          "name": "stdout",
          "output_type": "stream",
          "text": [
            "三维数组:\n",
            "[[[8 3 7 5]\n",
            "  [9 2 8 3]\n",
            "  [4 7 1 5]]\n",
            "\n",
            " [[9 6 6 1]\n",
            "  [2 4 6 5]\n",
            "  [6 3 4 7]]]\n",
            "第一维度索引0指代的元素:\n",
            "[[8 3 7 5]\n",
            " [9 2 8 3]\n",
            " [4 7 1 5]]\n",
            "第一维度索引1指代的元素:\n",
            "[[9 6 6 1]\n",
            " [2 4 6 5]\n",
            " [6 3 4 7]]\n"
          ]
        }
      ],
      "source": [
        "arr = np.random.randint(1, 10, size=(2, 3, 4))\n",
        "\n",
        "print(f\"三维数组:\\n{arr}\")\n",
        "\n",
        "for i in (0, 1):\n",
        "    print(f\"第一维度索引{i}指代的元素:\\n{arr[i, :, :]}\")"
      ]
    },
    {
      "cell_type": "code",
      "execution_count": 4,
      "id": "d969a5f9",
      "metadata": {},
      "outputs": [
        {
          "name": "stdout",
          "output_type": "stream",
          "text": [
            "第二维度索引0指代的元素():\n",
            "[[8 3 7 5]\n",
            " [9 6 6 1]]\n",
            "第二维度索引1指代的元素():\n",
            "[[9 2 8 3]\n",
            " [2 4 6 5]]\n",
            "第二维度索引2指代的元素():\n",
            "[[4 7 1 5]\n",
            " [6 3 4 7]]\n"
          ]
        }
      ],
      "source": [
        "for i in (0, 1, 2):\n",
        "    print(f\"第二维度索引{i}指代的元素():\\n{arr[:, i, :]}\")"
      ]
    },
    {
      "cell_type": "code",
      "execution_count": 5,
      "id": "1be98073",
      "metadata": {},
      "outputs": [
        {
          "name": "stdout",
          "output_type": "stream",
          "text": [
            "第三维度索引0指代的元素:\n",
            "[[8 9 4]\n",
            " [9 2 6]]\n",
            "第三维度索引1指代的元素:\n",
            "[[3 2 7]\n",
            " [6 4 3]]\n",
            "第三维度索引2指代的元素:\n",
            "[[7 8 1]\n",
            " [6 6 4]]\n",
            "第三维度索引3指代的元素:\n",
            "[[5 3 5]\n",
            " [1 5 7]]\n"
          ]
        }
      ],
      "source": [
        "for i in (0, 1, 2, 3):\n",
        "    print(f\"第三维度索引{i}指代的元素:\\n{arr[:, :, i]}\")"
      ]
    },
    {
      "attachments": {},
      "cell_type": "markdown",
      "id": "e17c373d",
      "metadata": {},
      "source": [
        "<video controls style=\"width: 100%;\">\n",
        "  <source src=\"http://szmspython.oss-cn-hangzhou.aliyuncs.com/%E5%91%A8%E4%B8%80%E7%8E%AF%E5%A2%83%E6%90%AD%E5%BB%BA%26%E5%9F%BA%E7%A1%80%E8%AF%AD%E6%B3%95/%E4%B8%89%E4%BD%8D%E6%95%B0%E7%BB%84%E7%9A%84%E7%B4%A2%E5%BC%95%E4%B8%8E%E5%88%87%E7%89%87.mp4\" type=\"video/mp4\">\n",
        "</video>\n",
        "\n",
        "<style>\n",
        "  video {\n",
        "    max-width: 100%;\n",
        "    height: auto;\n",
        "  }\n",
        "</style>"
      ]
    },
    {
      "attachments": {},
      "cell_type": "markdown",
      "id": "917369c4",
      "metadata": {},
      "source": [
        "高维数组的切片可用省略号："
      ]
    },
    {
      "cell_type": "code",
      "execution_count": 6,
      "id": "4681fa9f",
      "metadata": {},
      "outputs": [
        {
          "name": "stdout",
          "output_type": "stream",
          "text": [
            "第一维度从第二个元素开始:\n",
            "[[[9 6 6 1]\n",
            "  [2 4 6 5]\n",
            "  [6 3 4 7]]]\n",
            "第一维度第一个子数组中第一列:\n",
            "[[8]\n",
            " [9]\n",
            " [4]]\n"
          ]
        }
      ],
      "source": [
        "print(f\"第一维度从第二个元素开始:\\n{arr[1:, ...]}\")  # 等价于 arr[1:, :, :]\n",
        "\n",
        "print(f\"第一维度第一个子数组中第一列:\\n{arr[0, ..., :1]}\")  # 等价于 arr[0, :, :1]"
      ]
    },
    {
      "attachments": {},
      "cell_type": "markdown",
      "id": "dc97e817",
      "metadata": {},
      "source": [
        "用逻辑条件来筛选满足条件的元素，筛选后的数组会被展平为一维数组："
      ]
    },
    {
      "cell_type": "code",
      "execution_count": 7,
      "id": "e82fb67a",
      "metadata": {},
      "outputs": [
        {
          "name": "stdout",
          "output_type": "stream",
          "text": [
            "以此数组为例:\n",
            "[[ 0  1  2  3]\n",
            " [ 4  5  6  7]\n",
            " [ 8  9 10 11]]\n",
            "大于6的元素:[ 7  8  9 10 11]\n",
            "返回布尔值:\n",
            "[[False False False False]\n",
            " [False False False  True]\n",
            " [ True  True  True  True]]\n"
          ]
        }
      ],
      "source": [
        "arr = np.arange(12).reshape((3, 4))\n",
        "print(f\"以此数组为例:\\n{arr}\")\n",
        "\n",
        "print(f\"大于6的元素:{arr[arr > 6]}\")\n",
        "\n",
        "print(f\"返回布尔值:\\n{arr > 6}\")\n"
      ]
    },
    {
      "attachments": {},
      "cell_type": "markdown",
      "id": "d2e2eb89",
      "metadata": {},
      "source": [
        "返回满足条件的元素索引："
      ]
    },
    {
      "cell_type": "code",
      "execution_count": 8,
      "id": "92ee52ca",
      "metadata": {},
      "outputs": [
        {
          "name": "stdout",
          "output_type": "stream",
          "text": [
            "以此二维数组为例:\n",
            "[[1 1 1]\n",
            " [2 1 1]\n",
            " [3 1 0]]\n",
            "非零元素的索引(分维度):\n",
            "(array([0, 0, 0, 1, 1, 1, 2, 2], dtype=int64), array([0, 1, 2, 0, 1, 2, 0, 1], dtype=int64))\n",
            "元素小于均值的索引:\n",
            "(array([0, 0, 0, 1, 1, 2, 2], dtype=int64), array([0, 1, 2, 1, 2, 1, 2], dtype=int64))\n"
          ]
        }
      ],
      "source": [
        "arr = np.random.randint(4, size=(3, 3))\n",
        "print(f\"以此二维数组为例:\\n{arr}\")\n",
        "\n",
        "print(f\"非零元素的索引(分维度):\\n{np.nonzero(arr)}\")\n",
        "\n",
        "print(f\"元素小于均值的索引:\\n{np.nonzero(arr < np.mean(arr))}\")\n"
      ]
    },
    {
      "attachments": {},
      "cell_type": "markdown",
      "id": "4f4faab8",
      "metadata": {},
      "source": [
        "以坐标形式返回元素索引："
      ]
    },
    {
      "cell_type": "code",
      "execution_count": 9,
      "id": "30a45791",
      "metadata": {},
      "outputs": [
        {
          "name": "stdout",
          "output_type": "stream",
          "text": [
            "(0, 0)\n",
            "(0, 1)\n",
            "(0, 2)\n",
            "(1, 0)\n",
            "(1, 1)\n",
            "(1, 2)\n",
            "(2, 0)\n",
            "(2, 1)\n",
            "(2, 2)\n"
          ]
        }
      ],
      "source": [
        "ind = np.nonzero(arr < 6)\n",
        "\n",
        "list_of_coordinates = list(zip(ind[0], ind[1]))\n",
        "for coord in list_of_coordinates:\n",
        "    print(coord)"
      ]
    },
    {
      "attachments": {},
      "cell_type": "markdown",
      "id": "c0b73b48",
      "metadata": {},
      "source": [
        "::: {.callout-note}\n",
        "\n",
        "遇到不认识的函数或模块时，例如上述示例代码的`zip()`可以使用`help(zip())`查询函数或模块的信息以及示例代码。\n",
        "\n",
        "如果想要了解某个特定模块的函数，例如numpy的array函数，可以使用`numpy.info(numpy.array)`，也可以使用缩写`np.info(np.array)`\n",
        "\n",
        ":::"
      ]
    },
    {
      "attachments": {},
      "cell_type": "markdown",
      "id": "aa66825b",
      "metadata": {},
      "source": [
        "## 数组的基本运算\n",
        "\n",
        "数组上的算术运算符按元素应用。\n"
      ]
    },
    {
      "cell_type": "code",
      "execution_count": 10,
      "id": "3bc5bbff",
      "metadata": {},
      "outputs": [
        {
          "name": "stdout",
          "output_type": "stream",
          "text": [
            "数组a:\n",
            "[[20 30]\n",
            " [40 50]]\n",
            "数组b:\n",
            "[[2 3]\n",
            " [4 5]]\n",
            "加法运算:\n",
            "[[22 33]\n",
            " [44 55]]\n",
            "减法运算:\n",
            "[[18 27]\n",
            " [36 45]]\n",
            "乘法运算:\n",
            "[[ 40  90]\n",
            " [160 250]]\n",
            "除法运算:\n",
            "[[10. 10.]\n",
            " [10. 10.]]\n",
            "平方运算:\n",
            "[[ 4  9]\n",
            " [16 25]]\n"
          ]
        }
      ],
      "source": [
        "a = np.array([(20,30),(40,50)])\n",
        "b = np.arange(2,6).reshape(2,2)\n",
        "\n",
        "print(f\"数组a:\\n{a}\")\n",
        "print(f\"数组b:\\n{b}\")\n",
        "\n",
        "print(f\"加法运算:\\n{np.add(a, b)}\")\n",
        "# 等价于a + b\n",
        "\n",
        "print(f\"减法运算:\\n{np.subtract(a, b)}\")\n",
        "# 等价于a - b\n",
        "\n",
        "print(f\"乘法运算:\\n{np.multiply(a, b)}\")\n",
        "# 等价于a * b\n",
        "\n",
        "print(f\"除法运算:\\n{np.divide(a, b)}\")\n",
        "# 等价于a / b\n",
        "\n",
        "print(f\"平方运算:\\n{np.square(b)}\")\n",
        "# 等价于b**2"
      ]
    },
    {
      "attachments": {},
      "cell_type": "markdown",
      "id": "162b2ea7",
      "metadata": {},
      "source": [
        "矩阵（二维数组）乘积运算用`@`或`.dot()`：\n",
        "\n",
        "::: {.callout-note}\n",
        "\n",
        "计算矩阵A和B的乘积时，新矩阵第i行第j列的元素为矩阵A第i行元素和矩阵B第j列元素的乘积和，所以需要A矩阵的列数和矩阵B的行数相同。\n",
        "\n",
        ":::"
      ]
    },
    {
      "cell_type": "code",
      "execution_count": 11,
      "id": "9be73f76",
      "metadata": {},
      "outputs": [
        {
          "name": "stdout",
          "output_type": "stream",
          "text": [
            "数组A:\n",
            "[[1 2]\n",
            " [3 4]]\n",
            "数组B:\n",
            "[[3 2 1]\n",
            " [1 1 1]]\n",
            "矩阵的乘积:\n",
            "[[ 5  4  3]\n",
            " [13 10  7]]\n"
          ]
        }
      ],
      "source": [
        "A = np.array([(1, 2),(3, 4)])\n",
        "B = np.array([(3, 2, 1),(1, 1, 1)])\n",
        "\n",
        "print(f\"数组A:\\n{A}\")\n",
        "print(f\"数组B:\\n{B}\")\n",
        "\n",
        "print(f\"矩阵的乘积:\\n{A@B}\")\n",
        "# 等价于A.dot(B)"
      ]
    },
    {
      "attachments": {},
      "cell_type": "markdown",
      "id": "03a6bc5c",
      "metadata": {},
      "source": [
        "聚合函数的运算（可以指定轴）："
      ]
    },
    {
      "cell_type": "code",
      "execution_count": 12,
      "id": "949587d8",
      "metadata": {},
      "outputs": [
        {
          "name": "stdout",
          "output_type": "stream",
          "text": [
            "对数组进行聚合函数的运算:\n",
            "[[1 2]\n",
            " [3 4]]\n",
            "数组元素求和: 10\n",
            "数组元素每列求和: [4 6]\n",
            "数组元素最小值: 1\n",
            "数组元素每列最小值: [1 2]\n"
          ]
        }
      ],
      "source": [
        "arr = np.array([(1, 2), (3, 4)])\n",
        "print(f\"对数组进行聚合函数的运算:\\n{arr}\")\n",
        "\n",
        "print(\"数组元素求和:\", arr.sum())\n",
        "\n",
        "print(\"数组元素每列求和:\", arr.sum(axis=0))  # 行求和:axis = 1\n",
        "\n",
        "print(\"数组元素最小值:\", arr.min())\n",
        "\n",
        "print(\"数组元素每列最小值:\", arr.min(axis=0)) "
      ]
    },
    {
      "attachments": {},
      "cell_type": "markdown",
      "id": "f2830895",
      "metadata": {},
      "source": [
        "## 数组的排序、反转和去重\n",
        "\n",
        "对元素进行排序/反转，以一维、二维数组为例：\n"
      ]
    },
    {
      "cell_type": "code",
      "execution_count": 13,
      "id": "314ffce1",
      "metadata": {},
      "outputs": [
        {
          "name": "stdout",
          "output_type": "stream",
          "text": [
            "一维数组:[7 2 5 3 6 4 9 1 8]\n",
            "排序:[1 2 3 4 5 6 7 8 9]\n",
            "反转:[8 1 9 4 6 3 5 2 7]\n",
            "利用切片方式反转,步长为-1:[8 1 9 4 6 3 5 2 7]\n"
          ]
        }
      ],
      "source": [
        "x = np.array([7, 2, 5, 3, 6, 4, 9, 1, 8])\n",
        "print(f\"一维数组:{x}\")\n",
        "\n",
        "print(f\"排序:{np.sort(x)}\")\n",
        "\n",
        "\n",
        "print(f\"反转:{np.flip(x)}\")\n",
        "\n",
        "\n",
        "print(f\"利用切片方式反转,步长为-1:{x[::-1]}\")\n"
      ]
    },
    {
      "cell_type": "code",
      "execution_count": 14,
      "id": "caeafd6e",
      "metadata": {},
      "outputs": [
        {
          "name": "stdout",
          "output_type": "stream",
          "text": [
            "二维数组:\n",
            "[[7 2 5]\n",
            " [3 6 4]\n",
            " [9 1 8]]\n",
            "排序:\n",
            "[[2 5 7]\n",
            " [3 4 6]\n",
            " [1 8 9]]\n",
            "反转:\n",
            "[[8 1 9]\n",
            " [4 6 3]\n",
            " [5 2 7]]\n",
            "仅反转子数组顺序:\n",
            "[[9 1 8]\n",
            " [3 6 4]\n",
            " [7 2 5]]\n",
            "仅反转第二列:\n",
            "[[7 1 5]\n",
            " [3 6 4]\n",
            " [9 2 8]]\n"
          ]
        }
      ],
      "source": [
        "y = np.array([[7, 2, 5], [3, 6, 4], [9, 1, 8]])\n",
        "print(f\"二维数组:\\n{y}\")\n",
        "\n",
        "print(f\"排序:\\n{np.sort(y)}\")\n",
        "\n",
        "print(f\"反转:\\n{np.flip(y)}\")\n",
        "\n",
        "print(f\"仅反转子数组顺序:\\n{np.flip(y, axis=0)}\")\n",
        "\n",
        "y[:,1] = np.flip(y[:,1])\n",
        "print(f\"仅反转第二列:\\n{y}\")"
      ]
    },
    {
      "attachments": {},
      "cell_type": "markdown",
      "id": "78fc3972",
      "metadata": {},
      "source": [
        "去重复值："
      ]
    },
    {
      "cell_type": "code",
      "execution_count": 15,
      "id": "11350334",
      "metadata": {},
      "outputs": [
        {
          "name": "stdout",
          "output_type": "stream",
          "text": [
            "原数组:[ 1  2  2  5  7  7  8  9  9 12 14]\n",
            "去重后:[ 1  2  5  7  8  9 12 14]\n",
            "去重数组的索引:[ 0  1  3  4  6  7  9 10]\n"
          ]
        }
      ],
      "source": [
        "arr = np.array([1, 2, 2, 5, 7, 7, 8, 9, 9, 12, 14])\n",
        "print(f\"原数组:{arr}\")\n",
        "\n",
        "print(f\"去重后:{np.unique(arr)}\")\n",
        "\n",
        "unique_arr, indices_list = np.unique(arr, return_index=True)\n",
        "print(f\"去重数组的索引:{indices_list}\")"
      ]
    },
    {
      "attachments": {},
      "cell_type": "markdown",
      "id": "1ca853cb",
      "metadata": {},
      "source": [
        "## 数组的展平、拼接、堆叠、拆分"
      ]
    },
    {
      "attachments": {},
      "cell_type": "markdown",
      "id": "270dc83b",
      "metadata": {},
      "source": [
        "展平数组可用`flatten()`或`ravel()`。\n",
        "\n",
        "::: {.callout-note}\n",
        "使用`flatten`时，对展平数组的更改不会影响原数组，使用`ravel`时，数组的更改会影响原数组。\n",
        "\n",
        ":::"
      ]
    },
    {
      "cell_type": "code",
      "execution_count": 16,
      "id": "049ee363",
      "metadata": {},
      "outputs": [
        {
          "name": "stdout",
          "output_type": "stream",
          "text": [
            "展平前:\n",
            "[[0 1 2]\n",
            " [3 4 5]]\n",
            "使用flatten展平后:\n",
            "[0 1 2 3 4 5]\n",
            "修改元素:\n",
            "[99  1  2  3  4  5]\n",
            "原数组不变:\n",
            "[[0 1 2]\n",
            " [3 4 5]]\n"
          ]
        }
      ],
      "source": [
        "arr = np.arange(6).reshape(2, 3)\n",
        "print(f\"展平前:\\n{arr}\")\n",
        "\n",
        "arr_one = arr.flatten()\n",
        "print(f\"使用flatten展平后:\\n{arr_one}\")\n",
        "\n",
        "arr_one[0] = 99\n",
        "print(f\"修改元素:\\n{arr_one}\")\n",
        "\n",
        "print(f\"原数组不变:\\n{arr}\")"
      ]
    },
    {
      "cell_type": "code",
      "execution_count": 17,
      "id": "13822063",
      "metadata": {},
      "outputs": [
        {
          "name": "stdout",
          "output_type": "stream",
          "text": [
            "使用ravel展平后:\n",
            "[0 1 2 3 4 5]\n",
            "修改元素:\n",
            "[99  1  2  3  4  5]\n",
            "原数组改变:\n",
            "[[99  1  2]\n",
            " [ 3  4  5]]\n"
          ]
        }
      ],
      "source": [
        "arr_two = arr.ravel()\n",
        "print(f\"使用ravel展平后:\\n{arr_two}\")\n",
        "\n",
        "arr_two[0] = 99\n",
        "print(f\"修改元素:\\n{arr_two}\")\n",
        "\n",
        "print(f\"原数组改变:\\n{arr}\")"
      ]
    },
    {
      "attachments": {},
      "cell_type": "markdown",
      "id": "9fbb09f1",
      "metadata": {},
      "source": [
        "拼接和堆叠数组：\n",
        "\n",
        "::: {.callout-note}\n",
        "垂直堆叠和拼接需要列数相同，水平堆叠需要行数相同。\n",
        "\n",
        ":::"
      ]
    },
    {
      "cell_type": "code",
      "execution_count": 18,
      "id": "70590e7d",
      "metadata": {},
      "outputs": [
        {
          "name": "stdout",
          "output_type": "stream",
          "text": [
            "数组a:\n",
            "[[1 2]\n",
            " [3 4]]\n",
            "数组b:\n",
            "[[1 1]\n",
            " [1 1]\n",
            " [1 1]]\n",
            "数组c:\n",
            "[[0 0]]\n",
            "拼接三个数组:\n",
            "[[1 2]\n",
            " [3 4]\n",
            " [1 1]\n",
            " [1 1]\n",
            " [1 1]\n",
            " [0 0]]\n",
            "等价于垂直堆叠三个数组:\n",
            "[[1 2]\n",
            " [3 4]\n",
            " [1 1]\n",
            " [1 1]\n",
            " [1 1]\n",
            " [0 0]]\n",
            "水平堆叠数组a和数组a:\n",
            "[[1 2 1 2]\n",
            " [3 4 3 4]]\n"
          ]
        }
      ],
      "source": [
        "a = np.array([(1, 2),(3, 4)])\n",
        "b = np.ones((3, 2), dtype=np.int_)\n",
        "c = np.zeros((1, 2), dtype=np.int_)\n",
        "\n",
        "print(f\"数组a:\\n{a}\")\n",
        "print(f\"数组b:\\n{b}\")\n",
        "print(f\"数组c:\\n{c}\")\n",
        "\n",
        "print(f\"拼接三个数组:\\n{np.concatenate((a, b, c))}\")\n",
        "\n",
        "print(f\"等价于垂直堆叠三个数组:\\n{np.vstack((a, b, c))}\")\n",
        "\n",
        "print(f\"水平堆叠数组a和数组a:\\n{np.hstack((a, a))}\")"
      ]
    },
    {
      "attachments": {},
      "cell_type": "markdown",
      "id": "7e5faeb0",
      "metadata": {},
      "source": [
        "拆分数组："
      ]
    },
    {
      "cell_type": "code",
      "execution_count": 19,
      "id": "bc790795",
      "metadata": {},
      "outputs": [
        {
          "name": "stdout",
          "output_type": "stream",
          "text": [
            "以此数组为例:\n",
            "[[ 1  2  3  4  5  6  7  8  9 10]\n",
            " [11 12 13 14 15 16 17 18 19 20]]\n",
            "拆分为2个形状相同的数组(相当于从第5列开始拆分):\n",
            "[array([[ 1,  2,  3,  4,  5],\n",
            "       [11, 12, 13, 14, 15]]), array([[ 6,  7,  8,  9, 10],\n",
            "       [16, 17, 18, 19, 20]])]\n",
            "从第3列,第7列之后开始拆分:\n",
            "[array([[ 1,  2,  3],\n",
            "       [11, 12, 13]]), array([[ 4,  5,  6,  7],\n",
            "       [14, 15, 16, 17]]), array([[ 8,  9, 10],\n",
            "       [18, 19, 20]])]\n"
          ]
        }
      ],
      "source": [
        "arr = np.arange(1, 21).reshape(2, 10)\n",
        "print(f\"以此数组为例:\\n{arr}\")\n",
        "\n",
        "print(f\"拆分为2个形状相同的数组(相当于从第5列开始拆分):\\n{np.hsplit(arr, 2)}\")\n",
        "\n",
        "print(f\"从第3列,第7列之后开始拆分:\\n{np.hsplit(arr, (3, 7))}\")"
      ]
    }
  ],
  "metadata": {
    "kernelspec": {
      "display_name": "Python 3",
      "language": "python",
      "name": "python3"
    },
    "language_info": {
      "codemirror_mode": {
        "name": "ipython",
        "version": 3
      },
      "file_extension": ".py",
      "mimetype": "text/x-python",
      "name": "python",
      "nbconvert_exporter": "python",
      "pygments_lexer": "ipython3",
      "version": "3.10.9"
    }
  },
  "nbformat": 4,
  "nbformat_minor": 5
}
