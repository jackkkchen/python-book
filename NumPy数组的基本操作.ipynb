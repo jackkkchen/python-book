{
 "cells": [
  {
   "cell_type": "raw",
   "id": "eebf00a5",
   "metadata": {},
   "source": [
    "---\n",
    "title: NumPy数组的基本操作和变换\n",
    "format:\n",
    "  html:\n",
    "    code-fold: false\n",
    "    code-tools: true\n",
    "---"
   ]
  },
  {
   "cell_type": "markdown",
   "id": "0fac1b3a-b132-49f1-8e6d-e4442499c18b",
   "metadata": {
    "tags": []
   },
   "source": [
    "## 数组的基本运算\n",
    "\n",
    "数组上的算术运算符按元素应用。\n"
   ]
  },
  {
   "cell_type": "code",
   "execution_count": 1,
   "id": "3bc5bbff",
   "metadata": {},
   "outputs": [
    {
     "name": "stdout",
     "output_type": "stream",
     "text": [
      "数组a:\n",
      "[[20 30]\n",
      " [40 50]]\n",
      "数组b:\n",
      "[[2 3]\n",
      " [4 5]]\n",
      "加法运算:\n",
      "[[22 33]\n",
      " [44 55]]\n",
      "减法运算:\n",
      "[[18 27]\n",
      " [36 45]]\n",
      "乘法运算:\n",
      "[[ 40  90]\n",
      " [160 250]]\n",
      "除法运算:\n",
      "[[10. 10.]\n",
      " [10. 10.]]\n",
      "平方运算:\n",
      "[[ 4  9]\n",
      " [16 25]]\n"
     ]
    }
   ],
   "source": [
    "import numpy as np\n",
    "a = np.array([(20, 30),(40, 50)])\n",
    "b = np.arange(2, 6).reshape(2, 2)\n",
    "\n",
    "print(f\"数组a:\\n{a}\")\n",
    "print(f\"数组b:\\n{b}\")\n",
    "\n",
    "print(f\"加法运算:\\n{np.add(a, b)}\")   # 等价于a + b\n",
    "\n",
    "print(f\"减法运算:\\n{np.subtract(a, b)}\")   # 等价于a - b\n",
    "\n",
    "print(f\"乘法运算:\\n{np.multiply(a, b)}\")   # 等价于a * b\n",
    "\n",
    "print(f\"除法运算:\\n{np.divide(a, b)}\")   # 等价于a / b\n",
    "\n",
    "print(f\"平方运算:\\n{np.square(b)}\")   # 等价于b ** 2\n"
   ]
  },
  {
   "cell_type": "markdown",
   "id": "162b2ea7",
   "metadata": {},
   "source": [
    "矩阵（二维数组）乘积运算用`@`或`.dot()`：\n",
    "\n",
    "::: {.callout-note}\n",
    "\n",
    "计算矩阵A和B的乘积时，新矩阵第i行第j列的元素为矩阵A第i行元素和矩阵B第j列元素的乘积之和。\n",
    "\n",
    ":::\n",
    "\n",
    "下列示例中，矩阵A的第一行乘以矩阵B的第一列的元素并加和：1 x 3 + 2 x 1 = 5，得到新矩阵第1行第1列的元素。"
   ]
  },
  {
   "cell_type": "code",
   "execution_count": 2,
   "id": "9be73f76",
   "metadata": {},
   "outputs": [
    {
     "name": "stdout",
     "output_type": "stream",
     "text": [
      "数组A:\n",
      "[[1 2]\n",
      " [3 4]]\n",
      "数组B:\n",
      "[[3 2 1]\n",
      " [1 1 1]]\n",
      "矩阵的乘积:\n",
      "[[ 5  4  3]\n",
      " [13 10  7]]\n"
     ]
    }
   ],
   "source": [
    "A = np.array([(1, 2),(3, 4)])\n",
    "B = np.array([(3, 2, 1),(1, 1, 1)])\n",
    "\n",
    "print(f\"数组A:\\n{A}\")\n",
    "print(f\"数组B:\\n{B}\")\n",
    "\n",
    "print(f\"矩阵的乘积:\\n{A@B}\")\n",
    "# 等价于A.dot(B)"
   ]
  },
  {
   "cell_type": "markdown",
   "id": "03a6bc5c",
   "metadata": {},
   "source": [
    "## 聚合函数的运算"
   ]
  },
  {
   "cell_type": "code",
   "execution_count": 3,
   "id": "949587d8",
   "metadata": {},
   "outputs": [
    {
     "name": "stdout",
     "output_type": "stream",
     "text": [
      "对数组进行聚合函数的运算:\n",
      "[[1 2]\n",
      " [3 4]]\n",
      "数组元素求和: 10\n",
      "对每列求和: [4 6]\n",
      "数组元素最小值: 1\n",
      "每列最小值: [1 2]\n"
     ]
    }
   ],
   "source": [
    "arr = np.array([(1, 2), (3, 4)])\n",
    "print(f\"对数组进行聚合函数的运算:\\n{arr}\")\n",
    "\n",
    "print(\"数组元素求和:\", arr.sum())\n",
    "\n",
    "print(\"对每列求和:\", arr.sum(axis=0))  # 行求和: axis = 1\n",
    "\n",
    "print(\"数组元素最小值:\", arr.min())\n",
    "\n",
    "print(\"每列最小值:\", arr.min(axis=0)) "
   ]
  },
  {
   "cell_type": "markdown",
   "id": "bb0addc6",
   "metadata": {},
   "source": [
    "## 数组的索引和切片\n",
    "\n",
    "数组包含的元素，每一个都有唯一的索引能够找到它，我们可以通过引用索引获取单个元素，如`arr[n]`，也能通过切片获取部分元素。\n",
    "\n",
    "一维数组切片的语法是 `arr[start:stop:step]`，其中 start 是切片开始的位置索引（包含在切片中），默认为0，stop 是切片结束的位置索引（不包含在切片中），step 是切片步长，默认为1。\n",
    "\n",
    "1. 索引默认从0开始，步长为1，第一个元素索引为0，第二个元素索引为1，依此类推。\n",
    "\n",
    "2. 且满足前闭后开规则，默认含首不含尾，结束索引指代的元素取不到。\n",
    "\n",
    "3. -n表示结束索引时，表示反方向（从后往前）第n个数；表示步长时指反方向取数且步长为n。\n",
    "\n",
    "4. 修改切片元素时原数组的元素也会相应改变。\n",
    "\n",
    "### 一维数组"
   ]
  },
  {
   "cell_type": "code",
   "execution_count": 4,
   "id": "a846d6a1",
   "metadata": {},
   "outputs": [
    {
     "name": "stdout",
     "output_type": "stream",
     "text": [
      "以此数组为例: [0 1 2 3 4 5 6 7 8 9]\n",
      "索引从0到4的切片: [0 1 2 3 4]\n",
      "索引从4到6的切片: [4 5 6]\n",
      "索引从0到9且步长为3的切片 [0 3 6 9]\n",
      "索引从0到反向第5个数(不包含)的切片: [0 1 2 3 4]\n",
      "修改切片元素后原数组随之改变: [99  1  2  3  4  5  6  7  8  9]\n"
     ]
    }
   ],
   "source": [
    "arr = np.arange(10)\n",
    "print('以此数组为例:', arr)\n",
    "\n",
    "slice_one = arr[:5]    # 等价于arr[0:5:1]\n",
    "print('索引从0到4的切片:', slice_one)\n",
    "\n",
    "slice_two = arr[4:7]\n",
    "print('索引从4到6的切片:', slice_two)\n",
    "\n",
    "slice_three = arr[0:10:3]     # 范围取全部,起始/结束索引可省略,等价于arr[::3] \n",
    "print('索引从0到9且步长为3的切片', slice_three)\n",
    "\n",
    "slice_four = arr[:-5]\n",
    "print('索引从0到反向第5个数(不包含)的切片:', slice_four)\n",
    "\n",
    "slice_four[0] = 99\n",
    "print('修改切片元素后原数组随之改变:', arr)"
   ]
  },
  {
   "cell_type": "markdown",
   "id": "9e1337b9-acdb-462a-b1e9-94ec0d643844",
   "metadata": {},
   "source": [
    "### 二维数组\n",
    "\n",
    "二维数组的切片语法是 `arr[start:stop:step, start:stop:step]`。逗号前是第一维度，逗号后是第二维度，同时对两个维度的位置索引进行定位，也就是同时定位行和列才能找到单个元素。\n",
    "\n",
    "这些值可以省略，但start和stop之间的:不能省略, 可以省略后面的冒号，不能省略前面的冒号。例如`arr[:]`表示取所有行和所有列，省略了第二个冒号，等价于`arr[:, :]`，可以理解为，当我们筛选行时，可以省略列的筛选，但是筛选列的时候，不能省略行的筛选，即使没有进行筛选也要用一个冒号表示取全部行。举个例子，当我们想要找到电影院的座位时，必须先找到座位在哪一排，座位号才有意义。"
   ]
  },
  {
   "cell_type": "code",
   "execution_count": 5,
   "id": "f0d4acf1",
   "metadata": {},
   "outputs": [
    {
     "name": "stdout",
     "output_type": "stream",
     "text": [
      "二维数组:\n",
      "[[1 2 3]\n",
      " [4 5 6]\n",
      " [7 8 9]]\n",
      "第2行第2列的元素5: 5\n",
      "第1,3行的元素: [[1 2 3]\n",
      " [7 8 9]]\n",
      "第2行第1,3列的元素: [4 6]\n"
     ]
    }
   ],
   "source": [
    "arr = np.arange(1, 10).reshape(3, 3)\n",
    "print(f\"二维数组:\\n{arr}\")\n",
    "\n",
    "print(f\"第2行第2列的元素5: {arr[1, 1]}\")\n",
    "\n",
    "print(f\"第1,3行的元素: {arr[::2, :]}\")\n",
    "\n",
    "print(f\"第2行第1,3列的元素: {arr[1, ::2]}\")"
   ]
  },
  {
   "cell_type": "markdown",
   "id": "09c05ac9-90ea-465f-851f-e2c9341e90b5",
   "metadata": {},
   "source": [
    "## 条件过滤"
   ]
  },
  {
   "cell_type": "markdown",
   "id": "dc97e817",
   "metadata": {},
   "source": [
    "除了用索引获取元素，还可以用逻辑条件来筛选满足条件的元素，提取数组部分元素用中括号，当用多个条件进行筛选过滤时，单个条件用圆括号括起来，条件之间用符号&连接。筛选后的数组会被展平为一维数组："
   ]
  },
  {
   "cell_type": "markdown",
   "id": "376d83a8-43a0-41df-9d89-eaba62ebb6fc",
   "metadata": {},
   "source": [
    "::: {.callout-note}\n",
    "\n",
    "条件过滤筛选数据时，条件之间要用符号`&`而不是`and`连接。\n",
    "\n",
    ":::"
   ]
  },
  {
   "cell_type": "code",
   "execution_count": 6,
   "id": "e82fb67a",
   "metadata": {},
   "outputs": [
    {
     "name": "stdout",
     "output_type": "stream",
     "text": [
      "以此数组为例:\n",
      "[[ 0  1  2  3]\n",
      " [ 4  5  6  7]\n",
      " [ 8  9 10 11]]\n",
      "大于6的元素:[ 7  8  9 10 11]\n",
      "大于6且小于10的元素:[7 8 9]\n"
     ]
    }
   ],
   "source": [
    "arr = np.arange(12).reshape((3, 4))\n",
    "print(f\"以此数组为例:\\n{arr}\")\n",
    "\n",
    "print(f\"大于6的元素:{arr[arr > 6]}\")\n",
    "\n",
    "print(f\"大于6且小于10的元素:{arr[(arr > 6) & (arr < 10)]}\")"
   ]
  },
  {
   "cell_type": "markdown",
   "id": "3b1d0b2e",
   "metadata": {},
   "source": [
    "### 缺失值筛选\n",
    "\n",
    "在日常的数据中，很多时候会有一些缺失的情况存在。在NumPy中，也可以运用`np.isnan()`对元素进行条件筛选，剔除缺失的数据，一般这样的工作会在平时的数据清洗的过程中实现。\n"
   ]
  },
  {
   "cell_type": "code",
   "execution_count": 7,
   "id": "4f31e519",
   "metadata": {},
   "outputs": [
    {
     "name": "stdout",
     "output_type": "stream",
     "text": [
      "以此数组为例:\n",
      "[ 1.  2. nan  4.  5.]\n"
     ]
    },
    {
     "data": {
      "text/plain": [
       "array([False, False,  True, False, False])"
      ]
     },
     "execution_count": 7,
     "metadata": {},
     "output_type": "execute_result"
    }
   ],
   "source": [
    "arr = np.array([1, 2, np.nan, 4, 5])\n",
    "print(f\"以此数组为例:\\n{arr}\")\n",
    "# 识别缺失值，看是否出现True\n",
    "np.isnan(arr)\n"
   ]
  },
  {
   "cell_type": "markdown",
   "id": "04fee8cb",
   "metadata": {},
   "source": [
    "`np.isnan(arr)`会得到一个布尔数组，其中缺失值位置是True，所以`arr[np.isnan(arr)]`筛选出来的就是数组中的所有缺失值，要筛选出所有的非缺失值，可以在条件前加一个符号`~`，这里的`~`表示对布尔数组按位取反，这样原来的True和False会相互交换，按位取反后True位置上是非缺失值，所以这样筛选出来的才是非缺失值。"
   ]
  },
  {
   "cell_type": "code",
   "execution_count": 8,
   "id": "7e53e3e6",
   "metadata": {},
   "outputs": [
    {
     "data": {
      "text/plain": [
       "array([1., 2., 4., 5.])"
      ]
     },
     "execution_count": 8,
     "metadata": {},
     "output_type": "execute_result"
    }
   ],
   "source": [
    "arr[~np.isnan(arr)]"
   ]
  },
  {
   "cell_type": "markdown",
   "id": "d2e2eb89",
   "metadata": {},
   "source": [
    "返回满足条件的元素索引："
   ]
  },
  {
   "cell_type": "code",
   "execution_count": 9,
   "id": "92ee52ca",
   "metadata": {},
   "outputs": [
    {
     "name": "stdout",
     "output_type": "stream",
     "text": [
      "以此二维数组为例:\n",
      "[[0 1 0]\n",
      " [0 0 0]\n",
      " [1 0 2]]\n",
      "所有非零元素的索引(分维度):\n",
      "(array([0, 2, 2], dtype=int64), array([1, 0, 2], dtype=int64))\n",
      "元素小于均值的索引:\n",
      "(array([0, 0, 1, 1, 1, 2], dtype=int64), array([0, 2, 0, 1, 2, 1], dtype=int64))\n"
     ]
    }
   ],
   "source": [
    "arr = np.random.randint(4, size=(3, 3))\n",
    "print(f\"以此二维数组为例:\\n{arr}\")\n",
    "\n",
    "print(f\"所有非零元素的索引(分维度):\\n{np.nonzero(arr)}\")\n",
    "\n",
    "print(f\"元素小于均值的索引:\\n{np.nonzero(arr < np.mean(arr))}\")\n"
   ]
  },
  {
   "cell_type": "markdown",
   "id": "4f4faab8",
   "metadata": {},
   "source": [
    "以坐标形式(打包成元组)返回元素索引："
   ]
  },
  {
   "cell_type": "code",
   "execution_count": 10,
   "id": "30a45791",
   "metadata": {},
   "outputs": [
    {
     "name": "stdout",
     "output_type": "stream",
     "text": [
      "[(0, 0), (0, 1), (0, 2), (1, 0), (1, 1), (1, 2), (2, 0), (2, 1), (2, 2)]\n"
     ]
    }
   ],
   "source": [
    "ind = np.nonzero(arr < 6)\n",
    "# ind[0]为第一维度索引数组，ind[1]为第二维度索引数组\n",
    "list_of_coordinates = list(zip(ind[0], ind[1]))\n",
    "print(list_of_coordinates)"
   ]
  },
  {
   "cell_type": "markdown",
   "id": "c0b73b48",
   "metadata": {},
   "source": [
    "::: {.callout-note}\n",
    "\n",
    "遇到不认识的函数或模块时，例如上述示例代码的`zip()`可以使用`help(zip())`查询函数或模块的详细参数信息以及示例代码。不习惯看英文解释可以复制以后进行中文翻译。\n",
    "\n",
    "如果想要了解某个特定模块的方法，例如numpy的array方法，可以使用`numpy.info(numpy.array)`，也可以使用缩写`np.info(np.array)`。\n",
    "\n",
    "此外，在学习过程中，除了会遇到一些不了解的代码，我们在执行代码时，也总会遇到各种各样的英文报错信息。大多数的报错在网络上都已经有大量的经验和讨论信息，学会去理解报错信息，借助网络找到解决办法也是学习编程的一项重要能力。我们可以通过翻译报错信息去思考报错的根源，也可以通过复制粘贴直接上网搜索，看看已有的一些解决问题的思路，在不断的尝试中累积经验和对代码的理解。\n",
    "\n",
    "学习编程是一个长期的过程，希望大家在学习的过程中能保持思考和独立解决问题的积极性。\n",
    "\n",
    ":::"
   ]
  },
  {
   "cell_type": "markdown",
   "id": "67ac6393-18af-463f-82a9-c482e5576145",
   "metadata": {},
   "source": [
    "对数组的操作，不仅体现在计算和筛选，还可以对元素重新排序、去重复值、以及数组的拼接、堆叠、展平等各种操作，并且这些操作对于表格数据，在Pandas库中也有类似的方法能实现。"
   ]
  },
  {
   "cell_type": "markdown",
   "id": "f2830895",
   "metadata": {},
   "source": [
    "## 数组的排序、反转和去重\n",
    "\n",
    "### 排序和反转\n",
    "\n",
    "对元素进行排序一般默认为按升序排列。"
   ]
  },
  {
   "cell_type": "code",
   "execution_count": 11,
   "id": "314ffce1",
   "metadata": {},
   "outputs": [
    {
     "name": "stdout",
     "output_type": "stream",
     "text": [
      "一维数组:[7 2 5 3 6 4 9 1 8]\n",
      "排序:[1 2 3 4 5 6 7 8 9]\n",
      "反转:[8 1 9 4 6 3 5 2 7]\n",
      "利用切片方式反转,步长为-1:[8 1 9 4 6 3 5 2 7]\n"
     ]
    }
   ],
   "source": [
    "x = np.array([7, 2, 5, 3, 6, 4, 9, 1, 8])\n",
    "print(f\"一维数组:{x}\")\n",
    "\n",
    "print(f\"排序:{np.sort(x)}\")\n",
    "\n",
    "print(f\"反转:{np.flip(x)}\")\n",
    "\n",
    "print(f\"利用切片方式反转,步长为-1:{x[::-1]}\")"
   ]
  },
  {
   "cell_type": "markdown",
   "id": "62b98c6d-4846-4164-95cb-d737b587972b",
   "metadata": {},
   "source": [
    "二维数组的排序在默认情况下，每一行按升序排列。当`axis=0`时，每一列按升序排序。"
   ]
  },
  {
   "cell_type": "code",
   "execution_count": 12,
   "id": "caeafd6e",
   "metadata": {},
   "outputs": [
    {
     "name": "stdout",
     "output_type": "stream",
     "text": [
      "二维数组:\n",
      "[[6 5 4]\n",
      " [3 2 1]\n",
      " [9 8 7]]\n",
      "排序:\n",
      "[[3 2 1]\n",
      " [6 5 4]\n",
      " [9 8 7]]\n",
      "反转:\n",
      "[[7 8 9]\n",
      " [1 2 3]\n",
      " [4 5 6]]\n",
      "仅反转子数组顺序:\n",
      "[[9 8 7]\n",
      " [3 2 1]\n",
      " [6 5 4]]\n",
      "切片反转数组顺序:\n",
      "[[7 8 9]\n",
      " [1 2 3]\n",
      " [4 5 6]]\n",
      "仅反转第二列:\n",
      "[[6 8 4]\n",
      " [3 2 1]\n",
      " [9 5 7]]\n"
     ]
    }
   ],
   "source": [
    "y = np.array([[6, 5, 4], [3, 2, 1], [9, 8, 7]])\n",
    "print(f\"二维数组:\\n{y}\")\n",
    "\n",
    "print(f\"排序:\\n{np.sort(y, axis=0)}\")\n",
    "\n",
    "print(f\"反转:\\n{np.flip(y)}\")\n",
    "\n",
    "print(f\"仅反转子数组顺序:\\n{np.flip(y, axis=0)}\")\n",
    "\n",
    "print(f\"切片反转数组顺序:\\n{y[::-1,::-1]}\")\n",
    "\n",
    "# 以上反转不改变原数组，下面的赋值才会使原数组改变\n",
    "y[:,1] = np.flip(y[:,1])\n",
    "print(f\"仅反转第二列:\\n{y}\")"
   ]
  },
  {
   "cell_type": "markdown",
   "id": "78fc3972",
   "metadata": {},
   "source": [
    "### 去重复值\n",
    "\n",
    "设置`return_index=True`时，会同时返回去重后的数组和数组索引，可以分别赋值给两个变量同时得到数组和索引。"
   ]
  },
  {
   "cell_type": "code",
   "execution_count": 13,
   "id": "11350334",
   "metadata": {},
   "outputs": [
    {
     "name": "stdout",
     "output_type": "stream",
     "text": [
      "原数组:[ 1  2  2  5  7  7  8  9  9 12 14]\n",
      "去重后的数组:[ 1  2  5  7  8  9 12 14]\n",
      "去重数组的索引:[ 0  1  3  4  6  7  9 10]\n"
     ]
    }
   ],
   "source": [
    "arr = np.array([1, 2, 2, 5, 7, 7, 8, 9, 9, 12, 14])\n",
    "print(f\"原数组:{arr}\")\n",
    "\n",
    "print(f\"去重后的数组:{np.unique(arr)}\")\n",
    "\n",
    "unique_arr, indices_list = np.unique(arr, return_index=True)\n",
    "print(f\"去重数组的索引:{indices_list}\")"
   ]
  },
  {
   "cell_type": "markdown",
   "id": "1ca853cb",
   "metadata": {},
   "source": [
    "## 数组的展平、合并、堆叠、拆分"
   ]
  },
  {
   "cell_type": "markdown",
   "id": "270dc83b",
   "metadata": {},
   "source": [
    "### 展平数组\n",
    "\n",
    "展平数组可用`flatten()`或`ravel()`。\n",
    "\n",
    "::: {.callout-note}\n",
    "\n",
    "使用`flatten`时，对展平数组的更改不会影响原数组，使用`ravel`时，数组的更改会影响原数组。\n",
    "\n",
    ":::"
   ]
  },
  {
   "cell_type": "code",
   "execution_count": 14,
   "id": "049ee363",
   "metadata": {},
   "outputs": [
    {
     "name": "stdout",
     "output_type": "stream",
     "text": [
      "展平前:\n",
      "[[0 1 2]\n",
      " [3 4 5]]\n",
      "使用flatten展平后:\n",
      "[0 1 2 3 4 5]\n",
      "修改元素:\n",
      "[99  1  2  3  4  5]\n",
      "原数组不变:\n",
      "[[0 1 2]\n",
      " [3 4 5]]\n"
     ]
    }
   ],
   "source": [
    "arr = np.arange(6).reshape(2, 3)\n",
    "print(f\"展平前:\\n{arr}\")\n",
    "\n",
    "arr_one = arr.flatten()\n",
    "print(f\"使用flatten展平后:\\n{arr_one}\")\n",
    "\n",
    "arr_one[0] = 99\n",
    "print(f\"修改元素:\\n{arr_one}\")\n",
    "\n",
    "print(f\"原数组不变:\\n{arr}\")"
   ]
  },
  {
   "cell_type": "code",
   "execution_count": 15,
   "id": "13822063",
   "metadata": {},
   "outputs": [
    {
     "name": "stdout",
     "output_type": "stream",
     "text": [
      "使用ravel展平后:\n",
      "[0 1 2 3 4 5]\n",
      "修改元素:\n",
      "[99  1  2  3  4  5]\n",
      "原数组改变:\n",
      "[[99  1  2]\n",
      " [ 3  4  5]]\n"
     ]
    }
   ],
   "source": [
    "arr_two = arr.ravel()\n",
    "print(f\"使用ravel展平后:\\n{arr_two}\")\n",
    "\n",
    "arr_two[0] = 99\n",
    "print(f\"修改元素:\\n{arr_two}\")\n",
    "\n",
    "print(f\"原数组改变:\\n{arr}\")"
   ]
  },
  {
   "cell_type": "markdown",
   "id": "9fbb09f1",
   "metadata": {},
   "source": [
    "### 拼接和堆叠数组\n",
    "\n",
    "::: {.callout-note}\n",
    "\n",
    "二维数组的垂直堆叠需要列数相同，水平堆叠需要行数相同。\n",
    "\n",
    "用`np.concatenate()`合并数组时，默认`axis=0`，即沿着行方向进行合并，设置`axis=1`，即沿着列方向进行合并。\n",
    "\n",
    ":::"
   ]
  },
  {
   "cell_type": "code",
   "execution_count": 16,
   "id": "70590e7d",
   "metadata": {},
   "outputs": [
    {
     "name": "stdout",
     "output_type": "stream",
     "text": [
      "数组a:\n",
      "[[1 2]\n",
      " [3 4]]\n",
      "数组b:\n",
      "[[1 2]\n",
      " [3 4]]\n",
      "数组c:\n",
      "[[0 0]]\n",
      "合并数组:\n",
      "[[1 2]\n",
      " [3 4]\n",
      " [1 2]\n",
      " [3 4]]\n",
      "垂直堆叠三个数组:\n",
      "[[1 2]\n",
      " [3 4]\n",
      " [1 2]\n",
      " [3 4]\n",
      " [0 0]]\n",
      "水平堆叠数组:\n",
      "[[1 2 1 2]\n",
      " [3 4 3 4]]\n"
     ]
    }
   ],
   "source": [
    "a = np.array([(1, 2),(3, 4)])\n",
    "b = np.array([(1, 2),(3, 4)])\n",
    "c = np.zeros((1, 2), dtype=np.int_)\n",
    "\n",
    "print(f\"数组a:\\n{a}\")\n",
    "print(f\"数组b:\\n{b}\")\n",
    "print(f\"数组c:\\n{c}\")\n",
    "\n",
    "print(f\"合并数组:\\n{np.concatenate((a, b))}\")\n",
    "\n",
    "print(f\"垂直堆叠三个数组:\\n{np.vstack((a, b, c))}\")\n",
    "\n",
    "print(f\"水平堆叠数组:\\n{np.hstack((a, a))}\")"
   ]
  },
  {
   "cell_type": "markdown",
   "id": "7e5faeb0",
   "metadata": {},
   "source": [
    "### 拆分数组"
   ]
  },
  {
   "cell_type": "code",
   "execution_count": 17,
   "id": "bc790795",
   "metadata": {},
   "outputs": [
    {
     "name": "stdout",
     "output_type": "stream",
     "text": [
      "以此数组为例:\n",
      "[[ 1  2  3  4  5  6  7  8  9 10]\n",
      " [11 12 13 14 15 16 17 18 19 20]]\n",
      "拆分为2个形状相同的数组(相当于从第5列开始拆分):\n",
      "[array([[ 1,  2,  3,  4,  5],\n",
      "       [11, 12, 13, 14, 15]]), array([[ 6,  7,  8,  9, 10],\n",
      "       [16, 17, 18, 19, 20]])]\n",
      "从第3列,第7列之后开始拆分:\n",
      "[array([[ 1,  2,  3],\n",
      "       [11, 12, 13]]), array([[ 4,  5,  6,  7],\n",
      "       [14, 15, 16, 17]]), array([[ 8,  9, 10],\n",
      "       [18, 19, 20]])]\n"
     ]
    }
   ],
   "source": [
    "arr = np.arange(1, 21).reshape(2, 10)\n",
    "print(f\"以此数组为例:\\n{arr}\")\n",
    "\n",
    "print(f\"拆分为2个形状相同的数组(相当于从第5列开始拆分):\\n{np.hsplit(arr, 2)}\")\n",
    "\n",
    "print(f\"从第3列,第7列之后开始拆分:\\n{np.hsplit(arr, (3, 7))}\")"
   ]
  },
  {
   "cell_type": "markdown",
   "id": "58f8f48f",
   "metadata": {},
   "source": [
    "\n",
    "以上,我们了解了NumPy作为数值计算的核心库，不仅提供了高性能的多维数组对象（ndarray）和对这些数组执行操作的函数，还能够高效地处理大规模数据。但对于数据处理和分析来说，往往还需要更高级的工具。例如Pandas，是Python中另一个强大的数据处理库，和NumPy的数组操作有许多相似之处，例如索引切片，Pandas库也是接下来我们要重点学习的内容。Pandas构建在NumPy之上，提供了丰富的功能，包括数据导入和导出、缺失数据处理、数据重塑、合并、分组和聚合、时间序列处理等。能让日常的数据处理更加简洁、高效。\n",
    "\n",
    "NumPy和Pandas是Python数据科学和数值计算领域的两个重要库。NumPy提供了多维数组和高性能数值计算功能，是数据处理的基础。而Pandas提供了更高级的数据结构和数据处理功能，使得数据分析更加方便。两者共同组成了Python数据科学生态系统的重要组成部分，为数据科学家和工程师提供了强大的工具来探索、处理和分析数据。"
   ]
  }
 ],
 "metadata": {
  "kernelspec": {
   "display_name": "Python 3 (ipykernel)",
   "language": "python",
   "name": "python3"
  },
  "language_info": {
   "codemirror_mode": {
    "name": "ipython",
    "version": 3
   },
   "file_extension": ".py",
   "mimetype": "text/x-python",
   "name": "python",
   "nbconvert_exporter": "python",
   "pygments_lexer": "ipython3",
   "version": "3.10.9"
  }
 },
 "nbformat": 4,
 "nbformat_minor": 5
}
