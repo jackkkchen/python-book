{
 "cells": [
  {
   "cell_type": "markdown",
   "metadata": {},
   "source": [
    "---\n",
    "title: \"Requests 库\"\n",
    "format:\n",
    "  html:\n",
    "  #  code-fold: true\n",
    "   code-tools: true\n",
    "jupyter: python3\n",
    "---"
   ]
  },
  {
   "cell_type": "markdown",
   "metadata": {},
   "source": [
    "## Requests 库\n",
    "\n",
    "### 一、什么是 Requests库 ？\n",
    "\n",
    "前面我们介绍过，如果要使用爬虫进行数据爬取，首先就要向服务器发送请求，以获取网页的数据源代码，即获取需要被处理的网页内容。\n",
    "\n",
    "在本次学习中，我们所使用的，用来向服务器发送请求的工具就是 Requests 库，它是一个 HTTP 请求库，用于发送 HTTP 请求和 Web 服务器进行通信。我们可以借助这个库，使用一种简单而优雅的方法在 Python 中进行网络通信。\n",
    "\n",
    "值得注意的是，requests 库并不是 Python 自带的库，而是一个第三方库，因此在使用它之前，我们需要进行安装。打开 JupyterLab，在终端中输入以下代码以安装 requests 库。"
   ]
  },
  {
   "cell_type": "code",
   "execution_count": null,
   "metadata": {},
   "outputs": [],
   "source": [
    "pip install requests"
   ]
  },
  {
   "cell_type": "markdown",
   "metadata": {},
   "source": [
    "### 二、Requests 库的特点和用法\n",
    "\n",
    "#### 1. 发送 HTTP 请求\n",
    "\n",
    "使用 requests 库可以很方便的发送 HTTP 请求，例如，我们想要向服务器发送一个 `Get` 请求，就可以调用 requests 库中的 `.get()` 函数。这个函数只接收一个参数，就是网站的 URL。参照下面的例子，你也可以找一些网站来尝试使用 requests 库发送 HTTP 请求。\n",
    "\n",
    "> 在输入参数时，我们要格外注意的一点是：\n",
    "> 在我们的日常生活中，浏览器地址里里的网址通常是这样的：movie.douban.com/chart 或 www.movie.douban.com/chart\n",
    "> ![](./浏览器网址.png)\n",
    "> 但是在将网址作为参数填入时，我们必须要在网址前加上传输协议，即：https://movie.douban.com/chart\n",
    "> ![](./URL.png)\n"
   ]
  },
  {
   "cell_type": "code",
   "execution_count": 11,
   "metadata": {},
   "outputs": [
    {
     "name": "stdout",
     "output_type": "stream",
     "text": [
      "<Response [418]>\n"
     ]
    }
   ],
   "source": [
    "import requests\n",
    "\n",
    "response = requests.get(\"https://movie.douban.com/chart\")\n",
    "print(response)"
   ]
  },
  {
   "cell_type": "markdown",
   "metadata": {},
   "source": [
    "运行上面的代码，我们就将使用 `.get` 函数获取的内容输出了出来，你会发现，输出的结果就是服务器回应给我们的状态码 `418`。\n",
    "\n",
    "::: {.callout-note}\n",
    "关于状态码 `418`：\n",
    "\n",
    "状态码 `418` 不是一个通常意义上的由服务器传递给客户端的状态码，它通常使用于愚人节或者一些轻松的场合，也有可能是服务器发现了爬虫程序，并且向使用爬虫的人开了一个小小的、善意的玩笑。它的具体描述是：\n",
    "\n",
    "Any attempt to brew coffee with a teapot should result in the error code \"418 I'm a teapot\". The resulting entity body MAY be short and stout.\n",
    "\n",
    "使用中文来表达的话，大意为：\n",
    "\n",
    "当客户端给一个茶壶发送泡咖啡的请求时，茶壶就返回一个418错误状态码，表示“我是一个茶壶”。\n",
    "\n",
    "这个状态码诞生于1998年，作为一个愚人节玩笑来到这个世界上。详情可以参考：https://datatracker.ietf.org/doc/html/rfc2324\n",
    "\n",
    "你看，计算机编程并不只是冷冰冰的代码，也存在着许多多的人文关怀。在使用爬虫时，千万记得遵循爬虫伦理，设置合理的爬虫策略，小心伤了辛苦建立网站的程序员们的心！\n",
    "\n",
    ":::\n",
    "\n",
    "在使用 `.get` 方法发送请求以后，我们还需要判断我们的请求是否被客户端所接受了，即判断我们的请求有没有成功，此时，我们就可以使用 `response.ok` 属性，该属性用于检查 HTTP 请求是否成功并且返回一个布尔值，如果响应码在状态 200 到 299 的范围内，将返回 `True`，表示请求成功，否则将返回 `False`，表示请求失败。\n",
    "\n",
    "以上面的 HTTP 请求为示例，验证请求是否成功。"
   ]
  },
  {
   "cell_type": "code",
   "execution_count": 12,
   "metadata": {},
   "outputs": [
    {
     "name": "stdout",
     "output_type": "stream",
     "text": [
      "<Response [418]>\n",
      "请求失败\n"
     ]
    }
   ],
   "source": [
    "import requests\n",
    "\n",
    "response = requests.get(\"https://movie.douban.com/chart\")\n",
    "print(response)\n",
    "\n",
    "if response.ok:\n",
    "    print(\"请求成功\")\n",
    "else:\n",
    "    print(\"请求失败\")"
   ]
  },
  {
   "cell_type": "markdown",
   "metadata": {},
   "source": [
    "与 `response.ok` 方法类似的，还有如下方法，他们分别能获取到状态码、响应头以及文本内容。\n",
    "\n",
    "- `response.status_code`属性包含了HTTP响应的状态码。状态码是一个三位数，表示服务器对请求的处理结果。\n",
    "- `response.headers`属性是一个字典，包含了HTTP响应的头部信息。\n",
    "- `response.text`属性包含了HTTP响应的文本内容。对于文本响应（如HTML页面或纯文本文档），这是服务器返回的实际文本内容。"
   ]
  },
  {
   "cell_type": "code",
   "execution_count": 13,
   "metadata": {},
   "outputs": [
    {
     "name": "stdout",
     "output_type": "stream",
     "text": [
      "200\n",
      "{'Server': 'CLOUD ELB 1.0.0', 'Date': 'Fri, 01 Sep 2023 14:07:54 GMT', 'Content-Type': 'text/html; charset=utf-8', 'Vary': 'Accept-Encoding', 'content-security-policy': \"default-src * blob:; img-src * data: blob: resource: t.captcha.qq.com *.dun.163yun.com *.dun.163.com *.126.net *.nosdn.127.net nos.netease.com; connect-src * wss: blob: resource:; frame-src 'self' *.zhihu.com mailto: tel: weixin: *.vzuu.com mo.m.taobao.com getpocket.com note.youdao.com safari-extension://com.evernote.safari.clipper-Q79WDW8YH9 blob: mtt: zhihujs: captcha.guard.qcloud.com pos.baidu.com dup.baidustatic.com openapi.baidu.com wappass.baidu.com passport.baidu.com *.cme.qcloud.com vs-cdn.tencent-cloud.com t.captcha.qq.com *.dun.163yun.com *.dun.163.com *.126.net *.nosdn.127.net nos.netease.com; script-src 'self' blob: *.zhihu.com g.alicdn.com qzonestyle.gtimg.cn res.wx.qq.com open.mobile.qq.com 'unsafe-eval' unpkg.zhimg.com unicom.zhimg.com resource: zhihu-live.zhimg.com captcha.gtimg.com captcha.guard.qcloud.com pagead2.googlesyndication.com cpro.baidustatic.com pos.baidu.com dup.baidustatic.com i.hao61.net jsapi.qq.com 'nonce-7aa264f7-5721-40fb-bbaa-21b4fc8e2679' hm.baidu.com zz.bdstatic.com b.bdstatic.com imgcache.qq.com vs-cdn.tencent-cloud.com www.mangren.com www.yunmd.net zhihu.govwza.cn p.cnwza.cn gw.alipayobjects.com ssl.captcha.qq.com t.captcha.qq.com *.dun.163yun.com *.dun.163.com *.126.net *.nosdn.127.net nos.netease.com; style-src 'self' 'unsafe-inline' *.zhihu.com unicom.zhimg.com resource: captcha.gtimg.com www.mangren.com ssl.captcha.qq.com t.captcha.qq.com *.dun.163yun.com *.dun.163.com *.126.net *.nosdn.127.net nos.netease.com; font-src * data:; frame-ancestors *.zhihu.com\", 'x-content-security-policy': \"default-src * blob:; img-src * data: blob: resource: t.captcha.qq.com *.dun.163yun.com *.dun.163.com *.126.net *.nosdn.127.net nos.netease.com; connect-src * wss: blob: resource:; frame-src 'self' *.zhihu.com mailto: tel: weixin: *.vzuu.com mo.m.taobao.com getpocket.com note.youdao.com safari-extension://com.evernote.safari.clipper-Q79WDW8YH9 blob: mtt: zhihujs: captcha.guard.qcloud.com pos.baidu.com dup.baidustatic.com openapi.baidu.com wappass.baidu.com passport.baidu.com *.cme.qcloud.com vs-cdn.tencent-cloud.com t.captcha.qq.com *.dun.163yun.com *.dun.163.com *.126.net *.nosdn.127.net nos.netease.com; script-src 'self' blob: *.zhihu.com g.alicdn.com qzonestyle.gtimg.cn res.wx.qq.com open.mobile.qq.com 'unsafe-eval' unpkg.zhimg.com unicom.zhimg.com resource: zhihu-live.zhimg.com captcha.gtimg.com captcha.guard.qcloud.com pagead2.googlesyndication.com cpro.baidustatic.com pos.baidu.com dup.baidustatic.com i.hao61.net jsapi.qq.com 'nonce-7aa264f7-5721-40fb-bbaa-21b4fc8e2679' hm.baidu.com zz.bdstatic.com b.bdstatic.com imgcache.qq.com vs-cdn.tencent-cloud.com www.mangren.com www.yunmd.net zhihu.govwza.cn p.cnwza.cn gw.alipayobjects.com ssl.captcha.qq.com t.captcha.qq.com *.dun.163yun.com *.dun.163.com *.126.net *.nosdn.127.net nos.netease.com; style-src 'self' 'unsafe-inline' *.zhihu.com unicom.zhimg.com resource: captcha.gtimg.com www.mangren.com ssl.captcha.qq.com t.captcha.qq.com *.dun.163yun.com *.dun.163.com *.126.net *.nosdn.127.net nos.netease.com; font-src * data:; frame-ancestors *.zhihu.com\", 'x-webkit-csp': \"default-src * blob:; img-src * data: blob: resource: t.captcha.qq.com *.dun.163yun.com *.dun.163.com *.126.net *.nosdn.127.net nos.netease.com; connect-src * wss: blob: resource:; frame-src 'self' *.zhihu.com mailto: tel: weixin: *.vzuu.com mo.m.taobao.com getpocket.com note.youdao.com safari-extension://com.evernote.safari.clipper-Q79WDW8YH9 blob: mtt: zhihujs: captcha.guard.qcloud.com pos.baidu.com dup.baidustatic.com openapi.baidu.com wappass.baidu.com passport.baidu.com *.cme.qcloud.com vs-cdn.tencent-cloud.com t.captcha.qq.com *.dun.163yun.com *.dun.163.com *.126.net *.nosdn.127.net nos.netease.com; script-src 'self' blob: *.zhihu.com g.alicdn.com qzonestyle.gtimg.cn res.wx.qq.com open.mobile.qq.com 'unsafe-eval' unpkg.zhimg.com unicom.zhimg.com resource: zhihu-live.zhimg.com captcha.gtimg.com captcha.guard.qcloud.com pagead2.googlesyndication.com cpro.baidustatic.com pos.baidu.com dup.baidustatic.com i.hao61.net jsapi.qq.com 'nonce-7aa264f7-5721-40fb-bbaa-21b4fc8e2679' hm.baidu.com zz.bdstatic.com b.bdstatic.com imgcache.qq.com vs-cdn.tencent-cloud.com www.mangren.com www.yunmd.net zhihu.govwza.cn p.cnwza.cn gw.alipayobjects.com ssl.captcha.qq.com t.captcha.qq.com *.dun.163yun.com *.dun.163.com *.126.net *.nosdn.127.net nos.netease.com; style-src 'self' 'unsafe-inline' *.zhihu.com unicom.zhimg.com resource: captcha.gtimg.com www.mangren.com ssl.captcha.qq.com t.captcha.qq.com *.dun.163yun.com *.dun.163.com *.126.net *.nosdn.127.net nos.netease.com; font-src * data:; frame-ancestors *.zhihu.com\", 'x-frame-options': 'SAMEORIGIN', 'strict-transport-security': 'max-age=15552000; includeSubDomains', 'surrogate-control': 'no-store', 'pragma': 'no-cache', 'expires': '0', 'x-content-type-options': 'nosniff', 'x-xss-protection': '1; mode=block', 'X-Backend-Response': '0.034', 'Content-Encoding': 'br', 'Referrer-Policy': 'no-referrer-when-downgrade', 'X-SecNG-Response': '0.039999961853027', 'x-lb-timing': '0.041', 'x-idc-id': '2', 'Set-Cookie': 'KLBRSID=d6f775bb0765885473b0cba3a5fa9c12|1693577274|1693577274; Path=/', 'Cache-Control': 'private, must-revalidate, no-cache, no-store, max-age=0', 'Transfer-Encoding': 'chunked', 'X-NWS-LOG-UUID': '10583438539342726225', 'Connection': 'keep-alive', 'X-Cache-Lookup': 'Cache Miss', 'x-edge-timing': '0.076', 'x-cdn-provider': 'tencent'}\n",
      "<!doctype html>\n",
      "<html lang=\"zh\" data-hairline=\"true\" class=\"itcauecng\" data-theme=\"light\"><head><meta charSet=\"utf-8\"/><title data-rh=\"true\">知乎 - 有问题，就会有答案</title><meta name=\"viewport\" content=\"width=device-width,initial-scale=1,maximum-scale=1\"/><meta name=\"renderer\" content=\"webkit\"/><meta name=\"force-rendering\" content=\"webkit\"/><meta http-equiv=\"X-UA-Compatible\" content=\"IE=edge,chrome=1\"/><meta name=\"google-site-verification\" content=\"FTeR0c8arOPKh8c5DYh_9uu98_zJbaWw53J-Sch9MTg\"/><meta name=\"description\" property=\"og:description\" content=\"知乎，中文互联网高质量的问答社区和创作者聚集的原创内容平台，于 2011 年 1 月正式上线，以「让人们更好的分享知识、经验和见解，找到自己的解答」为品牌使命。知乎凭借认真、专业、友善的社区氛围、独特的产品机制以及结构化和易获得的优质内容，聚集了中文互联网科技、商业、影视、时尚、文化等领域最具创造力的人群，已成为综合性、全品类、在诸多领域具有关键影响力的知识分享社区和创作者聚集的原创内容平台，建立起了以社区驱动的内容变现商业模式。\"/><link data-rh=\"true\" rel=\"apple-touch-icon\" href=\"https://static.zhihu.com/heifetz/assets/apple-touch-icon-152.81060cab.png\"/><link data-rh=\"true\" rel=\"apple-touch-icon\" href=\"https://static.zhihu.com/heifetz/assets/apple-touch-icon-152.81060cab.png\" sizes=\"152x152\"/><link data-rh=\"true\" rel=\"apple-touch-icon\" href=\"https://static.zhihu.com/heifetz/assets/apple-touch-icon-120.d5793cac.png\" sizes=\"120x120\"/><link data-rh=\"true\" rel=\"apple-touch-icon\" href=\"https://static.zhihu.com/heifetz/assets/apple-touch-icon-76.7abf3393.png\" sizes=\"76x76\"/><link data-rh=\"true\" rel=\"apple-touch-icon\" href=\"https://static.zhihu.com/heifetz/assets/apple-touch-icon-60.362a8eac.png\" sizes=\"60x60\"/><link crossorigin=\"\" rel=\"shortcut icon\" type=\"image/x-icon\" href=\"https://static.zhihu.com/heifetz/favicon.ico\"/><link crossorigin=\"\" rel=\"search\" type=\"application/opensearchdescription+xml\" href=\"https://static.zhihu.com/heifetz/search.xml\" title=\"知乎\"/><link rel=\"dns-prefetch\" href=\"//static.zhimg.com\"/><link rel=\"dns-prefetch\" href=\"//pica.zhimg.com\"/><link rel=\"dns-prefetch\" href=\"//picx.zhimg.com\"/><link rel=\"dns-prefetch\" href=\"//pic1.zhimg.com\"/><link rel=\"dns-prefetch\" href=\"//pic2.zhimg.com\"/><link rel=\"dns-prefetch\" href=\"//pic3.zhimg.com\"/><link rel=\"dns-prefetch\" href=\"//pic4.zhimg.com\"/><link rel=\"dns-prefetch\" href=\"//static.zhihu.com\"/><script nonce=\"7aa264f7-5721-40fb-bbaa-21b4fc8e2679\" data-web-reporter-config=\"{&quot;platform&quot;:&quot;web&quot;,&quot;project&quot;:&quot;heifetz&quot;}\">!function(e,t){\"object\"==typeof exports&&\"undefined\"!=typeof module?t(exports):\"function\"==typeof define&&define.amd?define([\"exports\"],t):t((e=e||self).webReporter={})}(this,function(e){\"use strict\";var t={},n=!1,o=function(){var e,o,r,a,i;return n||(e=document.querySelector(\"script[data-web-reporter-config]\"),o=e&&e.dataset.webReporterConfig||\"{}\",r=JSON.parse(o),a=r.platform,i=r.project,t={platform:a,project:i},n=!0),t};function r(e){return a(function(){return localStorage.getItem(e)})()}function a(e){return function(){try{return e.apply(void 0,arguments)}catch(e){}}}var i=a(function(e,t){var n={platform:\"web\",project:o().project,clientTimestamp:+new Date};!function(e,t,n){\"1\"===r(\"weber:logenabled\")&&console.log(\"[web-reporter]%o\",{type:e,base:t,data:n})}(e,n,t),function(e,t){var n=btoa(JSON.stringify(t));if(\"undefined\"!=typeof Blob&&window.navigator&&window.navigator.sendBeacon){var o=new Blob([n],{type:\"text/plain\"});navigator.sendBeacon(e,o)}else{var r=new XMLHttpRequest;r.open(\"POST\",e),r.withCredentials=!1,r.setRequestHeader(\"Content-Type\",\"text/plain;charset=UTF-8\"),r.send(n)}}(r(\"weber:api\")||\"https://apm.zhihu.com/collector/web_json\",{type:e,base:n,data:t})});e.report=i,Object.defineProperty(e,\"__esModule\",{value:!0})});\n",
      "</script><link href=\"https://static.zhihu.com/heifetz/4929.216a26f4.a7525b069c7aa6ab160f.css\" crossorigin=\"\" rel=\"stylesheet\"/><link href=\"https://static.zhihu.com/heifetz/main.216a26f4.a33d15462b94f00e8222.css\" crossorigin=\"\" rel=\"stylesheet\"/><link href=\"https://static.zhihu.com/heifetz/main-signin-routes.216a26f4.8dc91cfc5b59704edbde.css\" crossorigin=\"\" rel=\"stylesheet\"/><script nonce=\"7aa264f7-5721-40fb-bbaa-21b4fc8e2679\">!function(){\"use strict\";!function(e,n){var r=[];function t(e){return function(){r.push([e,arguments])}}n.Raven={captureException:t(\"captureException\"),captureMessage:t(\"captureMessage\"),captureBreadcrumb:t(\"captureBreadcrumb\")};var a,o,c,i,s,u=\"undefined\"!=typeof DOMError;function d(e){var n=e instanceof Error||e instanceof ErrorEvent||u&&e instanceof DOMError||e instanceof DOMException;Raven.captureException(n?e:new Error(e.message||e.reason))}n.addEventListener(\"unhandledrejection\",d),n.addEventListener(\"error\",d,!0),a=e.src,o=e,c=function(){r.forEach(function(e){var n;(n=Raven)[e[0]].apply(n,e[1])}),n.removeEventListener(\"unhandledrejection\",d),n.removeEventListener(\"error\",d,!0)},i=document.head||document.getElementsByTagName(\"head\")[0],(s=document.createElement(\"script\")).crossOrigin=o.crossOrigin,s.dataset.sentryConfig=o[\"data-sentry-config\"],s.onload=c,s.src=a,i.appendChild(s)}({\"defer\":true,\"crossOrigin\":\"anonymous\",\"src\":\"https://unpkg.zhimg.com/@cfe/sentry-script@1.3.1/dist/init.js\",\"data-sentry-config\":\"{\\\"dsn\\\":\\\"https://2d8d764432cc4f6fb3bc78ab9528299d@crash2.zhihu.com/1224\\\",\\\"sampleRate\\\":0.1,\\\"release\\\":\\\"964-0297df79\\\",\\\"ignoreErrorNames\\\":[\\\"NetworkError\\\",\\\"SecurityError\\\"],\\\"ignoreErrorsPreset\\\":\\\"ReactApp\\\",\\\"tags\\\":{\\\"app_name\\\":\\\"heifetz\\\"}}\"},window)}();\n",
      "</script></head><body><div id=\"root\"><div><style data-emotion-css=\"uzm3ri\">.css-uzm3ri{position:fixed;top:0;right:0;left:0;z-index:101;display:none;height:2px;pointer-events:none;background:#056DE8;-webkit-transform:translateX(-100%);-ms-transform:translateX(-100%);transform:translateX(-100%);}</style><div class=\"LoadingBar  css-uzm3ri\"></div><div><span style=\"position:absolute;top:-10000px;left:-10000px\" role=\"log\" aria-live=\"assertive\"></span></div><main role=\"main\" class=\"App-main\"><div><div class=\"SignFlowHomepage\"><div class=\"SignFlowHomepage-content\"><img alt=\"知乎 LOGO\" class=\"SignFlowHomepage-logo\" src=\"https://pic2.zhimg.com/80/v2-f6b1f64a098b891b4ea1e3104b5b71f6_720w.png\"/><div class=\"signQr-container\"><div class=\"signQr-leftContainer\"><div class=\"Qrcode-container smallVersion\"><style data-emotion-css=\"k49mnn\">.css-k49mnn{box-sizing:border-box;margin:0;min-width:0;color:#444444;font-size:16px;font-weight:600;line-height:23px;}</style><div class=\"css-k49mnn\">打开知乎App</div><style data-emotion-css=\"qj3urb\">.css-qj3urb{box-sizing:border-box;margin:0;min-width:0;margin-top:8px;margin-bottom:24px;color:#444444;font-size:14px;line-height:20px;}</style><div class=\"css-qj3urb\">在「我的页」左上角打开扫一扫</div><div class=\"Qrcode-content\"><div class=\"Qrcode-img\"><style data-emotion-css=\"79elbk\">.css-79elbk{position:relative;}</style><div class=\"BounceLoading  css-79elbk\" style=\"width:42px;height:18px\"><style data-emotion-css=\"cy45qd animation-1alkx44\">.css-cy45qd{position:absolute;background-color:#056DE8;border-radius:50%;-webkit-transform-origin:center;-ms-transform-origin:center;transform-origin:center;-webkit-animation-iteration-count:infinite;animation-iteration-count:infinite;-webkit-animation-name:animation-1alkx44;animation-name:animation-1alkx44;-webkit-animation-timing-function:ease-in-out;animation-timing-function:ease-in-out;-webkit-animation-fill-mode:both;animation-fill-mode:both;}@-webkit-keyframes animation-1alkx44{0%,100%{-webkit-transform:translateY(-100%);-ms-transform:translateY(-100%);transform:translateY(-100%);}50%{-webkit-transform:translateY(100%);-ms-transform:translateY(100%);transform:translateY(100%);}}@keyframes animation-1alkx44{0%,100%{-webkit-transform:translateY(-100%);-ms-transform:translateY(-100%);transform:translateY(-100%);}50%{-webkit-transform:translateY(100%);-ms-transform:translateY(100%);transform:translateY(100%);}}</style><span class=\"BounceLoading-child css-cy45qd\" style=\"top:6px;left:0;width:6px;height:6px;animation-duration:0.8s;animation-delay:0s\"></span><span class=\"BounceLoading-child css-cy45qd\" style=\"top:6px;left:18px;width:6px;height:6px;animation-duration:0.8s;animation-delay:-0.13333333333333333s\"></span><span class=\"BounceLoading-child css-cy45qd\" style=\"top:6px;left:36px;width:6px;height:6px;animation-duration:0.8s;animation-delay:-0.26666666666666666s\"></span></div></div><div class=\"Qrcode-guide-message\"><style data-emotion-css=\"x9rxz4\">.css-x9rxz4{box-sizing:border-box;margin:0;min-width:0;margin-top:24px;color:#444444;font-size:14px;font-weight:600;line-height:20px;}</style><div class=\"css-x9rxz4\">其他扫码方式：微信</div></div></div></div><style data-emotion-css=\"1rjkgne\">.css-1rjkgne{box-sizing:border-box;margin:26px 0 22px;}</style><style data-emotion-css=\"ousx6v\">.css-ousx6v{box-sizing:border-box;margin:0;min-width:0;font-size:14px;color:#056DE8;height:60px;-webkit-align-items:center;-webkit-box-align:center;-ms-flex-align:center;align-items:center;-webkit-box-pack:center;-webkit-justify-content:center;-ms-flex-pack:center;justify-content:center;display:-webkit-box;display:-webkit-flex;display:-ms-flexbox;display:flex;box-sizing:border-box;margin:26px 0 22px;}</style><div class=\"css-ousx6v\"><style data-emotion-css=\"vurnku\">.css-vurnku{box-sizing:border-box;margin:0;min-width:0;}</style><div class=\"css-vurnku\"><style data-emotion-css=\"sqn8ql\">.css-sqn8ql{padding:4px 10px;border:1px solid #EBEBEB;border-radius:29px;font-size:12px;color:#444444;line-height:19px;display:inline-block;}.css-sqn8ql:hover{background:#F6F6F6;}</style><style data-emotion-css=\"1bdtll5\">.css-1bdtll5{box-sizing:border-box;margin:0;min-width:0;-webkit-appearance:none;-moz-appearance:none;appearance:none;display:inline-block;text-align:center;line-height:inherit;-webkit-text-decoration:none;text-decoration:none;font-size:inherit;padding-left:16px;padding-right:16px;padding-top:8px;padding-bottom:8px;color:white;background-color:#056DE8;border:0;border-radius:4px;font-size:16px;font-weight:600;color:#FFFFFF;background-color:#056DE8;border-radius:4px;background-color:unset;font-weight:inherit;margin-right:8px;padding:4px 10px;border:1px solid #EBEBEB;border-radius:29px;font-size:12px;color:#444444;line-height:19px;display:inline-block;}.css-1bdtll5:hover{background:#F6F6F6;}</style><button class=\"css-1bdtll5\">下载知乎App</button></div><style data-emotion-css=\"epvm6\">.css-epvm6{white-space:nowrap;}</style><style data-emotion-css=\"16enr5p\">.css-16enr5p{box-sizing:border-box;margin:0;min-width:0;white-space:nowrap;}</style><div class=\"css-16enr5p\"><style data-emotion-css=\"1iubajs\">.css-1iubajs{box-sizing:border-box;margin:0;min-width:0;color:#175199;margin-right:8px;padding:4px 10px;border:1px solid #EBEBEB;border-radius:29px;font-size:12px;color:#444444;line-height:19px;display:inline-block;}.css-1iubajs:hover{background:#F6F6F6;}</style><a href=\"/org/signup\" data-za-detail-view-id=\"4943\" class=\"css-1iubajs\">开通机构号</a></div><div class=\"css-16enr5p\"><style data-emotion-css=\"186oz3i\">.css-186oz3i{box-sizing:border-box;margin:0;min-width:0;-webkit-appearance:none;-moz-appearance:none;appearance:none;display:inline-block;text-align:center;line-height:inherit;-webkit-text-decoration:none;text-decoration:none;font-size:inherit;padding-left:16px;padding-right:16px;padding-top:8px;padding-bottom:8px;color:white;background-color:#056DE8;border:0;border-radius:4px;font-size:16px;font-weight:600;color:#FFFFFF;background-color:#056DE8;border-radius:4px;background-color:unset;font-weight:inherit;padding:4px 10px;border:1px solid #EBEBEB;border-radius:29px;font-size:12px;color:#444444;line-height:19px;display:inline-block;}.css-186oz3i:hover{background:#F6F6F6;}</style><button data-za-detail-view-id=\"4943\" class=\"css-186oz3i\">无障碍模式</button></div></div></div><div class=\"signQr-rightContainer\"><style data-emotion-css=\"b1vbr6\">.css-b1vbr6{overflow:hidden;box-shadow:none;}</style><style data-emotion-css=\"16h0l39\">.css-16h0l39{box-sizing:border-box;margin:0;min-width:0;padding:0;background-color:#FFFFFF;box-shadow:0 1px 3px rgba(18,18,18,0.1);border-radius:2px;background-color:#FFFFFF;width:400px;overflow:hidden;box-shadow:none;}.css-16h0l39+.css-16h0l39{margin-top:10px;}</style><div class=\"css-16h0l39\"><div class=\"SignContainer-content\"><div class=\"SignContainer-inner\"><div><form novalidate=\"\" class=\"SignFlow Login-content\"><div class=\"SignFlow-tabs\"><div class=\"SignFlow-tab SignFlow-tab--active\" role=\"button\" tabindex=\"0\">验证码登录</div><div class=\"SignFlow-tab\" role=\"button\" tabindex=\"0\">密码登录</div></div><div class=\"SignFlow-account\"><div class=\"SignFlowInput SignFlow-accountInputContainer\"><label class=\"SignFlow-accountInput Input-wrapper\"><input type=\"tel\" value=\"\" name=\"username\" class=\"Input username-input\" placeholder=\"手机号\"/></label><div class=\"SignFlowInput-errorMask SignFlowInput-requiredErrorMask SignFlowInput-errorMask--hidden\"></div></div></div><div class=\"SignFlow SignFlow-smsInputContainer\"><div class=\"SignFlowInput SignFlow-smsInput\"><label class=\"Input-wrapper\"><input type=\"tel\" value=\"\" name=\"digits\" class=\"Input username-input\" placeholder=\"输入 6 位短信验证码\"/></label><div class=\"SignFlowInput-errorMask SignFlowInput-requiredErrorMask SignFlowInput-errorMask--hidden\"></div></div><button type=\"button\" class=\"Button CountingDownButton SignFlow-smsInputButton Button--plain\">获取短信验证码</button></div><div class=\"Login-options\"><button type=\"button\" class=\"Button Login-switchType Button--plain\"></button><button type=\"button\" class=\"Button Login-cannotLogin Button--plain\"><div>获取<!-- -->语音<!-- -->验证码</div></button></div><button type=\"submit\" class=\"Button SignFlow-submitButton Button--primary Button--blue\">登录/注册</button></form></div><div><span style=\"position:absolute;top:-10000px;left:-10000px\" role=\"log\" aria-live=\"assertive\"></span></div></div></div><style data-emotion-css=\"d9yzea\">.css-d9yzea{margin:0 24px 12px;-webkit-align-items:center;-webkit-box-align:center;-ms-flex-align:center;align-items:center;}</style><style data-emotion-css=\"jr78vv\">.css-jr78vv{box-sizing:border-box;margin:0;min-width:0;display:-webkit-box;display:-webkit-flex;display:-ms-flexbox;display:flex;margin:0 24px 12px;-webkit-align-items:center;-webkit-box-align:center;-ms-flex-align:center;align-items:center;}</style><div class=\"css-jr78vv\"><style data-emotion-css=\"t703mf\">.css-t703mf{box-sizing:border-box;margin:0;min-width:0;border-top:1px solid;border-color:#EBEBEB;width:124px;}</style><div class=\"css-t703mf\"></div><style data-emotion-css=\"daoszp\">.css-daoszp{box-sizing:border-box;margin:0;min-width:0;color:#999999;font-size:12px;margin-left:16px;margin-right:16px;width:72px;overflow:hidden;line-height:17px;white-space:nowrap;}</style><div class=\"css-daoszp\">其他方式登录</div><div class=\"css-t703mf\"></div></div><div class=\"Login-socialLogin\"><span class=\"Login-socialButtonGroup\"><button type=\"button\" class=\"Button Login-socialButton Button--plain\"><svg width=\"24\" height=\"24\" fill=\"none\" viewBox=\"0 0 24 24\" class=\"ZDI ZDI--Wechat24\"><path fill=\"#07C160\" d=\"M20.314 18.59c1.333-.968 2.186-2.397 2.186-3.986 0-2.91-2.833-5.27-6.325-5.27-3.494 0-6.325 2.36-6.325 5.27 0 2.911 2.831 5.271 6.325 5.271.698.001 1.393-.096 2.064-.288l.186-.029c.122 0 .232.038.336.097l1.386.8.12.04a.21.21 0 0 0 .212-.211l-.034-.154-.285-1.063-.023-.135a.42.42 0 0 1 .177-.343ZM9.09 3.513C4.9 3.514 1.5 6.346 1.5 9.84c0 1.905 1.022 3.622 2.622 4.781a.505.505 0 0 1 .213.412l-.026.16-.343 1.276-.04.185c0 .14.113.254.252.254l.146-.047 1.663-.96a.793.793 0 0 1 .403-.116l.222.032c.806.231 1.64.348 2.478.348l.417-.01a4.888 4.888 0 0 1-.255-1.55c0-3.186 3.1-5.77 6.923-5.77l.411.011c-.57-3.02-3.71-5.332-7.494-5.332Zm4.976 10.248a.843.843 0 1 1 0-1.685.843.843 0 0 1 0 1.684v.001Zm4.217 0a.843.843 0 1 1 0-1.685.843.843 0 0 1 0 1.684v.001ZM6.561 8.827a1.012 1.012 0 1 1 0-2.023 1.012 1.012 0 0 1 0 2.023Zm5.061 0a1.012 1.012 0 1 1 0-2.023 1.012 1.012 0 0 1 0 2.023Z\" clip-rule=\"evenodd\"></path></svg></button><button type=\"button\" class=\"Button Login-socialButton Button--plain\"><svg width=\"24\" height=\"24\" viewBox=\"0 0 24 24\" fill=\"#50C8FD\" class=\"ZDI ZDI--Qq24\"><path fill-rule=\"evenodd\" d=\"M12.003 2c-2.265 0-6.29 1.364-6.29 7.325v1.195S3.55 14.96 3.55 17.474c0 .665.17 1.025.281 1.025.114 0 .902-.483 1.748-2.072 0 0-.18 2.197 1.904 3.967 0 0-1.77.495-1.77 1.182 0 .686 4.078.43 6.29 0 2.239.425 6.288.687 6.288 0 0-.688-1.77-1.182-1.77-1.182 2.086-1.77 1.906-3.967 1.906-3.967.845 1.588 1.634 2.072 1.746 2.072.111 0 .283-.36.283-1.025 0-2.514-2.165-6.954-2.165-6.954V9.325C18.29 3.364 14.268 2 12.003 2Z\" clip-rule=\"evenodd\"></path></svg></button><button type=\"button\" class=\"Button Login-socialButton Button--plain\"><svg width=\"24\" height=\"24\" fill=\"none\" viewBox=\"0 0 24 24\" class=\"ZDI ZDI--Weibo24\"><path fill=\"#FB6622\" d=\"M15.518 3.06c8.834-.854 7.395 7.732 7.394 7.731-.625 1.44-1.673.31-1.673.31.596-7.52-5.692-6.33-5.692-6.33-.898-1.067-.03-1.71-.03-1.71Zm4.13 6.985c-.66 1.01-1.376.126-1.375.126.205-3.179-2.396-2.598-2.396-2.598-.72-.765-.091-1.346-.091-1.346 4.882-.55 3.863 3.818 3.863 3.818ZM5.318 7.52s4.615-3.86 6.443-1.328c0 0 .662 1.08-.111 2.797.003-.003 3.723-1.96 5.408.16 0 0 .848 1.094-.191 2.648 0 0 2.918-.099 2.918 2.715 0 2.811-4.104 6.44-9.315 6.44-5.214 0-8.026-2.092-8.596-3.102 0 0-3.475-4.495 3.444-10.33Zm10.448 7.792s.232-4.41-5.71-4.207c-6.652.231-6.58 4.654-6.58 4.654.022.39.098 3.713 5.843 3.713 5.98 0 6.447-4.16 6.447-4.16Zm-9.882.86s-.06-3.632 3.804-3.56c3.412.06 3.206 3.164 3.206 3.164s-.026 2.98-3.684 2.98c-3.288 0-3.326-2.584-3.326-2.584Zm2.528 1.037c.672 0 1.212-.447 1.212-.998 0-.55-.543-.998-1.212-.998-.672 0-1.215.447-1.215.998 0 .551.546.998 1.215.998Z\" clip-rule=\"evenodd\"></path></svg></button></span></div><div class=\"SignContainer-tip\">未注册手机验证后自动登录，注册即代表同意<a href=\"https://www.zhihu.com/term/zhihu-terms\">《知乎协议》</a><a href=\"https://www.zhihu.com/term/privacy\">《隐私保护指引》</a></div></div></div></div></div><footer class=\"SignFlowHomepage-footer\"><div class=\"ZhihuLinks\"><a target=\"_blank\" rel=\"noopener noreferrer\" href=\"https://zhuanlan.zhihu.com\">知乎专栏</a><a target=\"_blank\" rel=\"noopener noreferrer\" href=\"/roundtable\">圆桌</a><a target=\"_blank\" rel=\"noopener noreferrer\" href=\"/explore\">发现</a><a target=\"_blank\" rel=\"noopener noreferrer\" href=\"/app\">移动应用</a><a target=\"_blank\" rel=\"noopener noreferrer\" href=\"/contact\">联系我们</a><a target=\"_blank\" rel=\"noopener noreferrer\" href=\"https://app.mokahr.com/apply/zhihu\">来知乎工作</a><a target=\"_blank\" rel=\"noopener noreferrer\" href=\"/org/signup\">注册机构号</a><a target=\"_blank\" rel=\"noopener noreferrer\" href=\"//ir.zhihu.com\">Investor Relations</a></div><div class=\"ZhihuRights\"><span>© <!-- -->2023<!-- --> 知乎</span><a target=\"_blank\" rel=\"noopener noreferrer\" href=\"https://tsm.miit.gov.cn/dxxzsp/\">京 ICP 证 110745 号</a><a target=\"_blank\" rel=\"noopener noreferrer\" href=\"https://beian.miit.gov.cn/\">京 ICP 备 13052560 号 - 1</a><a target=\"_blank\" rel=\"noopener noreferrer\" href=\"http://www.beian.gov.cn/portal/registerSystemInfo?recordcode=11010802020088\"><img alt=\"\" src=\"https://pic3.zhimg.com/80/v2-d0289dc0a46fc5b15b3363ffa78cf6c7.png\"/>京公网安备 11010802020088 号</a><a target=\"_blank\" rel=\"noopener noreferrer\" href=\"https://www.zhihu.com/certificates\">京网文[2022]2674-081 号</a><a href=\"https://pic4.zhimg.com/v2-69619662ff377c3741d92bb6fd46b7ca.png\" target=\"_blank\" rel=\"noopener noreferrer\">出版物经营许可证</a><a href=\"https://pic3.zhimg.com/v2-c280f8bce57f9b045b83185384d86027.png\" target=\"_blank\" rel=\"noopener noreferrer\">药品医疗器械网络信息服务备案（京）网药械信息备字（2022）第00334号</a></div><div class=\"ZhihuRights\"><a href=\"https://pic1.zhimg.com/v2-185764ce177e344f335363edb724f1d8.png\" target=\"_blank\" rel=\"noopener noreferrer\">广播电视节目制作经营许可证:（京）字第06591号</a></div><div class=\"ZhihuReports\"><a target=\"_blank\" rel=\"noopener noreferrer\" href=\"https://zhuanlan.zhihu.com/p/28852607\">侵权举报</a><a target=\"_blank\" rel=\"noopener noreferrer\" href=\"http://www.12377.cn\">网上有害信息举报专区</a><a target=\"_blank\" rel=\"noopener noreferrer\" href=\"/term/child-jubao\">儿童色情信息举报专区</a><a target=\"_blank\" rel=\"noopener noreferrer\" href=\"/term/algorithm-recommend-report\">互联网算法推荐举报专区</a><span>违法和不良信息举报：010-82716601</span><a href=\"mailto:jubao@zhihu.com\">举报邮箱：jubao@zhihu.com</a></div><style data-emotion-css=\"1xaekgw\">.css-1xaekgw{margin-top:20px;}</style><div class=\"css-1xaekgw\"><style data-emotion-css=\"1170n61\">.css-1170n61{vertical-align:bottom;}</style><img loading=\"lazy\" width=\"80\" height=\"38\" src=\"https://pica.zhimg.com/80/v2-ccdb7828c12afff31a27e51593d23260_720w.png\" alt=\"本站提供适老化无障碍服务\" class=\"css-1170n61\"/></div></footer></div></div></main><div data-zop-usertoken=\"{}\"></div></div></div><script id=\"js-clientConfig\" type=\"text/json\">{\"fetchRoot\":{\"www\":\"https:\\u002F\\u002Fwww.zhihu.com\",\"api\":\"https:\\u002F\\u002Fapi.zhihu.com\",\"lens\":\"https:\\u002F\\u002Flens.zhihu.com\",\"zhuanlan\":\"https:\\u002F\\u002Fzhuanlan.zhihu.com\\u002Fapi\\u002F\",\"walletpay\":\"https:\\u002F\\u002Fwalletpay.zhihu.com\",\"captcha\":\"https:\\u002F\\u002Fcaptcha.zhihu.com\",\"vzuu\":\"https:\\u002F\\u002Fv.vzuu.com\",\"openapi\":\"https:\\u002F\\u002Fopenapi.zhihu.com\",\"svip\":\"https:\\u002F\\u002Fsvip.zhihu.com\"},\"host\":\"zhihu.com\",\"protocol\":\"https:\",\"wwwHost\":\"www.zhihu.com\",\"videoHost\":\"video.zhihu.com\",\"zhuanlanHost\":\"zhuanlan.zhihu.com\",\"allowSignUp\":true,\"refreshValidityPeriod\":\"30\",\"release\":\"964-0297df79\",\"currentEntry\":\"main\",\"isMobileEntry\":false,\"apollo\":{\"env\":\"prod\",\"globalSilence\":\"\",\"ncgModeSign\":\"3f8e56febda4fb3bbea72e379d76de1e\",\"topstory_rec_adp\":\"1\",\"editor_adapt_native\":\"0\",\"content_publish_pin\":\"1\",\"test_canary\":\"member|0-100,1-0\",\"use_new_player\":\"member|0-0,1-100\",\"player_vendor\":\"member|0-0,1-100,2-0\",\"use_hevc\":\"member|0-0,1-100\",\"upload_use_signature\":\"member|0-0,1-100\",\"use_backdrop_blur\":\"member|0-0,1-100\",\"article_title_imagex\":\"member|0-0,1-100\",\"play_station\":\"member|0-0,1-100\",\"contentItem_cover_imagex\":\"member|0-70,1-30\"}}</script><script id=\"js-initialData\" type=\"text/json\">{\"initialState\":{\"common\":{\"ask\":{}},\"loading\":{\"global\":{\"count\":0},\"local\":{}},\"entities\":{\"users\":{},\"questions\":{},\"answers\":{},\"articles\":{},\"columns\":{},\"topics\":{},\"roundtables\":{},\"favlists\":{},\"comments\":{},\"notifications\":{},\"ebooks\":{},\"activities\":{},\"feeds\":{},\"pins\":{},\"promotions\":{},\"drafts\":{},\"chats\":{},\"posts\":{},\"zvideos\":{},\"zvideoContributions\":{},\"briefs\":{},\"eduCourses\":{}},\"currentUser\":\"\",\"account\":{\"unlockTicketStatus\":false,\"unlockTicket\":null,\"challenge\":[],\"errorStatus\":false,\"message\":\"\",\"isFetching\":false,\"accountInfo\":{},\"urlToken\":{\"loading\":false},\"cardUserInfo\":{\"vipInfo\":{}},\"handleWidget\":{},\"widgetList\":[],\"userWidgetId\":\"\"},\"settings\":{\"socialBind\":null,\"inboxMsg\":null,\"notification\":{},\"email\":{},\"privacyFlag\":null,\"blockedUsers\":{\"isFetching\":false,\"paging\":{\"pageNo\":1,\"pageSize\":6},\"data\":[]},\"blockedFollowees\":{\"isFetching\":false,\"paging\":{\"pageNo\":1,\"pageSize\":6},\"data\":[]},\"ignoredTopics\":{\"isFetching\":false,\"paging\":{\"pageNo\":1,\"pageSize\":6},\"data\":[]},\"restrictedTopics\":null,\"laboratory\":{}},\"notification\":{},\"people\":{\"profileStatus\":{},\"activitiesByUser\":{},\"answersByUser\":{},\"answersSortByVotesByUser\":{},\"answersIncludedByUser\":{},\"votedAnswersByUser\":{},\"thankedAnswersByUser\":{},\"voteAnswersByUser\":{},\"thankAnswersByUser\":{},\"topicAnswersByUser\":{},\"zvideosByUser\":{},\"articlesByUser\":{},\"articlesSortByVotesByUser\":{},\"articlesIncludedByUser\":{},\"pinsByUser\":{},\"questionsByUser\":{},\"commercialQuestionsByUser\":{},\"favlistsByUser\":{},\"followingByUser\":{},\"followersByUser\":{},\"mutualsByUser\":{},\"followingColumnsByUser\":{},\"followingQuestionsByUser\":{},\"followingFavlistsByUser\":{},\"followingTopicsByUser\":{},\"publicationsByUser\":{},\"columnsByUser\":{},\"allFavlistsByUser\":{},\"brands\":null,\"creationsByUser\":{},\"creationsSortByVotesByUser\":{},\"creationsFeed\":{},\"infinity\":{},\"batchUsers\":{},\"profileInfinity\":null},\"env\":{\"ab\":{\"config\":{\"params\":[],\"experiments\":[],\"chains\":[],\"encodedParams\":\"CgInBxIBAA==\"},\"triggers\":{}},\"abV2\":{\"config\":{\"paramMap\":{\"ws_pin_contentpub\":{\"value\":\"0\"},\"pc_mou_cre_remove\":{\"value\":\"0\"},\"pm_noanonymity_A\":{\"value\":\"0\"},\"ws_platform_new\":{\"value\":\"0\"},\"in_editor_title\":{\"value\":\"0\"}},\"abMap\":{}},\"triggers\":{}},\"userAgent\":{\"Edge\":false,\"IE\":false,\"Wechat\":false,\"Weibo\":false,\"QQ\":false,\"MQQBrowser\":false,\"Qzone\":false,\"Mobile\":false,\"Android\":false,\"iOS\":false,\"isAppleDevice\":false,\"Zhihu\":false,\"ZhihuHybrid\":false,\"isBot\":false,\"Tablet\":false,\"UC\":false,\"Quark\":false,\"Sogou\":false,\"Qihoo\":false,\"Baidu\":false,\"BaiduApp\":false,\"Safari\":false,\"GoogleBot\":false,\"AndroidDaily\":false,\"iOSDaily\":false,\"WxMiniProgram\":false,\"BaiduMiniProgram\":false,\"QQMiniProgram\":false,\"JDMiniProgram\":false,\"isWebView\":false,\"isMiniProgram\":false,\"origin\":\"python-requests\\u002F2.31.0\"},\"appViewConfig\":{},\"ctx\":{\"path\":\"\\u002Fsignin\",\"query\":{\"next\":\"\\u002F\"},\"href\":\"http:\\u002F\\u002Fwww.zhihu.com\\u002Fsignin?next=%2F\",\"host\":\"www.zhihu.com\"},\"trafficSource\":\"production\",\"edition\":{\"beijing\":false,\"baidu\":false,\"sogou\":false,\"baiduBeijing\":false,\"sogouBeijing\":false,\"sogouInput\":false,\"oppoSearch\":false,\"baiduSearch\":false,\"googleSearch\":false,\"shenma\":false,\"miniProgram\":false,\"xiaomi\":false,\"huaweiSearch\":false},\"theme\":\"light\",\"appHeaderTheme\":{\"current\":\"normal\",\"disable\":true,\"normal\":{\"bgColor\":\"GBK99A\"},\"custom\":{\"bgColor\":\"GBK99A\"}},\"enableShortcut\":true,\"referer\":\"\",\"xUDId\":\"\",\"mode\":\"ssr\",\"conf\":{},\"xTrafficFreeOrigin\":\"\",\"ipInfo\":{},\"logged\":false,\"vars\":{\"passThroughHeaders\":{}}},\"me\":{\"columnContributions\":[]},\"label\":{},\"ecommerce\":{},\"comments\":{\"pagination\":{},\"collapsed\":{},\"reverse\":{},\"reviewing\":{},\"conversation\":{},\"parent\":{}},\"commentsV2\":{\"stickers\":[],\"commentWithPicPermission\":{},\"notificationsComments\":{},\"pagination\":{},\"collapsed\":{},\"reverse\":{},\"reviewing\":{},\"conversation\":{},\"conversationMore\":{},\"parent\":{}},\"pushNotifications\":{\"default\":{\"isFetching\":false,\"isDrained\":false,\"ids\":[]},\"follow\":{\"isFetching\":false,\"isDrained\":false,\"ids\":[]},\"vote_thank\":{\"isFetching\":false,\"isDrained\":false,\"ids\":[]},\"currentTab\":\"default\",\"notificationsCount\":{\"default\":0,\"follow\":0,\"vote_thank\":0}},\"messages\":{\"data\":{},\"currentTab\":\"common\",\"messageCount\":0},\"register\":{\"registerValidateSucceeded\":null,\"registerValidateErrors\":{},\"registerConfirmError\":null,\"sendDigitsError\":null,\"registerConfirmSucceeded\":null},\"login\":{\"loginUnregisteredError\":false,\"loginBindWechatError\":false,\"loginConfirmError\":null,\"sendDigitsError\":null,\"needSMSIdentify\":false,\"validateDigitsError\":false,\"loginConfirmSucceeded\":null,\"qrcodeLoginToken\":\"\",\"qrcodeLoginScanStatus\":0,\"qrcodeLoginError\":null,\"qrcodeLoginReturnNewToken\":false},\"switches\":{},\"captcha\":{\"captchaNeeded\":false,\"captchaValidated\":false},\"sms\":{\"supportedCountries\":[]},\"chat\":{\"chats\":{},\"inbox\":{\"recents\":{\"isFetching\":false,\"isDrained\":false,\"isPrevDrained\":false,\"result\":[],\"next\":null,\"key\":null},\"strangers\":{\"isFetching\":false,\"isDrained\":false,\"isPrevDrained\":false,\"result\":[],\"next\":null,\"key\":null},\"friends\":{\"isFetching\":false,\"isDrained\":false,\"isPrevDrained\":false,\"result\":[],\"next\":null,\"key\":null},\"search\":{\"isFetching\":false,\"isDrained\":false,\"isPrevDrained\":false,\"result\":[],\"next\":null,\"key\":null},\"config\":{\"newCount\":0,\"strangerMessageSwitch\":false,\"strangerMessageUnread\":false,\"friendCount\":0}},\"global\":{\"isChatMqttExisted\":false}},\"emoticons\":{\"emoticonGroupList\":[],\"emoticonGroupDetail\":{}},\"creator\":{\"tools\":{\"question\":{\"invitationCount\":{\"questionFolloweeCount\":0,\"questionTotalCount\":0}},\"recommend\":{\"recommendTimes\":{}}},\"explore\":{},\"levelUpperLimit\":10,\"mcn\":{},\"mcnManage\":{},\"tasks\":{},\"announcement\":{},\"creatorsRecommendInfo\":{}},\"creators\":{\"common\":{\"applyStatus\":{},\"rightsStatus\":{}},\"bayesDomains\":{\"status\":{},\"options\":{\"topDomains\":null,\"allDomains\":null,\"editable\":0},\"contents\":null},\"school\":{\"tabs\":[],\"contents\":[],\"banner\":null,\"entities\":{}},\"faq\":{\"tabs\":[],\"article\":{}},\"knowledgeIncome\":{},\"safeguardRights\":{},\"analytics\":{\"all\":{},\"answer\":{},\"zvideo\":{},\"article\":{},\"pin\":{},\"singleContent\":{}},\"account\":{\"growthLevel\":{}},\"KMResource\":{},\"training\":{},\"ToolsQuestion\":{\"goodatTopics\":[]},\"ToolsHotspot\":{\"domains\":[]},\"ToolsRecommend\":{},\"ToolsCustomPromotion\":{\"itemLists\":{},\"baseInfo\":{}},\"ToolsSearchQuestion\":{},\"editorSetting\":{},\"MCNManage\":{},\"knowledgeTasks\":{},\"incomeAnalysis\":{\"income\":{\"aggregation\":{}}},\"creationManage\":{\"editModal\":{\"status\":false}},\"activity\":{},\"announcement\":{},\"home\":{\"currentCreatorUrlToken\":null,\"rights\":[],\"newRights\":[],\"scoreInfo\":{},\"menusShowControlByServer\":{\"bVipRecomend\":false,\"creationRelationship\":false},\"newTasks\":{\"creatorTask\":{\"tasks\":[],\"des\":[]}},\"bannerList\":[],\"recentlyCreated\":[],\"homecard\":{}},\"videoSupport\":{\"textBenefit\":{}},\"videoDistribution\":{},\"profilePoster\":{\"creatorPosterConfig\":{},\"creatorPosterData\":{}}},\"question\":{\"followers\":{},\"concernedFollowers\":{},\"answers\":{},\"hiddenAnswers\":{},\"updatedAnswers\":{},\"ariaAnswers\":{},\"collapsedAnswers\":{},\"notificationAnswers\":{},\"invitedQuestions\":{\"total\":{\"count\":null,\"isEnd\":false,\"isLoading\":false,\"questions\":[]},\"followees\":{\"count\":null,\"isEnd\":false,\"isLoading\":false,\"questions\":[]}},\"laterQuestions\":{\"count\":null,\"isEnd\":false,\"isLoading\":false,\"questions\":[]},\"waitingQuestions\":{\"recommend\":{\"isEnd\":false,\"isLoading\":false,\"questions\":[]},\"invite\":{\"isEnd\":false,\"isLoading\":false,\"questions\":[]},\"newest\":{\"isEnd\":false,\"isLoading\":false,\"questions\":[]},\"hot\":{\"isEnd\":false,\"isLoading\":false,\"questions\":[]}},\"invitationCandidates\":{},\"inviters\":{},\"invitees\":{},\"similarQuestions\":{},\"questionBanners\":{},\"relatedCommodities\":{},\"bio\":{},\"brand\":{},\"permission\":{},\"adverts\":{},\"advancedStyle\":{},\"commonAnswerCount\":0,\"hiddenAnswerCount\":0,\"topicMeta\":{},\"bluestarRanklist\":{},\"relatedSearch\":{},\"autoInvitation\":{},\"simpleConcernedFollowers\":{},\"draftStatus\":{},\"disclaimers\":{},\"isShowMobileSignInModal\":false},\"shareTexts\":{},\"answers\":{\"voters\":{},\"copyrightApplicants\":{},\"favlists\":{},\"newAnswer\":{},\"entityWords\":{},\"concernedUpvoters\":{},\"simpleConcernedUpvoters\":{},\"paidContent\":{},\"settings\":{}},\"banner\":{},\"topic\":{\"bios\":{},\"hot\":{},\"newest\":{},\"top\":{},\"sticky\":{},\"pin\":{},\"unanswered\":{},\"questions\":{},\"zivdeo\":{},\"zvideo-new\":{},\"followers\":{},\"contributors\":{},\"parent\":{},\"children\":{},\"bestAnswerers\":{},\"wikiMeta\":{},\"index\":{},\"intro\":{},\"meta\":{},\"schema\":{},\"creatorWall\":{},\"wikiEditInfo\":{},\"committedWiki\":{},\"landingBasicData\":{},\"landingExcellentItems\":[],\"landingExcellentEditors\":[],\"landingCatalog\":[],\"landingEntries\":{}},\"explore\":{\"recommendations\":{},\"specials\":{\"entities\":{},\"order\":[]},\"roundtables\":{\"entities\":{},\"order\":[]},\"collections\":{},\"columns\":{},\"square\":{\"hotQuestionList\":[],\"potentialList\":[]}},\"articles\":{\"voters\":{},\"concernedUpvoters\":{}},\"favlists\":{\"relations\":{}},\"pins\":{\"reviewing\":{}},\"topstory\":{\"recommend\":{\"isFetching\":false,\"isDrained\":false,\"afterId\":0,\"items\":[],\"next\":null},\"follow\":{\"isFetching\":false,\"isDrained\":false,\"afterId\":0,\"items\":[],\"next\":null},\"followWonderful\":{\"isFetching\":false,\"isDrained\":false,\"afterId\":0,\"items\":[],\"next\":null},\"sidebar\":null,\"announcement\":{},\"hotList\":[],\"guestFeeds\":{\"isFetching\":false,\"isDrained\":false,\"afterId\":0,\"items\":[],\"next\":null},\"followExtra\":{\"isNewUser\":null,\"isFetched\":false,\"followCount\":0,\"followers\":[]},\"hotDaily\":{\"data\":[],\"paging\":{}},\"hotHighlight\":{\"isFetching\":false,\"isDrained\":false,\"data\":[],\"paging\":{}},\"banner\":{},\"commercialBanner\":{\"show\":false,\"banner\":{},\"trackData\":{}},\"video\":{\"items\":[],\"next\":null,\"isLoading\":false,\"isDrained\":false}},\"upload\":{},\"video\":{\"data\":{},\"shareVideoDetail\":{},\"last\":{}},\"zvideos\":{\"campaignVideoList\":{},\"campaigns\":{},\"tagoreCategory\":[],\"recommendations\":{},\"insertable\":{},\"recruit\":{\"form\":{\"platform\":\"\",\"nickname\":\"\",\"followerCount\":\"\",\"domain\":\"\",\"contact\":\"\"},\"submited\":false,\"ranking\":[]},\"qyActivityData\":{},\"talkActivityData\":{},\"party2022ActivityData\":{},\"batchVideos\":{},\"contribution\":{\"selectedContribution\":null,\"campaign\":null,\"configs\":{},\"contributionLists\":{},\"recommendQuestions\":{\"isLoading\":true,\"paging\":{\"isEnd\":false,\"isStart\":true,\"totals\":0},\"data\":[]},\"questionSearchResults\":{\"isLoading\":true,\"paging\":{\"isEnd\":false,\"isStart\":true,\"totals\":0},\"data\":[]}},\"creationReferences\":{},\"zvideoCollection\":{},\"zvideoGrant\":{},\"collectData\":{\"isFetching\":false,\"list\":[]},\"videoSource\":{\"isLoaded\":false}},\"guide\":{\"guide\":{\"isFetching\":false,\"isShowGuide\":false}},\"reward\":{\"answer\":{},\"article\":{},\"question\":{}},\"search\":{\"recommendSearch\":[],\"topSearch\":{},\"searchValue\":{},\"suggestSearch\":{},\"attachedInfo\":{\"generalByQuery\":{}},\"nextOffset\":{\"generalByQuery\":{}},\"topicReview\":{},\"sidebar\":{},\"calendar\":{},\"scores\":null,\"majors\":{},\"university\":{},\"generalByQuery\":{},\"generalByQueryInADay\":{},\"generalByQueryInAWeek\":{},\"generalByQueryInThreeMonths\":{},\"peopleByQuery\":{},\"topicByQuery\":{},\"zvideoByQuery\":{},\"scholarByQuery\":{},\"columnByQuery\":{},\"liveByQuery\":{},\"albumByQuery\":{},\"eBookByQuery\":{},\"kmGeneralByQuery\":{},\"kmCourseByQuery\":{},\"customFilter\":{\"requestFinished\":false,\"keys\":[],\"tags\":[]}},\"creatorSalt\":{\"recommendQuestionList\":[],\"bannerList\":[],\"claimBannerList\":[],\"sites\":[],\"domains\":{},\"hasRecored\":false,\"hasClaim\":false,\"hasContributedList\":[],\"notContributedList\":[],\"contributesTotal\":null,\"previewPageTitle\":\"\",\"previewPageContent\":\"\",\"restContributionNumber\":\"-\"},\"publicEditPermission\":{},\"readStatus\":{},\"draftHistory\":{\"history\":{},\"drafts\":{}},\"notifications\":{\"recent\":{\"isFetching\":false,\"isDrained\":false,\"isPrevDrained\":false,\"result\":[],\"next\":null,\"key\":null},\"history\":{\"isFetching\":false,\"isDrained\":false,\"isPrevDrained\":false,\"result\":[],\"next\":null,\"key\":null},\"notificationActors\":{\"isFetching\":false,\"isDrained\":false,\"isPrevDrained\":false,\"result\":[],\"next\":null,\"key\":null},\"recentNotificationEntry\":\"all\"},\"specials\":{\"entities\":{},\"all\":{\"data\":[],\"paging\":{},\"isLoading\":false}},\"collections\":{\"hot\":{\"data\":[],\"paging\":{},\"isLoading\":false},\"collectionFeeds\":{}},\"userProfit\":{\"permission\":{\"permissionStatus\":{\"zhiZixuan\":0,\"recommend\":-1,\"task\":0,\"plugin\":0,\"infinity\":0},\"visible\":false},\"linkCardLimit\":0},\"mcn\":{\"bindInfo\":{},\"memberCategoryList\":[],\"producerList\":[],\"categoryList\":[],\"lists\":{},\"banners\":{},\"protocolStatus\":{\"isAgreedNew\":true,\"isAgreedOld\":true},\"probationCountdownDays\":0},\"mcnActivity\":{\"household\":{\"products\":{},\"rankList\":{\"total\":{},\"yesterday\":{}}}},\"brand\":{\"contentPlugin\":{}},\"host\":{\"roundtable\":{\"subjects\":{},\"applications\":{\"total\":0},\"online\":{\"total\":0},\"applies\":{},\"details\":{},\"includedResource\":{},\"hotQuestions\":{},\"warmupContents\":{},\"batchInclude\":{}},\"special\":{\"applications\":{\"total\":0,\"pages\":{},\"entities\":{}},\"censorHistory\":{},\"drafts\":{}}},\"campaign\":{\"single\":{},\"list\":{},\"videoMakerAcq\":{},\"vote\":{},\"cardCollecting\":{\"message\":null,\"profile\":{\"balance\":\"0\",\"chance\":0,\"coinNum\":0,\"gatherClose\":false,\"isGotMagicCard\":false,\"isPay\":false,\"partitionStart\":false,\"totalDone\":0,\"withdrawStart\":false},\"sharePoster\":{\"share\":\"\",\"sendCard\":\"\",\"invite\":\"\"},\"shareLink\":null,\"shareIntention\":\"share\",\"shareKey\":null,\"shareCardId\":null,\"inviterInfo\":null,\"giverInfo\":null,\"prize\":null,\"receivedCard\":null,\"newCoinCount\":null,\"newCardList\":[],\"newUserCardCount\":1,\"taskList\":[],\"prizeList\":null,\"cardList\":null,\"panel\":{\"showTaskPanel\":false,\"showRewardPanel\":false},\"modal\":{\"showWelcomeModal\":false,\"showFusionModal\":false,\"showFusionPromptModal\":false,\"showShareModal\":false,\"showBackModal\":false}},\"zhiboPandian2020\":null,\"boarding\":{},\"searchGaokaoSubPage\":{},\"searchHealth\":{}},\"knowledgePlan\":{\"lists\":{},\"allCreationRankList\":{},\"featuredQuestions\":{}},\"wallE\":{\"protectHistory\":{\"total\":0,\"pages\":{},\"entities\":{}}},\"roundtables\":{\"hotQuestions\":{},\"warmupContents\":{},\"hotDiscussions\":{},\"selectedContents\":{},\"roundtables\":{}},\"helpCenter\":{\"entities\":{\"question\":{},\"category\":{}},\"categories\":[],\"commonQuestions\":[],\"relatedQuestions\":{},\"faqTypes\":[]},\"republish\":{},\"commercialReport\":{\"commercialTypes\":[]},\"creatorMCN\":{\"mcn\":{},\"mcnStatistics\":{},\"mcnRight\":{\"bind\":false,\"coupon\":false},\"isNoAuth\":false,\"creatorManageData\":[],\"creatorManageDataTotal\":1,\"mcnDomains\":[],\"bill\":{\"list\":{},\"detail\":{}},\"healthScore\":{\"healthScore\":\"0\",\"updateTime\":\"\",\"evaluate\":\"\"},\"healthScoreRecordInfo\":{},\"statisticHealthScoreData\":{},\"beforeDownloadCheckResult\":{}},\"commentManage\":{\"commentList\":{\"ids\":[],\"entities\":{},\"nextOffset\":0,\"urlToken\":\"\"},\"subCommentList\":{\"ids\":[],\"entities\":{},\"paging\":{\"next\":\"\",\"isEnd\":false}}},\"commentPermission\":{},\"creatorRightStatus\":{\"list\":[]},\"zhiPlus\":{\"permissionStatus\":9999},\"streaming\":{},\"creationRanking\":{},\"eduSections\":{\"eduSectionState\":{}},\"adPromotion\":{\"answer\":{},\"article\":{}},\"editVideo\":{\"editVideoEnabled\":false}},\"subAppName\":\"main\",\"spanName\":\"SignInHomepage\",\"canaryConfig\":{\"test_canary\":\"0\",\"use_new_player\":\"0\",\"player_vendor\":\"0\",\"use_hevc\":\"0\",\"upload_use_signature\":\"0\",\"use_backdrop_blur\":\"0\",\"article_title_imagex\":\"0\",\"play_station\":\"0\"}}</script><script crossorigin=\"\" src=\"https://static.zhihu.com/heifetz/vendor.5f3e51e68d56265eb628.js\"></script><script crossorigin=\"\" src=\"https://static.zhihu.com/event/react@17.0.2/umd/react.production.min.js\"></script><script crossorigin=\"\" src=\"https://static.zhihu.com/event/react-dom@17.0.2/umd/react-dom.production.min.js\"></script><script crossorigin=\"\" src=\"https://static.zhihu.com/event/react-dom@17.0.2/umd/react-dom-server.browser.production.min.js\"></script><script crossorigin=\"\" src=\"https://static.zhihu.com/heifetz/runtime.app.73779d00b235d9b296df.js\"></script><script crossorigin=\"\" src=\"https://static.zhihu.com/heifetz/4929.app.d4d2711f821f6fc4107b.js\"></script><script crossorigin=\"\" src=\"https://static.zhihu.com/heifetz/main.app.bb27aed8cb92d8205990.js\"></script><script crossorigin=\"\" src=\"https://static.zhihu.com/heifetz/chunks/shared-1dffcf43329e08de9bcf385e1895bae6667163e6.15aea201598053659d31.js\"></script><script crossorigin=\"\" src=\"https://static.zhihu.com/heifetz/chunks/main-signin-routes.27ef8a5c0983bd0928f3.js\"></script><script defer=\"\" src=\"https://static.zhihu.com/event/wza/4613/aria.js?appid=a3637ace5dc3a347f6863b0bac487599\" id=\"ariascripts\" wapForceOldFixed=\"false\" loadData=\"false\"></script></body><script src=\"https://hm.baidu.com/hm.js?98beee57fd2ef70ccdd5ca52b9740c49\" async=\"\"></script></html>\n"
     ]
    }
   ],
   "source": [
    "import requests\n",
    "\n",
    "response = requests.get(\"https://www.zhihu.com/\")\n",
    "\n",
    "print(response.status_code)  # 获取状态码\n",
    "print(response.headers)      # 获取响应头\n",
    "print(response.text)         # 获取文本内容\n"
   ]
  },
  {
   "cell_type": "markdown",
   "metadata": {},
   "source": [
    "通过使用 `.get()` 方法，我们已经完成了爬虫工作的第一步：获取网页的全部信息了。接下来，让我们学习一下关于 requests 库的其他操作。\n",
    "\n",
    "#### 2. 传递参数\n",
    "\n",
    "仔细回想上一节的内容，一个 HTTP 请求通常包含请求行、请求头和请求体，其中，请求头包含了请求的信息和附加内容，请求发起者的身份信息等等都包含在请求头之中。在我们使用 `.get()` 方法时，requests 库会自动帮我们生成请求头，但是这样一来，服务器很容易就能够知道请求发起者的身份是一个爬虫程序，而有些网站并不希望自己的服务对象是一个不能看广告的程序，就会拒绝我们的请求。因此，如果我们想要隐藏我们自己，就要指定信息进行修改。\n",
    "\n",
    "要对我们传递给服务器的信息进行修改，就要额外设置参数，比如：\n",
    "\n",
    "我们额外设置一个参数：`headers`，就像下面这样：\n"
   ]
  },
  {
   "cell_type": "code",
   "execution_count": 14,
   "metadata": {},
   "outputs": [
    {
     "name": "stdout",
     "output_type": "stream",
     "text": [
      "<Response [200]>\n"
     ]
    }
   ],
   "source": [
    "import requests\n",
    "\n",
    "headers = {\n",
    "    \"User-Agent\": \"Mozilla/5.0 (Windows NT 10.0; Win64; x64) AppleWebKit/537.36 (KHTML, like Gecko) Chrome/91.0.4472.124 Safari/537.36\"\n",
    "}\n",
    "response = requests.get(\"https://movie.douban.com/chart\", headers = headers)\n",
    "print(response)"
   ]
  },
  {
   "cell_type": "markdown",
   "metadata": {},
   "source": [
    "在上面的示例中，我们通过设置 `headers` 参数，将我们的身份模拟成了一个运行在 Windows 10 上的 Chrome 浏览器，观察服务器给我们的返回结果就可以发现，状态码从表示请求失败的 `418` 变为了代表请求成功的 `200`，我们的伪装成功骗过了网站的服务器。但是请先别急着骄傲，我们还没有大获全胜，如果你要爬取更多的信息，可能会触发网站的反爬虫机制，请让我们脚踏实地，一步步来。\n",
    "\n",
    "> 如果你想知道更多的 `user-agent`，可以试试看下面的方法：\n",
    "> 1. 打开你的浏览器，按 `F12` 或 `Ctrl + Shift + I`(或 `Cmd + Option + I`` 在 Mac 上)打开开发者工具，切换到 \"Network\" 或 \"网络\" 标签。\n",
    "> 2. 刷新页面或执行所需的操作，浏览器就会生成一个HTTP请求。\n",
    "> 3. 在开发者工具中，我们就将看到所有HTTP请求的列表。选择其中一个请求，然后在右侧的 \"Headers\" 或 \"标头\" 部分查找 \"User-Agent\" 头部，就可以看到浏览器的User-Agent信息。\n",
    "\n",
    "如果你感兴趣，还可以看看下面的拓展内容，这里列出了常见的我们可以修改的信息。\n"
   ]
  },
  {
   "cell_type": "markdown",
   "metadata": {},
   "source": [
    "::: {.callout-note}\n",
    "\n",
    "在 `requests` 库中，你可以使用参数来自定义和配置HTTP请求。这些参数通常是键值对，用于指定请求的一些特定要求或信息。以下是 `requests` 库中常见的一些参数及其用法：\n",
    "\n",
    "1. **params：** 用于向URL添加查询字符串参数，常用于GET请求。\n",
    "\n",
    "   ```python\n",
    "   import requests\n",
    "\n",
    "   params = {\"key1\": \"value1\", \"key2\": \"value2\"}\n",
    "   response = requests.get(\"https://www.example.com/api\", params=params)\n",
    "   ```\n",
    "\n",
    "   在上述示例中，`params` 参数将被添加到URL中，形成类似于 `https://www.example.com/api?key1=value1&key2=value2` 的请求。\n",
    "\n",
    "2. **headers：** 用于设置HTTP请求的头部信息，包括用户代理、授权信息等。\n",
    "\n",
    "   ```python\n",
    "   import requests\n",
    "\n",
    "   headers = {\"User-Agent\": \"MyApp/1.0\", \"Authorization\": \"Bearer token\"}\n",
    "   response = requests.get(\"https://www.example.com\", headers=headers)\n",
    "   ```\n",
    "\n",
    "   使用 `headers` 参数，您可以模拟不同的用户代理或提供身份验证信息。\n",
    "\n",
    "\n",
    "3. **data：** 用于发送表单数据或请求主体数据，通常与POST请求一起使用。\n",
    "\n",
    "   ```python\n",
    "   import requests\n",
    "\n",
    "   data = {\"username\": \"user\", \"password\": \"pass\"}\n",
    "   response = requests.post(\"https://www.example.com/login\", data=data)\n",
    "   ```\n",
    "\n",
    "   `data` 参数允许您将数据以表单形式发送给服务器。\n",
    "\n",
    "\n",
    "4. **json：** 用于发送JSON数据，通常与POST请求一起使用。\n",
    "\n",
    "   ```python\n",
    "   import requests\n",
    "\n",
    "   json_data = {\"key\": \"value\"}\n",
    "   response = requests.post(\"https://www.example.com/api\", json=json_data)\n",
    "   ```\n",
    "\n",
    "   `json` 参数允许您以JSON格式发送数据给服务器。\n",
    "\n",
    "\n",
    "5. **auth：** 用于进行基本身份验证，需要提供用户名和密码。\n",
    "\n",
    "   ```python\n",
    "   import requests\n",
    "\n",
    "   auth = (\"username\", \"password\")\n",
    "   response = requests.get(\"https://www.example.com/secure\", auth=auth)\n",
    "   ```\n",
    "\n",
    "   `auth` 参数用于访问需要身份验证的资源。\n",
    "\n",
    "\n",
    "6. **cookies：** 用于发送请求时附带的Cookies信息。\n",
    "\n",
    "   ```python\n",
    "   import requests\n",
    "\n",
    "   cookies = {\"session_id\": \"1234567890\"}\n",
    "   response = requests.get(\"https://www.example.com/profile\", cookies=cookies)\n",
    "   ```\n",
    "\n",
    "   `cookies` 参数可用于模拟登录状态或其他需要使用Cookies的情况。\n",
    "\n",
    "\n",
    "7. **files：** 用于上传文件，通常与POST请求一起使用。\n",
    "\n",
    "   ```python\n",
    "   import requests\n",
    "\n",
    "   files = {\"file\": open(\"data.txt\", \"rb\")}\n",
    "   response = requests.post(\"https://www.example.com/upload\", files=files)\n",
    "   ```\n",
    "\n",
    "   `files` 参数允许您上传文件。\n",
    "\n",
    "\n",
    "8. **timeout：** 用于设置请求的超时时间，防止长时间等待响应。\n",
    "\n",
    "   ```python\n",
    "   import requests\n",
    "   \n",
    "   response = requests.get(\"https://www.example.com\", timeout=5)\n",
    "   ```\n",
    "\n",
    "   `timeout` 参数指定了等待服务器响应的最大秒数。\n",
    "\n",
    "这些参数允许我们非常自由的自定义我们的请求内容，满足我们不同的需求，多多在编辑器里尝试一下，你会进步的很快。\n",
    "\n",
    ":::"
   ]
  },
  {
   "cell_type": "markdown",
   "metadata": {},
   "source": [
    "#### 3. 发送 `POST` 请求\n",
    "\n",
    "使用 requests 库，除了可以向服务器发送 `GET` 请求，还可以发送 `POST` 请求。发送 `POST` 请求的方法与传递参数的方法类似，都需要我们设置一个额外的参数。只不过此时，我们要设置的参数就是：`data`，并且，使用的方法变成了 `.post` 方法。\n",
    "\n",
    "先来看看下面的例子："
   ]
  },
  {
   "cell_type": "code",
   "execution_count": 15,
   "metadata": {},
   "outputs": [
    {
     "name": "stdout",
     "output_type": "stream",
     "text": [
      "POST 请求失败\n"
     ]
    }
   ],
   "source": [
    "import requests\n",
    "\n",
    "# 定义要提交的数据，可以是表单数据或 JSON 数据\n",
    "data = {\n",
    "    \"key1\": \"value1\",\n",
    "    \"key2\": \"value2\"\n",
    "}\n",
    "\n",
    "# 使用 requests.post() 发送 POST 请求\n",
    "response = requests.post(\"https://www.example.com/api\", data=data)\n",
    "\n",
    "# 处理响应\n",
    "if response.status_code == 200:\n",
    "    print(\"POST 请求成功\")\n",
    "    print(response.text)\n",
    "else:\n",
    "    print(\"POST 请求失败\")\n"
   ]
  },
  {
   "cell_type": "markdown",
   "metadata": {},
   "source": [
    "我们首先定义了要提交的数据，可以是一个字典，表示表单数据。然后，我们使用 `requests.post()` 方法发送 `POST` 请求到指定的 URL，同时将数据传递给 `data` 参数。最后，我们检查响应的状态码，如果状态码为 `200`，则表示请求成功，并打印响应内容。\n",
    "\n",
    "这样一来，我们就完成了 requests 库的基础学习，在后面的学习中，我们可以自如地使用 requests 库来抓取网页的内容了。当然，requests 库还有许多其他的功能，比如处理 HTTP 请求异常，这部分大家可以根据自己的精力选择性学习。\n",
    "\n",
    "#### 4. 处理异常\n",
    "\n",
    "在使用 requests 库进行网络请求时，可以通过捕获和处理异常来增强代码的健壮性，以应对网络请求过程中可能出现的各种异常情况。以下是一些常见的网络请求异常以及如何处理它们的详细介绍：\n",
    "\n",
    "1. **请求超时异常（Timeout）：**\n",
    "\n",
    "   请求超时异常是指在规定的时间内没有接收到服务器的响应。可以使用 `timeout` 参数来设置请求的最大等待时间。如果超过指定的时间仍未收到响应，将引发 `requests.exceptions.Timeout` 异常。"
   ]
  },
  {
   "cell_type": "code",
   "execution_count": null,
   "metadata": {},
   "outputs": [],
   "source": [
    "import requests\n",
    "\n",
    "try:\n",
    "    response = requests.get(\"https://www.example.com\", timeout=5)  # 设置超时时间为5秒\n",
    "    response.raise_for_status()  # 检查是否有错误的响应状态码\n",
    "except requests.exceptions.Timeout:\n",
    "    print(\"请求超时，请检查网络连接或增加超时时间。\")\n",
    "except requests.exceptions.RequestException as e:\n",
    "    print(f\"请求发生错误：{e}\")"
   ]
  },
  {
   "cell_type": "markdown",
   "metadata": {},
   "source": [
    "2. **请求错误异常（RequestException）：**\n",
    "\n",
    "   请求错误异常是一种捕获网络请求过程中各种错误的通用异常。它可以捕获请求超时、连接错误、DNS解析错误等各种可能的问题。"
   ]
  },
  {
   "cell_type": "code",
   "execution_count": null,
   "metadata": {},
   "outputs": [],
   "source": [
    "   import requests\n",
    "\n",
    "   try:\n",
    "       response = requests.get(\"https://www.example.com\")\n",
    "       response.raise_for_status()  # 检查是否有错误的响应状态码\n",
    "   except requests.exceptions.RequestException as e:\n",
    "       print(f\"请求发生错误：{e}\")"
   ]
  },
  {
   "cell_type": "markdown",
   "metadata": {},
   "source": [
    "3. **连接错误异常（ConnectionError）：**\n",
    "\n",
    "   连接错误异常是指在建立与服务器的连接时出现问题，可能是因为无法连接到服务器或目标服务器不可达。"
   ]
  },
  {
   "cell_type": "code",
   "execution_count": null,
   "metadata": {},
   "outputs": [],
   "source": [
    "   import requests\n",
    "\n",
    "   try:\n",
    "       response = requests.get(\"https://www.example.com\")\n",
    "       response.raise_for_status()  # 检查是否有错误的响应状态码\n",
    "   except requests.exceptions.ConnectionError:\n",
    "       print(\"无法连接到服务器，请检查网络连接或服务器是否可达。\")\n",
    "   except requests.exceptions.RequestException as e:\n",
    "       print(f\"请求发生错误：{e}\")"
   ]
  },
  {
   "cell_type": "markdown",
   "metadata": {},
   "source": [
    "4. **HTTP错误异常（HTTPError）：**\n",
    "\n",
    "   HTTP错误异常是指服务器返回了一个不成功的HTTP响应状态码（如4xx或5xx），表示请求未成功完成。可以使用 `response.raise_for_status()` 方法来检查响应状态码，如果状态码表明请求失败，将引发 `requests.exceptions.HTTPError` 异常。"
   ]
  },
  {
   "cell_type": "code",
   "execution_count": null,
   "metadata": {},
   "outputs": [],
   "source": [
    "   import requests\n",
    "   \n",
    "   try:\n",
    "       response = requests.get(\"https://www.example.com\")\n",
    "       response.raise_for_status()  # 检查是否有错误的响应状态码\n",
    "   except requests.exceptions.HTTPError as e:\n",
    "       print(f\"HTTP错误：{e}\")\n",
    "   except requests.exceptions.RequestException as e:\n",
    "       print(f\"请求发生错误：{e}\")"
   ]
  },
  {
   "cell_type": "markdown",
   "metadata": {},
   "source": [
    "通过适当捕获和处理这些异常，我们可以确保您的网络请求代码在面对问题时能够进行适当的处理，以提高代码的稳定性和可靠性。"
   ]
  }
 ],
 "metadata": {
  "kernelspec": {
   "display_name": "myenv",
   "language": "python",
   "name": "python3"
  },
  "language_info": {
   "codemirror_mode": {
    "name": "ipython",
    "version": 3
   },
   "file_extension": ".py",
   "mimetype": "text/x-python",
   "name": "python",
   "nbconvert_exporter": "python",
   "pygments_lexer": "ipython3",
   "version": "3.11.4"
  },
  "orig_nbformat": 4
 },
 "nbformat": 4,
 "nbformat_minor": 2
}
