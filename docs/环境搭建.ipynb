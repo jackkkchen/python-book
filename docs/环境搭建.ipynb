{
 "cells": [
  {
   "attachments": {},
   "cell_type": "markdown",
   "metadata": {},
   "source": [
    "\n",
    "# 环境搭建 {.unnumbered}\n",
    "\n",
    "## Python3.11.4安装\n",
    "要开始使用Python，首先需要安装Python。你可以访问[Python官网](https://www.python.org/downloads/)下载并安装适合你操作系统的Python版本。\n",
    "\n",
    "<!-- {{< video http://szmspython.oss-cn-hangzhou.aliyuncs.com/python3.11.mp4 title=\"Python3.11.4安装\" start=\"10\" aspect-ratio=\"4x3\" >}} -->\n",
    "\n",
    "<video width=\"600\" height=\"450\" controls>\n",
    "  <source src=\"http://szmspython.oss-cn-hangzhou.aliyuncs.com/python.mp4\">\n",
    "</video>"
   ]
  },
  {
   "attachments": {},
   "cell_type": "markdown",
   "metadata": {},
   "source": [
    "### 设置环境变量\n",
    "程序和可执行文件可以在许多目录，而这些路径很可能不在操作系统提供可执行文件的搜索路径中\n",
    "\n",
    "PATH (路径)存储在环境变量中，这是由操作系统维护的一个命名的字符串,这些变量包含可用的命令行解释器和其他程序的信息\n",
    "\n",
    "Unix 或 Windows 中路径变量为 PATH ( UNIX区分大小写，Windows 不区分大小写 )\n",
    "\n",
    "Mac OS 中，如果安装程序过程中改变了 python 的安装路径，如果想要在其它目录引用 Python，则必须在 PATH 中添加 Python 目录\n",
    "\n"
   ]
  },
  {
   "attachments": {},
   "cell_type": "markdown",
   "metadata": {},
   "source": [
    "### 在 Windows 设置环境变量\n",
    "Windows 系统中，把 Python 安装目录添加到 PATH 环境变量中流程如下\n",
    "\n",
    "1. 右键点击 计算机，然后点击 属性\n",
    "2. 然后点击\"高级系统设置\"\n",
    "3. 选择 系统变量 窗口下面的 Path ,双击即可！\n",
    "4. 然后在 Path 行，添加 python 安装路径即可，即在最后面，添加 ;`C:\\Python`\n",
    "5. 设置成功以后，在 `cmd` 命令行，输入命令 python，就可以有相关显示\n",
    "\n",
    "![](./img/python_install.png)"
   ]
  },
  {
   "attachments": {},
   "cell_type": "markdown",
   "metadata": {},
   "source": [
    "::: {.callout-note}\n",
    "Windows 下的 Python 一般安装在 `C:\\Python`目录。\n",
    ":::"
   ]
  },
  {
   "attachments": {},
   "cell_type": "markdown",
   "metadata": {},
   "source": [
    "安装完成后，打开命令行（Windows）或终端（macOS/Linux），输入以下命令，确认Python已成功安装：\n",
    "\n",
    "```bash\n",
    "python --version\n",
    "```\n",
    "\n",
    "输入python并按回车键。你将看到一条欢迎消息，其末尾\n",
    "\n",
    "为如下提示符：\n",
    "\n",
    "`\\>>>`\n",
    "\n",
    "如果情况确实如此，就可以输入Python命令了。\n",
    "\n",
    "请尝试像下面这样做，以核实它是否管用：\n",
    "\n",
    "`\\>>> print(\"Hello, world!\")`\n",
    "\n",
    "等你按下回车键后，将出现如下输出：\n",
    "\n",
    "`Hello, world!`\n",
    "\n",
    "`\\>>>`\n",
    "\n",
    "如果你熟悉其他计算机语言，可能习惯了在每行末尾都加上分号。在Python中无需这样做，因为在Python中，一行就是一行。接下来，我们将学习如何编写和运行Python程序。"
   ]
  },
  {
   "attachments": {},
   "cell_type": "markdown",
   "metadata": {},
   "source": [
    "## Visual Stuido Code安装\n",
    "Visual Studio Code是一个轻量级但功能强大的源代码编辑器，在你的桌面上运行，可用于Windows、macOS和Linux。它内置了对JavaScript、TypeScript和Node.js的支持，并有一个丰富的生态系统，可用于其他语言和运行系统（如C++、C#、Java、Python、PHP、Go、.NET）的扩展。\n",
    "\n",
    "<video width=\"600\" height=\"450\" controls>\n",
    "  <source src=\"http://szmspython.oss-cn-hangzhou.aliyuncs.com/vscode.mov\">\n",
    "</video>\n",
    "\n",
    "官方有非常丰富的文档提供学习参考，第一步可以从[入门视频开始](https://code.visualstudio.com/docs/getstarted/introvideos)\n"
   ]
  },
  {
   "attachments": {},
   "cell_type": "markdown",
   "metadata": {},
   "source": []
  }
 ],
 "metadata": {
  "language_info": {
   "name": "python"
  },
  "orig_nbformat": 4
 },
 "nbformat": 4,
 "nbformat_minor": 2
}
