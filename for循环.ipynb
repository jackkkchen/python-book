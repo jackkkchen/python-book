{
 "cells": [
  {
   "attachments": {},
   "cell_type": "markdown",
   "metadata": {},
   "source": [
    "---\n",
    "title: \"for循环自动获取股票数据\"\n",
    "format:\n",
    "  html:\n",
    "   code-fold: true\n",
    "   code-tools: true\n",
    "jupyter: python3\n",
    "---"
   ]
  },
  {
   "attachments": {},
   "cell_type": "markdown",
   "metadata": {},
   "source": [
    "## 为什么需要使用for循环？\n",
    "\n",
    "for循环简化了操作、处理大量数据，自动化了重复任务，并提供灵活的遍历顺序。它是一种强大的编程工具，帮助我们优化效率、减少冗余代码。无论初学者还是经验丰富的开发人员，for循环都是不可或缺的技术，提升代码质量、处理数据轻而易举。"
   ]
  },
  {
   "attachments": {},
   "cell_type": "markdown",
   "metadata": {},
   "source": [
    "## 案例背景\n",
    "\n",
    "使用for循环调用股票API `Tushare`获取日线行情。但是有限制调用页数。尝试使用for循环遍历列表，逐个发送API请求获取每只股票的日线行情数据。"
   ]
  },
  {
   "attachments": {},
   "cell_type": "markdown",
   "metadata": {},
   "source": [
    "## 操作步骤\n",
    "1. 通过`def`定义函数\n",
    "2. `for循环`遍历整个日线行情\n",
    "3. `concat`合并上下表"
   ]
  },
  {
   "attachments": {},
   "cell_type": "markdown",
   "metadata": {},
   "source": [
    "<video width=\"600\" height=\"450\" controls poster=\"img/for循环.jpg\">\n",
    "  <source src=\"http://szmspython.oss-cn-hangzhou.aliyuncs.com/python%20for.mp4\">\n",
    "</video>"
   ]
  },
  {
   "attachments": {},
   "cell_type": "markdown",
   "metadata": {},
   "source": []
  }
 ],
 "metadata": {
  "language_info": {
   "name": "python"
  },
  "orig_nbformat": 4
 },
 "nbformat": 4,
 "nbformat_minor": 2
}
