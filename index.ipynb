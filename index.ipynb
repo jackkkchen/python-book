{
  "cells": [
    {
      "cell_type": "raw",
      "metadata": {},
      "source": [
        "---\n",
        "title: Python入门学习指南\n",
        "format:\n",
        "  html:\n",
        "    code-fold: true\n",
        "    code-tools: true\n",
        "---"
      ],
      "id": "22c26e1e"
    },
    {
      "cell_type": "markdown",
      "metadata": {},
      "source": [
        "## Python入门学习指南：从编程小白到掌握Pandas {.unnumbered}\n",
        "\n",
        "### 简介\n",
        "本文是为编程新手准备的Python入门学习指南，旨在帮助初学者掌握Python编程语言以及使用Pandas库进行数据处理和分析。无论你是完全没有编程经验，还是有其他编程语言经验但对Python和Pandas感兴趣，本指南将提供基础知识和实践案例，帮助你快速入门。\n",
        "\n",
        "### 目录\n",
        "\n",
        "#### Python简介\n",
        "\n",
        "- Python的特点和应用领域\n",
        "- 安装Python和开发环境\n",
        "- 第一个Python程序\n",
        "- Python基础知识\n",
        "  \n",
        "\n",
        "####  数据类型和变量\n",
        "- 运算符和表达式\n",
        "- 条件语句和循环\n",
        "- 函数和模块\n",
        "- 数据处理与分析入门\n",
        "\n",
        "#### 数据处理和分析的基本概念\n",
        "- Pandas库介绍和安装\n",
        "- 数据结构：Series和DataFrame\n",
        "- 数据的读取和写入\n",
        "- 数据清洗和转换\n",
        "- 数据筛选和排序\n",
        "- 数据分组和聚合\n",
        "- 数据可视化\n",
        "- 实践案例\n",
        "\n",
        "####  使用Pandas进行数据分析\n",
        "- 从实际数据集中读取数据\n",
        "- 数据清洗和预处理\n",
        "- 探索性数据分析（EDA）\n",
        "- 数据可视化展示\n",
        "- 扩展学习资源\n",
        " \n",
        "####  推荐的Python和Pandas学习资源\n",
        "- [pandas官方文档(自译版)](https://pypandas.com/)\n",
        "- [Pandas对比SQL](https://pandas.pydata.org/pandas-docs/stable/getting_started/comparison/comparison_with_sql.html#)\n",
        "- [Plotly可视化官方文档](https://plotly.com/python/getting-started/)\n",
        "- [W3schools for Pandas](https://www.w3schools.com/python/pandas/default.asp)\n",
        "- <img src=\"./img/bil圆.svg\" alt=\"Bootstrap\" width=\"32\" height=\"32\"> [JackB站超级多的视频](https://space.bilibili.com/22770928) \n",
        "\n",
        "### 结语\n",
        "通过本文的学习，你将建立起对Python编程语言的基本理解，掌握Pandas库进行数据处理和分析的技能。无论你是想进入数据科学领域、进行数据挖掘，还是对数据处理和分析有兴趣，Python和Pandas都是你的理想选择。开始你的编程之旅吧，让Python和Pandas帮助你实现数据的无限可能！\n",
        "\n",
        "::: {.callout-note}\n",
        "本文档主要针对编程小白，将以简洁易懂的语言和实例进行解释。每个主题都会提供充足的示例代码和实践案例，以便读者能够实际运用所学知识。在学习过程中，不断实践和探索将是提高编程能力的关键，鼓励读者积极动手并勇于尝试。\n",
        ":::"
      ],
      "id": "820fee44"
    }
  ],
  "metadata": {
    "kernelspec": {
      "name": "python3",
      "language": "python",
      "display_name": "Python 3 (ipykernel)"
    }
  },
  "nbformat": 4,
  "nbformat_minor": 5
}