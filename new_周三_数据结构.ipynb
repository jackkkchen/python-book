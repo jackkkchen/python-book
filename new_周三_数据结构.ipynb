{
 "cells": [
  {
   "attachments": {},
   "cell_type": "markdown",
   "metadata": {},
   "source": [
    "---\n",
    "title: \"Python数据结构\"\n",
    "format:\n",
    "  html:\n",
    "   code-fold: false\n",
    "   code-tools: true\n",
    "jupyter: python3\n",
    "---"
   ]
  },
  {
   "cell_type": "markdown",
   "metadata": {},
   "source": [
    "<video controls style=\"width: 100%;\">\n",
    "  <source src=\"http://szmspython.oss-cn-hangzhou.aliyuncs.com/%E5%91%A8%E4%B8%80%E7%8E%AF%E5%A2%83%E6%90%AD%E5%BB%BA%26%E5%9F%BA%E7%A1%80%E8%AF%AD%E6%B3%95/%E6%96%B0%E6%89%8B%E7%AC%AC%E4%B8%80%E5%A4%A9/%E5%91%A8%E4%B8%89%E8%A7%86%E9%A2%91.mp4\" type=\"video/mp4\">\n",
    "</video>\n",
    "\n",
    "<style>\n",
    "video {\n",
    "  max-width: 100%;\n",
    "  height: auto;\n",
    "  \n",
    "}\n",
    "</style>\n",
    "\n",
    "\n",
    "\n",
    "## 数据结构"
   ]
  },
  {
   "cell_type": "markdown",
   "metadata": {},
   "source": [
    "数据结构是计算机科学中研究和组织数据的一种方式。它是一种将数据按照特定的方式进行存储、组织和管理的方法，以便于在计算机程序中进行访问、处理和操作。\n",
    "\n",
    "数据结构可以看作是数据的容器，它定义了数据元素之间的关系，以及对这些数据元素进行操作的方法。不同的数据结构适用于不同的应用场景，它们可以是简单的数据类型（如整数、浮点数等），也可以是复杂的组合类型（如列表、元组、字典等）。\n",
    "\n",
    "在Python中，数据结构是指用于存储和组织数据的不同方式和容器。Python提供了多种内置的数据结构，使得在程序中可以更加灵活地操作和处理数据。"
   ]
  },
  {
   "cell_type": "markdown",
   "metadata": {},
   "source": [
    "### 一、列表\n",
    "\n",
    "#### 1. 列表的概念\n",
    "\n",
    "列表 (Lists) 是Python中最常用的数据结构之一。它是一种有序的可变序列，可以存储多个元素，并且允许在列表中添加、删除、修改元素。列表使用方括号 `[ ]` 表示，各个元素之间用逗号 `,` 分隔。列表可以根据索引来访问和修改元素，可以存储不同类型的数据，并且允许重复元素。\n",
    "\n",
    "另外，列表支持嵌套，也就是说，列表中的元素，也可以是列表或任意类型的数据结构。\n",
    "\n",
    "尝试跟着下面的示例，来创建一些列表："
   ]
  },
  {
   "cell_type": "code",
   "execution_count": 16,
   "metadata": {},
   "outputs": [
    {
     "name": "stdout",
     "output_type": "stream",
     "text": [
      "[1, 2, 3, 4, 5]\n",
      "<class 'list'>\n",
      "['apple', 'banana', 'orange']\n",
      "<class 'list'>\n",
      "[1, 'hello', True, 3.14]\n",
      "<class 'list'>\n",
      "[[1, 2, 3], [4, 5, 6], [7, 8, 9]]\n",
      "<class 'list'>\n"
     ]
    }
   ],
   "source": [
    "# 创建一个整数列表\n",
    "numbers = [1, 2, 3, 4, 5]\n",
    "# 创建一个字符串列表\n",
    "fruits = [\"apple\", \"banana\", \"orange\"]\n",
    "# 创建一个混合类型的列表\n",
    "mixed_list = [1, \"hello\", True, 3.14]\n",
    "# 创建一个嵌套列表\n",
    "nested_list = [[1, 2, 3], [4, 5, 6], [7, 8, 9]]\n",
    "\n",
    "\n",
    "print(numbers)\n",
    "print(type(numbers))\n",
    "print(fruits)\n",
    "print(type(fruits))\n",
    "print(mixed_list)\n",
    "print(type(mixed_list))\n",
    "print(nested_list)\n",
    "print(type(nested_list))"
   ]
  },
  {
   "cell_type": "markdown",
   "metadata": {},
   "source": [
    "::: {.callout-note}\n",
    "列表是有序的序列，因此列表中的每一个元素都有一个索引，索引从`0`开始，从前往后，依次递增，表示元素在列表中的位置。\n",
    "\n",
    ":::\n",
    "\n",
    "现在，让我们来看一看，有哪些关于列表的常用操作。"
   ]
  },
  {
   "cell_type": "markdown",
   "metadata": {},
   "source": [
    "#### 2. 列表的常用操作\n",
    "\n",
    "##### (1) 查找\n",
    "\n",
    "由于列表是一种可以存储多个元素的有序的数据结构，并且支持索引，因此，我们可以根据索引来查找列表中特定的元素。\n",
    "\n",
    "**a. 索引查找**\n",
    "\n",
    "延续刚才的代码，使用索引来查找其中特定的元素。注意，如果列表是嵌套的列表，同样支持下标索引。在查询嵌套列表中的下标索引时，先找到内层列表的下标编号，在找到内层列表元素在内层列表中的下标编号，将二者联合查询。\n"
   ]
  },
  {
   "cell_type": "code",
   "execution_count": 17,
   "metadata": {},
   "outputs": [
    {
     "name": "stdout",
     "output_type": "stream",
     "text": [
      "1\n",
      "banana\n",
      "True\n",
      "1\n"
     ]
    }
   ],
   "source": [
    "print(numbers[0])\n",
    "print(fruits[1])\n",
    "print(mixed_list[2])\n",
    "print(nested_list[0][0])"
   ]
  },
  {
   "cell_type": "markdown",
   "metadata": {},
   "source": [
    "索引可以帮助我们取出特定位置的数据。另外，下标索引除了从前往后，从`0`开始递增排序，也可以从最后一个元素开始，从后往前，从`-1`开始向前递减排序。\n",
    "\n",
    "**b. `.index()`方法查找**\n",
    "\n",
    "除了直接使用索引进行查找指定元素，我们也可以使用`.index()`方法来查找元素的索引。如果元素不存在，则会抛出ValueError异常。该方法返回列表中第一个匹配的元素的索引。\n",
    "\n",
    "试试看下面的代码，你就可以得到特定元素的索引。"
   ]
  },
  {
   "cell_type": "code",
   "execution_count": 18,
   "metadata": {},
   "outputs": [
    {
     "name": "stdout",
     "output_type": "stream",
     "text": [
      "0\n",
      "0\n",
      "3\n",
      "0\n"
     ]
    }
   ],
   "source": [
    "print(numbers.index(1))\n",
    "print(fruits.index('apple'))\n",
    "print(mixed_list.index(3.14))\n",
    "print(nested_list.index([1, 2, 3]))"
   ]
  },
  {
   "cell_type": "markdown",
   "metadata": {},
   "source": [
    "在使用下标索引时，要注意索引的取值范围，超出范围将无法取出元素，并且报错。"
   ]
  },
  {
   "cell_type": "markdown",
   "metadata": {},
   "source": [
    "##### (2) 修改\n",
    "\n",
    "在Python中，列表是可变的，我们可以在需要时对列表中的元素进行修改操作。\n",
    "\n",
    "与查找元素一样，修改列表中的元素也是通过索引实现的。"
   ]
  },
  {
   "cell_type": "code",
   "execution_count": 19,
   "metadata": {},
   "outputs": [
    {
     "name": "stdout",
     "output_type": "stream",
     "text": [
      "[1, 2, 3, 4, 5]\n",
      "[1, 2, 10, 4, 5]\n"
     ]
    }
   ],
   "source": [
    "# 查看原列表中的内容\n",
    "print(numbers)\n",
    "\n",
    "# 修改列表中的元素\n",
    "numbers[2] = 10\n",
    "\n",
    "# 查看修改过的列表\n",
    "print(numbers)"
   ]
  },
  {
   "cell_type": "markdown",
   "metadata": {},
   "source": [
    "列表的可变性使得它在存储和处理数据时非常灵活，在修改列表时，要确保操作的正确性，以避免出现意外的结果。"
   ]
  },
  {
   "cell_type": "markdown",
   "metadata": {},
   "source": [
    "##### (3) 增加元素\n",
    "\n",
    "在Python中，向列表中增加元素一共有两种方法：\n",
    "\n",
    "**a. 在列表末尾添加元素**\n",
    "\n",
    "使用`append()`方法可以在列表的末尾添加元素，使用方法如下例所示："
   ]
  },
  {
   "cell_type": "code",
   "execution_count": 20,
   "metadata": {},
   "outputs": [
    {
     "name": "stdout",
     "output_type": "stream",
     "text": [
      "['apple', 'banana', 'orange']\n",
      "['apple', 'banana', 'orange', 'grape']\n"
     ]
    }
   ],
   "source": [
    "# 查看原列表\n",
    "print(fruits)\n",
    "\n",
    "# 在列表末尾添加元素\n",
    "fruits.append(\"grape\")\n",
    "\n",
    "# 查看修改过的列表\n",
    "print(fruits)"
   ]
  },
  {
   "cell_type": "markdown",
   "metadata": {},
   "source": [
    "**b. 在指定位置插入元素**\n",
    "\n",
    "使用`insert()`方法可以在列表中的指定位置插入元素，与修改元素一样，我们也需要使用索引用以定位。\n",
    "\n",
    "该方法在使用时，要在括号中填入两个参数，第一个参数为索引，第二个参数为添加的元素。`insert()`"
   ]
  },
  {
   "cell_type": "code",
   "execution_count": 21,
   "metadata": {},
   "outputs": [
    {
     "name": "stdout",
     "output_type": "stream",
     "text": [
      "['apple', 'banana', 'orange', 'grape']\n",
      "['apple', 'banana', 'watermelon', 'orange', 'grape']\n"
     ]
    }
   ],
   "source": [
    "# 查看原列表\n",
    "print(fruits)\n",
    "\n",
    "# 在指定位置添加元素\n",
    "fruits.insert(2,\"watermelon\")\n",
    "\n",
    "# 查看修改过的列表\n",
    "print(fruits)"
   ]
  },
  {
   "cell_type": "markdown",
   "metadata": {},
   "source": [
    "##### (4) 追加多个元素\n",
    "\n",
    "有时候，我们会遇见需要追加多个元素的情况，可以使用`extend()`方法，将其它数据容器的内容取出，依次追加到列表尾部。其语法为：\n"
   ]
  },
  {
   "cell_type": "code",
   "execution_count": 22,
   "metadata": {},
   "outputs": [
    {
     "name": "stdout",
     "output_type": "stream",
     "text": [
      "[1, 2, 10, 4, 5, 'apple', 'banana', 'watermelon', 'orange', 'grape']\n"
     ]
    }
   ],
   "source": [
    "numbers.extend(fruits)\n",
    "\n",
    "print(numbers)"
   ]
  },
  {
   "cell_type": "markdown",
   "metadata": {},
   "source": [
    "##### (5) 删除元素\n",
    "\n",
    "在Python中，有三种常用的方法可以删除列表中的元素。\n",
    "\n",
    "**a. `del`方法**\n",
    "\n",
    "使用`del`方法将根据索引删除指定位置的元素。"
   ]
  },
  {
   "cell_type": "code",
   "execution_count": 23,
   "metadata": {},
   "outputs": [
    {
     "name": "stdout",
     "output_type": "stream",
     "text": [
      "[1, 2, 10, 4, 5, 'apple', 'banana', 'watermelon', 'orange', 'grape']\n",
      "[1, 2, 10, 5, 'apple', 'banana', 'watermelon', 'orange', 'grape']\n"
     ]
    }
   ],
   "source": [
    "# 查看原列表\n",
    "print(numbers)\n",
    "\n",
    "# 根据索引，删除指定位置的元素\n",
    "del numbers[3]\n",
    "\n",
    "# 查看修改过的列表\n",
    "print(numbers)\n"
   ]
  },
  {
   "cell_type": "markdown",
   "metadata": {},
   "source": [
    "**b. `pop()`方法**\n",
    "\n",
    "`pop()`方法在删除指定索引位置的元素时，还会将其返回出来，你可以使用一个变量来接收这个返回值。\n",
    "\n",
    "::: {.callout-note}\n",
    "你可以将`pop()`方法的逻辑理解为，将列表中指定位置的元素提取了出来，并且不再放回原列表。\n",
    "\n",
    ":::\n",
    "\n",
    "如果不向括号中填入索引，`pop()`方法将默认删除末尾元素。"
   ]
  },
  {
   "cell_type": "code",
   "execution_count": 24,
   "metadata": {},
   "outputs": [
    {
     "name": "stdout",
     "output_type": "stream",
     "text": [
      "[1, 2, 10, 5, 'apple', 'banana', 'watermelon', 'orange', 'grape']\n",
      "[1, 10, 5, 'apple', 'banana', 'watermelon', 'orange', 'grape']\n",
      "2\n"
     ]
    }
   ],
   "source": [
    "# 查看原列表\n",
    "print(numbers)\n",
    "\n",
    "# 根据索引，删除指定位置的元素\n",
    "popped_element = numbers.pop(1)\n",
    "\n",
    "# 查看修改过的列表\n",
    "print(numbers)\n",
    "print(popped_element)"
   ]
  },
  {
   "cell_type": "markdown",
   "metadata": {},
   "source": [
    "**c. `remove()`方法**\n",
    "\n",
    "使用`remove()`方法将会删除第一个匹配的元素，如果不存在则会抛出异常。"
   ]
  },
  {
   "cell_type": "code",
   "execution_count": 25,
   "metadata": {},
   "outputs": [
    {
     "name": "stdout",
     "output_type": "stream",
     "text": [
      "['apple', 'banana', 'watermelon', 'orange', 'grape']\n",
      "['apple', 'watermelon', 'orange', 'grape']\n"
     ]
    }
   ],
   "source": [
    "# 查看原列表\n",
    "print(fruits)\n",
    "\n",
    "# 删除指定的元素\n",
    "fruits.remove(\"banana\")\n",
    "\n",
    "# 查看修改过的列表\n",
    "print(fruits)"
   ]
  },
  {
   "cell_type": "markdown",
   "metadata": {},
   "source": [
    "列表是Python编程中非常常用的数据结构，它可以用于存储各种类型的数据，并且允许灵活地对数据进行增删改查操作，提供了强大的功能来处理和组织数据。\n",
    "\n",
    "大家可以试着创建一个新的列表，并对它进行添加、删除、修改以及查找等操作，以加深对列表的理解。"
   ]
  },
  {
   "cell_type": "markdown",
   "metadata": {},
   "source": [
    "### 二、元组\n",
    "\n",
    "#### 1. 元组的概念\n",
    "\n",
    "元组（Tuple）是Python中的一种数据结构，类似于列表，但具有一些重要的区别。元组是有序的，可以包含多个元素，而且一旦创建后，其元素是不可变的，即不可被修改。元组使用圆括号`()`表示，元素之间用逗号`,`分隔。\n",
    "\n",
    "与列表不同，元组的不可变性使得它适用于存储那些不希望被改变的数据，例如坐标、日期、配置信息等。\n",
    "\n",
    "与列表相似的是，元组也支持嵌套操作，这意味着我们可以在一个元组中包含其他元组或任意类型的数据结构，包括列表、字典等。\n",
    "\n",
    "::: {.callout-note}\n",
    "可以认为元组就是一个只读的列表，但是要注意元组内只有一个数据时，这个数据后也要加上`,`\n",
    "\n",
    ":::"
   ]
  },
  {
   "cell_type": "code",
   "execution_count": 26,
   "metadata": {},
   "outputs": [
    {
     "name": "stdout",
     "output_type": "stream",
     "text": [
      "(1, 2, 3, 4, 5)\n",
      "<class 'tuple'>\n",
      "('apple', 'banana', 'orange')\n",
      "<class 'tuple'>\n",
      "[1, 'hello', True, 3.14]\n",
      "<class 'list'>\n",
      "[[1, 2, 3], [4, 5, 6], [7, 8, 9]]\n",
      "<class 'list'>\n"
     ]
    }
   ],
   "source": [
    "# 创建一个整数元组\n",
    "numbers = (1, 2, 3, 4, 5)\n",
    "\n",
    "# 创建一个字符串元组\n",
    "fruits = (\"apple\", \"banana\", \"orange\")\n",
    "\n",
    "# 创建一个混合类型的元组\n",
    "mixed_tuple = (1, \"hello\", True, 3.14)\n",
    "\n",
    "print(numbers)\n",
    "print(type(numbers))\n",
    "print(fruits)\n",
    "print(type(fruits))\n",
    "print(mixed_list)\n",
    "print(type(mixed_list))\n",
    "print(nested_list)\n",
    "print(type(nested_list))"
   ]
  },
  {
   "cell_type": "markdown",
   "metadata": {},
   "source": [
    "::: {.callout-note}\n",
    "元组也是有序的序列，元组中的每一个元素都有一个索引，索引从`0`开始，从前往后，依次递增，表示元素在元组中的位置。\n",
    "\n",
    ":::"
   ]
  },
  {
   "cell_type": "markdown",
   "metadata": {},
   "source": [
    "#### 2. 元组的常用操作\n",
    "\n",
    "##### (1) 查找\n",
    "\n",
    "元组具有与列表一样的下标索引规则，因此也可以通过下标索引进行查找操作。\n",
    "\n",
    "**a. 索引查找**"
   ]
  },
  {
   "cell_type": "code",
   "execution_count": 27,
   "metadata": {},
   "outputs": [
    {
     "name": "stdout",
     "output_type": "stream",
     "text": [
      "1\n",
      "banana\n"
     ]
    }
   ],
   "source": [
    "print(numbers[0])  # 输出：1\n",
    "print(fruits[1])   # 输出：\"banana\""
   ]
  },
  {
   "cell_type": "markdown",
   "metadata": {},
   "source": [
    "**b. `index()`方法查找**"
   ]
  },
  {
   "cell_type": "code",
   "execution_count": 28,
   "metadata": {},
   "outputs": [
    {
     "name": "stdout",
     "output_type": "stream",
     "text": [
      "0\n",
      "0\n",
      "3\n"
     ]
    }
   ],
   "source": [
    "print(numbers.index(1))\n",
    "print(fruits.index('apple'))\n",
    "print(mixed_list.index(3.14))"
   ]
  },
  {
   "cell_type": "markdown",
   "metadata": {},
   "source": [
    "##### (2) 尝试修改\n",
    "\n",
    "与列表不同的是，元组中的内容是不可变的，因此无法直接修改元组中的元素，如果尝试修改则会引发异常"
   ]
  },
  {
   "cell_type": "code",
   "execution_count": 29,
   "metadata": {},
   "outputs": [
    {
     "ename": "TypeError",
     "evalue": "'tuple' object does not support item assignment",
     "output_type": "error",
     "traceback": [
      "\u001b[1;31m---------------------------------------------------------------------------\u001b[0m",
      "\u001b[1;31mTypeError\u001b[0m                                 Traceback (most recent call last)",
      "Cell \u001b[1;32mIn[29], line 1\u001b[0m\n\u001b[1;32m----> 1\u001b[0m numbers[\u001b[39m2\u001b[39;49m] \u001b[39m=\u001b[39m \u001b[39m10\u001b[39m\n",
      "\u001b[1;31mTypeError\u001b[0m: 'tuple' object does not support item assignment"
     ]
    }
   ],
   "source": [
    "numbers[2] = 10"
   ]
  },
  {
   "cell_type": "markdown",
   "metadata": {},
   "source": [
    "::: {.callout-note}\n",
    "当元组中包含嵌套的列表时，我们可以修改列表中的元素，但不能改变列表本身的数据类型。\n",
    "\n",
    ":::"
   ]
  },
  {
   "cell_type": "markdown",
   "metadata": {},
   "source": [
    "##### (3) 解包\n",
    "\n",
    "在Python中，解包（Unpacking）是一种特殊的操作，用于将一个序列（例如列表、元组）或其他可迭代对象中的元素，分别赋值给多个变量。解包可以在一行代码中同时为多个变量赋值，从而方便地提取序列或可迭代对象中的元素。\n",
    "\n",
    "解包的语法非常简单，通常使用等号（=）将目标序列与变量列表相结合。要注意的是，被解包的序列中的元素数量必须与变量的数量相匹配，否则会引发ValueError异常。"
   ]
  },
  {
   "cell_type": "code",
   "execution_count": 30,
   "metadata": {},
   "outputs": [
    {
     "name": "stdout",
     "output_type": "stream",
     "text": [
      "10\n",
      "20\n"
     ]
    }
   ],
   "source": [
    "point = (10, 20)\n",
    "x, y = point\n",
    "print(x)\n",
    "print(y)"
   ]
  },
  {
   "cell_type": "markdown",
   "metadata": {},
   "source": [
    "元组的不可变性意味着一旦创建了元组，它的内容不会被修改，因此元组通常用于存储一组相关的值，以及在函数返回多个值时使用。虽然元组的内容不可变，但元组本身可以被重新赋值，因此可以用来在不可变和可变数据之间进行转换。"
   ]
  },
  {
   "cell_type": "markdown",
   "metadata": {},
   "source": [
    "### 三、字典\n",
    "\n",
    "#### 1. 字典的概念\n",
    "\n",
    "字典是Python中非常重要的数据结构，用于存储键值对(即key-value)映射。字典提供了一种灵活的方式来组织和访问数据，允许根据键快速查找和修改对应的值。字典用花括号`{}`来创建，每个键值对用冒号`:`分隔，键必须是不可变的类型，通常使用字符串或整数。\n",
    "\n",
    "注意，字典是无序键值对的集合，每个键都是唯一的。这也意味着，字典不可以通过索引来访问，只可以通过'键'来查找'值'。\n"
   ]
  },
  {
   "cell_type": "markdown",
   "metadata": {},
   "source": [
    "::: {.callout-note}\n",
    "字典中'键'对应的'值'可以为任意元素，也可以为列表、元组等数据结构。\n",
    "\n",
    ":::"
   ]
  },
  {
   "cell_type": "code",
   "execution_count": 31,
   "metadata": {},
   "outputs": [
    {
     "name": "stdout",
     "output_type": "stream",
     "text": [
      "{'name': 'John', 'age': 30, 'city': 'New York'}\n"
     ]
    }
   ],
   "source": [
    "# 创建一个空字典\n",
    "empty_dict = {}\n",
    "\n",
    "# 创建一个包含键值对的字典\n",
    "person = {\n",
    "    \"name\": \"John\",\n",
    "    \"age\": 30,\n",
    "    \"city\": \"New York\"\n",
    "}\n",
    "\n",
    "print(person)"
   ]
  },
  {
   "cell_type": "markdown",
   "metadata": {},
   "source": [
    "#### 2. 字典的常用操作\n",
    "\n",
    "##### (1) 查找\n",
    "\n",
    "在字典中，由于字典自身的无序性，所以需要使用'键'来代替索引进行查找。"
   ]
  },
  {
   "cell_type": "code",
   "execution_count": 32,
   "metadata": {},
   "outputs": [
    {
     "name": "stdout",
     "output_type": "stream",
     "text": [
      "John\n",
      "30\n"
     ]
    }
   ],
   "source": [
    "print(person[\"name\"])\n",
    "print(person[\"age\"])"
   ]
  },
  {
   "cell_type": "markdown",
   "metadata": {},
   "source": [
    "但是在查找时要注意，如果输入的'键'不存在，会引发`KeyError`异常。为避免异常，可以使用`get()`方法来查找'键'对应的'值'。"
   ]
  },
  {
   "cell_type": "code",
   "execution_count": 33,
   "metadata": {},
   "outputs": [
    {
     "name": "stdout",
     "output_type": "stream",
     "text": [
      "New York\n",
      "None\n"
     ]
    }
   ],
   "source": [
    "print(person.get(\"city\"))\n",
    "print(person.get(\"occupation\"))  # 键\"occupation\"不存在时返回None"
   ]
  },
  {
   "cell_type": "markdown",
   "metadata": {},
   "source": [
    "##### (2) 修改\n",
    "\n",
    "字典中的值是可以修改的，与查找过程类似，我们也需要通过指定'键'来更新对应的'值'。"
   ]
  },
  {
   "cell_type": "code",
   "execution_count": 34,
   "metadata": {},
   "outputs": [
    {
     "name": "stdout",
     "output_type": "stream",
     "text": [
      "31\n"
     ]
    }
   ],
   "source": [
    "person[\"age\"] = 31\n",
    "print(person[\"age\"])"
   ]
  },
  {
   "cell_type": "markdown",
   "metadata": {},
   "source": [
    "如果输入的'键'是字典中不存在的，则会向字典中添加一个键值对。"
   ]
  },
  {
   "cell_type": "code",
   "execution_count": 35,
   "metadata": {},
   "outputs": [
    {
     "name": "stdout",
     "output_type": "stream",
     "text": [
      "{'name': 'John', 'age': 31, 'city': 'New York', 'occupation': 'Engineer'}\n"
     ]
    }
   ],
   "source": [
    "person[\"occupation\"] = \"Engineer\"\n",
    "print(person)"
   ]
  },
  {
   "cell_type": "markdown",
   "metadata": {},
   "source": [
    "##### (3) 删除\n",
    "\n",
    "对于字典，我们可以使用`del`方法来进行删除指定的键值对。"
   ]
  },
  {
   "cell_type": "code",
   "execution_count": 36,
   "metadata": {},
   "outputs": [
    {
     "name": "stdout",
     "output_type": "stream",
     "text": [
      "{'name': 'John', 'city': 'New York', 'occupation': 'Engineer'}\n"
     ]
    }
   ],
   "source": [
    "# 使用del删除指定键值对\n",
    "del person[\"age\"]\n",
    "\n",
    "# 输出结果\n",
    "print(person)"
   ]
  },
  {
   "cell_type": "markdown",
   "metadata": {},
   "source": [
    "也可以使用`.clear()`方法清空字典中的所有条目。"
   ]
  },
  {
   "cell_type": "code",
   "execution_count": 37,
   "metadata": {},
   "outputs": [
    {
     "name": "stdout",
     "output_type": "stream",
     "text": [
      "{}\n"
     ]
    }
   ],
   "source": [
    "# 使用clear()清空字典\n",
    "person.clear()\n",
    "\n",
    "# 输出结果\n",
    "print(person)"
   ]
  },
  {
   "attachments": {},
   "cell_type": "markdown",
   "metadata": {},
   "source": [
    "字典Dict中键和值是一 一对应的，键是唯一的，如果重复最后的一个键【值】对会替换前面的。若一个键中需要存放多个值，可以考虑使用元组Tuple和列表List\n",
    "。\n",
    "\n",
    "字典是Python编程中非常重要的数据结构，它允许将数据组织为键值对的形式，方便快速查找和修改数据。字典的灵活性和高效性使其在很多场景中得到广泛应用，例如用于存储配置信息、处理JSON数据、构建数据库等。"
   ]
  },
  {
   "cell_type": "markdown",
   "metadata": {},
   "source": [
    "### 四、数据结构的通用操作"
   ]
  },
  {
   "cell_type": "markdown",
   "metadata": {},
   "source": [
    "数据结构尽管各自有各自的特点，但是也存在一些通用的操作。\n",
    "\n",
    "#### 1. 通用的统计操作\n",
    "\n",
    "::: {.callout-note}\n",
    "字符串的大小比较是通过`ASCⅡ`码表进行的，从头到尾，一位位进行比较，其中一位大，后面就无需比较了。对于单个字符，将其转换为`ASCⅡ`码表中对应的码值数字后来确定大小。\n",
    "\n",
    ":::"
   ]
  },
  {
   "cell_type": "markdown",
   "metadata": {},
   "source": [
    "##### (1) 统计元素个数"
   ]
  },
  {
   "cell_type": "code",
   "execution_count": null,
   "metadata": {},
   "outputs": [],
   "source": [
    "len(容器)"
   ]
  },
  {
   "cell_type": "markdown",
   "metadata": {},
   "source": [
    "##### (2) 统计最大/最小元素"
   ]
  },
  {
   "cell_type": "code",
   "execution_count": null,
   "metadata": {},
   "outputs": [],
   "source": [
    "# 统计最大元素\n",
    "max(容器)\n",
    "\n",
    "# 统计最小元素\n",
    "min(容器)"
   ]
  },
  {
   "cell_type": "markdown",
   "metadata": {},
   "source": [
    "#### 2. 通用转换功能\n",
    "\n",
    "1. 使用 `list()` 函数将`元组`转换为`列表`。\n",
    "2. 使用 `tuple()` 函数将`列表`转换为`元组`"
   ]
  },
  {
   "cell_type": "code",
   "execution_count": null,
   "metadata": {},
   "outputs": [],
   "source": [
    "\"\"\"\n",
    "列表、元组互相转换时，看起来会好像只有括号的形式变了\n",
    "\"\"\"\n",
    "\n",
    "# 将给定容器转换为列表\n",
    "list(容器)\n",
    "\t\"\"\"\n",
    "\t* 字符串列表时，会将字符串内的每一个字符提取出来作为列表内的一个新元素\n",
    "\t* 字典转列表时，会舍弃value，只保留key作为列表里面的元素\n",
    "\t\"\"\"\n",
    "    \n",
    "    \n",
    "# 将给定容器转换为元组\n",
    "tuple(容器)\n",
    "\t\"\"\"\n",
    "\t* 字符串元组时，会将字符串内的每一个字符提取出来作为元组内的一个新元素\n",
    "\t* 字典转元组时，会舍弃value，只保留key作为元组里面的元素\n",
    "\t\"\"\"\n",
    "    "
   ]
  },
  {
   "cell_type": "code",
   "execution_count": 38,
   "metadata": {},
   "outputs": [
    {
     "name": "stdout",
     "output_type": "stream",
     "text": [
      "[1, 2, 3, 4, 5]\n"
     ]
    }
   ],
   "source": [
    "# 元组转列表\n",
    "my_tuple = (1, 2, 3, 4, 5)\n",
    "my_list = list(my_tuple)\n",
    "print(my_list)"
   ]
  },
  {
   "cell_type": "code",
   "execution_count": 39,
   "metadata": {},
   "outputs": [
    {
     "name": "stdout",
     "output_type": "stream",
     "text": [
      "(1, 2, 3, 4, 5)\n"
     ]
    }
   ],
   "source": [
    "# 列表转元组\n",
    "my_list = [1, 2, 3, 4, 5]\n",
    "my_tuple = tuple(my_list)\n",
    "print(my_tuple)"
   ]
  },
  {
   "cell_type": "code",
   "execution_count": 40,
   "metadata": {},
   "outputs": [
    {
     "name": "stdout",
     "output_type": "stream",
     "text": [
      "['name', 'age', 'city']\n",
      "<class 'list'>\n"
     ]
    }
   ],
   "source": [
    "# keys() 是一个字典(Dictionary)对象的方法，用于返回字典中所有的键\n",
    "\n",
    "my_dict = {\"name\": \"John\", \"age\": 25, \"city\": \"New York\"}\n",
    "my_list = list(my_dict.keys())\n",
    "print(my_list)\n",
    "\n",
    "print(type(my_list))\n"
   ]
  },
  {
   "cell_type": "markdown",
   "metadata": {},
   "source": [
    "如果想要将字典转换为元组，可以使用`items()`方法。"
   ]
  },
  {
   "cell_type": "code",
   "execution_count": 41,
   "metadata": {},
   "outputs": [
    {
     "name": "stdout",
     "output_type": "stream",
     "text": [
      "(('name', 'John'), ('age', 25), ('city', 'New York'))\n",
      "<class 'tuple'>\n"
     ]
    }
   ],
   "source": [
    "# 使用 items() 方法获取字典的键值对，然后使用 tuple() 函数将键值对转换为元组。\n",
    "\n",
    "my_dict = {\"name\": \"John\", \"age\": 25, \"city\": \"New York\"}\n",
    "my_tuple = tuple(my_dict.items())\n",
    "print(my_tuple)\n",
    "\n",
    "print(type(my_tuple))\n"
   ]
  },
  {
   "cell_type": "markdown",
   "metadata": {},
   "source": [
    "#### 3. 通用排序功能\n",
    "\n",
    "使用`sorted`函数，可以将容器从小到大排序；如果添加`reverse=True`参数，则会将排序结果反转。"
   ]
  },
  {
   "cell_type": "code",
   "execution_count": null,
   "metadata": {},
   "outputs": [],
   "source": [
    "sorted(容器, reverse=True)\n",
    "# 使用sorted函数进行排序后，会将内容全部转换为列表对象，实际上，这个函数就是将排序结果放入了列表之中。"
   ]
  },
  {
   "cell_type": "markdown",
   "metadata": {},
   "source": [
    "### 五、列表、元组、字典的异同点\n",
    "\n",
    "#### 1. 列表、元组、字典的相同点：\n",
    "\n",
    "1. 都是Python中常用的数据结构，用于存储和组织数据。\n",
    "2. 都可以存储多个元素，可以包含不同类型的数据。\n",
    "3. 都支持索引访问，可以根据位置获取元素。\n",
    "4. 都可以用于存储任意数量的数据项。\n",
    "5. 都可以通过迭代和循环遍历其中的元素。\n",
    "\n",
    "#### 2. 列表、元组、字典的不同点：\n",
    "\n",
    "1. 可变性：\n",
    "   - 列表是可变的，可以随时添加、删除和修改其中的元素。\n",
    "   - 元组是不可变的，一旦创建了元组，就不能修改其中的元素。\n",
    "   - 字典也是可变的，可以根据键添加、删除和修改对应的值。\n",
    "\n",
    "2. 创建方式：\n",
    "   - 列表使用方括号 `[]` 创建。\n",
    "   - 元组使用圆括号 `()` 创建。\n",
    "   - 字典使用花括号 `{}` 创建，每个键值对用冒号 `:` 分隔。\n",
    "\n",
    "3. 可以包含的数据类型：\n",
    "   - 列表和元组都可以包含不同类型的数据，甚至可以包含其他列表或元组（嵌套结构）。\n",
    "   - 字典的值可以是任意类型的数据，而键必须是不可变的类型，通常使用字符串或整数。\n",
    "\n",
    "4. 访问元素方式：\n",
    "   - 列表和元组使用索引来访问元素，索引从0开始。\n",
    "   - 字典使用键来查找对应的值，键必须是唯一的。\n",
    "\n",
    "5. 适用场景：\n",
    "   - 列表适用于存储有序、可变的数据集合，常用于保存一组相关的数据项。\n",
    "   - 元组适用于存储有序、不可变的数据集合，常用于函数返回多个值或作为字典的键。\n",
    "   - 字典适用于存储键值对映射，常用于需要通过键快速查找对应值的情况。\n",
    "\n",
    "总的来说，列表、元组和字典都是有用且重要的数据结构，根据不同的需求和场景，我们可以灵活地选择使用其中的任何一个或多个来处理和组织数据。"
   ]
  }
 ],
 "metadata": {
  "kernelspec": {
   "display_name": "Python 3",
   "language": "python",
   "name": "python3"
  },
  "language_info": {
   "codemirror_mode": {
    "name": "ipython",
    "version": 3
   },
   "file_extension": ".py",
   "mimetype": "text/x-python",
   "name": "python",
   "nbconvert_exporter": "python",
   "pygments_lexer": "ipython3",
   "version": "3.11.4"
  },
  "orig_nbformat": 4
 },
 "nbformat": 4,
 "nbformat_minor": 2
}
