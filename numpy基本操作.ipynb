{
  "cells": [
    {
      "cell_type": "raw",
      "id": "eebf00a5",
      "metadata": {},
      "source": [
        "---\n",
        "title: NumPy基本操作\n",
        "format:\n",
        "  html:\n",
        "    code-fold: false\n",
        "    code-tools: true\n",
        "---"
      ]
    },
    {
      "attachments": {},
      "cell_type": "markdown",
      "id": "79f6977e",
      "metadata": {},
      "source": [
        "## 数组的形状操作*\n",
        "\n",
        "::: {.callout-note}\n",
        "重塑数组的形状或添加新轴不会改变元素，只会改变数组的形状。\n",
        "\n",
        ":::\n"
      ]
    },
    {
      "cell_type": "code",
      "execution_count": 8,
      "id": "0ca038f5",
      "metadata": {},
      "outputs": [
        {
          "name": "stdout",
          "output_type": "stream",
          "text": [
            "原数组:[0 1 2 3 4 5]\n",
            "重塑形状:\n",
            "[[0 1 2]\n",
            " [3 4 5]]\n",
            "添加新轴,从一维转为二维:\n",
            "[[0 1 2 3 4 5]]\n",
            "相当于在索引位置0处添加轴:\n",
            "[[0 1 2 3 4 5]]\n",
            "添加新轴,转换为列向量:\n",
            "[[0]\n",
            " [1]\n",
            " [2]\n",
            " [3]\n",
            " [4]\n",
            " [5]]\n",
            "相当于在索引位置1处添加轴:\n",
            "[[0]\n",
            " [1]\n",
            " [2]\n",
            " [3]\n",
            " [4]\n",
            " [5]]\n"
          ]
        }
      ],
      "source": [
        "import numpy as np\n",
        "a = np.arange(6)\n",
        "print(f\"原数组:{a}\")\n",
        "\n",
        "print(f\"重塑形状:\\n{a.reshape(2, 3)}\")\n",
        "\n",
        "row_vector = a[np.newaxis, :]\n",
        "print(f\"添加新轴,从一维转为二维:\\n{row_vector}\")\n",
        "\n",
        "print(f\"相当于在索引位置0处添加轴:\\n{np.expand_dims(a, axis = 0)}\")\n",
        "\n",
        "col_vector = a[:, np.newaxis]\n",
        "print(f\"添加新轴,转换为列向量:\\n{col_vector}\")\n",
        "\n",
        "print(f\"相当于在索引位置1处添加轴:\\n{np.expand_dims(a, axis = 1)}\")"
      ]
    },
    {
      "attachments": {},
      "cell_type": "markdown",
      "id": "c9240d8e",
      "metadata": {},
      "source": [
        "转置矩阵："
      ]
    },
    {
      "cell_type": "code",
      "execution_count": 9,
      "id": "565b8e80",
      "metadata": {},
      "outputs": [
        {
          "name": "stdout",
          "output_type": "stream",
          "text": [
            "原矩阵:\n",
            "[[1 2 3]\n",
            " [4 5 6]]\n",
            "转置后:\n",
            "[[1 4]\n",
            " [2 5]\n",
            " [3 6]]\n",
            "也可以用.T:\n",
            "[[1 4]\n",
            " [2 5]\n",
            " [3 6]]\n"
          ]
        }
      ],
      "source": [
        "arr = np.arange(1, 7).reshape(2, 3)\n",
        "print(f\"原矩阵:\\n{arr}\")\n",
        "\n",
        "print(f\"转置后:\\n{arr.transpose()}\")\n",
        "\n",
        "print(f\"也可以用.T:\\n{arr.T}\")"
      ]
    },
    {
      "attachments": {},
      "cell_type": "markdown",
      "id": "bb0addc6",
      "metadata": {},
      "source": [
        "## 数组的索引和切片*\n",
        "\n",
        "1. 索引默认从0开始，切片起始为第一个索引，结尾为最后一个索引时可以省略不写。\n",
        "\n",
        "2. 前闭后开规则，默认含首不含尾。\n",
        "\n",
        "3. -n意味着反向第n个数。\n",
        "\n",
        "4. 修改切片元素时原数组的元素也会相应改变。"
      ]
    },
    {
      "cell_type": "code",
      "execution_count": 6,
      "id": "a846d6a1",
      "metadata": {},
      "outputs": [
        {
          "name": "stdout",
          "output_type": "stream",
          "text": [
            "以此数组为例: [0 1 2 3 4 5 6 7 8 9]\n",
            "从0到4的切片: [0 1 2 3 4]\n",
            "从4到6的切片: [4 5 6]\n",
            "从0到9步长为3的切片 [0 3 6 9]\n",
            "从0到4的切片: [0 1 2 3 4]\n",
            "修改切片元素后原数组随之改变: [99  1  2  3  4  5  6  7  8  9]\n"
          ]
        }
      ],
      "source": [
        "arr = np.arange(10)\n",
        "print('以此数组为例:', arr)\n",
        "\n",
        "slice_one = arr[:5] # 提取单个元素去掉冒号即可:arr[4]\n",
        "print('从0到4的切片:', slice_one)\n",
        "\n",
        "slice_two = arr[4:7]\n",
        "print('从4到6的切片:', slice_two)\n",
        "\n",
        "slice_three = arr[0:10:3]  # 前两个数可省略：arr[::3] \n",
        "print('从0到9步长为3的切片', slice_three)\n",
        "\n",
        "slice_four = arr[:-5]\n",
        "print('从0到4的切片:', slice_four)\n",
        "\n",
        "slice_four[0] = 99\n",
        "print('修改切片元素后原数组随之改变:', arr)"
      ]
    },
    {
      "cell_type": "code",
      "execution_count": 27,
      "id": "f0d4acf1",
      "metadata": {},
      "outputs": [
        {
          "name": "stdout",
          "output_type": "stream",
          "text": [
            "二维数组:\n",
            "[[1 2 3]\n",
            " [4 5 6]\n",
            " [7 8 9]]\n",
            "行索引从1开始(第2行),列索引取到2(第3列但不包含):\n",
            "[[4 5]\n",
            " [7 8]]\n"
          ]
        }
      ],
      "source": [
        "arr = np.arange(1, 10).reshape(3, 3)\n",
        "print(f\"二维数组:\\n{arr}\")\n",
        "\n",
        "print(f\"行索引从1开始(第2行),列索引取到2(第3列但不包含):\\n{arr[1:, :2]}\")\n"
      ]
    },
    {
      "attachments": {},
      "cell_type": "markdown",
      "id": "44fbf39c",
      "metadata": {},
      "source": [
        "以下面的三维数组为例，该数组三个维度的轴长均为2，意味着，每个维度有两个元素。\n",
        "第一个维度包含两个二维数组，第二个维度包含两个行向量也就是一维数组，第三个维度包含两个整数。（依次去掉中括号来看）"
      ]
    },
    {
      "cell_type": "code",
      "execution_count": 28,
      "id": "c183f6aa",
      "metadata": {},
      "outputs": [
        {
          "name": "stdout",
          "output_type": "stream",
          "text": [
            "三维数组:\n",
            "[[[0 1]\n",
            "  [2 3]]\n",
            "\n",
            " [[4 5]\n",
            "  [6 7]]]\n",
            "第一维度从第二个元素开始:\n",
            "[[[4 5]\n",
            "  [6 7]]]\n",
            "第三维度到第二个元素结束(不包含):\n",
            "[[[0]\n",
            "  [2]]\n",
            "\n",
            " [[4]\n",
            "  [6]]]\n"
          ]
        }
      ],
      "source": [
        "arr = np.arange(8).reshape((2, 2, 2))\n",
        "\n",
        "print(f\"三维数组:\\n{arr}\")\n",
        "\n",
        "print(f\"第一维度从第二个元素开始:\\n{arr[1:, ...]}\")  # 等价于 arr[1:, :, :]\n",
        "\n",
        "print(f\"第三维度到第二个元素结束(不包含):\\n{arr[..., :1]}\")  # 等价于 arr[:, :, :1]\n"
      ]
    },
    {
      "attachments": {},
      "cell_type": "markdown",
      "id": "dc97e817",
      "metadata": {},
      "source": [
        "用逻辑条件来筛选满足条件的元素，筛选后的数组会被展平为一维数组："
      ]
    },
    {
      "cell_type": "code",
      "execution_count": 30,
      "id": "e82fb67a",
      "metadata": {},
      "outputs": [
        {
          "name": "stdout",
          "output_type": "stream",
          "text": [
            "以此数组为例:\n",
            "[[ 0  1  2  3]\n",
            " [ 4  5  6  7]\n",
            " [ 8  9 10 11]]\n",
            "大于12的元素:[ 7  8  9 10 11]\n",
            "返回布尔值:\n",
            "[[False False False False]\n",
            " [False False False  True]\n",
            " [ True  True  True  True]]\n"
          ]
        }
      ],
      "source": [
        "arr = np.arange(12).reshape((3, 4))\n",
        "print(f\"以此数组为例:\\n{arr}\")\n",
        "\n",
        "print(f\"大于12的元素:{arr[arr > 6]}\")\n",
        "\n",
        "print(f\"返回布尔值:\\n{arr > 6}\")\n"
      ]
    },
    {
      "attachments": {},
      "cell_type": "markdown",
      "id": "d2e2eb89",
      "metadata": {},
      "source": [
        "返回满足条件的元素索引："
      ]
    },
    {
      "cell_type": "code",
      "execution_count": 15,
      "id": "92ee52ca",
      "metadata": {},
      "outputs": [
        {
          "name": "stdout",
          "output_type": "stream",
          "text": [
            "以此二维数组为例:\n",
            "[[0 0 0]\n",
            " [2 1 0]\n",
            " [2 1 3]]\n",
            "非零元素的索引(分维度):\n",
            "(array([1, 1, 2, 2, 2], dtype=int64), array([0, 1, 0, 1, 2], dtype=int64))\n",
            "元素小于2的索引:\n",
            "(array([0, 0, 0, 1, 1, 2], dtype=int64), array([0, 1, 2, 1, 2, 1], dtype=int64))\n"
          ]
        }
      ],
      "source": [
        "arr = np.random.randint(4, size = (3, 3))\n",
        "print(f\"以此二维数组为例:\\n{arr}\")\n",
        "\n",
        "print(f\"非零元素的索引(分维度):\\n{np.nonzero(arr)}\")\n",
        "\n",
        "print(f\"元素小于1的索引:\\n{np.nonzero(arr < 1)}\")\n"
      ]
    },
    {
      "attachments": {},
      "cell_type": "markdown",
      "id": "4f4faab8",
      "metadata": {},
      "source": [
        "以坐标形式返回元素索引："
      ]
    },
    {
      "cell_type": "code",
      "execution_count": 34,
      "id": "30a45791",
      "metadata": {},
      "outputs": [
        {
          "name": "stdout",
          "output_type": "stream",
          "text": [
            "(0, 0)\n",
            "(0, 1)\n",
            "(0, 2)\n",
            "(0, 3)\n",
            "(1, 0)\n",
            "(1, 1)\n"
          ]
        }
      ],
      "source": [
        "ind = np.nonzero(arr < 6)\n",
        "\n",
        "list_of_coordinates= list(zip(ind[0], ind[1]))\n",
        "for coord in list_of_coordinates:\n",
        "    print(coord)"
      ]
    },
    {
      "attachments": {},
      "cell_type": "markdown",
      "id": "c0b73b48",
      "metadata": {},
      "source": [
        "::: {.callout-tips}\n",
        "\n",
        "遇到不认识的函数或模块时，例如上述示例代码的`zip()`可以使用`help()`查询函数或模块的信息以及示例代码。\n",
        "\n",
        ":::"
      ]
    },
    {
      "cell_type": "code",
      "execution_count": 74,
      "id": "043c1f91",
      "metadata": {},
      "outputs": [
        {
          "name": "stdout",
          "output_type": "stream",
          "text": [
            "Help on zip object:\n",
            "\n",
            "class zip(object)\n",
            " |  zip(*iterables, strict=False) --> Yield tuples until an input is exhausted.\n",
            " |  \n",
            " |     >>> list(zip('abcdefg', range(3), range(4)))\n",
            " |     [('a', 0, 0), ('b', 1, 1), ('c', 2, 2)]\n",
            " |  \n",
            " |  The zip object yields n-length tuples, where n is the number of iterables\n",
            " |  passed as positional arguments to zip().  The i-th element in every tuple\n",
            " |  comes from the i-th iterable argument to zip().  This continues until the\n",
            " |  shortest argument is exhausted.\n",
            " |  \n",
            " |  If strict is true and one of the arguments is exhausted before the others,\n",
            " |  raise a ValueError.\n",
            " |  \n",
            " |  Methods defined here:\n",
            " |  \n",
            " |  __getattribute__(self, name, /)\n",
            " |      Return getattr(self, name).\n",
            " |  \n",
            " |  __iter__(self, /)\n",
            " |      Implement iter(self).\n",
            " |  \n",
            " |  __next__(self, /)\n",
            " |      Implement next(self).\n",
            " |  \n",
            " |  __reduce__(...)\n",
            " |      Return state information for pickling.\n",
            " |  \n",
            " |  __setstate__(...)\n",
            " |      Set state information for unpickling.\n",
            " |  \n",
            " |  ----------------------------------------------------------------------\n",
            " |  Static methods defined here:\n",
            " |  \n",
            " |  __new__(*args, **kwargs) from builtins.type\n",
            " |      Create and return a new object.  See help(type) for accurate signature.\n",
            "\n"
          ]
        }
      ],
      "source": [
        "help(zip())"
      ]
    },
    {
      "attachments": {},
      "cell_type": "markdown",
      "id": "84e686ae",
      "metadata": {},
      "source": [
        "::: {.callout-tips}\n",
        "\n",
        "如果想要了解某个特定模块的函数，例如numpy的array函数，可以使用`numpy.info(numpy.array)`\n",
        "\n",
        ":::"
      ]
    },
    {
      "cell_type": "code",
      "execution_count": 75,
      "id": "bda8befb",
      "metadata": {},
      "outputs": [
        {
          "name": "stdout",
          "output_type": "stream",
          "text": [
            "array(object, dtype=None, *, copy=True, order='K', subok=False, ndmin=0,\n",
            "      like=None)\n",
            "\n",
            "Create an array.\n",
            "\n",
            "Parameters\n",
            "----------\n",
            "object : array_like\n",
            "    An array, any object exposing the array interface, an object whose\n",
            "    __array__ method returns an array, or any (nested) sequence.\n",
            "    If object is a scalar, a 0-dimensional array containing object is\n",
            "    returned.\n",
            "dtype : data-type, optional\n",
            "    The desired data-type for the array.  If not given, then the type will\n",
            "    be determined as the minimum type required to hold the objects in the\n",
            "    sequence.\n",
            "copy : bool, optional\n",
            "    If true (default), then the object is copied.  Otherwise, a copy will\n",
            "    only be made if __array__ returns a copy, if obj is a nested sequence,\n",
            "    or if a copy is needed to satisfy any of the other requirements\n",
            "    (`dtype`, `order`, etc.).\n",
            "order : {'K', 'A', 'C', 'F'}, optional\n",
            "    Specify the memory layout of the array. If object is not an array, the\n",
            "    newly created array will be in C order (row major) unless 'F' is\n",
            "    specified, in which case it will be in Fortran order (column major).\n",
            "    If object is an array the following holds.\n",
            "\n",
            "    ===== ========= ===================================================\n",
            "    order  no copy                     copy=True\n",
            "    ===== ========= ===================================================\n",
            "    'K'   unchanged F & C order preserved, otherwise most similar order\n",
            "    'A'   unchanged F order if input is F and not C, otherwise C order\n",
            "    'C'   C order   C order\n",
            "    'F'   F order   F order\n",
            "    ===== ========= ===================================================\n",
            "\n",
            "    When ``copy=False`` and a copy is made for other reasons, the result is\n",
            "    the same as if ``copy=True``, with some exceptions for 'A', see the\n",
            "    Notes section. The default order is 'K'.\n",
            "subok : bool, optional\n",
            "    If True, then sub-classes will be passed-through, otherwise\n",
            "    the returned array will be forced to be a base-class array (default).\n",
            "ndmin : int, optional\n",
            "    Specifies the minimum number of dimensions that the resulting\n",
            "    array should have.  Ones will be prepended to the shape as\n",
            "    needed to meet this requirement.\n",
            "like : array_like, optional\n",
            "    Reference object to allow the creation of arrays which are not\n",
            "    NumPy arrays. If an array-like passed in as ``like`` supports\n",
            "    the ``__array_function__`` protocol, the result will be defined\n",
            "    by it. In this case, it ensures the creation of an array object\n",
            "    compatible with that passed in via this argument.\n",
            "\n",
            "    .. versionadded:: 1.20.0\n",
            "\n",
            "Returns\n",
            "-------\n",
            "out : ndarray\n",
            "    An array object satisfying the specified requirements.\n",
            "\n",
            "See Also\n",
            "--------\n",
            "empty_like : Return an empty array with shape and type of input.\n",
            "ones_like : Return an array of ones with shape and type of input.\n",
            "zeros_like : Return an array of zeros with shape and type of input.\n",
            "full_like : Return a new array with shape of input filled with value.\n",
            "empty : Return a new uninitialized array.\n",
            "ones : Return a new array setting values to one.\n",
            "zeros : Return a new array setting values to zero.\n",
            "full : Return a new array of given shape filled with value.\n",
            "\n",
            "\n",
            "Notes\n",
            "-----\n",
            "When order is 'A' and `object` is an array in neither 'C' nor 'F' order,\n",
            "and a copy is forced by a change in dtype, then the order of the result is\n",
            "not necessarily 'C' as expected. This is likely a bug.\n",
            "\n",
            "Examples\n",
            "--------\n",
            ">>> np.array([1, 2, 3])\n",
            "array([1, 2, 3])\n",
            "\n",
            "Upcasting:\n",
            "\n",
            ">>> np.array([1, 2, 3.0])\n",
            "array([ 1.,  2.,  3.])\n",
            "\n",
            "More than one dimension:\n",
            "\n",
            ">>> np.array([[1, 2], [3, 4]])\n",
            "array([[1, 2],\n",
            "       [3, 4]])\n",
            "\n",
            "Minimum dimensions 2:\n",
            "\n",
            ">>> np.array([1, 2, 3], ndmin=2)\n",
            "array([[1, 2, 3]])\n",
            "\n",
            "Type provided:\n",
            "\n",
            ">>> np.array([1, 2, 3], dtype=complex)\n",
            "array([ 1.+0.j,  2.+0.j,  3.+0.j])\n",
            "\n",
            "Data-type consisting of more than one element:\n",
            "\n",
            ">>> x = np.array([(1,2),(3,4)],dtype=[('a','<i4'),('b','<i4')])\n",
            ">>> x['a']\n",
            "array([1, 3])\n",
            "\n",
            "Creating an array from sub-classes:\n",
            "\n",
            ">>> np.array(np.mat('1 2; 3 4'))\n",
            "array([[1, 2],\n",
            "       [3, 4]])\n",
            "\n",
            ">>> np.array(np.mat('1 2; 3 4'), subok=True)\n",
            "matrix([[1, 2],\n",
            "        [3, 4]])\n"
          ]
        }
      ],
      "source": [
        "np.info(np.array)"
      ]
    },
    {
      "attachments": {},
      "cell_type": "markdown",
      "id": "aa66825b",
      "metadata": {},
      "source": [
        "## 数组的基本运算*\n",
        "\n",
        "数组上的算术运算符按元素应用。\n"
      ]
    },
    {
      "cell_type": "code",
      "execution_count": 36,
      "id": "3bc5bbff",
      "metadata": {},
      "outputs": [
        {
          "name": "stdout",
          "output_type": "stream",
          "text": [
            "数组a:\n",
            "[[20 30]\n",
            " [40 50]]\n",
            "数组b:\n",
            "[[2 3]\n",
            " [4 5]]\n",
            "加法运算:\n",
            "[[22 33]\n",
            " [44 55]]\n",
            "减法运算:\n",
            "[[18 27]\n",
            " [36 45]]\n",
            "乘法运算:\n",
            "[[ 40  90]\n",
            " [160 250]]\n",
            "除法运算:\n",
            "[[10. 10.]\n",
            " [10. 10.]]\n",
            "平方运算:\n",
            "[[ 4  9]\n",
            " [16 25]]\n"
          ]
        }
      ],
      "source": [
        "a = np.array([(20,30),(40,50)])\n",
        "b = np.arange(2,6).reshape(2,2)\n",
        "\n",
        "print(f\"数组a:\\n{a}\")\n",
        "print(f\"数组b:\\n{b}\")\n",
        "\n",
        "print(f\"加法运算:\\n{np.add(a, b)}\")\n",
        "# 等价于a + b\n",
        "\n",
        "print(f\"减法运算:\\n{np.subtract(a, b)}\")\n",
        "# 等价于a - b\n",
        "\n",
        "print(f\"乘法运算:\\n{np.multiply(a, b)}\")\n",
        "# 等价于a * b\n",
        "\n",
        "print(f\"除法运算:\\n{np.divide(a, b)}\")\n",
        "# 等价于a / b\n",
        "\n",
        "print(f\"平方运算:\\n{np.square(b)}\")\n",
        "# 等价于b**2"
      ]
    },
    {
      "attachments": {},
      "cell_type": "markdown",
      "id": "162b2ea7",
      "metadata": {},
      "source": [
        "矩阵（二维数组）乘积运算用`@`或`.dot()`：\n",
        "\n",
        "::: {.callout-note}\n",
        "\n",
        "计算矩阵A和B的乘积时，新矩阵第i行第j列的元素为矩阵A第i行元素和矩阵B第j列元素的乘积和，所以需要A矩阵的列数和矩阵B的行数相同。\n",
        "\n",
        ":::"
      ]
    },
    {
      "cell_type": "code",
      "execution_count": 64,
      "id": "9be73f76",
      "metadata": {},
      "outputs": [
        {
          "name": "stdout",
          "output_type": "stream",
          "text": [
            "数组A:\n",
            "[[1 2]\n",
            " [3 4]]\n",
            "数组B:\n",
            "[[3 2 1]\n",
            " [1 1 1]]\n",
            "矩阵的乘积:\n",
            "[[ 5  4  3]\n",
            " [13 10  7]]\n"
          ]
        }
      ],
      "source": [
        "A = np.array([(1, 2),(3, 4)])\n",
        "B = np.array([(3, 2, 1),(1, 1, 1)])\n",
        "\n",
        "print(f\"数组A:\\n{A}\")\n",
        "print(f\"数组B:\\n{B}\")\n",
        "\n",
        "print(f\"矩阵的乘积:\\n{A@B}\")\n",
        "# 等价于A.dot(B)"
      ]
    },
    {
      "attachments": {},
      "cell_type": "markdown",
      "id": "03a6bc5c",
      "metadata": {},
      "source": [
        "聚合函数的运算（可以指定轴）："
      ]
    },
    {
      "cell_type": "code",
      "execution_count": 7,
      "id": "949587d8",
      "metadata": {},
      "outputs": [
        {
          "name": "stdout",
          "output_type": "stream",
          "text": [
            "对数组进行聚合函数的运算:\n",
            "[[1 2]\n",
            " [3 4]]\n",
            "数组元素求和: 10\n",
            "数组元素每列求和: [4 6]\n",
            "数组元素最小值: 1\n",
            "数组元素每列最小值: [1 2]\n"
          ]
        }
      ],
      "source": [
        "arr = np.array([(1, 2), (3, 4)])\n",
        "print(f\"对数组进行聚合函数的运算:\\n{arr}\")\n",
        "\n",
        "print(\"数组元素求和:\", arr.sum())\n",
        "\n",
        "print(\"数组元素每列求和:\", arr.sum(axis = 0))  # 行求和:axis = 1\n",
        "\n",
        "print(\"数组元素最小值:\", arr.min())\n",
        "\n",
        "print(\"数组元素每列最小值:\", arr.min(axis = 0)) "
      ]
    },
    {
      "attachments": {},
      "cell_type": "markdown",
      "id": "f2830895",
      "metadata": {},
      "source": [
        "## 数组的排序、反转和去重*\n",
        "\n",
        "对元素进行排序/反转，以一维、二维数组为例：\n"
      ]
    },
    {
      "cell_type": "code",
      "execution_count": 43,
      "id": "314ffce1",
      "metadata": {},
      "outputs": [
        {
          "name": "stdout",
          "output_type": "stream",
          "text": [
            "一维数组:[7 2 5 3 6 4 9 1 8]\n",
            "排序:[1 2 3 4 5 6 7 8 9]\n",
            "反转:[8 1 9 4 6 3 5 2 7]\n",
            "利用切片方式反转,步长为-1:[8 1 9 4 6 3 5 2 7]\n"
          ]
        }
      ],
      "source": [
        "x = np.array([7, 2, 5, 3, 6, 4, 9, 1, 8])\n",
        "print(f\"一维数组:{x}\")\n",
        "\n",
        "print(f\"排序:{np.sort(x)}\")\n",
        "\n",
        "\n",
        "print(f\"反转:{np.flip(x)}\")\n",
        "\n",
        "\n",
        "print(f\"利用切片方式反转,步长为-1:{x[::-1]}\")\n"
      ]
    },
    {
      "cell_type": "code",
      "execution_count": 45,
      "id": "caeafd6e",
      "metadata": {},
      "outputs": [
        {
          "name": "stdout",
          "output_type": "stream",
          "text": [
            "二维数组:\n",
            "[[7 2 5]\n",
            " [3 6 4]\n",
            " [9 1 8]]\n",
            "排序:\n",
            "[[2 5 7]\n",
            " [3 4 6]\n",
            " [1 8 9]]\n",
            "反转:\n",
            "[[8 1 9]\n",
            " [4 6 3]\n",
            " [5 2 7]]\n",
            "仅反转子数组顺序:\n",
            "[[9 1 8]\n",
            " [3 6 4]\n",
            " [7 2 5]]\n",
            "反转第二列:\n",
            "[[7 1 5]\n",
            " [3 6 4]\n",
            " [9 2 8]]\n"
          ]
        }
      ],
      "source": [
        "y = np.array([[7, 2, 5], [3, 6, 4], [9, 1, 8]])\n",
        "print(f\"二维数组:\\n{y}\")\n",
        "\n",
        "print(f\"排序:\\n{np.sort(y)}\")\n",
        "\n",
        "print(f\"反转:\\n{np.flip(y)}\")\n",
        "\n",
        "print(f\"仅反转子数组顺序:\\n{np.flip(y, axis=0)}\")\n",
        "\n",
        "y[:,1] = np.flip(y[:,1])\n",
        "print(f\"仅反转第二列:\\n{y}\")"
      ]
    },
    {
      "attachments": {},
      "cell_type": "markdown",
      "id": "78fc3972",
      "metadata": {},
      "source": [
        "去重复值："
      ]
    },
    {
      "cell_type": "code",
      "execution_count": 48,
      "id": "11350334",
      "metadata": {},
      "outputs": [
        {
          "name": "stdout",
          "output_type": "stream",
          "text": [
            "原数组:[ 1  2  2  5  7  7  8  9  9 12 14]\n",
            "去重后:[ 1  2  5  7  8  9 12 14]\n",
            "去重数组的索引:[ 0  1  3  4  6  7  9 10]\n"
          ]
        }
      ],
      "source": [
        "arr = np.array([1, 2, 2, 5, 7, 7, 8, 9, 9, 12, 14])\n",
        "print(f\"原数组:{arr}\")\n",
        "\n",
        "print(f\"去重后:{np.unique(arr)}\")\n",
        "\n",
        "unique_arr, indices_list = np.unique(arr, return_index = True)\n",
        "print(f\"去重数组的索引:{indices_list}\")"
      ]
    },
    {
      "attachments": {},
      "cell_type": "markdown",
      "id": "1ca853cb",
      "metadata": {},
      "source": [
        "## 数组的展平、拼接、堆叠、拆分*"
      ]
    },
    {
      "attachments": {},
      "cell_type": "markdown",
      "id": "270dc83b",
      "metadata": {},
      "source": [
        "展平数组可用`flatten()`或`ravel()`。\n",
        "\n",
        "::: {.callout-note}\n",
        "使用`flatten`时，对展平数组的更改不会影响原数组，使用`ravel`时，数组的更改会影响原数组。\n",
        "\n",
        ":::"
      ]
    },
    {
      "cell_type": "code",
      "execution_count": 56,
      "id": "049ee363",
      "metadata": {},
      "outputs": [
        {
          "name": "stdout",
          "output_type": "stream",
          "text": [
            "展平前:\n",
            "[[0 1 2]\n",
            " [3 4 5]]\n",
            "使用flatten展平后:\n",
            "[0 1 2 3 4 5]\n",
            "修改元素:\n",
            "[99  1  2  3  4  5]\n",
            "原数组不变:\n",
            "[[0 1 2]\n",
            " [3 4 5]]\n"
          ]
        }
      ],
      "source": [
        "arr = np.arange(6).reshape(2, 3)\n",
        "print(f\"展平前:\\n{arr}\")\n",
        "\n",
        "arr_one = arr.flatten()\n",
        "print(f\"使用flatten展平后:\\n{arr_one}\")\n",
        "\n",
        "arr_one[0] = 99\n",
        "print(f\"修改元素:\\n{arr_one}\")\n",
        "\n",
        "print(f\"原数组不变:\\n{arr}\")"
      ]
    },
    {
      "cell_type": "code",
      "execution_count": 57,
      "id": "13822063",
      "metadata": {},
      "outputs": [
        {
          "name": "stdout",
          "output_type": "stream",
          "text": [
            "使用ravel展平后:\n",
            "[0 1 2 3 4 5]\n",
            "修改元素:\n",
            "[99  1  2  3  4  5]\n",
            "原数组改变:\n",
            "[[99  1  2]\n",
            " [ 3  4  5]]\n"
          ]
        }
      ],
      "source": [
        "arr_two = arr.ravel()\n",
        "print(f\"使用ravel展平后:\\n{arr_two}\")\n",
        "\n",
        "arr_two[0] = 99\n",
        "print(f\"修改元素:\\n{arr_two}\")\n",
        "\n",
        "print(f\"原数组改变:\\n{arr}\")"
      ]
    },
    {
      "attachments": {},
      "cell_type": "markdown",
      "id": "9fbb09f1",
      "metadata": {},
      "source": [
        "拼接和堆叠数组：\n",
        "\n",
        "::: {.callout-note}\n",
        "垂直堆叠和拼接需要列数相同，水平堆叠需要行数相同。\n",
        "\n",
        ":::"
      ]
    },
    {
      "cell_type": "code",
      "execution_count": 59,
      "id": "70590e7d",
      "metadata": {},
      "outputs": [
        {
          "name": "stdout",
          "output_type": "stream",
          "text": [
            "数组a:\n",
            "[[1 2]\n",
            " [3 4]]\n",
            "数组b:\n",
            "[[1 1]\n",
            " [1 1]\n",
            " [1 1]]\n",
            "数组c:\n",
            "[[0 0]]\n",
            "拼接三个数组:\n",
            "[[1 2]\n",
            " [3 4]\n",
            " [1 1]\n",
            " [1 1]\n",
            " [1 1]\n",
            " [0 0]]\n",
            "等价于垂直堆叠三个数组:\n",
            "[[1 2]\n",
            " [3 4]\n",
            " [1 1]\n",
            " [1 1]\n",
            " [1 1]\n",
            " [0 0]]\n",
            "水平堆叠数组a和数组a:\n",
            "[[1 2 1 2]\n",
            " [3 4 3 4]]\n"
          ]
        }
      ],
      "source": [
        "a = np.array([(1, 2),(3, 4)])\n",
        "b = np.ones((3, 2), dtype = np.int_)\n",
        "c = np.zeros((1, 2), dtype = np.int_)\n",
        "\n",
        "print(f\"数组a:\\n{a}\")\n",
        "print(f\"数组b:\\n{b}\")\n",
        "print(f\"数组c:\\n{c}\")\n",
        "\n",
        "print(f\"拼接三个数组:\\n{np.concatenate((a, b, c))}\")\n",
        "\n",
        "print(f\"等价于垂直堆叠三个数组:\\n{np.vstack((a, b, c))}\")\n",
        "\n",
        "print(f\"水平堆叠数组a和数组a:\\n{np.hstack((a, a))}\")"
      ]
    },
    {
      "attachments": {},
      "cell_type": "markdown",
      "id": "7e5faeb0",
      "metadata": {},
      "source": [
        "拆分数组："
      ]
    },
    {
      "cell_type": "code",
      "execution_count": 60,
      "id": "bc790795",
      "metadata": {},
      "outputs": [
        {
          "name": "stdout",
          "output_type": "stream",
          "text": [
            "以此数组为例:\n",
            "[[ 1  2  3  4  5  6  7  8  9 10]\n",
            " [11 12 13 14 15 16 17 18 19 20]]\n",
            "拆分为2个形状相同的数组(相当于从第5列开始拆分):\n",
            "[array([[ 1,  2,  3,  4,  5],\n",
            "       [11, 12, 13, 14, 15]]), array([[ 6,  7,  8,  9, 10],\n",
            "       [16, 17, 18, 19, 20]])]\n",
            "从第3列,第7列之后开始拆分:\n",
            "[array([[ 1,  2,  3],\n",
            "       [11, 12, 13]]), array([[ 4,  5,  6,  7],\n",
            "       [14, 15, 16, 17]]), array([[ 8,  9, 10],\n",
            "       [18, 19, 20]])]\n"
          ]
        }
      ],
      "source": [
        "arr = np.arange(1, 21).reshape(2, 10)\n",
        "print(f\"以此数组为例:\\n{arr}\")\n",
        "\n",
        "print(f\"拆分为2个形状相同的数组(相当于从第5列开始拆分):\\n{np.hsplit(arr, 2)}\")\n",
        "\n",
        "print(f\"从第3列,第7列之后开始拆分:\\n{np.hsplit(arr, (3, 7))}\")"
      ]
    },
    {
      "attachments": {},
      "cell_type": "markdown",
      "id": "e2c493bf",
      "metadata": {},
      "source": [
        "## 数学公式\n",
        "\n",
        "数组的运算可以帮助实现数学公式的运算，以均方误差公式为例：\n",
        "\n",
        "$$MeanSquareError=\\frac{1}{n}\\sum_{i=1}^{n}{(Prediction_i-Y_i)^2}$$\n",
        "将Prediction和Y看作一维数组进行运算即可：\n",
        "\n",
        "`error = (1/n)*np.sum(np.square(prediction-y))`"
      ]
    },
    {
      "cell_type": "code",
      "execution_count": 61,
      "id": "3f2d8c2b",
      "metadata": {},
      "outputs": [
        {
          "name": "stdout",
          "output_type": "stream",
          "text": [
            "观测值: [1 2 3]\n",
            "预测值: [2 2 2]\n",
            "预测值和观测值之差: [ 1  0 -1]\n",
            "均方误差: 0.6666666666666666\n"
          ]
        }
      ],
      "source": [
        "prediction = np.array([2, 2, 2])\n",
        "y = np.array([1, 2, 3])\n",
        "\n",
        "print(\"观测值:\", y)\n",
        "print(\"预测值:\", prediction)\n",
        "print(\"预测值和观测值之差:\", prediction - y)\n",
        "\n",
        "error = (1/3)*np.sum(np.square(prediction - y))\n",
        "print(\"均方误差:\", error)"
      ]
    },
    {
      "attachments": {},
      "cell_type": "markdown",
      "id": "85393800",
      "metadata": {},
      "source": [
        "## 数组对象的读取和保存\n",
        "\n",
        "将数组对象存为`filename.npy`并读取："
      ]
    },
    {
      "cell_type": "code",
      "execution_count": 62,
      "id": "0270b572",
      "metadata": {},
      "outputs": [
        {
          "data": {
            "text/plain": [
              "array([1, 2, 3])"
            ]
          },
          "execution_count": 62,
          "metadata": {},
          "output_type": "execute_result"
        }
      ],
      "source": [
        "arr = np.array([1,2,3])\n",
        "np.save(\"arr\", arr)\n",
        "np.load('arr.npy')"
      ]
    },
    {
      "attachments": {},
      "cell_type": "markdown",
      "id": "e1509bed",
      "metadata": {},
      "source": [
        "也可以保存为文本并读取："
      ]
    },
    {
      "cell_type": "code",
      "execution_count": 63,
      "id": "3ba5e53c",
      "metadata": {},
      "outputs": [
        {
          "data": {
            "text/plain": [
              "array([1., 2., 3.])"
            ]
          },
          "execution_count": 63,
          "metadata": {},
          "output_type": "execute_result"
        }
      ],
      "source": [
        "np.savetxt('arr.csv', arr)\n",
        "np.loadtxt('arr.csv')"
      ]
    }
  ],
  "metadata": {
    "kernelspec": {
      "display_name": "Python 3",
      "language": "python",
      "name": "python3"
    },
    "language_info": {
      "codemirror_mode": {
        "name": "ipython",
        "version": 3
      },
      "file_extension": ".py",
      "mimetype": "text/x-python",
      "name": "python",
      "nbconvert_exporter": "python",
      "pygments_lexer": "ipython3",
      "version": "3.10.9"
    }
  },
  "nbformat": 4,
  "nbformat_minor": 5
}
