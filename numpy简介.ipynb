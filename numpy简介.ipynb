{
  "cells": [
    {
      "cell_type": "raw",
      "id": "1474b304",
      "metadata": {},
      "source": [
        "---\n",
        "title: NumPy简介\n",
        "format:\n",
        "  html:\n",
        "    code-fold: false\n",
        "    code-tools: true\n",
        "---"
      ]
    },
    {
      "attachments": {},
      "cell_type": "markdown",
      "id": "33eb891e",
      "metadata": {},
      "source": [
        "NumPy（Numerical Python）是一个开源的Python科学计算库，是Python中用于科学计算和数据分析的核心库之一。它包含多维数组和矩阵数据结构的运算，提供了高性能的多维数组对象ndarray（N-dimensional array）以及处理这些数组的各种函数，提供了高效的数组操作功能，使得处理大规模数据集变得更加高效和便捷。\n",
        "\n",
        "##  NumPy的安装和导入\n",
        "\n",
        "安装 NumPy ：\n",
        "\n",
        "`conda install numpy` 或者 `pip install numpy`\n",
        "\n",
        "导入 NumPy ："
      ]
    },
    {
      "cell_type": "code",
      "execution_count": 12,
      "id": "a14d1e05",
      "metadata": {},
      "outputs": [],
      "source": [
        "import numpy as np"
      ]
    },
    {
      "attachments": {},
      "cell_type": "markdown",
      "id": "e733cd72",
      "metadata": {},
      "source": [
        "使用 NumPy 缩短导入的名称np，可以提高代码的可读性\n",
        "\n",
        "## NumPy中的核心对象：ndarray\n",
        " \n",
        "ndarray是NumPy中最重要的对象，它是N 维数组的简写，可以是一维数组、二维数组或更高维度的数组。\n"
      ]
    },
    {
      "cell_type": "code",
      "execution_count": 23,
      "id": "900dae4c",
      "metadata": {},
      "outputs": [
        {
          "name": "stdout",
          "output_type": "stream",
          "text": [
            "这是一个一维数组:\n"
          ]
        },
        {
          "data": {
            "text/plain": [
              "array([1, 2, 3])"
            ]
          },
          "execution_count": 23,
          "metadata": {},
          "output_type": "execute_result"
        }
      ],
      "source": [
        "print(\"这是一个一维数组:\")\n",
        "np.array((1, 2, 3))\n"
      ]
    },
    {
      "cell_type": "code",
      "execution_count": 22,
      "id": "f3184a5d",
      "metadata": {},
      "outputs": [
        {
          "name": "stdout",
          "output_type": "stream",
          "text": [
            "这是一个2*3的二维数组:\n"
          ]
        },
        {
          "data": {
            "text/plain": [
              "array([[1, 2, 3],\n",
              "       [4, 5, 6]])"
            ]
          },
          "execution_count": 22,
          "metadata": {},
          "output_type": "execute_result"
        }
      ],
      "source": [
        "print(\"这是一个2*3的二维数组:\")\n",
        "np.array([(1, 2, 3),(4, 5, 6)])"
      ]
    },
    {
      "attachments": {},
      "cell_type": "markdown",
      "id": "bc421040",
      "metadata": {},
      "source": [
        "相对于一维数组，二维数组多了一个维度，示例代码中的二维数组包含两个子数组（也称为行）：[1,2,3]和[4,5,6]，一个子数组代表一个行向量。\n",
        "\n",
        "ndarray中的元素可以是任意数据类型，包括整数、浮点数、复数等。数据类型由dtype（data type）对象来描述。\n",
        "\n",
        "## 创建NumPy数组\n",
        "\n",
        "要创建 NumPy 数组，可以使用函数`np.array()`将序列转换为数组。\n",
        "\n",
        "::: {.callout-note}\n",
        "对象只能是一个，例如`((),(),...)`，不能是多个序列：`(),(),...`。\n",
        "\n",
        ":::\n"
      ]
    },
    {
      "cell_type": "code",
      "execution_count": 3,
      "id": "61f51763",
      "metadata": {},
      "outputs": [
        {
          "data": {
            "text/plain": [
              "array([[1, 2, 3],\n",
              "       [4, 5, 6]])"
            ]
          },
          "execution_count": 3,
          "metadata": {},
          "output_type": "execute_result"
        }
      ],
      "source": [
        "import numpy as np\n",
        "a = np.array(((1, 2, 3),(4, 5, 6)))\n",
        "a"
      ]
    },
    {
      "attachments": {},
      "cell_type": "markdown",
      "id": "9b926e6f",
      "metadata": {},
      "source": [
        "创建一个元素都为0的数组（默认元素类型为float64，可以通过dtype进行设置）："
      ]
    },
    {
      "cell_type": "code",
      "execution_count": 4,
      "id": "7aa7da3a",
      "metadata": {},
      "outputs": [
        {
          "data": {
            "text/plain": [
              "array([[0., 0.],\n",
              "       [0., 0.]])"
            ]
          },
          "execution_count": 4,
          "metadata": {},
          "output_type": "execute_result"
        }
      ],
      "source": [
        "np.zeros((2,2))"
      ]
    },
    {
      "attachments": {},
      "cell_type": "markdown",
      "id": "25649c99",
      "metadata": {},
      "source": [
        "创建一个元素全为1的3*3矩阵，数值类型为整型："
      ]
    },
    {
      "cell_type": "code",
      "execution_count": 5,
      "id": "191d4c43",
      "metadata": {},
      "outputs": [
        {
          "data": {
            "text/plain": [
              "array([[1, 1, 1],\n",
              "       [1, 1, 1],\n",
              "       [1, 1, 1]])"
            ]
          },
          "execution_count": 5,
          "metadata": {},
          "output_type": "execute_result"
        }
      ],
      "source": [
        "np.ones((3,3), dtype=np.int_)"
      ]
    },
    {
      "attachments": {},
      "cell_type": "markdown",
      "id": "46d28891",
      "metadata": {},
      "source": [
        "创建一个3*3单位矩阵（对角线元素为1）："
      ]
    },
    {
      "cell_type": "code",
      "execution_count": 6,
      "id": "be814104",
      "metadata": {},
      "outputs": [
        {
          "data": {
            "text/plain": [
              "array([[1, 0, 0],\n",
              "       [0, 1, 0],\n",
              "       [0, 0, 1]])"
            ]
          },
          "execution_count": 6,
          "metadata": {},
          "output_type": "execute_result"
        }
      ],
      "source": [
        "np.eye(3, 3, dtype = np.int_)"
      ]
    },
    {
      "attachments": {},
      "cell_type": "markdown",
      "id": "fe30b358",
      "metadata": {},
      "source": [
        "创建一个空数组，元素的初始内容会随机生成，可以设置dtype参数："
      ]
    },
    {
      "cell_type": "code",
      "execution_count": 7,
      "id": "34816aeb",
      "metadata": {},
      "outputs": [
        {
          "data": {
            "text/plain": [
              "array([[0., 0., 0.],\n",
              "       [0., 0., 0.]])"
            ]
          },
          "execution_count": 7,
          "metadata": {},
          "output_type": "execute_result"
        }
      ],
      "source": [
        "np.empty((2,3), dtype = np.float_)"
      ]
    },
    {
      "attachments": {},
      "cell_type": "markdown",
      "id": "854d7a47",
      "metadata": {},
      "source": [
        "创建一个等差数列型的一维数组：\n",
        "\n",
        "`np.arange()`第一个参数start代表起始值，默认从0开始，第二个参数stop代表结束值，但结束值不包含在数组中。第三个参数step为步长，即相邻元素的差值。"
      ]
    },
    {
      "cell_type": "code",
      "execution_count": 25,
      "id": "7461332c",
      "metadata": {},
      "outputs": [
        {
          "name": "stdout",
          "output_type": "stream",
          "text": [
            "创建一个值域从0-9,步长为2的数组:\n"
          ]
        },
        {
          "data": {
            "text/plain": [
              "array([0, 2, 4, 6, 8])"
            ]
          },
          "execution_count": 25,
          "metadata": {},
          "output_type": "execute_result"
        }
      ],
      "source": [
        "print(\"创建一个值域从0-9,步长为2的数组:\")\n",
        "np.arange(0, 10, 2)"
      ]
    },
    {
      "cell_type": "code",
      "execution_count": 26,
      "id": "98b572fb",
      "metadata": {},
      "outputs": [
        {
          "name": "stdout",
          "output_type": "stream",
          "text": [
            "只含一个参数时,默认初始索引为0,步长为1:\n"
          ]
        },
        {
          "data": {
            "text/plain": [
              "array([0, 1, 2, 3])"
            ]
          },
          "execution_count": 26,
          "metadata": {},
          "output_type": "execute_result"
        }
      ],
      "source": [
        "print(\"只含一个参数时,默认初始索引为0,步长为1:\")\n",
        "np.arange(4)"
      ]
    },
    {
      "cell_type": "code",
      "execution_count": 27,
      "id": "b5603a25",
      "metadata": {},
      "outputs": [
        {
          "name": "stdout",
          "output_type": "stream",
          "text": [
            "创建一个包含6个元素,值域从0到10的整型数组:\n"
          ]
        },
        {
          "data": {
            "text/plain": [
              "array([ 0,  2,  4,  6,  8, 10])"
            ]
          },
          "execution_count": 27,
          "metadata": {},
          "output_type": "execute_result"
        }
      ],
      "source": [
        "print(\"创建一个包含6个元素,值域从0到10的整型数组:\") \n",
        "np.linspace(0, 10, num = 6, dtype = np.int_) "
      ]
    },
    {
      "attachments": {},
      "cell_type": "markdown",
      "id": "c28f91c2",
      "metadata": {},
      "source": [
        "创建随机数组："
      ]
    },
    {
      "cell_type": "code",
      "execution_count": 30,
      "id": "5f49d1dd",
      "metadata": {},
      "outputs": [
        {
          "name": "stdout",
          "output_type": "stream",
          "text": [
            "2*2随机数组:\n"
          ]
        },
        {
          "data": {
            "text/plain": [
              "array([[0.88814558, 0.18417615],\n",
              "       [0.75345853, 0.71616192]])"
            ]
          },
          "execution_count": 30,
          "metadata": {},
          "output_type": "execute_result"
        }
      ],
      "source": [
        "print(\"2*2随机数组:\")\n",
        "np.random.random((2, 2))"
      ]
    },
    {
      "attachments": {},
      "cell_type": "markdown",
      "id": "39bc71d4",
      "metadata": {},
      "source": [
        "创建随机整型数组："
      ]
    },
    {
      "cell_type": "code",
      "execution_count": 29,
      "id": "e71f8338",
      "metadata": {},
      "outputs": [
        {
          "data": {
            "text/plain": [
              "array([[0, 1, 1],\n",
              "       [2, 4, 2]])"
            ]
          },
          "execution_count": 29,
          "metadata": {},
          "output_type": "execute_result"
        }
      ],
      "source": [
        "np.random.randint(5, size=(2, 3))"
      ]
    },
    {
      "attachments": {},
      "cell_type": "markdown",
      "id": "bb7f1870",
      "metadata": {},
      "source": [
        "基于已有的数组复制得到新数组："
      ]
    },
    {
      "cell_type": "code",
      "execution_count": 10,
      "id": "e7e1456b",
      "metadata": {},
      "outputs": [
        {
          "data": {
            "text/plain": [
              "array([0, 1, 2, 3])"
            ]
          },
          "execution_count": 10,
          "metadata": {},
          "output_type": "execute_result"
        }
      ],
      "source": [
        "a = np.arange(4)\n",
        "c = a.copy()\n",
        "c"
      ]
    },
    {
      "attachments": {},
      "cell_type": "markdown",
      "id": "8b2c028f",
      "metadata": {},
      "source": [
        "## NumPy支持的数据类型\n",
        "\n",
        "1. 布尔类型（bool）：表示True或False的布尔值，设置`dtype = np.bool_`即可。\n",
        "2. 整数类型（int）：包括有符号和无符号的整数，如int_、int8、int16、int32、int64、uint8、uint16、uint32、uint64等，u意为unsigned，无符号，表示只能为正数。\n",
        "3. 浮点数类型（float）：表示浮点数，包括float16、float32、float64(float_)等。\n",
        "4. 复数类型（complex）：表示复数，包括complex64、complex128(complex_)等。\n",
        "5. 字符串类型（string）：表示固定长度的字符串，如S10表示长度为10的字符串。\n",
        "6. Unicode类型（unicode）：表示固定长度的Unicode字符串，如U10表示长度为10的Unicode字符串。\n",
        "7. 日期和时间类型（datetime）：表示日期和时间，包括datetime64、timedelta64等。\n",
        "\n",
        "## 数组的形状、维度和大小\n",
        "\n",
        "在 NumPy 中，维度称为轴。以下面这个二维数组为例，它的第一个轴的长度为2（行），第二个轴长度为3（列）。\n"
      ]
    },
    {
      "cell_type": "code",
      "execution_count": 33,
      "id": "1d0de2c9",
      "metadata": {},
      "outputs": [
        {
          "name": "stdout",
          "output_type": "stream",
          "text": [
            "以此数组为例:\n",
            "[[1 2 3]\n",
            " [4 5 6]]\n",
            "数组的维度是:2\n",
            "数组的形状是:(2, 3)\n",
            "数组一共包含6个元素\n"
          ]
        }
      ],
      "source": [
        "a = np.array([[1, 2, 3], [4, 5, 6]])\n",
        "\n",
        "print(f\"以此数组为例:\\n{a}\")\n",
        "\n",
        "print(f\"数组的维度是:{a.ndim}\")\n",
        "\n",
        "print(f\"数组的形状是:{a.shape}\")\n",
        "\n",
        "print(f\"数组一共包含{a.size}个元素\")"
      ]
    }
  ],
  "metadata": {
    "kernelspec": {
      "display_name": "Python 3",
      "language": "python",
      "name": "python3"
    },
    "language_info": {
      "codemirror_mode": {
        "name": "ipython",
        "version": 3
      },
      "file_extension": ".py",
      "mimetype": "text/x-python",
      "name": "python",
      "nbconvert_exporter": "python",
      "pygments_lexer": "ipython3",
      "version": "3.10.9"
    }
  },
  "nbformat": 4,
  "nbformat_minor": 5
}
