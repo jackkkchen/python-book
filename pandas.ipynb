{
  "cells": [
    {
      "cell_type": "markdown",
      "metadata": {},
      "source": [
        "<!-- ---\n",
        "title: \"Pandas入门\"\n",
        "format:\n",
        "  html:\n",
        "    code-fold: true\n",
        "jupyter: python"
      ],
      "id": "1e1d89da"
    },
    {
      "cell_type": "markdown",
      "metadata": {},
      "source": [
        "---\n",
        "\n",
        "## 安装\n",
        "### 使用Anaconda安装\n",
        "对于没有经验的小白来说，直接上手用代码来安装各种包可能有点困难，而[Anaconda](https://docs.continuum.io/free/anaconda/)作为一个发型平台，可以非常轻松的安装除了Pandas之外的各种Python包（IPython、NumPy、 Matplotlib等）\n",
        "\n",
        "详细的Anaconda安装步骤可以观看我的B站视频，或者[官方文档](https://docs.continuum.io/free/anaconda/install/)"
      ],
      "id": "9aec92db"
    },
    {
      "cell_type": "code",
      "metadata": {},
      "source": [
        "conda install pandas"
      ],
      "id": "ec0ec8c2",
      "execution_count": null,
      "outputs": []
    },
    {
      "cell_type": "markdown",
      "metadata": {},
      "source": [
        "<div style=\"position: relative; padding: 30% 45%;\">\n",
        "<iframe style=\"position: absolute; width: 80%; height: 80%; left: 0; top: 0;\" src=\"//player.bilibili.com/player.html?aid=980446298&bvid=BV1f44y1G73a&cid=569281368&page=1\" frameborder=\"no\" scrolling=\"no\" allowfullscreen=\"true\">\n",
        "</iframe>\n",
        "</div> \n",
        "\n",
        "### 使用[PyPI](https://pypi.org/project/pandas/)中的 pip 安装"
      ],
      "id": "4a09b208"
    },
    {
      "cell_type": "code",
      "metadata": {},
      "source": [
        "pip install pandas"
      ],
      "id": "bf573647",
      "execution_count": null,
      "outputs": []
    },
    {
      "cell_type": "markdown",
      "metadata": {},
      "source": [
        "::: {.callout-tip}\n",
        "一般来说这是python自带的安装方式，但有时候你的虚拟环境没有或者服务器里的需要更新，可以[参考文档](https://pip.pypa.io/en/stable/installation/)\n",
        ":::\n",
        "\n",
        "\n",
        "You can turn parallel sections to tabs in `html_document` output.\n",
        "\n",
        "::: {.tabset}\n",
        "## Linux"
      ],
      "id": "8be9bb72"
    },
    {
      "cell_type": "code",
      "metadata": {},
      "source": [
        "$ python -m ensurepip --upgrade"
      ],
      "id": "e1e01e68",
      "execution_count": null,
      "outputs": []
    },
    {
      "cell_type": "markdown",
      "metadata": {},
      "source": [
        "## MacOS"
      ],
      "id": "9f3a015a"
    },
    {
      "cell_type": "code",
      "metadata": {},
      "source": [
        "$ python -m ensurepip --upgrade"
      ],
      "id": "f0a7e37e",
      "execution_count": null,
      "outputs": []
    },
    {
      "cell_type": "markdown",
      "metadata": {},
      "source": [
        "## Windows"
      ],
      "id": "18672445"
    },
    {
      "cell_type": "code",
      "metadata": {},
      "source": [
        "C:> py -m ensurepip --upgrade"
      ],
      "id": "f832baee",
      "execution_count": null,
      "outputs": []
    },
    {
      "cell_type": "markdown",
      "metadata": {},
      "source": [
        ":::  -->"
      ],
      "id": "5ca97291"
    }
  ],
  "metadata": {
    "kernelspec": {
      "name": "python3",
      "language": "python",
      "display_name": "Python 3 (ipykernel)"
    }
  },
  "nbformat": 4,
  "nbformat_minor": 5
}