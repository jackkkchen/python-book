{
 "cells": [
  {
   "attachments": {},
   "cell_type": "markdown",
   "metadata": {},
   "source": [
    "---\n",
    "title: \"Python连接Postgresql数据库\"\n",
    "format:\n",
    "  html:\n",
    "   code-fold: true\n",
    "   code-tools: true\n",
    "jupyter: python3\n",
    "---"
   ]
  },
  {
   "attachments": {},
   "cell_type": "markdown",
   "metadata": {},
   "source": [
    "## 为什么要用SQLAlchemy连接数据库？\n",
    "在企业中，很多数据都存储在数据库当中，通过SQLAlchemy，可以轻松连接多种数据库，包括MySQL、PostgreSQL、SQLite等，并使用统一的API进行数据库操作。SQLAlchemy提供了高级的对象关系映射（ORM）功能，使数据库操作更加面向对象，简化了数据模型的开发和管理。它提供了查询构建器、事务管理、数据迁移等功能，提高了开发效率。"
   ]
  },
  {
   "attachments": {},
   "cell_type": "markdown",
   "metadata": {},
   "source": [
    "## 所需环境和拓展包\n",
    "1. jupyternotebook -- 撰写python代码\n",
    "2. PostgreSQL & Pgadmin4 -- 数据库及其GUI工具（数据库客户端）\n",
    "3. SQLAlchemy -- python拓展包，用来连接数据库"
   ]
  },
  {
   "attachments": {},
   "cell_type": "markdown",
   "metadata": {},
   "source": [
    "## 操作步骤\n",
    "1. Docker安装jupyternotebook & Postgresql数据库\n",
    "2. 本地数据库备份&迁移\n",
    "3. 安装和使用SqlAlechemy"
   ]
  },
  {
   "attachments": {},
   "cell_type": "markdown",
   "metadata": {},
   "source": [
    "<video width=\"600\" height=\"450\" controls>\n",
    "  <source src=\"http://szmspython.oss-cn-hangzhou.aliyuncs.com/python%E9%93%BE%E6%8E%A5%E6%95%B0%E6%8D%AE%E5%BA%93.mp4\">\n",
    "</video>"
   ]
  }
 ],
 "metadata": {
  "language_info": {
   "name": "python"
  },
  "orig_nbformat": 4
 },
 "nbformat": 4,
 "nbformat_minor": 2
}
