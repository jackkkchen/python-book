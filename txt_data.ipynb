{
 "cells": [
  {
   "attachments": {},
   "cell_type": "markdown",
   "metadata": {},
   "source": [
    "## 使用Pandas处理文本数据 \n",
    "在Pandas中，文本的主要两个类型是`string`和`object`。如果不特殊指定类型为`string`，文本类型一般为`object`。\n",
    "\n",
    "在通过访问器`str`实现对文本的操作之前，需要注意：\n",
    "\n",
    "* 要确保访问的对象类型是字符串`str`类型，如果不是，需要使用`astype(str)`转换类型\n",
    "* 访问器只能对`Series`数据结构使用，可以多个连接使用。\n",
    "\n",
    "### 1. 文本格式：大小写变换 {.unnumbered}\n",
    "\n",
    "在 Pandas 中，可以使用字符串方法 `str.lower()` 和 `str.upper()` 对文本数据进行大小写转换。这些方法可以应用于 Pandas 的 `Series `或` DataFrame `列中的文本数据，以将其转换为小写或大写形式。"
   ]
  },
  {
   "cell_type": "code",
   "execution_count": 3,
   "metadata": {},
   "outputs": [
    {
     "data": {
      "text/html": [
       "<div>\n",
       "<style scoped>\n",
       "    .dataframe tbody tr th:only-of-type {\n",
       "        vertical-align: middle;\n",
       "    }\n",
       "\n",
       "    .dataframe tbody tr th {\n",
       "        vertical-align: top;\n",
       "    }\n",
       "\n",
       "    .dataframe thead th {\n",
       "        text-align: right;\n",
       "    }\n",
       "</style>\n",
       "<table border=\"1\" class=\"dataframe\">\n",
       "  <thead>\n",
       "    <tr style=\"text-align: right;\">\n",
       "      <th></th>\n",
       "      <th>text</th>\n",
       "      <th>lowercase</th>\n",
       "      <th>uppercase</th>\n",
       "      <th>titlecase</th>\n",
       "      <th>capitalize</th>\n",
       "      <th>swapcase</th>\n",
       "    </tr>\n",
       "  </thead>\n",
       "  <tbody>\n",
       "    <tr>\n",
       "      <th>0</th>\n",
       "      <td>Hello World</td>\n",
       "      <td>hello world</td>\n",
       "      <td>HELLO WORLD</td>\n",
       "      <td>Hello World</td>\n",
       "      <td>Hello world</td>\n",
       "      <td>hELLO wORLD</td>\n",
       "    </tr>\n",
       "    <tr>\n",
       "      <th>1</th>\n",
       "      <td>Welcome to Pandas</td>\n",
       "      <td>welcome to pandas</td>\n",
       "      <td>WELCOME TO PANDAS</td>\n",
       "      <td>Welcome To Pandas</td>\n",
       "      <td>Welcome to pandas</td>\n",
       "      <td>wELCOME TO pANDAS</td>\n",
       "    </tr>\n",
       "    <tr>\n",
       "      <th>2</th>\n",
       "      <td>Text Processing</td>\n",
       "      <td>text processing</td>\n",
       "      <td>TEXT PROCESSING</td>\n",
       "      <td>Text Processing</td>\n",
       "      <td>Text processing</td>\n",
       "      <td>tEXT pROCESSING</td>\n",
       "    </tr>\n",
       "  </tbody>\n",
       "</table>\n",
       "</div>"
      ],
      "text/plain": [
       "                text          lowercase          uppercase          titlecase  \\\n",
       "0        Hello World        hello world        HELLO WORLD        Hello World   \n",
       "1  Welcome to Pandas  welcome to pandas  WELCOME TO PANDAS  Welcome To Pandas   \n",
       "2    Text Processing    text processing    TEXT PROCESSING    Text Processing   \n",
       "\n",
       "          capitalize           swapcase  \n",
       "0        Hello world        hELLO wORLD  \n",
       "1  Welcome to pandas  wELCOME TO pANDAS  \n",
       "2    Text processing    tEXT pROCESSING  "
      ]
     },
     "execution_count": 3,
     "metadata": {},
     "output_type": "execute_result"
    }
   ],
   "source": [
    "import pandas as pd\n",
    "\n",
    "# 创建示例数据\n",
    "data = {'text': ['Hello World', 'Welcome to Pandas', 'Text Processing']}\n",
    "df = pd.DataFrame(data)\n",
    "\n",
    "# 字符全部变成小写\n",
    "df['lowercase'] = df['text'].str.lower()\n",
    "\n",
    "# 字符全部变成大写\n",
    "df['uppercase'] = df['text'].str.upper()\n",
    "\n",
    "# 每个单词首字母大写\n",
    "df['titlecase'] = df['text'].str.title()\n",
    "\n",
    "# 字符串第一个字母大写，其余小写\n",
    "df['capitalize'] = df['text'].str.capitalize()\n",
    "\n",
    "# 大小写字母转换\n",
    "df['swapcase'] = df['text'].str.swapcase()\n",
    "\n",
    "# 打印处理后的数据集\n",
    "df"
   ]
  },
  {
   "attachments": {},
   "cell_type": "markdown",
   "metadata": {},
   "source": [
    "### 2. 文本拆分 {.unnumbered}\n",
    "\n",
    "在 Pandas 中，可以使用字符串方法 `str.split()` 对文本数据进行拆分。该方法可以将字符串按指定的分隔符拆分为多个部分，并返回一个包含拆分结果的 `Series `或`DataFrame `列。\n",
    "\n",
    "在对文本进行拆分时，可以使用`expand`参数将拆分出来的内容单独成列，使用`n`参数指定拆分的位置来控制形成几列。在对文本进行拆分以后，也可以使用`get`方法提取相关部分单独成列。"
   ]
  },
  {
   "cell_type": "code",
   "execution_count": null,
   "metadata": {},
   "outputs": [],
   "source": [
    "# 使用方法\n",
    "# s.str.split('x', expand=True, n=1)"
   ]
  },
  {
   "cell_type": "code",
   "execution_count": 5,
   "metadata": {},
   "outputs": [
    {
     "data": {
      "text/html": [
       "<div>\n",
       "<style scoped>\n",
       "    .dataframe tbody tr th:only-of-type {\n",
       "        vertical-align: middle;\n",
       "    }\n",
       "\n",
       "    .dataframe tbody tr th {\n",
       "        vertical-align: top;\n",
       "    }\n",
       "\n",
       "    .dataframe thead th {\n",
       "        text-align: right;\n",
       "    }\n",
       "</style>\n",
       "<table border=\"1\" class=\"dataframe\">\n",
       "  <thead>\n",
       "    <tr style=\"text-align: right;\">\n",
       "      <th></th>\n",
       "      <th>Text</th>\n",
       "      <th>Word1</th>\n",
       "      <th>Word2</th>\n",
       "    </tr>\n",
       "  </thead>\n",
       "  <tbody>\n",
       "    <tr>\n",
       "      <th>0</th>\n",
       "      <td>Hello World</td>\n",
       "      <td>Hello</td>\n",
       "      <td>World</td>\n",
       "    </tr>\n",
       "    <tr>\n",
       "      <th>1</th>\n",
       "      <td>Python Programming</td>\n",
       "      <td>Python</td>\n",
       "      <td>Programming</td>\n",
       "    </tr>\n",
       "    <tr>\n",
       "      <th>2</th>\n",
       "      <td>Data Science</td>\n",
       "      <td>Data</td>\n",
       "      <td>Science</td>\n",
       "    </tr>\n",
       "  </tbody>\n",
       "</table>\n",
       "</div>"
      ],
      "text/plain": [
       "                 Text   Word1        Word2\n",
       "0         Hello World   Hello        World\n",
       "1  Python Programming  Python  Programming\n",
       "2        Data Science    Data      Science"
      ]
     },
     "execution_count": 5,
     "metadata": {},
     "output_type": "execute_result"
    }
   ],
   "source": [
    "# 示例\n",
    "# 创建一个包含文本数据的 DataFrame\n",
    "data = {'Text': ['Hello World', 'Python Programming', 'Data Science']}\n",
    "df = pd.DataFrame(data)\n",
    "\n",
    "# 拆分文本并形成新列\n",
    "df[['Word1', 'Word2']] = df['Text'].str.split(' ', expand=True)\n",
    "\n",
    "df"
   ]
  },
  {
   "attachments": {},
   "cell_type": "markdown",
   "metadata": {},
   "source": [
    "要进行更复杂的拆分可以借助正则表达式，如："
   ]
  },
  {
   "cell_type": "code",
   "execution_count": null,
   "metadata": {},
   "outputs": [],
   "source": [
    "# s.str.split('\\@|\\.', expand=True, n=1)"
   ]
  },
  {
   "attachments": {},
   "cell_type": "markdown",
   "metadata": {},
   "source": [
    "### 3. 文本包含 {.unnumbered}\n",
    "\n",
    "在 Pandas 中，可以使用字符串方法 `str.contains()` 来判断文本数据是否包含指定的子串。这个方法返回一个布尔值的 `Series `或` DataFrame `列，用于表示每个元素是否包含指定的子串。，一般配合`loc`查询功能使用可搭配的参数有：\n",
    "\n",
    "* `pat`: 匹配字符串，支持正则表达式\n",
    "* `case`: 是否区分大小写，`True`表示区别\n",
    "* `flags`: 正则库`re`中的标识，比如`re.IGNORECASE`\n",
    "* `na`: 对缺失值填充\n",
    "* `regex`: 是否支持正则，默认`True`支持"
   ]
  },
  {
   "cell_type": "code",
   "execution_count": null,
   "metadata": {},
   "outputs": [],
   "source": [
    "# 使用方法\n",
    "# s.str.contains(\"\")"
   ]
  },
  {
   "cell_type": "code",
   "execution_count": 6,
   "metadata": {},
   "outputs": [
    {
     "data": {
      "text/html": [
       "<div>\n",
       "<style scoped>\n",
       "    .dataframe tbody tr th:only-of-type {\n",
       "        vertical-align: middle;\n",
       "    }\n",
       "\n",
       "    .dataframe tbody tr th {\n",
       "        vertical-align: top;\n",
       "    }\n",
       "\n",
       "    .dataframe thead th {\n",
       "        text-align: right;\n",
       "    }\n",
       "</style>\n",
       "<table border=\"1\" class=\"dataframe\">\n",
       "  <thead>\n",
       "    <tr style=\"text-align: right;\">\n",
       "      <th></th>\n",
       "      <th>Text</th>\n",
       "      <th>Word1</th>\n",
       "      <th>Word2</th>\n",
       "      <th>Contains_Python</th>\n",
       "    </tr>\n",
       "  </thead>\n",
       "  <tbody>\n",
       "    <tr>\n",
       "      <th>0</th>\n",
       "      <td>Hello World</td>\n",
       "      <td>Hello</td>\n",
       "      <td>World</td>\n",
       "      <td>False</td>\n",
       "    </tr>\n",
       "    <tr>\n",
       "      <th>1</th>\n",
       "      <td>Python Programming</td>\n",
       "      <td>Python</td>\n",
       "      <td>Programming</td>\n",
       "      <td>True</td>\n",
       "    </tr>\n",
       "    <tr>\n",
       "      <th>2</th>\n",
       "      <td>Data Science</td>\n",
       "      <td>Data</td>\n",
       "      <td>Science</td>\n",
       "      <td>False</td>\n",
       "    </tr>\n",
       "  </tbody>\n",
       "</table>\n",
       "</div>"
      ],
      "text/plain": [
       "                 Text   Word1        Word2  Contains_Python\n",
       "0         Hello World   Hello        World            False\n",
       "1  Python Programming  Python  Programming             True\n",
       "2        Data Science    Data      Science            False"
      ]
     },
     "execution_count": 6,
     "metadata": {},
     "output_type": "execute_result"
    }
   ],
   "source": [
    "# 示例\n",
    "# 判断文本是否包含特定子串，并创建新列\n",
    "df['Contains_Python'] = df['Text'].str.contains('Python')\n",
    "\n",
    "df"
   ]
  },
  {
   "attachments": {},
   "cell_type": "markdown",
   "metadata": {},
   "source": [
    "### 4. 文本格式：计数 {.unnumbered}\n",
    "\n",
    "在 Pandas 中，可以使用字符串方法 `str.count()` 计算文本数据中指定子串的出现次数，同时可以使用字符串方法 `str.len()` 计量文本的长度。这两个方法可以方便地对文本数据进行计数和测量长度的操作。"
   ]
  },
  {
   "cell_type": "code",
   "execution_count": null,
   "metadata": {},
   "outputs": [],
   "source": [
    "# 使用方法\n",
    "# s.str.count('') # 字符串种包括指定字母的数量\n",
    "# s.str.len() # 字符串长度"
   ]
  },
  {
   "cell_type": "code",
   "execution_count": 7,
   "metadata": {},
   "outputs": [
    {
     "data": {
      "text/html": [
       "<div>\n",
       "<style scoped>\n",
       "    .dataframe tbody tr th:only-of-type {\n",
       "        vertical-align: middle;\n",
       "    }\n",
       "\n",
       "    .dataframe tbody tr th {\n",
       "        vertical-align: top;\n",
       "    }\n",
       "\n",
       "    .dataframe thead th {\n",
       "        text-align: right;\n",
       "    }\n",
       "</style>\n",
       "<table border=\"1\" class=\"dataframe\">\n",
       "  <thead>\n",
       "    <tr style=\"text-align: right;\">\n",
       "      <th></th>\n",
       "      <th>Text</th>\n",
       "      <th>Word1</th>\n",
       "      <th>Word2</th>\n",
       "      <th>Contains_Python</th>\n",
       "      <th>Count_o</th>\n",
       "    </tr>\n",
       "  </thead>\n",
       "  <tbody>\n",
       "    <tr>\n",
       "      <th>0</th>\n",
       "      <td>Hello World</td>\n",
       "      <td>Hello</td>\n",
       "      <td>World</td>\n",
       "      <td>False</td>\n",
       "      <td>2</td>\n",
       "    </tr>\n",
       "    <tr>\n",
       "      <th>1</th>\n",
       "      <td>Python Programming</td>\n",
       "      <td>Python</td>\n",
       "      <td>Programming</td>\n",
       "      <td>True</td>\n",
       "      <td>2</td>\n",
       "    </tr>\n",
       "    <tr>\n",
       "      <th>2</th>\n",
       "      <td>Data Science</td>\n",
       "      <td>Data</td>\n",
       "      <td>Science</td>\n",
       "      <td>False</td>\n",
       "      <td>0</td>\n",
       "    </tr>\n",
       "  </tbody>\n",
       "</table>\n",
       "</div>"
      ],
      "text/plain": [
       "                 Text   Word1        Word2  Contains_Python  Count_o\n",
       "0         Hello World   Hello        World            False        2\n",
       "1  Python Programming  Python  Programming             True        2\n",
       "2        Data Science    Data      Science            False        0"
      ]
     },
     "execution_count": 7,
     "metadata": {},
     "output_type": "execute_result"
    }
   ],
   "source": [
    "# 示例\n",
    "# 计算指定子串的出现次数，并创建新列\n",
    "df['Count_o'] = df['Text'].str.count('o')\n",
    "\n",
    "df"
   ]
  },
  {
   "cell_type": "code",
   "execution_count": 8,
   "metadata": {},
   "outputs": [
    {
     "data": {
      "text/html": [
       "<div>\n",
       "<style scoped>\n",
       "    .dataframe tbody tr th:only-of-type {\n",
       "        vertical-align: middle;\n",
       "    }\n",
       "\n",
       "    .dataframe tbody tr th {\n",
       "        vertical-align: top;\n",
       "    }\n",
       "\n",
       "    .dataframe thead th {\n",
       "        text-align: right;\n",
       "    }\n",
       "</style>\n",
       "<table border=\"1\" class=\"dataframe\">\n",
       "  <thead>\n",
       "    <tr style=\"text-align: right;\">\n",
       "      <th></th>\n",
       "      <th>Text</th>\n",
       "      <th>Word1</th>\n",
       "      <th>Word2</th>\n",
       "      <th>Contains_Python</th>\n",
       "      <th>Count_o</th>\n",
       "      <th>Text_length</th>\n",
       "    </tr>\n",
       "  </thead>\n",
       "  <tbody>\n",
       "    <tr>\n",
       "      <th>0</th>\n",
       "      <td>Hello World</td>\n",
       "      <td>Hello</td>\n",
       "      <td>World</td>\n",
       "      <td>False</td>\n",
       "      <td>2</td>\n",
       "      <td>11</td>\n",
       "    </tr>\n",
       "    <tr>\n",
       "      <th>1</th>\n",
       "      <td>Python Programming</td>\n",
       "      <td>Python</td>\n",
       "      <td>Programming</td>\n",
       "      <td>True</td>\n",
       "      <td>2</td>\n",
       "      <td>18</td>\n",
       "    </tr>\n",
       "    <tr>\n",
       "      <th>2</th>\n",
       "      <td>Data Science</td>\n",
       "      <td>Data</td>\n",
       "      <td>Science</td>\n",
       "      <td>False</td>\n",
       "      <td>0</td>\n",
       "      <td>12</td>\n",
       "    </tr>\n",
       "  </tbody>\n",
       "</table>\n",
       "</div>"
      ],
      "text/plain": [
       "                 Text   Word1        Word2  Contains_Python  Count_o  \\\n",
       "0         Hello World   Hello        World            False        2   \n",
       "1  Python Programming  Python  Programming             True        2   \n",
       "2        Data Science    Data      Science            False        0   \n",
       "\n",
       "   Text_length  \n",
       "0           11  \n",
       "1           18  \n",
       "2           12  "
      ]
     },
     "execution_count": 8,
     "metadata": {},
     "output_type": "execute_result"
    }
   ],
   "source": [
    "# 计量文本长度，并创建新列\n",
    "df['Text_length'] = df['Text'].str.len()\n",
    "\n",
    "df"
   ]
  },
  {
   "attachments": {},
   "cell_type": "markdown",
   "metadata": {},
   "source": [
    "### 5. 文本替换 {.unnumbered}\n",
    "\n",
    "文本替换通常使用`replace`方法进行，可选参数如下：\n",
    "\n",
    "- `pal`：为被替代的内容字符串，也可以为正则表达式\n",
    "- `repl`：为新内容字符串，也可以是一个被调用的函数\n",
    "- `regex`：用于设置是否支持正则，默认是`True`"
   ]
  },
  {
   "cell_type": "code",
   "execution_count": null,
   "metadata": {},
   "outputs": [],
   "source": [
    "# 使用方法\n",
    "# s.str.replace(\"s\":\"S\", \"f\":\"F\")"
   ]
  },
  {
   "cell_type": "code",
   "execution_count": 9,
   "metadata": {},
   "outputs": [
    {
     "data": {
      "text/html": [
       "<div>\n",
       "<style scoped>\n",
       "    .dataframe tbody tr th:only-of-type {\n",
       "        vertical-align: middle;\n",
       "    }\n",
       "\n",
       "    .dataframe tbody tr th {\n",
       "        vertical-align: top;\n",
       "    }\n",
       "\n",
       "    .dataframe thead th {\n",
       "        text-align: right;\n",
       "    }\n",
       "</style>\n",
       "<table border=\"1\" class=\"dataframe\">\n",
       "  <thead>\n",
       "    <tr style=\"text-align: right;\">\n",
       "      <th></th>\n",
       "      <th>Text</th>\n",
       "      <th>Word1</th>\n",
       "      <th>Word2</th>\n",
       "      <th>Contains_Python</th>\n",
       "      <th>Count_o</th>\n",
       "      <th>Text_length</th>\n",
       "      <th>New_Text</th>\n",
       "    </tr>\n",
       "  </thead>\n",
       "  <tbody>\n",
       "    <tr>\n",
       "      <th>0</th>\n",
       "      <td>Hello World</td>\n",
       "      <td>Hello</td>\n",
       "      <td>World</td>\n",
       "      <td>False</td>\n",
       "      <td>2</td>\n",
       "      <td>11</td>\n",
       "      <td>Hellx Wxrld</td>\n",
       "    </tr>\n",
       "    <tr>\n",
       "      <th>1</th>\n",
       "      <td>Python Programming</td>\n",
       "      <td>Python</td>\n",
       "      <td>Programming</td>\n",
       "      <td>True</td>\n",
       "      <td>2</td>\n",
       "      <td>18</td>\n",
       "      <td>Pythxn Prxgramming</td>\n",
       "    </tr>\n",
       "    <tr>\n",
       "      <th>2</th>\n",
       "      <td>Data Science</td>\n",
       "      <td>Data</td>\n",
       "      <td>Science</td>\n",
       "      <td>False</td>\n",
       "      <td>0</td>\n",
       "      <td>12</td>\n",
       "      <td>Data Science</td>\n",
       "    </tr>\n",
       "  </tbody>\n",
       "</table>\n",
       "</div>"
      ],
      "text/plain": [
       "                 Text   Word1        Word2  Contains_Python  Count_o  \\\n",
       "0         Hello World   Hello        World            False        2   \n",
       "1  Python Programming  Python  Programming             True        2   \n",
       "2        Data Science    Data      Science            False        0   \n",
       "\n",
       "   Text_length            New_Text  \n",
       "0           11         Hellx Wxrld  \n",
       "1           18  Pythxn Prxgramming  \n",
       "2           12        Data Science  "
      ]
     },
     "execution_count": 9,
     "metadata": {},
     "output_type": "execute_result"
    }
   ],
   "source": [
    "# 示例\n",
    "# 将指定子串替换为新值，并创建新列\n",
    "df['New_Text'] = df['Text'].str.replace('o', 'x')\n",
    "\n",
    "df"
   ]
  }
 ],
 "metadata": {
  "kernelspec": {
   "display_name": "Python 3",
   "language": "python",
   "name": "python3"
  },
  "language_info": {
   "codemirror_mode": {
    "name": "ipython",
    "version": 3
   },
   "file_extension": ".py",
   "mimetype": "text/x-python",
   "name": "python",
   "nbconvert_exporter": "python",
   "pygments_lexer": "ipython3",
   "version": "3.11.1"
  },
  "orig_nbformat": 4
 },
 "nbformat": 4,
 "nbformat_minor": 2
}
