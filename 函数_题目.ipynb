{
 "cells": [
  {
   "attachments": {},
   "cell_type": "markdown",
   "metadata": {},
   "source": [
    "# 函数\n",
    "\n",
    "## 第一部分 函数的定义\n",
    "\n",
    "请定义一个函数，使其符合以下要求：\n",
    "\n",
    "1. 函数名为: `area`\n",
    "2. 接受两个参数: `length`和`width`\n",
    "3. 该函数用于计算矩形的面积\n",
    "4. 在计算完成后输出语句如下结果："
   ]
  },
  {
   "cell_type": "code",
   "execution_count": 44,
   "metadata": {},
   "outputs": [],
   "source": [
    "# 边长分别为{length}cm和{width}cm的矩形的面积为：{area}cm^2"
   ]
  },
  {
   "attachments": {},
   "cell_type": "markdown",
   "metadata": {},
   "source": [
    "5. 将矩形的面积作为返回值"
   ]
  },
  {
   "cell_type": "code",
   "execution_count": 45,
   "metadata": {},
   "outputs": [],
   "source": [
    "def area(length, width):\n",
    "    area = length * width\n",
    "    print(f\"边长分别为{length}cm和{width}cm的矩形的面积为：{area}cm^2\")\n",
    "    return area\n"
   ]
  },
  {
   "attachments": {},
   "cell_type": "markdown",
   "metadata": {},
   "source": [
    "## 第二部分 函数的调用\n",
    "\n",
    "请调用上述定义的`area`函数，实现以下要求：\n",
    "\n",
    "1. 传入参数`5`和`3`\n",
    "2. 将返回的结果保存到变量`result`中，并输出`result`的值"
   ]
  },
  {
   "cell_type": "code",
   "execution_count": 46,
   "metadata": {},
   "outputs": [
    {
     "name": "stdout",
     "output_type": "stream",
     "text": [
      "边长分别为5cm和3cm的矩形的面积为：15cm^2\n",
      "15\n"
     ]
    }
   ],
   "source": [
    "result = area(5, 3)\n",
    "print(result)\n"
   ]
  },
  {
   "attachments": {},
   "cell_type": "markdown",
   "metadata": {},
   "source": [
    "## 第三部分 函数的命名规则\n",
    "\n",
    "请判断以下函数命名是否正确，如果函数命名错误了，请指出其错在哪里：\n",
    "\n",
    "1. `def 123abc():`\n",
    "2. `def my-function():`\n",
    "3. `def print():`"
   ]
  },
  {
   "cell_type": "code",
   "execution_count": 47,
   "metadata": {},
   "outputs": [],
   "source": [
    "# 1. 错误，不可以用数字作为函数命名的开头，函数只可以使用数字和下划线开头\n",
    "# 2. 错误，不可以使用-命名函数，函数的命名只能使用数字、字母和下划线\n",
    "# 3. 错误，`print`是python中的关键字，不可以使用关键字作为函数的命名"
   ]
  },
  {
   "attachments": {},
   "cell_type": "markdown",
   "metadata": {},
   "source": [
    "## 第四部分 函数的传入参数\n",
    "\n",
    "### 第1题\n",
    "请定义一个名为`payment`的函数，该函数将接受3个参数，分别为：\n",
    "\n",
    "* `principal`：贷款额\n",
    "* `interest_rate`：贷款利率\n",
    "* `years`：贷款年份\n",
    "\n",
    "其中，参数`interest_rate`是默认参数，默认值为`0.05`。请定义该函数，使其能够实现计算并**返回**按给定**月份**计算得到的贷款的每月还款额。\n",
    "\n",
    "* 计算公式为：每月还款额 = 贷款额 * [月利率 * (1 + 月利率) ^ 还款月数] / {[(1 + 月利率) ^ 还款月数] - 1}"
   ]
  },
  {
   "cell_type": "code",
   "execution_count": 48,
   "metadata": {},
   "outputs": [],
   "source": [
    "def payment(principal, years, interest_rate=0.05):\n",
    "    monthly_interest_rate = interest_rate / 12\n",
    "    month = years * 12\n",
    "    monthly_pay = principal * monthly_interest_rate * (1 + monthly_interest_rate) ** month / ((1 + monthly_interest_rate) ** month - 1)\n",
    "    return monthly_pay\n"
   ]
  },
  {
   "attachments": {},
   "cell_type": "markdown",
   "metadata": {},
   "source": [
    "### 第2题\n",
    "使用上面定义的函数`payment`计算：\n",
    "\n",
    "1. 贷款额为10000000元，贷款年份为5年，默认利率时的每月还款额。\n",
    "2. 贷款额为10000000元，贷款年份为5年，利率为0.1时的每月还款额。"
   ]
  },
  {
   "cell_type": "code",
   "execution_count": 49,
   "metadata": {},
   "outputs": [
    {
     "name": "stdout",
     "output_type": "stream",
     "text": [
      "188712.3364401099\n"
     ]
    }
   ],
   "source": [
    "# 第1小问\n",
    "default_rate = payment(10000000, 5)\n",
    "print(default_rate)"
   ]
  },
  {
   "cell_type": "code",
   "execution_count": 50,
   "metadata": {},
   "outputs": [
    {
     "name": "stdout",
     "output_type": "stream",
     "text": [
      "212470.44711268332\n"
     ]
    }
   ],
   "source": [
    "# 第2小问\n",
    "non_default_rate = payment(10000000, 5, 0.1)\n",
    "print(non_default_rate)"
   ]
  },
  {
   "attachments": {},
   "cell_type": "markdown",
   "metadata": {},
   "source": [
    "## 第五部分 函数的返回值\n",
    "\n",
    "### 第1题\n",
    "编写一个名为`cal_average`的函数，要求该函数满足如下条件：\n",
    "\n",
    "1. 接受一个**列表参数**`numbers`\n",
    "2. 计算列表中所有数字的平均值，并返回作为函数的返回值，如果列表为空，则返回`None`"
   ]
  },
  {
   "cell_type": "code",
   "execution_count": 51,
   "metadata": {},
   "outputs": [],
   "source": [
    "def cal_average(numbers):\n",
    "    if len(numbers) == 0:\n",
    "        return None\n",
    "    else:\n",
    "        total = sum(numbers)\n",
    "        average = total / len(numbers)\n",
    "        return average\n"
   ]
  },
  {
   "attachments": {},
   "cell_type": "markdown",
   "metadata": {},
   "source": [
    "### 第2题\n",
    "1. 调用函数`cal_average`，传入包含如下数字`1, 2, 3, 4, 5`的列表参数`numbers_list`，并输出结果\n",
    "2. 调用函数`cal_average，传入空列表，并输出结果"
   ]
  },
  {
   "cell_type": "code",
   "execution_count": 52,
   "metadata": {},
   "outputs": [
    {
     "name": "stdout",
     "output_type": "stream",
     "text": [
      "3.0\n"
     ]
    }
   ],
   "source": [
    "# 第1小问\n",
    "numbers_list = [1, 2, 3, 4, 5]\n",
    "average_result = cal_average(numbers_list)\n",
    "print(average_result)\n"
   ]
  },
  {
   "cell_type": "code",
   "execution_count": 53,
   "metadata": {},
   "outputs": [
    {
     "name": "stdout",
     "output_type": "stream",
     "text": [
      "None\n"
     ]
    }
   ],
   "source": [
    "# 第2小问\n",
    "empty_list = []\n",
    "empty_result = cal_average(empty_list)\n",
    "print(empty_result)"
   ]
  },
  {
   "attachments": {},
   "cell_type": "markdown",
   "metadata": {},
   "source": [
    "## 第六部分 匿名函数\n",
    "请定义一个匿名函数，用于计算两个数的和。要求如下：\n",
    "\n",
    "* 将匿名函数赋值给变量`add`\n",
    "* 调用`add`函数，传入参数`3`和`5`，并输出结果"
   ]
  },
  {
   "cell_type": "code",
   "execution_count": 54,
   "metadata": {},
   "outputs": [
    {
     "name": "stdout",
     "output_type": "stream",
     "text": [
      "8\n"
     ]
    }
   ],
   "source": [
    "add = lambda x, y: x + y\n",
    "result = add(3, 5)\n",
    "print(result)\n"
   ]
  },
  {
   "attachments": {},
   "cell_type": "markdown",
   "metadata": {},
   "source": [
    "## 第七部分 函数的嵌套\n",
    "请定义一个嵌套函数，外层函数命名为`outer`，内层函数命名为`inner`，对`outer`函数，有如下要求：\n",
    "\n",
    "1. 接受参数`name`，`time`\n",
    "2. 输出如下语句："
   ]
  },
  {
   "cell_type": "code",
   "execution_count": 55,
   "metadata": {},
   "outputs": [],
   "source": [
    "# 我是{name}，我学习python{time}天了。"
   ]
  },
  {
   "attachments": {},
   "cell_type": "markdown",
   "metadata": {},
   "source": [
    "3. 在`outer`函数内部调用`inner`函数\n",
    "\n",
    "对`inner`函数，有如下要求：\n",
    "\n",
    "* 输出如下语句"
   ]
  },
  {
   "cell_type": "code",
   "execution_count": 56,
   "metadata": {},
   "outputs": [],
   "source": [
    "# 我爱Python!"
   ]
  },
  {
   "cell_type": "code",
   "execution_count": 57,
   "metadata": {},
   "outputs": [
    {
     "name": "stdout",
     "output_type": "stream",
     "text": [
      "我是新手，我学习python10天了。\n",
      "我爱Python!\n"
     ]
    }
   ],
   "source": [
    "def outer(name, time):\n",
    "    print(f\"我是{name}，我学习python{time}天了。\")\n",
    "    def inner():\n",
    "        print(\"我爱Python!\")\n",
    "    inner()\n",
    "\n",
    "outer(\"新手\", 10)\n"
   ]
  },
  {
   "attachments": {},
   "cell_type": "markdown",
   "metadata": {},
   "source": [
    "## 第八题 函数的闭包\n",
    "\n",
    "请定义一个函数`outer_2`，在其内部定义一个名为`inner_2`的函数，使`inner_2`可以**返回**如下字符串："
   ]
  },
  {
   "cell_type": "code",
   "execution_count": 58,
   "metadata": {},
   "outputs": [],
   "source": [
    "# 我爱Python！"
   ]
  },
  {
   "attachments": {},
   "cell_type": "markdown",
   "metadata": {},
   "source": [
    "调用`outer_2`函数，并将返回的结果保存到变量`result`中，最后输出`result`的值。"
   ]
  },
  {
   "cell_type": "code",
   "execution_count": 59,
   "metadata": {},
   "outputs": [
    {
     "name": "stdout",
     "output_type": "stream",
     "text": [
      "我爱Python!\n"
     ]
    }
   ],
   "source": [
    "def outer_2():\n",
    "    def inner_2():\n",
    "        return \"我爱Python!\"\n",
    "    return inner_2()\n",
    "\n",
    "result = outer_2()\n",
    "print(result)\n"
   ]
  }
 ],
 "metadata": {
  "kernelspec": {
   "display_name": "Python 3",
   "language": "python",
   "name": "python3"
  },
  "language_info": {
   "codemirror_mode": {
    "name": "ipython",
    "version": 3
   },
   "file_extension": ".py",
   "mimetype": "text/x-python",
   "name": "python",
   "nbconvert_exporter": "python",
   "pygments_lexer": "ipython3",
   "version": "3.11.1"
  },
  "orig_nbformat": 4
 },
 "nbformat": 4,
 "nbformat_minor": 2
}
