{
 "cells": [
  {
   "attachments": {},
   "cell_type": "markdown",
   "metadata": {},
   "source": [
    "---\n",
    "title: \"Python基础语法\"\n",
    "format:\n",
    "  html:\n",
    "   code-fold: false\n",
    "   code-tools: true\n",
    "jupyter: python3\n",
    "---"
   ]
  },
  {
   "attachments": {},
   "cell_type": "markdown",
   "metadata": {},
   "source": [
    "## 如何使用Python\n",
    "### 运行python文件\n",
    "\n",
    "<video width=\"600\" height=\"450\" controls>\n",
    "  <source src=\"http://szmspython.oss-cn-hangzhou.aliyuncs.com/%E5%91%A8%E4%B8%80%E7%8E%AF%E5%A2%83%E6%90%AD%E5%BB%BA%26%E5%9F%BA%E7%A1%80%E8%AF%AD%E6%B3%95/%E5%9F%BA%E7%A1%80%E8%AF%AD%E6%B3%95/%E4%BD%BF%E7%94%A8python.mov\">\n",
    "</video>\n",
    "\n",
    "\n",
    "Python文件的后缀为 `.py`\n",
    "\n",
    "![](./img/py.png)\n",
    "\n",
    "### 在代码编辑器中输入python指令\n",
    "比如在`jupyterlab`，在`终端`或者`vscode`中输入代码\n",
    "\n",
    "如图，`Shift + Enter`执行代码块\n",
    "\n",
    "![](./img/py_basic.png)\n",
    "\n",
    "::: {.callout-note}\n",
    "在终端中，输入`python`进入python解释器后，即可运行python代码\n",
    ":::\n"
   ]
  },
  {
   "attachments": {},
   "cell_type": "markdown",
   "metadata": {},
   "source": [
    "我们可以写一个简单的表达式，在编程中，表达式是一段产生值的代码，类似计算机功能，例如"
   ]
  },
  {
   "cell_type": "code",
   "execution_count": 4,
   "metadata": {},
   "outputs": [
    {
     "data": {
      "text/plain": [
       "6113"
      ]
     },
     "execution_count": 4,
     "metadata": {},
     "output_type": "execute_result"
    }
   ],
   "source": [
    "2023 + 4090"
   ]
  },
  {
   "attachments": {},
   "cell_type": "markdown",
   "metadata": {},
   "source": [
    "除了输出值外，还有另外一种表达式，比如查看是否 9 大于 1？"
   ]
  },
  {
   "cell_type": "code",
   "execution_count": 5,
   "metadata": {},
   "outputs": [
    {
     "data": {
      "text/plain": [
       "True"
      ]
     },
     "execution_count": 5,
     "metadata": {},
     "output_type": "execute_result"
    }
   ],
   "source": [
    "9 > 1"
   ]
  },
  {
   "attachments": {},
   "cell_type": "markdown",
   "metadata": {},
   "source": [
    "因为这个逻辑是成立的，所以我们会得到 `True`，反之则会得到`False`。这也叫做`布尔值`，这会在之后的数据类型中介绍。\n",
    "\n",
    "写代码总少不了报错。假如我的是空值呢？"
   ]
  },
  {
   "cell_type": "code",
   "execution_count": 6,
   "metadata": {},
   "outputs": [
    {
     "ename": "SyntaxError",
     "evalue": "invalid syntax (1639543893.py, line 1)",
     "output_type": "error",
     "traceback": [
      "\u001b[0;36m  Cell \u001b[0;32mIn[6], line 1\u001b[0;36m\u001b[0m\n\u001b[0;31m    9 >\u001b[0m\n\u001b[0m        ^\u001b[0m\n\u001b[0;31mSyntaxError\u001b[0m\u001b[0;31m:\u001b[0m invalid syntax\n"
     ]
    }
   ],
   "source": [
    "9 > "
   ]
  },
  {
   "attachments": {},
   "cell_type": "markdown",
   "metadata": {},
   "source": [
    "我们会得到一个语法错误，其中`SyntaxError`在编程中，意味着语法，就像平常的语言中的语法一样，你不说清楚是什么的话，那是很难理解的。这在编程里也十分讲究。"
   ]
  },
  {
   "attachments": {},
   "cell_type": "markdown",
   "metadata": {},
   "source": [
    "## 变量赋值\n",
    "\n",
    "在Python中，变量用于存储和表示数据。变量赋值是将一个值与一个变量关联起来的过程。通过变量，我们可以在程序中存储和操作数据。\n",
    "\n",
    "### 变量的命名规则\n",
    "在Python中，变量的命名需要遵循以下规则：\n",
    "\n",
    "- 变量名只能包含字母（大小写敏感）、数字和下划线（_）。\n",
    "- 变量名不能以数字开头。\n",
    "- 变量名不能使用Python关键字和保留字，如if、for、while等。\n",
    "- 变量名应具有描述性，能够清晰地表示变量的含义。\n",
    "\n",
    "\n",
    "### 变量的赋值\n",
    "在Python中，使用等号（=）进行变量赋值操作。等号 ( = ) 运算符左边是一个变量名,等号 ( = ) 运算符右边是存储在变量中的值\n",
    "\n",
    "<video width=\"600\" height=\"450\" controls>\n",
    "  <source src=\"http://szmspython.oss-cn-hangzhou.aliyuncs.com/%E7%8E%AF%E5%A2%83%E6%90%AD%E5%BB%BA/python-%E5%8F%98%E9%87%8F%E8%B5%8B%E5%80%BC.mp4\">\n",
    "</video>\n",
    "\n",
    "\n",
    "下面是一个例子，将数字5赋值给变量x："
   ]
  },
  {
   "cell_type": "code",
   "execution_count": 7,
   "metadata": {},
   "outputs": [],
   "source": [
    "x = 5"
   ]
  },
  {
   "attachments": {},
   "cell_type": "markdown",
   "metadata": {},
   "source": [
    "### 变量的使用\n",
    "一旦变量被赋值，我们可以在程序中使用它来表示和操作存储的值。\n",
    "\n",
    "下面是一个例子，使用变量x计算其平方并打印结果："
   ]
  },
  {
   "cell_type": "code",
   "execution_count": 8,
   "metadata": {},
   "outputs": [
    {
     "name": "stdout",
     "output_type": "stream",
     "text": [
      "25\n"
     ]
    }
   ],
   "source": [
    "x = 5\n",
    "square = x * x\n",
    "print(square)"
   ]
  },
  {
   "attachments": {},
   "cell_type": "markdown",
   "metadata": {},
   "source": [
    "### 变量的重新赋值\n",
    "在程序中，我们可以多次为同一个变量赋值，新的赋值将覆盖之前的值。\n",
    "\n",
    "下面是一个例子，演示变量的重新赋值："
   ]
  },
  {
   "cell_type": "code",
   "execution_count": null,
   "metadata": {},
   "outputs": [],
   "source": [
    "x = 5\n",
    "print(x)  # 输出：5\n",
    "\n",
    "x = 10\n",
    "print(x)  # 输出：10"
   ]
  },
  {
   "attachments": {},
   "cell_type": "markdown",
   "metadata": {},
   "source": [
    "题型一\n",
    "\n",
    "将字符串\"Hello, Python!\"赋值给变量message，然后打印出变量的值。"
   ]
  },
  {
   "cell_type": "code",
   "execution_count": 9,
   "metadata": {},
   "outputs": [
    {
     "name": "stdout",
     "output_type": "stream",
     "text": [
      "Hello, Python!\n"
     ]
    }
   ],
   "source": [
    "message = \"Hello, Python!\"\n",
    "print(message)"
   ]
  },
  {
   "attachments": {},
   "cell_type": "markdown",
   "metadata": {},
   "source": [
    "题型二\n",
    "将变量的值用于字符串拼接，使用input()函数接收输入值，使用[字符串的格式化功能](https://www.runoob.com/python/att-string-format.html)，将这变量的值拼接到一句话中。最后，通过print()函数将句子打印输出。"
   ]
  },
  {
   "cell_type": "code",
   "execution_count": 1,
   "metadata": {},
   "outputs": [
    {
     "name": "stdout",
     "output_type": "stream",
     "text": [
      "我的名字是Jack，今年18岁。\n"
     ]
    }
   ],
   "source": [
    "# 用户输入姓名和年龄\n",
    "name = input(\"请输入您的姓名：\")\n",
    "age = input(\"请输入您的年龄：\")\n",
    "\n",
    "# 创建自我介绍的句子并打印输出\n",
    "introduction = f\"我的名字是{name}，今年{age}岁。\"\n",
    "print(introduction)"
   ]
  },
  {
   "attachments": {},
   "cell_type": "markdown",
   "metadata": {},
   "source": [
    "## 注释\n",
    "在Python中，注释用于对代码进行解释和说明，对于其他人（包括自己）来理解代码的作用和意图非常有帮助。注释是在代码中添加的文本，Python解释器会忽略它们。\n",
    "\n",
    "### 单行注释\n",
    "在Python中，使用`#`符号开始的文本被视为单行注释。在`#`后面的所有内容都被视为注释，不会被执行。\n",
    "\n",
    "下面是一个例子，演示如何使用单行注释："
   ]
  },
  {
   "cell_type": "code",
   "execution_count": 10,
   "metadata": {},
   "outputs": [
    {
     "name": "stdout",
     "output_type": "stream",
     "text": [
      "Hello, World!\n"
     ]
    }
   ],
   "source": [
    "# 这是一个单行注释\n",
    "print(\"Hello, World!\")  # 打印输出文本"
   ]
  },
  {
   "attachments": {},
   "cell_type": "markdown",
   "metadata": {},
   "source": [
    "上述代码中，第一行是一个注释，用于对代码的目的进行解释。第二行是打印输出语句，不受注释的影响。\n",
    "\n",
    "### 多行注释\n",
    "在Python中，使用三个引号（双引号或单引号都可以）包围的文本被视为多行注释。多行注释可以跨越多行，并且可以包含多个段落。\n",
    "\n",
    "下面是一个例子，演示如何使用多行注释："
   ]
  },
  {
   "cell_type": "code",
   "execution_count": 11,
   "metadata": {},
   "outputs": [
    {
     "name": "stdout",
     "output_type": "stream",
     "text": [
      "欢迎，jack!\n"
     ]
    }
   ],
   "source": [
    "\"\"\"\n",
    "这是一个多行注释的示例。\n",
    "它可以跨越多行，并且可以包含多个段落。\n",
    "\n",
    "以下是代码的主要功能：\n",
    "- 输入用户的姓名\n",
    "- 打印欢迎消息和姓名\n",
    "\"\"\"\n",
    "\n",
    "name = input(\"请输入您的姓名：\")\n",
    "print(\"欢迎，\" + name + \"!\")\n"
   ]
  },
  {
   "attachments": {},
   "cell_type": "markdown",
   "metadata": {},
   "source": [
    "::: {.callout-note}\n",
    "如果想一次性注释多行的话，鼠标选取后，按`ctl+/`进行注释\n",
    ":::"
   ]
  },
  {
   "attachments": {},
   "cell_type": "markdown",
   "metadata": {},
   "source": [
    "## 行和缩进\n",
    "在Python中，行用于分隔不同的代码语句，而缩进用于表示代码块（例如条件语句、循环等）的范围。\n",
    "\n",
    "### 行\n",
    "每一行都包含一个完整的代码语句或表达式。下面是一个例子："
   ]
  },
  {
   "cell_type": "code",
   "execution_count": 18,
   "metadata": {},
   "outputs": [
    {
     "name": "stdout",
     "output_type": "stream",
     "text": [
      "Hello, world!\n"
     ]
    }
   ],
   "source": [
    "print(\"Hello, world!\")"
   ]
  },
  {
   "attachments": {},
   "cell_type": "markdown",
   "metadata": {},
   "source": [
    "上述代码中，print(\"Hello, world!\")是一行代码，用于输出字符串\"Hello, world!\"。\n",
    "\n",
    "### 缩进\n",
    "在Python中，缩进通过空格或制表符来实现，用于表示代码块的开始和结束。通常使用4个空格作为标准缩进。\n",
    "\n",
    "::: {.callout-warning}\n",
    "缩进造成的错误，应该名列 Python 错误榜第一\n",
    ":::\n",
    "下面是一个例子，演示如何在代码块中使用缩进：\n"
   ]
  },
  {
   "cell_type": "code",
   "execution_count": 29,
   "metadata": {},
   "outputs": [
    {
     "name": "stdout",
     "output_type": "stream",
     "text": [
      "x是正数\n",
      "干得漂亮！\n"
     ]
    }
   ],
   "source": [
    " if x>0:\n",
    "    print(\"x是正数\")\n",
    "    print(\"干得漂亮！\")\n",
    "else:\n",
    "    print (\"x是负数\")\n",
    "    print (\"可惜哇嗷！\") "
   ]
  },
  {
   "attachments": {},
   "cell_type": "markdown",
   "metadata": {},
   "source": [
    "上述代码中，if语句和else语句是两个代码块，它们的范围由缩进表示。在if代码块中，两个print语句都会在条件满足时执行。在else代码块中，同样有两个print语句。（大家可以自己修改下x范围）\n",
    "\n",
    "::: {.callout-note}\n",
    "养成良好编码习惯：\n",
    "\n",
    "1. 保持一致的缩进：使用相同数量的空格或制表符进行缩进，并在整个代码中保持一致。这有助于提高代码的可读性；\n",
    "   \n",
    "2. 使用合适的缩进级别：根据代码逻辑嵌套关系，选择适当的缩进级别。通常建议每个缩进级别使用4个空格；\n",
    "\n",
    "3. 使用注释：在关键地方添加注释，解释代码的目的和功能。注释可以提高代码的可读性和可维护性；\n",
    "\n",
    "4. 注意行的长度：尽量将每行代码控制在适当的长度范围内，通常推荐不超过80个字符。可以使用换行符（\\）或括号来换行。\n",
    ":::"
   ]
  },
  {
   "attachments": {},
   "cell_type": "markdown",
   "metadata": {},
   "source": [
    "### 多行语句\n",
    "\n",
    "#### 使用反斜杠\n",
    "使用反斜杠`（\\）`将一行代码分成多行。下面是一个例子："
   ]
  },
  {
   "cell_type": "code",
   "execution_count": 34,
   "metadata": {},
   "outputs": [
    {
     "name": "stdout",
     "output_type": "stream",
     "text": [
      "7\n"
     ]
    }
   ],
   "source": [
    "total = 1 + \\\n",
    "        2 * \\\n",
    "        3\n",
    "print(total)\n"
   ]
  },
  {
   "attachments": {},
   "cell_type": "markdown",
   "metadata": {},
   "source": [
    "上述代码中，total变量的值是1+2*3，通过使用反斜杠在多行中编写，使代码更易读。\n",
    "\n",
    "#### 使用括号\n",
    "另一种方式是使用括号（圆括号、方括号、花括号）来隔行编写多行语句。下面是一个例子："
   ]
  },
  {
   "cell_type": "code",
   "execution_count": 35,
   "metadata": {},
   "outputs": [
    {
     "name": "stdout",
     "output_type": "stream",
     "text": [
      "7\n"
     ]
    }
   ],
   "source": [
    "total = (1 +\n",
    "         2 *\n",
    "         3)\n",
    "print(total)"
   ]
  },
  {
   "cell_type": "code",
   "execution_count": null,
   "metadata": {},
   "outputs": [],
   "source": []
  }
 ],
 "metadata": {
  "kernelspec": {
   "display_name": "Python 3",
   "language": "python",
   "name": "python3"
  },
  "language_info": {
   "codemirror_mode": {
    "name": "ipython",
    "version": 3
   },
   "file_extension": ".py",
   "mimetype": "text/x-python",
   "name": "python",
   "nbconvert_exporter": "python",
   "pygments_lexer": "ipython3",
   "version": "3.9.7"
  },
  "orig_nbformat": 4
 },
 "nbformat": 4,
 "nbformat_minor": 2
}
