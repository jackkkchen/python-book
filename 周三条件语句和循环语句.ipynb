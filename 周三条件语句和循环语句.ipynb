{
 "cells": [
  {
   "attachments": {},
   "cell_type": "markdown",
   "metadata": {},
   "source": [
    "## 条件语句&循环语句\n",
    "\n",
    "### 条件语句\n",
    "\n",
    "在本节课程中，我们将学习条件语句的基本结构、逻辑判断以及如何构建复杂的条件表达式。同时，我们还会练习编写带有条件判断的程序，让你能够根据条件执行不同的代码块。\n",
    "\n",
    "\n",
    "\n",
    "\n",
    "1. 条件语句的基本结构\n",
    "   条件语句允许我们根据不同的条件来执行不同的代码块。在Python中，条件语句使用if和else关键字构建。基本结构如下："
   ]
  },
  {
   "cell_type": "code",
   "execution_count": null,
   "metadata": {},
   "outputs": [],
   "source": [
    "if 条件:\n",
    "     #条件为True时执行的代码块\n",
    "else:\n",
    "     #条件为False时执行的代码块"
   ]
  },
  {
   "attachments": {},
   "cell_type": "markdown",
   "metadata": {},
   "source": [
    "2. 逻辑判断\n",
    "   条件语句的逻辑判断基于比较运算符，用于比较两个值的相等性、大小关系等。常见的比较运算符包括：\n",
    "\n",
    "- 相等性判断：==（等于）、!=（不等于）\n",
    "- 大小关系判断：>（大于）、<（小于）、>=（大于等于）、<=（小于等于）\n",
    "\n",
    "举例："
   ]
  },
  {
   "cell_type": "code",
   "execution_count": null,
   "metadata": {},
   "outputs": [
    {
     "name": "stdout",
     "output_type": "stream",
     "text": [
      "账户余额不为零\n"
     ]
    }
   ],
   "source": [
    "balance = 1000\n",
    "if balance == 0:\n",
    "    print(\"账户余额为零\")\n",
    "else:\n",
    "    print(\"账户余额不为零\")\n"
   ]
  },
  {
   "attachments": {},
   "cell_type": "markdown",
   "metadata": {},
   "source": [
    "3. 复杂的条件表达式\n",
    "   我们可以使用比较运算符和逻辑运算符构建复杂的条件表达式，以实现更灵活的条件判断。常见的逻辑运算符包括：\n",
    "\n",
    "- and（与）：当所有条件都为True时，结果为True\n",
    "- or（或）：当至少一个条件为True时，结果为True\n",
    "- not（非）：取反操作，将True变为False，False变为True\n",
    "\n",
    "举例："
   ]
  },
  {
   "cell_type": "code",
   "execution_count": null,
   "metadata": {},
   "outputs": [
    {
     "name": "stdout",
     "output_type": "stream",
     "text": [
      "年收入在50,000到100,000之间\n"
     ]
    }
   ],
   "source": [
    "income = 50000\n",
    "if income >= 50000 and income <= 100000:\n",
    "    print(\"年收入在50,000到100,000之间\")\n"
   ]
  },
  {
   "attachments": {},
   "cell_type": "markdown",
   "metadata": {},
   "source": [
    "4. 编写带有条件判断的程序\n",
    "   我们经常需要根据不同的条件执行不同的代码块。条件语句为我们提供了这样的能力。让我们通过一个实际的例子来练习。\n",
    "\n",
    "举例："
   ]
  },
  {
   "cell_type": "code",
   "execution_count": null,
   "metadata": {},
   "outputs": [
    {
     "name": "stdout",
     "output_type": "stream",
     "text": [
      "盈利一般\n"
     ]
    }
   ],
   "source": [
    "net_income = 5000\n",
    "if net_income > 0 and net_income <= 10000:\n",
    "    print(\"盈利一般\")\n",
    "elif net_income > 10000 and net_income <= 50000:\n",
    "    print(\"盈利良好\")\n",
    "elif net_income > 50000:\n",
    "    print(\"盈利优秀\")\n",
    "else:\n",
    "    print(\"亏损\")"
   ]
  },
  {
   "cell_type": "code",
   "execution_count": null,
   "metadata": {},
   "outputs": [
    {
     "name": "stdout",
     "output_type": "stream",
     "text": [
      "应缴纳的所得税为： 60000.0\n"
     ]
    }
   ],
   "source": [
    "revenue = float(input(\"请输入公司的营业收入：\"))\n",
    "\n",
    "if revenue > 1000000:\n",
    "    tax = revenue * 0.3\n",
    "    print(\"应缴纳的所得税为：\", tax)\n",
    "else:\n",
    "    tax = revenue * 0.2\n",
    "    print(\"应缴纳的所得税为：\", tax)\n",
    "\n"
   ]
  },
  {
   "attachments": {},
   "cell_type": "markdown",
   "metadata": {},
   "source": [
    "### 循环语句\n",
    "\n",
    "本节课程中，我们将探索循环语句的基本结构、控制条件和循环体的执行过程。同时，我们还会学习如何使用break语句和continue语句控制循环的执行流程。最后，我们将练习编写带有循环结构的程序，如遍历列表和计算累加和。\n",
    "\n",
    "<video controls style=\"width: 100%;\">\n",
    "  <source src=\"http://szmspython.oss-cn-hangzhou.aliyuncs.com/python%E5%91%A8%E4%B8%89%E6%9D%A1%E4%BB%B6%E5%BE%AA%E7%8E%AF%E8%AF%AD%E5%8F%A5/1354_1689084698.mp4\" type=\"video/mp4\">\n",
    "</video>\n",
    "\n",
    "<style>\n",
    "  video {\n",
    "    max-width: 100%;\n",
    "    height: auto;\n",
    "  }\n",
    "</style>\n",
    "\n",
    "1. 基本结构\n",
    "   循环语句允许我们重复执行一段代码。Python中有两种常见的循环结构：while循环和for循环。\n",
    "\n",
    "Python 的 for 循环和 while 循环，它们的相同点在于都能循环做一件重复的事情，不同点在于 for 循环会在可迭代的序列被穷尽的时候停止，while则是在条件不成立的时候停止。\n",
    "\n",
    "因此 把 for 循环所做的事情概括成一句话就是: 于...其中的每一个元素，做...事情；\n",
    "\n",
    "把while 的作用概括成一句话就是: 只要...条件成立，就一直做...。\n",
    "\n",
    "\n",
    "- while循环的基本结构如下："
   ]
  },
  {
   "cell_type": "code",
   "execution_count": null,
   "metadata": {},
   "outputs": [],
   "source": [
    "while 条件:\n",
    "    # 循环体代码块"
   ]
  },
  {
   "attachments": {},
   "cell_type": "markdown",
   "metadata": {},
   "source": [
    "![image.png](./img/while.png)"
   ]
  },
  {
   "attachments": {},
   "cell_type": "markdown",
   "metadata": {},
   "source": [
    "这里看一个简单的例子："
   ]
  },
  {
   "cell_type": "code",
   "execution_count": null,
   "metadata": {},
   "outputs": [],
   "source": [
    "while 1 < 3:\n",
    " print('1 is smaller than 3')"
   ]
  },
  {
   "attachments": {},
   "cell_type": "markdown",
   "metadata": {},
   "source": [
    "这里提醒一下，要及时按下停止运行代码。\n",
    "因为在 while 后面的表达式是永远成立的，所以 print 会一直进行下去直至你的cpu 过热。这种条件永远为 True 的循环，我们称之为死循环 (Infnite Loop) 。\n",
    "\n",
    "但如果 while 循环不能像 for 循环那样，在集合被穷尽之后停下来，我们又怎么样才能控制 while 循环呢? 其中一种方式就是: 在循环过程中制造某种可以使循环停下来的条件，例如:"
   ]
  },
  {
   "cell_type": "code",
   "execution_count": 4,
   "metadata": {},
   "outputs": [
    {
     "name": "stdout",
     "output_type": "stream",
     "text": [
      "Repeat this line !\n",
      "Repeat this line !\n",
      "Repeat this line !\n",
      "Repeat this line !\n",
      "Repeat this line !\n"
     ]
    }
   ],
   "source": [
    "count = 0\n",
    "while True:\n",
    " print('Repeat this line !')\n",
    " count = count + 1\n",
    " if count == 5:\n",
    "   break"
   ]
  },
  {
   "attachments": {},
   "cell_type": "markdown",
   "metadata": {},
   "source": [
    "在上面这段代码中，有两个重要的地方，首先是我们给一个叫 count 的变量赋值为 0，其目的是计数。我们希望在循环次数为 5 的时候停下来。接下来的是 break同样作为关键词写在 if 下面的作用就是告诉程序在上面条件成立的时候停下来，仅此而已。这样就可以避免了死循环，"
   ]
  },
  {
   "attachments": {},
   "cell_type": "markdown",
   "metadata": {},
   "source": [
    "for循环的基本结构如下："
   ]
  },
  {
   "cell_type": "code",
   "execution_count": null,
   "metadata": {},
   "outputs": [],
   "source": [
    "for 变量 in 可迭代对象:\n",
    "    # 循环体代码块"
   ]
  },
  {
   "attachments": {},
   "cell_type": "markdown",
   "metadata": {},
   "source": [
    "![image.png](./img/for.png)"
   ]
  },
  {
   "attachments": {},
   "cell_type": "markdown",
   "metadata": {},
   "source": [
    "for 是关键词，而后面紧接着的是一个可以容纳“每一个元素”的变量名称，至于变量起什么名字自己定，但切记不要和关键词重名。\n",
    "\n",
    "在关键词 in 后面所对应的一定是具有“可迭代的”(iterable) 或者说是像列表那样的集合形态的对象，即可以连续地提供其中的每一个元素的对象。"
   ]
  },
  {
   "cell_type": "code",
   "execution_count": 2,
   "metadata": {},
   "outputs": [
    {
     "name": "stdout",
     "output_type": "stream",
     "text": [
      "1 + 1 = 2\n",
      "2 + 1 = 3\n",
      "3 + 1 = 4\n",
      "4 + 1 = 5\n",
      "5 + 1 = 6\n",
      "6 + 1 = 7\n",
      "7 + 1 = 8\n",
      "8 + 1 = 9\n",
      "9 + 1 = 10\n",
      "10 + 1 = 11\n"
     ]
    }
   ],
   "source": [
    "for num in range(1,11): \n",
    " print(str(num) + ' + 1 =',num + 1)"
   ]
  },
  {
   "attachments": {},
   "cell_type": "markdown",
   "metadata": {},
   "source": [
    "以上是一个简单的例子，内置函数range的意思是依次。我们只需要在 range 函数后面的括号中填上数字，就可以得到一个具有连续1到10的整数序列，利用for循环让他们相加。"
   ]
  },
  {
   "attachments": {},
   "cell_type": "markdown",
   "metadata": {},
   "source": [
    "2. 控制条件和执行过程\n",
    "   循环的执行依赖于控制条件。在每次循环迭代开始时，会检查控制条件的值。如果条件为True，则执行循环体代码块；否则，跳出循环。\n",
    "\n",
    "举例：\n",
    "\n",
    "- 使用while循环输出1到5的金融数据："
   ]
  },
  {
   "cell_type": "code",
   "execution_count": null,
   "metadata": {},
   "outputs": [
    {
     "name": "stdout",
     "output_type": "stream",
     "text": [
      "股票价格: 100.0\n",
      "股票价格: 200.0\n",
      "股票价格: 300.0\n",
      "股票价格: 400.0\n",
      "股票价格: 500.0\n"
     ]
    }
   ],
   "source": [
    "price = 100.0\n",
    "while price <= 500.0:\n",
    "    print(\"股票价格:\", price)\n",
    "    price += 100.0"
   ]
  },
  {
   "attachments": {},
   "cell_type": "markdown",
   "metadata": {},
   "source": [
    "使用for循环遍历股票交易日的收盘价："
   ]
  },
  {
   "cell_type": "code",
   "execution_count": null,
   "metadata": {},
   "outputs": [],
   "source": [
    "  prices = [105.0, 102.5, 99.2, 101.8, 104.6]\n",
    "  for price in prices:\n",
    "      print(\"收盘价:\", price)"
   ]
  },
  {
   "attachments": {},
   "cell_type": "markdown",
   "metadata": {},
   "source": [
    "3. break和continue语句\n",
    "   我们可以使用break语句提前终止循环的执行，跳出循环体。而continue语句则用于跳过当前迭代，继续执行下一次循环。\n",
    "\n",
    "举例：\n",
    "\n",
    "- 使用break语句在满足条件时终止循环："
   ]
  },
  {
   "cell_type": "code",
   "execution_count": null,
   "metadata": {},
   "outputs": [
    {
     "name": "stdout",
     "output_type": "stream",
     "text": [
      "股票价格: 100.0\n",
      "股票价格: 200.0\n",
      "股票价格: 300.0\n",
      "股票价格: 400.0\n",
      "股票价格: 500.0\n"
     ]
    }
   ],
   "source": [
    "price = 100.0\n",
    "while True:\n",
    "    print(\"股票价格:\", price)\n",
    "    price += 100.0\n",
    "    if price > 500.0:\n",
    "        break"
   ]
  },
  {
   "attachments": {},
   "cell_type": "markdown",
   "metadata": {},
   "source": [
    "使用continue语句跳过某些迭代："
   ]
  },
  {
   "cell_type": "code",
   "execution_count": null,
   "metadata": {},
   "outputs": [
    {
     "name": "stdout",
     "output_type": "stream",
     "text": [
      "收盘价: 105.0\n",
      "收盘价: 102.5\n",
      "收盘价: 101.8\n",
      "收盘价: 104.6\n"
     ]
    }
   ],
   "source": [
    "prices = [105.0, 102.5, 99.2, 101.8, 104.6]\n",
    "for price in prices:\n",
    "    if price < 100.0:\n",
    "        continue\n",
    "    print(\"收盘价:\", price)"
   ]
  },
  {
   "attachments": {},
   "cell_type": "markdown",
   "metadata": {},
   "source": [
    "### **编写具有条件判断和循环结构的程序**\n",
    "\n",
    "在本节课程中，我们将进一步学习如何编写具有条件判断和循环结构的程序，并解决一些简单的问题。\n",
    "\n",
    "1. 判断奇数和偶数\n",
    "   编写一个程序，判断一个数是奇数还是偶数，并打印出所有的奇数或偶数。\n",
    "\n",
    "举例：\n",
    "\n",
    "- 判断一个数是否为奇数："
   ]
  },
  {
   "cell_type": "code",
   "execution_count": null,
   "metadata": {},
   "outputs": [
    {
     "name": "stdout",
     "output_type": "stream",
     "text": [
      "10 是偶数\n"
     ]
    }
   ],
   "source": [
    "num = int(input(\"请输入一个整数：\"))\n",
    "\n",
    "if num % 2 == 0:\n",
    "    print(num, \"是偶数\")\n",
    "else:\n",
    "    print(num, \"是奇数\")"
   ]
  },
  {
   "attachments": {},
   "cell_type": "markdown",
   "metadata": {},
   "source": [
    "打印出1到10之间的所有偶数："
   ]
  },
  {
   "cell_type": "code",
   "execution_count": null,
   "metadata": {},
   "outputs": [
    {
     "name": "stdout",
     "output_type": "stream",
     "text": [
      "2\n",
      "4\n",
      "6\n",
      "8\n",
      "10\n"
     ]
    }
   ],
   "source": [
    "for num in range(1, 11):\n",
    "    if num % 2 == 0:\n",
    "        print(num)"
   ]
  },
  {
   "attachments": {},
   "cell_type": "markdown",
   "metadata": {},
   "source": [
    "2. 计算斐波那契数列\n",
    "   编写一个程序，计算斐波那契数列中的前n个数字。\n",
    "\n",
    "   注释：斐波那契数列是什么？\n",
    "   \n",
    "   斐波那契数列是一个数列，其中每个数字都是前两个数字之和。数列的开始通常为0和1，后续的数字由前两个数字相加而得。\n",
    "\n",
    "数列的前几个数字如下：\n",
    "0, 1, 1, 2, 3, 5, 8, 13, 21, 34, ...\n",
    "\n",
    "可以看到，数列中的第一个数字是0，第二个数字是1，而后续的每个数字都是前两个数字之和。\n",
    "\n",
    "斐波那契数列在自然界和数学中都有广泛的应用。例如，斐波那契数列可以用于描述植物的分枝规律、音乐中的节奏模式、金融中的利率计算等。\n",
    "\n",
    "举例：\n",
    "\n",
    "- 计算斐波那契数列前10个数字："
   ]
  },
  {
   "cell_type": "code",
   "execution_count": null,
   "metadata": {},
   "outputs": [
    {
     "name": "stdout",
     "output_type": "stream",
     "text": [
      "0\n",
      "1\n",
      "1\n",
      "2\n",
      "3\n",
      "5\n",
      "8\n",
      "13\n",
      "21\n",
      "34\n"
     ]
    }
   ],
   "source": [
    "n = 10\n",
    "a, b = 0, 1\n",
    "\n",
    "for _ in range(n):\n",
    "    print(a)\n",
    "    a, b = b, a + b"
   ]
  },
  {
   "attachments": {},
   "cell_type": "markdown",
   "metadata": {},
   "source": [
    "3. 判断质数\n",
    "   编写一个程序，判断一个数是否为质数（只能被1和它本身整除的数）。\n",
    "\n",
    "举例：\n",
    "\n",
    "- 判断一个数是否为质数："
   ]
  },
  {
   "cell_type": "code",
   "execution_count": null,
   "metadata": {},
   "outputs": [
    {
     "name": "stdout",
     "output_type": "stream",
     "text": [
      "30 不是质数\n"
     ]
    }
   ],
   "source": [
    "num = int(input(\"请输入一个整数：\"))\n",
    "\n",
    "if num < 2:\n",
    "    print(num, \"不是质数\")\n",
    "else:\n",
    "    is_prime = True\n",
    "    for i in range(2, int(num ** 0.5) + 1):\n",
    "        if num % i == 0:\n",
    "            is_prime = False\n",
    "            break\n",
    "\n",
    "if is_prime:\n",
    "    print(num, \"是质数\")\n",
    "else:\n",
    "    print(num, \"不是质数\")"
   ]
  }
 ],
 "metadata": {
  "kernelspec": {
   "display_name": "Python 3",
   "language": "python",
   "name": "python3"
  },
  "language_info": {
   "codemirror_mode": {
    "name": "ipython",
    "version": 3
   },
   "file_extension": ".py",
   "mimetype": "text/x-python",
   "name": "python",
   "nbconvert_exporter": "python",
   "pygments_lexer": "ipython3",
   "version": "3.11.2"
  },
  "orig_nbformat": 4
 },
 "nbformat": 4,
 "nbformat_minor": 2
}
