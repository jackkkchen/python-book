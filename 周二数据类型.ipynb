{
 "cells": [
  {
   "attachments": {},
   "cell_type": "markdown",
   "metadata": {},
   "source": [
    "---\n",
    "title: \"Python数据类型\"\n",
    "format:\n",
    "  html:\n",
    "   code-fold: false\n",
    "   code-tools: true\n",
    "jupyter: python3\n",
    "---"
   ]
  },
  {
   "attachments": {},
   "cell_type": "markdown",
   "metadata": {},
   "source": [
    "## 数据类型\n",
    "在Python中，有多种内置的数据类型，每种类型都用于存储不同类型的数据。了解和正确使用这些数据类型对于编写有效的Python代码非常重要。\n",
    "\n",
    "**Python有以下基本数据类型：**\n",
    "\n",
    "- 整数（int）：如1, 2, 3\n",
    "- 浮点数（float）：如1.5, 3.14\n",
    "- 字符串（str）：如\"hello\", 'world'\n",
    "- 布尔值（bool）：True, False\n",
    "  \n",
    "### 数字类型\n",
    "数字类型用于表示数值数据，包括整数（int）和浮点数（float）。\n",
    "\n",
    "下面是一个例子，演示如何使用数字类型："
   ]
  },
  {
   "cell_type": "code",
   "execution_count": 24,
   "metadata": {},
   "outputs": [
    {
     "name": "stdout",
     "output_type": "stream",
     "text": [
      "10\n"
     ]
    }
   ],
   "source": [
    "# 整数类型\n",
    "num1 = 10\n",
    "print(num1) "
   ]
  },
  {
   "cell_type": "code",
   "execution_count": 25,
   "metadata": {},
   "outputs": [
    {
     "name": "stdout",
     "output_type": "stream",
     "text": [
      "3.14\n"
     ]
    }
   ],
   "source": [
    "# 浮点数类型\n",
    "num2 = 3.14\n",
    "print(num2)  "
   ]
  },
  {
   "attachments": {},
   "cell_type": "markdown",
   "metadata": {},
   "source": [
    "### 字符串类型\n",
    "字符串类型用于表示文本数据，使用引号（单引号或双引号）括起来。\n",
    "\n",
    "下面是一个例子，演示如何使用字符串类型："
   ]
  },
  {
   "cell_type": "code",
   "execution_count": 26,
   "metadata": {},
   "outputs": [
    {
     "name": "stdout",
     "output_type": "stream",
     "text": [
      "Jack Chen\n"
     ]
    }
   ],
   "source": [
    "name = \"Jack Chen\"\n",
    "print(name)  "
   ]
  },
  {
   "attachments": {},
   "cell_type": "markdown",
   "metadata": {},
   "source": [
    "### 布尔类型\n",
    "布尔类型用于表示真（True）和假（False）的值。\n",
    "\n",
    "下面是一个例子，演示如何使用布尔类型："
   ]
  },
  {
   "cell_type": "code",
   "execution_count": 27,
   "metadata": {},
   "outputs": [
    {
     "name": "stdout",
     "output_type": "stream",
     "text": [
      "True\n"
     ]
    }
   ],
   "source": [
    "is_active = True\n",
    "print(is_active)  "
   ]
  },
  {
   "cell_type": "code",
   "execution_count": 28,
   "metadata": {},
   "outputs": [
    {
     "name": "stdout",
     "output_type": "stream",
     "text": [
      "False\n"
     ]
    }
   ],
   "source": [
    "is_student = False\n",
    "print(is_student) \n"
   ]
  },
  {
   "attachments": {},
   "cell_type": "markdown",
   "metadata": {},
   "source": [
    "## 运算符\n",
    "当提到Python的运算符，可以包括算术运算符、赋值运算符、比较运算符、逻辑运算符和位运算符等。下面是一些常见的运算符示例及其解析："
   ]
  },
  {
   "attachments": {},
   "cell_type": "markdown",
   "metadata": {},
   "source": [
    "### 算术运算符\n",
    "比较常见的算术运算符，也就是加减乘除这些。\n",
    "\n",
    "| 运算符 | 描述             | 举例                |\n",
    "| ------ | ---------------- | ------------------- |\n",
    "| x+y    | 加               | 1+2=3               |\n",
    "| x-y    | 减               | 6-5=1               |\n",
    "| x*y    | 乘               | 2*3=6               |\n",
    "| x/y    | 除               | 2/4=0.5             |\n",
    "| x//y   | 整除，取整数部分 | 2//4=0              |\n",
    "| x%y    | 取余             | 15%4=3              |\n",
    "| **     | 幂运算           | 2**3=8   二的三次方 |"
   ]
  },
  {
   "cell_type": "code",
   "execution_count": 36,
   "metadata": {},
   "outputs": [
    {
     "name": "stdout",
     "output_type": "stream",
     "text": [
      "19\n"
     ]
    }
   ],
   "source": [
    "a = 10\n",
    "b = 3\n",
    "\n",
    "# 加法\n",
    "result = a + b * (a // b) \n",
    "print(result)  "
   ]
  },
  {
   "attachments": {},
   "cell_type": "markdown",
   "metadata": {},
   "source": [
    "### 赋值运算符\n",
    "在加减乘除的基础上直接进行赋值计算，不需要新的变量\n",
    "\n",
    "| 运算符 | 描述                                               |\n",
    "| ------ | -------------------------------------------------- |\n",
    "| =      | 赋值                                               |\n",
    "| +=     | 加等,自增    number += 1   <==>  number = number+1 |\n",
    "| *=     | 乘等                                               |\n",
    "| %=     | 余等                                               |\n",
    "| -=     | 减等，自检                                         |\n",
    "| /=     | 除等                                               |\n",
    "| //=    | 取整等                                             |\n",
    "| **=    | 幂等                                               |"
   ]
  },
  {
   "cell_type": "code",
   "execution_count": 30,
   "metadata": {},
   "outputs": [
    {
     "name": "stdout",
     "output_type": "stream",
     "text": [
      "13\n"
     ]
    }
   ],
   "source": [
    "a = 10\n",
    "b = 3\n",
    "\n",
    "# 加法赋值\n",
    "a += b \n",
    "print(a)  "
   ]
  },
  {
   "attachments": {},
   "cell_type": "markdown",
   "metadata": {},
   "source": [
    "### 比较运算符（控制结构判断）\n",
    "输出为布尔值\n",
    "\n",
    "| 运算符 | 描述                               |\n",
    "| ------ | ---------------------------------- |\n",
    "| <      | 小于                               |\n",
    "| <=     | 小于等于                           |\n",
    "| >      | 大于                               |\n",
    "| >=     | 大于等于                           |\n",
    "| ==     | 等于                               |\n",
    "| !=     | 不等于                             |\n",
    "| is     | 判断两个标识符是不是引用自一个对象 |\n",
    "| is not | 判断两个标识符是不是引用自不同对象 |"
   ]
  },
  {
   "cell_type": "code",
   "execution_count": 31,
   "metadata": {},
   "outputs": [
    {
     "name": "stdout",
     "output_type": "stream",
     "text": [
      "False\n"
     ]
    }
   ],
   "source": [
    "a = 10\n",
    "b = 3\n",
    "\n",
    "# 相等比较\n",
    "result = a == b\n",
    "print(result)  "
   ]
  },
  {
   "attachments": {},
   "cell_type": "markdown",
   "metadata": {},
   "source": [
    "### 逻辑运算符\n",
    "逻辑运算符用于在布尔表达式中组合和比较逻辑条件。Python中的逻辑运算符包括以下三种：and（与）、or（或）和not（非）。\n",
    "\n",
    "| 运算符  | 描述                                | 备注                                       |\n",
    "| ------- | ----------------------------------- | ------------------------------------------ |\n",
    "| x and y | if x is false, then x,else y        | xy都为True,结果为True；否则为False         |\n",
    "| x or y  | if x is false, then y，else x       | xy都为False,结果为False；否则为True        |\n",
    "| not x   | if x is false,then True，else False | x为True时，值为False；x为False时，值为True |"
   ]
  },
  {
   "attachments": {},
   "cell_type": "markdown",
   "metadata": {},
   "source": [
    "#### 逻辑 与（and）运算符：\n",
    "逻辑与运算符返回两个操作数都为True时的结果为True，否则返回False。"
   ]
  },
  {
   "cell_type": "code",
   "execution_count": 32,
   "metadata": {},
   "outputs": [
    {
     "name": "stdout",
     "output_type": "stream",
     "text": [
      "False\n"
     ]
    }
   ],
   "source": [
    "x = True\n",
    "y = False\n",
    "\n",
    "# 与运算\n",
    "result = x and y\n",
    "print(result)"
   ]
  },
  {
   "attachments": {},
   "cell_type": "markdown",
   "metadata": {},
   "source": [
    "这里可能比较难理解，在上面的示例中，x的值为True，y的值为False。当使用逻辑与运算符（and）将x和y进行运算时，由于y为False，所以结果为False。如果x和y都为True，则结果为True。"
   ]
  },
  {
   "attachments": {},
   "cell_type": "markdown",
   "metadata": {},
   "source": [
    "#### 逻辑或（or）运算符\n",
    "逻辑或运算符返回两个操作数中至少一个为True时的结果为True，只有当两个操作数都为False时结果才为False。"
   ]
  },
  {
   "cell_type": "code",
   "execution_count": 35,
   "metadata": {},
   "outputs": [
    {
     "name": "stdout",
     "output_type": "stream",
     "text": [
      "True\n"
     ]
    }
   ],
   "source": [
    "a = True\n",
    "b = False\n",
    "\n",
    "result = a or b\n",
    "print(result)  "
   ]
  },
  {
   "attachments": {},
   "cell_type": "markdown",
   "metadata": {},
   "source": [
    "#### 逻辑非（not）运算符\n",
    "逻辑非运算符将操作数的值取反，如果操作数为True，则结果为False；如果操作数为False，则结果为True。\n"
   ]
  },
  {
   "cell_type": "code",
   "execution_count": 34,
   "metadata": {},
   "outputs": [
    {
     "name": "stdout",
     "output_type": "stream",
     "text": [
      "False\n"
     ]
    }
   ],
   "source": [
    "a = True\n",
    "\n",
    "result = not a\n",
    "print(result) \n"
   ]
  },
  {
   "attachments": {},
   "cell_type": "markdown",
   "metadata": {},
   "source": [
    "## 数据结构\n",
    "\n",
    "Python中有多种常用的数据结构，包括列表（List）、元组（Tuple）和字典（Dictionary）\n",
    "\n",
    "### [列表 List](https://www.w3schools.com/python/python_lists.asp)\n",
    "`list`是Python中最常用的数据结构之一，用于存储一组有序的元素。列表中的元素可以是不同类型的对象，可以进行增删改查等操作。\n",
    "\n",
    "#### 创建列表\n",
    "列表可以使用方括号`[]`来创建，其中每个元素用逗号分隔。例如："
   ]
  },
  {
   "cell_type": "code",
   "execution_count": 41,
   "metadata": {},
   "outputs": [
    {
     "name": "stdout",
     "output_type": "stream",
     "text": [
      "['苹果', '菠萝', '榴莲']\n"
     ]
    }
   ],
   "source": [
    "水果 = ['苹果', '菠萝', '榴莲']\n",
    "print(水果)"
   ]
  },
  {
   "attachments": {},
   "cell_type": "markdown",
   "metadata": {},
   "source": [
    "#### 访问列表元素\n",
    "列表中的元素可以通过索引访问，索引从`0`开始。例如，要访问列表中的第一个元素，可以使用`fruits[0]`。可以使用负数索引从列表末尾开始访问元素。例如，`fruits[-1]`表示访问最后一个元素。 "
   ]
  },
  {
   "cell_type": "code",
   "execution_count": 42,
   "metadata": {},
   "outputs": [
    {
     "name": "stdout",
     "output_type": "stream",
     "text": [
      "苹果\n"
     ]
    }
   ],
   "source": [
    "# python中顺序需要向前递减一位，所以索引 0 代表第一个\n",
    "print(水果[0]) "
   ]
  },
  {
   "attachments": {},
   "cell_type": "markdown",
   "metadata": {},
   "source": [
    "#### 修改列表元素\n",
    "列表中的元素可以通过索引进行修改。可以使用赋值语句将新的值赋给列表中的特定位置。"
   ]
  },
  {
   "cell_type": "code",
   "execution_count": 43,
   "metadata": {},
   "outputs": [
    {
     "name": "stdout",
     "output_type": "stream",
     "text": [
      "['苹果', '香蕉', '榴莲']\n"
     ]
    }
   ],
   "source": [
    "水果[1] = '香蕉'\n",
    "print(水果)"
   ]
  },
  {
   "attachments": {},
   "cell_type": "markdown",
   "metadata": {},
   "source": [
    "#### 添加和删除元素\n",
    "添加元素：可以使用`append()`方法将元素添加到列表的末尾。"
   ]
  },
  {
   "cell_type": "code",
   "execution_count": 44,
   "metadata": {},
   "outputs": [
    {
     "name": "stdout",
     "output_type": "stream",
     "text": [
      "['苹果', '香蕉', '榴莲', '我爱香蕉']\n"
     ]
    }
   ],
   "source": [
    "水果.append('我爱香蕉')\n",
    "print(水果)"
   ]
  },
  {
   "attachments": {},
   "cell_type": "markdown",
   "metadata": {},
   "source": [
    "删除元素：可以使用`remove()`方法删除列表中的特定元素。"
   ]
  },
  {
   "cell_type": "code",
   "execution_count": 45,
   "metadata": {},
   "outputs": [
    {
     "name": "stdout",
     "output_type": "stream",
     "text": [
      "['苹果', '榴莲', '我爱香蕉']\n"
     ]
    }
   ],
   "source": [
    "水果.remove('香蕉')\n",
    "print(水果) "
   ]
  },
  {
   "attachments": {},
   "cell_type": "markdown",
   "metadata": {},
   "source": [
    "### [元组（Tuple）](https://www.w3schools.com/python/python_tuples.asp)\n",
    "元组与列表类似，也是用于存储一组有序的元素。但是，元组一旦创建，其元素不可更改，即元组是不可变的。\n"
   ]
  },
  {
   "cell_type": "code",
   "execution_count": 1,
   "metadata": {},
   "outputs": [
    {
     "name": "stdout",
     "output_type": "stream",
     "text": [
      "Jack\n"
     ]
    }
   ],
   "source": [
    "# 创建一个元组\n",
    "person = ('Jack', 25, 'China')\n",
    "\n",
    "# 访问元组元素\n",
    "print(person[0])  \n",
    "\n"
   ]
  },
  {
   "cell_type": "code",
   "execution_count": 2,
   "metadata": {},
   "outputs": [
    {
     "ename": "TypeError",
     "evalue": "'tuple' object does not support item assignment",
     "output_type": "error",
     "traceback": [
      "\u001b[0;31m---------------------------------------------------------------------------\u001b[0m",
      "\u001b[0;31mTypeError\u001b[0m                                 Traceback (most recent call last)",
      "Cell \u001b[0;32mIn[2], line 2\u001b[0m\n\u001b[1;32m      1\u001b[0m \u001b[39m# 尝试修改元组元素（会抛出异常）\u001b[39;00m\n\u001b[0;32m----> 2\u001b[0m person[\u001b[39m1\u001b[39m] \u001b[39m=\u001b[39m \u001b[39m30\u001b[39m\n",
      "\u001b[0;31mTypeError\u001b[0m: 'tuple' object does not support item assignment"
     ]
    }
   ],
   "source": [
    "# 尝试修改元组元素（会抛出异常）\n",
    "person[1] = 30"
   ]
  },
  {
   "attachments": {},
   "cell_type": "markdown",
   "metadata": {},
   "source": [
    "在上面的示例中，我们创建了一个包含个人信息的元组。通过索引访问元组中的元素，但是尝试修改元组元素会引发TypeError异常，因为元组是不可变的。\n",
    "\n",
    "#### 元组的应用场景\n",
    "\n",
    "- 用于存储不可变的数据集合，如坐标点、日期等。\n",
    "- 作为字典（Dictionary）的键值，因为字典要求键是不可变的。\n",
    "- 用于函数返回多个值，函数可以返回元组，调用函数时可以解包元组并获得多个返回值。\n",
    "\n",
    "元组在需要存储不可变数据集合或对数据进行保护时非常有用。由于元组是不可变的，因此在某些情况下比列表更安全和高效。\n",
    "\n",
    "\n",
    "\n",
    "\n",
    "\n",
    "\n",
    "#### 元组解包\n",
    "可以将元组的元素解包到多个变量中，从而快速访问元组的各个元素。"
   ]
  },
  {
   "cell_type": "code",
   "execution_count": 3,
   "metadata": {},
   "outputs": [
    {
     "name": "stdout",
     "output_type": "stream",
     "text": [
      "Jack\n"
     ]
    }
   ],
   "source": [
    "# person元组中，有三个数值，所以必须设`x,y,z`\n",
    "x, y, z = person\n",
    "print(x) "
   ]
  },
  {
   "attachments": {},
   "cell_type": "markdown",
   "metadata": {},
   "source": [
    "### [字典（Dictionary）](https://www.w3schools.com/python/python_dictionaries.asp)\n",
    "字典是Python中一种常用的数据结构，又称 [哈希表](https://zhuanlan.zhihu.com/p/84327339)，它以键-值（key-value）对的形式存储数据。以下是对字典的详细说明：\n",
    "\n",
    "#### 创建字典\n",
    "字典使用花括号`{}`来创建，每个键-值对之间使用冒号`:`分隔，不同键-值对之间使用逗号`,`分隔。例如："
   ]
  },
  {
   "cell_type": "code",
   "execution_count": 4,
   "metadata": {},
   "outputs": [
    {
     "data": {
      "text/plain": [
       "{'姓名': '帅气的Jack', '年龄': 24, '成绩': 'A+'}"
      ]
     },
     "execution_count": 4,
     "metadata": {},
     "output_type": "execute_result"
    }
   ],
   "source": [
    "student = {'姓名': '帅气的Jack', '年龄': 24, '成绩': 'A+'}\n",
    "student"
   ]
  },
  {
   "attachments": {},
   "cell_type": "markdown",
   "metadata": {},
   "source": [
    "#### 访问字典元素\n",
    "可以通过键来访问字典中的值。使用键来提取相应的值，使用方括号`[]`操作符，将键作为索引传递给字典。例如："
   ]
  },
  {
   "cell_type": "code",
   "execution_count": 56,
   "metadata": {},
   "outputs": [
    {
     "name": "stdout",
     "output_type": "stream",
     "text": [
      "帅气的Jack\n"
     ]
    }
   ],
   "source": [
    "print(student['姓名'])"
   ]
  },
  {
   "attachments": {},
   "cell_type": "markdown",
   "metadata": {},
   "source": [
    "#### 修改字典元素\n",
    "字典中的值是可以修改的。可以通过指定键来更新字典中的值。例如："
   ]
  },
  {
   "cell_type": "code",
   "execution_count": 60,
   "metadata": {},
   "outputs": [
    {
     "name": "stdout",
     "output_type": "stream",
     "text": [
      "{'姓名': '帅气的Jack', '年龄': 24, '成绩': '刚好及格'}\n"
     ]
    }
   ],
   "source": [
    "#如果需要指定中文，最好加上引号''\n",
    "student['成绩'] = '刚好及格'\n",
    "print(student)"
   ]
  },
  {
   "attachments": {},
   "cell_type": "markdown",
   "metadata": {},
   "source": [
    "#### 关于字典的相关操作\n",
    "\n",
    "要确定字典有多少项，可以使用`len()`函数"
   ]
  },
  {
   "cell_type": "code",
   "execution_count": 61,
   "metadata": {},
   "outputs": [
    {
     "name": "stdout",
     "output_type": "stream",
     "text": [
      "3\n"
     ]
    }
   ],
   "source": [
    "print(len(student))"
   ]
  },
  {
   "cell_type": "code",
   "execution_count": null,
   "metadata": {},
   "outputs": [],
   "source": [
    "del student['姓名']  # 删除键是'姓名'的条目\n",
    "student.clear()      # 清空字典所有条目\n",
    "del student          # 删除字典"
   ]
  }
 ],
 "metadata": {
  "kernelspec": {
   "display_name": "Python 3",
   "language": "python",
   "name": "python3"
  },
  "language_info": {
   "codemirror_mode": {
    "name": "ipython",
    "version": 3
   },
   "file_extension": ".py",
   "mimetype": "text/x-python",
   "name": "python",
   "nbconvert_exporter": "python",
   "pygments_lexer": "ipython3",
   "version": "3.9.7"
  },
  "orig_nbformat": 4
 },
 "nbformat": 4,
 "nbformat_minor": 2
}
