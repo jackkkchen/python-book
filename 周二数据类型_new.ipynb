{
 "cells": [
  {
   "attachments": {},
   "cell_type": "markdown",
   "metadata": {},
   "source": [
    "---\n",
    "title: \"Python数据类型\"\n",
    "format:\n",
    "  html:\n",
    "   code-fold: false\n",
    "   code-tools: true\n",
    "jupyter: python3\n",
    "---"
   ]
  },
  {
   "cell_type": "markdown",
   "metadata": {},
   "source": [
    "## 数据类型"
   ]
  },
  {
   "cell_type": "markdown",
   "metadata": {},
   "source": [
    "当我们编写程序时，数据是不可或缺的。\n",
    "\n",
    "在Python中，数据类型用于表示数据的不同种类和属性，决定了数据的存储方式和可进行的操作。Python中的数据类型包括数字类型（整数、浮点数）、布尔类型（True和False）以及字符串等。通过了解和灵活运用这些数据类型，我们可以有效地处理和操作各种数据，使程序更加灵活和高效。数据类型是Python编程的基础，也是我们展开深入学习的起点。了解和正确使用这些数据类型对于编写Python代码非常重要。\n",
    "\n",
    "::: {.callout-note}\n",
    "你可以使用`type()`函数来查看元素的类型。尝试在代码框中输入`print(type(元素名))`，来查看你的元素的数据类型。\n",
    "\n",
    ":::"
   ]
  },
  {
   "cell_type": "markdown",
   "metadata": {},
   "source": [
    "### 一、数字类型(Numeric Types)\n",
    "\n",
    "#### 1. 整数类型(`int`)\n",
    "\n",
    "整数类型(`int`)是数字类型数据中的一个重要的组成部分，是基本的数字类型之一，也是进行算术运算和计数操作的基础。在Python中，整数是用来表示没有小数部分的数值，可以是正数、负数或零。\n",
    "\n",
    "整数类型的数据可以用常规的整数表示方式来表示，例如：`10`、`-5`等。整数类型也支持基本的算术运算，如加法、减法等。同时，Python的整数类型支持无限精度，即整数的大小不受限制，可以表示任意大的整数。\n",
    "\n",
    "试试看下面的代码，创建一些整数对象。"
   ]
  },
  {
   "cell_type": "code",
   "execution_count": null,
   "metadata": {},
   "outputs": [],
   "source": [
    "# 定义整数变量\n",
    "num1 = 10\n",
    "num2 = -5\n",
    "\n",
    "print(num1)\n",
    "print(type(num1))\n",
    "\n",
    "print(num2)\n",
    "print(type(num2))"
   ]
  },
  {
   "cell_type": "markdown",
   "metadata": {},
   "source": [
    "在编写程序时，整数类型经常用于计数、计算和存储整数数据。在处理整数时，需要注意整数运算的结果可能会超出预期，因为整数运算可能会产生浮点数结果。"
   ]
  },
  {
   "cell_type": "markdown",
   "metadata": {},
   "source": [
    "#### 2. 浮点数类型(`float`)\n",
    "\n",
    "浮点数类型(float)也是数字类型中的一个重要组成部分，用于标识带有小数部分的数值，例如：`3.14`、`0.5`、`-2.71828`等。在Python中，浮点数的表示方式和数学中的实数类似，使用小数点来标识小数部分。\n",
    "\n",
    "浮点数可以用常规的十进制来标识，也可以使用科学计数法表示，例如：`1.23`、`5e-3`等。浮点数和整数一样，支持基本的算术运算。与整数不同的是，在计算机中，浮点数是有限的，因此它们具有一定的精度限制。在进行复杂运算时，可能会出现精度丢失的问题。\n",
    "\n",
    "下面是一些浮点数的例子，你可以在JupyterLab中尝试一下。"
   ]
  },
  {
   "cell_type": "code",
   "execution_count": null,
   "metadata": {},
   "outputs": [],
   "source": [
    "# 定义浮点数变量\n",
    "pi = 3.1415926\n",
    "temperature = 25.5\n",
    "\n",
    "print(pi)\n",
    "print(type(pi))\n",
    "\n",
    "print(temperature)\n",
    "print(type(temperature))"
   ]
  },
  {
   "cell_type": "markdown",
   "metadata": {},
   "source": [
    "在编写程序时，浮点数常用于涉及小数的计算和数据处理。需要注意的是，由于浮点数的精度限制，可能会出现舍入误差，因此在比较浮点数是否相等时，应使用适当的误差范围进行比较，以确保计算结果的准确性。"
   ]
  },
  {
   "cell_type": "markdown",
   "metadata": {},
   "source": [
    "### 二、布尔类型(Boolean Type)\n",
    "\n",
    "布尔类型(bool)是Python数据类型中的一个关键部分。布尔类型只有两个取值：`True`(表示'真')和`False`(表示'假')。布尔类型通常用于表示逻辑条件的结果，如判断某条件是否成立，或变量是否满足某种条件。\n",
    "\n",
    "::: {.callout-note}\n",
    "对于布尔类型的数据，首先需要注意的是布尔类型只能取`True`或`False`这两个值，区分大小写（首字母必须大写）。\n",
    "\n",
    ":::\n",
    "\n",
    "布尔类型通常用于条件判断和逻辑运算，如if语句、while循环和逻辑运算符（and、or、not）等。布尔类型在编程中非常重要，因为它们用于控制程序的流程和决策。在条件判断和逻辑运算时，布尔类型充当关键的判断条件，根据不同的条件结果执行相应的代码块。\n",
    "\n",
    "下面是一个布尔类型的数据的应用示例："
   ]
  },
  {
   "cell_type": "code",
   "execution_count": 1,
   "metadata": {},
   "outputs": [
    {
     "name": "stdout",
     "output_type": "stream",
     "text": [
      "You are an adult.\n",
      "is_adult: True\n"
     ]
    }
   ],
   "source": [
    "# 使用布尔类型进行条件判断\n",
    "age = 25\n",
    "is_adult = age >= 18  # 将判断结果赋值给变量is_adult\n",
    "if is_adult:\n",
    "    print(\"You are an adult.\")\n",
    "    print(\"is_adult:\", is_adult)  # 输出布尔值\n",
    "else:\n",
    "    print(\"You are not an adult.\")\n",
    "    print(\"is_adult:\", is_adult)  # 输出布尔值"
   ]
  },
  {
   "cell_type": "markdown",
   "metadata": {},
   "source": [
    "可以看到，由于变量`age`的值为`25`，大于条件判断中的`18`，因此，条件成立，程序会返回布尔值`True`，然后输出语句：`You are an adult.` 这说明在条件判断中，布尔类型的值会根据条件的真假返回True或False，从而影响程序的执行分支。在这个例子中，由于条件为真，所以输出了相应的信息。\n",
    "\n",
    "你可以试修改变量`age`的值，试试看不同的情况下，程序的运行情况。\n",
    "\n",
    "在实际应用中，布尔类型通常与条件语句和循环结构紧密结合，帮助程序做出复杂的决策和执行不同的操作。熟练掌握布尔类型的用法，是编写高效和灵活的Python代码的关键。"
   ]
  },
  {
   "cell_type": "markdown",
   "metadata": {},
   "source": [
    "### 三、字符串类型(String Type)\n",
    "\n",
    "#### 1. 字符串的定义\n",
    "现在，让我们来看看Python中最常用的数据类型——字符串(`str`)。字符串类型`str`是其中一种常见且重要的数据类型。字符串用于表示文本信息，可以包含字母、数字、标点符号等字符序列。在Python中，字符串可以使用单引号`' '`或双引号`\" \"`来定义，例如："
   ]
  },
  {
   "cell_type": "code",
   "execution_count": null,
   "metadata": {},
   "outputs": [],
   "source": [
    "message1 = 'Hello, Python!'\n",
    "message2 = \"Welcome to the world of Python!\"\n",
    "\n",
    "\n",
    "print(message1)\n",
    "print(message2)\n"
   ]
  },
  {
   "cell_type": "markdown",
   "metadata": {},
   "source": [
    "#### 2. 字符串拼接(格式化字符串)\n",
    "\n",
    "在Python中，字符串拼接的目的是将多个字符串连接成一个新的字符串。这样一来，在输出时，我们就可以一次性输出许多字符串的内容，而不用写太繁琐的代码。\n",
    "\n",
    "字符串拼接在处理文本信息和字符串处理任务中非常常见，这在构建动态文本、输出用户友好的提示信息以及处理数据时非常有用。\n",
    "\n",
    "在这里，我们向你介绍三个最常用的字符串拼接方法：使用`+`运算符、`.format()`方法，以及更加简洁和直观的`f-string`(格式化字符串)方式。通过了解这些拼接方式，我们可以灵活地处理字符串，并使代码更加清晰易读。"
   ]
  },
  {
   "cell_type": "markdown",
   "metadata": {},
   "source": [
    "##### (1) 使用`+`运算符进行字符串拼接\n",
    "\n",
    "通过`+`运算符，我们可以将两个字符串连接成一个新的字符串。例如："
   ]
  },
  {
   "cell_type": "code",
   "execution_count": null,
   "metadata": {},
   "outputs": [],
   "source": [
    "name = \"Python\"\n",
    "greeting = \"Hello, \" + name + \"!\"\n",
    "print(greeting)"
   ]
  },
  {
   "cell_type": "markdown",
   "metadata": {},
   "source": [
    "在上面的示例代码中，我们定义了一个名为`name`的字符串变量，然后使用`+`运算符将`\"Hello,\"`、`name`和`\"!\"`连接在一起，形成新的字符串`greeting`。\n",
    "\n",
    "使用`+`运算符，你还可以将更多的元素拼接在一起，但这种方式太过繁琐，我们还有更简便的字符串拼接方式——`.format()`方法和`f-string`。让我们来看看这两种更灵活的拼接方式。"
   ]
  },
  {
   "cell_type": "markdown",
   "metadata": {},
   "source": [
    "##### (2) 使用`.format()`方法拼接字符串\n",
    "\n",
    "相较于使用`+`运算符，使用`.format()`方法更加灵活，可以在字符串中插入多个变量值，对于多个值的拼接，是一种更常用方式。\n",
    "\n",
    "`.format()`方式使用占位符 {} 来表示将要被替换的部分。例如："
   ]
  },
  {
   "cell_type": "code",
   "execution_count": null,
   "metadata": {},
   "outputs": [],
   "source": [
    "name = \"Python\"\n",
    "greeting = \"Hello, {}!\".format(name)\n",
    "print(greeting)\n"
   ]
  },
  {
   "cell_type": "markdown",
   "metadata": {},
   "source": [
    "在这个例子中，我们定义了一个名为`name`的字符串变量，然后使用`.format()`方法将 {} 替换为`name`的值，从而形成新的字符串`greeting`。\n",
    "\n",
    "::: {.callout-note}\n",
    "在使用`.format()`方法时，一定要注意，使用占位符`{ }`来表示将要被替换的部分，如`\"Hello, {}!\".format(name)`\n",
    "\n",
    "另外，`.format()`方法还需要遵守位置对应的规则，在使用该方法时，需要确保占位符`{ }`的未知和传入的变量值一一对应。如果占位符的个数大于传入的变量值，或者顺序不匹配，会导致错误或者意想不到的结果。\n",
    "\n",
    ":::\n",
    "\n",
    "在使用`.format()`方式输出数字类型的数据时，我们还可以对数据进行以下两种格式控制：\n",
    "\n",
    "**a. 浮点数格式化**\n",
    "\n",
    "使用`:.nf`来限制浮点数的小数位数，其中`n`代表要显示的小数位，例如：\n",
    "\n",
    "\n"
   ]
  },
  {
   "cell_type": "code",
   "execution_count": 2,
   "metadata": {},
   "outputs": [
    {
     "name": "stdout",
     "output_type": "stream",
     "text": [
      "The value of pi is 3.14\n"
     ]
    }
   ],
   "source": [
    "pi = 3.1415926\n",
    "print(\"The value of pi is {:.2f}\".format(pi))\n"
   ]
  },
  {
   "cell_type": "markdown",
   "metadata": {},
   "source": [
    "在上面的代码中，我们在使用`.format()`方法时，通过在占位符中规定``:.2f``，实现了对变量精度的控制。\n"
   ]
  },
  {
   "cell_type": "markdown",
   "metadata": {},
   "source": [
    "**b. 整数宽度控制**\n",
    "\n",
    "使用`{:n}`来规定整数的宽度，其中`n`代表要显示的最小字符宽度。如果整数的宽度不足，会使用空格进行填充。例如："
   ]
  },
  {
   "cell_type": "code",
   "execution_count": 3,
   "metadata": {},
   "outputs": [
    {
     "name": "stdout",
     "output_type": "stream",
     "text": [
      "The number is    42\n"
     ]
    }
   ],
   "source": [
    "number = 42\n",
    "print(\"The number is {:5}\".format(number))\n"
   ]
  },
  {
   "cell_type": "markdown",
   "metadata": {},
   "source": [
    "在上面的代码中，我们使用了`.format()`方法来格式化输出。在字符串中的占位符`{:5}`中，我们指定了一个字段宽度为`5`，这样输出的内容将总共占据5个字符的宽度。"
   ]
  },
  {
   "cell_type": "markdown",
   "metadata": {},
   "source": [
    "##### (3) 使用`f-string`方式拼接字符串\n",
    "\n",
    "`f-string`是最新的格式化字符串方式，简洁直观，易于理解。它在拼接字符串时更加简便，适用于大部分字符串格式化的场景。需要注意的是，`f-string`只适用于 Python 3.6 及以上的版本。\n",
    "\n",
    "在我们后面的学习中，`f-string`方式将会是我们最常使用的字符串拼接方式。\n",
    "\n",
    "`f-string`方式的使用非常简单，只需要在字符串前面加上`f`或`F`前缀，然后在字符串中使用`{}`占位符来引用变量或表达式。Python 将自动将这些花括号中的内容替换为对应的变量值或表达式结果。\n",
    "\n",
    "例如："
   ]
  },
  {
   "cell_type": "code",
   "execution_count": null,
   "metadata": {},
   "outputs": [],
   "source": [
    "name = \"Python\"\n",
    "greeting = f\"Hello, {name}!\"\n",
    "print(greeting)\n"
   ]
  },
  {
   "cell_type": "markdown",
   "metadata": {},
   "source": [
    "这里我们定义了一个名为`name`的字符串变量，然后使用`f`前缀以及`{}`占位符，将`{}`替换为`name`的值，形成新的字符串`greeting`。\n",
    "\n",
    "使用`f-string`的好处是，它不仅使字符串的格式化更加简洁明了，而且还支持在花括号中进行更复杂的表达式计算，甚至可以调用函数。在实际使用中，`f-string`是推荐的字符串格式化方法，因为它既简单又强大，能够满足大多数字符串格式化的需求。"
   ]
  },
  {
   "attachments": {},
   "cell_type": "markdown",
   "metadata": {},
   "source": [
    "## 运算符\n",
    "当提到Python的运算符，可以包括算术运算符、赋值运算符、比较运算符、逻辑运算符和位运算符等。下面是一些常见的运算符示例及其解析："
   ]
  },
  {
   "attachments": {},
   "cell_type": "markdown",
   "metadata": {},
   "source": [
    "### 算术运算符\n",
    "比较常见的算术运算符，也就是加减乘除这些。\n",
    "\n",
    "| 运算符 | 描述             | 举例                |\n",
    "| ------ | ---------------- | ------------------- |\n",
    "| x+y    | 加               | 1+2=3               |\n",
    "| x-y    | 减               | 6-5=1               |\n",
    "| x*y    | 乘               | 2*3=6               |\n",
    "| x/y    | 除               | 2/4=0.5             |\n",
    "| x//y   | 整除，取整数部分 | 2//4=0              |\n",
    "| x%y    | 取余             | 15%4=3              |\n",
    "| **     | 幂运算           | 2**3=8   二的三次方 |"
   ]
  },
  {
   "cell_type": "code",
   "execution_count": 34,
   "metadata": {},
   "outputs": [
    {
     "name": "stdout",
     "output_type": "stream",
     "text": [
      "19\n"
     ]
    }
   ],
   "source": [
    "a = 10\n",
    "b = 3\n",
    "\n",
    "# 加法\n",
    "result = a + b * (a // b) \n",
    "print(result)  "
   ]
  },
  {
   "attachments": {},
   "cell_type": "markdown",
   "metadata": {},
   "source": [
    "### 赋值运算符\n",
    "在加减乘除的基础上直接进行赋值计算，不需要新的变量\n",
    "\n",
    "| 运算符 | 描述                   | 举例                |\n",
    "| ------ | ---------------------| ------------------- |\n",
    "| =      | 赋值                  | x = 5               |\n",
    "| +=     | 加等                   | x += 3                 |\n",
    "| -=     | 减等                   | x -= 3                |\n",
    "| *=     | 乘等                  | x *= 3              |\n",
    "| %=     | 余等                  | x %= 3               |\n",
    "| /=     | 除等                  | x /= 3                 |\n",
    "| //=    | 取整等                 | x //= 3                |\n",
    "| **=    | 幂等                   | x **= 3               |"
   ]
  },
  {
   "cell_type": "code",
   "execution_count": 35,
   "metadata": {},
   "outputs": [
    {
     "name": "stdout",
     "output_type": "stream",
     "text": [
      "13\n"
     ]
    }
   ],
   "source": [
    "a = 10\n",
    "b = 3\n",
    "\n",
    "# 加法赋值\n",
    "a += b \n",
    "print(a)  "
   ]
  },
  {
   "attachments": {},
   "cell_type": "markdown",
   "metadata": {},
   "source": [
    "### 比较运算符（控制结构判断）\n",
    "输出为布尔值\n",
    "\n",
    "| 运算符 | 描述                               |\n",
    "| ------ | ---------------------------------- |\n",
    "| <      | 小于                               |\n",
    "| <=     | 小于等于                           |\n",
    "| >      | 大于                               |\n",
    "| >=     | 大于等于                           |\n",
    "| ==     | 等于                               |\n",
    "| !=     | 不等于                             |\n"
   ]
  },
  {
   "cell_type": "code",
   "execution_count": 36,
   "metadata": {},
   "outputs": [
    {
     "name": "stdout",
     "output_type": "stream",
     "text": [
      "False\n"
     ]
    }
   ],
   "source": [
    "a = 10\n",
    "b = 3\n",
    "\n",
    "# 相等比较\n",
    "result = a == b\n",
    "print(result)  "
   ]
  },
  {
   "attachments": {},
   "cell_type": "markdown",
   "metadata": {},
   "source": [
    "### 标识运算符\n",
    "标识运算符用于比较对象，不是比较它们是否相等，而是比较它们是否实际上是相同的对象，具有相同的内存位置：\n",
    "\n",
    "\n",
    "| 运算符 | 描述                               | 举例                |\n",
    "| ------ | ---------------------| ------------------- |\n",
    "| is     | 判断两个标识符是不是引用自一个对象 | x is y          |\n",
    "| is not | 判断两个标识符是不是引用自不同对象 | x is not y      |"
   ]
  },
  {
   "attachments": {},
   "cell_type": "markdown",
   "metadata": {},
   "source": [
    "### 逻辑运算符\n",
    "逻辑运算符用于在布尔表达式中组合和比较逻辑条件。Python中的逻辑运算符包括以下三种：and（与）、or（或）和not（非）。\n",
    "\n",
    "| 运算符  | 描述                                | 备注                                       |\n",
    "| ------- | ----------------------------------- | ------------------------------------------ |\n",
    "| x and y | 如果两个声明都是真的，则返回True       | xy都为True,结果为True；否则为False         |\n",
    "| x or y  | 如果其中一个语句为真，则返回真       | xy都为False,结果为False；否则为True        |\n",
    "| not x   | 反转结果，如果结果为真，则返回False | x为True时，值为False；x为False时，值为True |"
   ]
  },
  {
   "attachments": {},
   "cell_type": "markdown",
   "metadata": {},
   "source": [
    "#### 逻辑 与（and）运算符：\n",
    "逻辑与运算符返回两个操作数都为True时的结果为True，否则返回False。"
   ]
  },
  {
   "cell_type": "code",
   "execution_count": 37,
   "metadata": {},
   "outputs": [
    {
     "name": "stdout",
     "output_type": "stream",
     "text": [
      "False\n"
     ]
    }
   ],
   "source": [
    "x = True\n",
    "y = False\n",
    "\n",
    "# 与运算\n",
    "result = x and y\n",
    "print(result)"
   ]
  },
  {
   "attachments": {},
   "cell_type": "markdown",
   "metadata": {},
   "source": [
    "这里可能比较难理解，在上面的示例中，x的值为True，y的值为False。当使用逻辑与运算符（and）将x和y进行运算时，由于y为False，所以结果为False。如果x和y都为True，则结果为True。"
   ]
  },
  {
   "attachments": {},
   "cell_type": "markdown",
   "metadata": {},
   "source": [
    "#### 逻辑或（or）运算符\n",
    "逻辑或运算符返回两个操作数中至少一个为True时的结果为True，只有当两个操作数都为False时结果才为False。"
   ]
  },
  {
   "cell_type": "code",
   "execution_count": 38,
   "metadata": {},
   "outputs": [
    {
     "name": "stdout",
     "output_type": "stream",
     "text": [
      "True\n"
     ]
    }
   ],
   "source": [
    "a = True\n",
    "b = False\n",
    "\n",
    "result = a or b\n",
    "print(result)  "
   ]
  },
  {
   "attachments": {},
   "cell_type": "markdown",
   "metadata": {},
   "source": [
    "#### 逻辑非（not）运算符\n",
    "逻辑非运算符将操作数的值取反，如果操作数为True，则结果为False；如果操作数为False，则结果为True。\n"
   ]
  },
  {
   "cell_type": "code",
   "execution_count": 39,
   "metadata": {},
   "outputs": [
    {
     "name": "stdout",
     "output_type": "stream",
     "text": [
      "False\n"
     ]
    }
   ],
   "source": [
    "a = True\n",
    "\n",
    "result = not a\n",
    "print(result) \n"
   ]
  }
 ],
 "metadata": {
  "kernelspec": {
   "display_name": "Python 3",
   "language": "python",
   "name": "python3"
  },
  "language_info": {
   "codemirror_mode": {
    "name": "ipython",
    "version": 3
   },
   "file_extension": ".py",
   "mimetype": "text/x-python",
   "name": "python",
   "nbconvert_exporter": "python",
   "pygments_lexer": "ipython3",
   "version": "3.11.4"
  },
  "orig_nbformat": 4
 },
 "nbformat": 4,
 "nbformat_minor": 2
}
