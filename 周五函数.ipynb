{
 "cells": [
  {
   "attachments": {},
   "cell_type": "markdown",
   "metadata": {},
   "source": [
    "---\n",
    "title: \"Python函数\"\n",
    "format:\n",
    "  html:\n",
    "   code-fold: true\n",
    "   code-tools: true\n",
    "jupyter: python3\n",
    "---\n",
    "\n",
    "## 函数的作用\n",
    "函数是编程中的重要概念，它可以将一段代码封装为一个可重用的模块。\n",
    "函数的作用和优势包括：\n",
    "\n",
    "1. 代码重用：通过将一段经常使用的代码封装在函数中，我们可以在程序的不同地方多次调用该函数，避免了重复编写相同的代码，提高了代码的复用性。这样一来，如果需要修改功能或修复 bug，只需修改函数内部的实现，而不需要在多个地方逐个修改相同的代码。\n",
    "\n",
    "2. 模块化：函数允许将程序划分为独立的模块，每个模块负责一个特定的功能。通过将复杂的任务分解为更小、更易管理的函数，可以使代码更易于理解和维护。模块化还有助于团队合作，不同的开发人员可以并行工作于不同的函数，从而提高开发效率。\n",
    "\n",
    "3. 提高可读性：函数使代码更易读和理解。通过将一段代码封装在函数中，并给函数起一个有描述性的名称，可以提高代码的可读性。函数的参数和返回值也可以提供关于函数预期行为的重要信息，帮助其他开发人员理解和正确使用函数。\n",
    "\n",
    "4. 抽象和封装：函数可以将复杂的实现细节隐藏在函数内部，只暴露必要的接口。这种抽象和封装的方式有助于降低代码的复杂性，提高代码的可维护性。其他部分的代码只需关注函数的输入和输出，而无需了解函数内部的具体实现。\n",
    "\n",
    "5. 代码的组织和管理：函数可以将代码分成逻辑上独立的部分，使代码更加结构化和有组织。通过使用函数，可以将不同的功能模块分开，每个函数负责一个特定的任务。这样一来，当需要修改或添加新功能时，可以更容易地定位和修改相关的函数，而不必浏览整个代码文件。\n",
    "\n",
    "## 使用函数组织代码的优势\n",
    "函数是Python中最重要的部分之一，使用函数来组织代码可以使代码具有以下几个优势：\n",
    "\n",
    "1. 可维护性：函数将代码划分为逻辑上独立的块，使得修改和调试代码更加容易。当需要对某个功能进行修改或修复时，只需关注相关的函数，而不必担心对其他部分代码产生意外影响。这种模块化的组织方式简化了代码的维护工作，提高了代码的可维护性。\n",
    "\n",
    "2. 可重用性：通过将通用功能封装在函数中，可以在不同的地方多次调用该函数，实现代码的重用。不必重复编写相同的代码，减少了代码量，并且使得代码更加精简。当需要修改功能时，只需在函数内部进行修改，所有调用该函数的地方都会受到更新的影响。\n",
    "\n",
    "3. 可读性：函数具有自我描述性的名称，可以提高代码的可读性。函数的参数和返回值提供了有关函数预期行为的重要信息，使得其他开发人员可以更轻松地理解和使用函数。通过适当划分和组织函数，可以使代码的逻辑更加清晰，易于理解。\n",
    "\n",
    "4. 测试性：函数的独立性使得单元测试变得更加容易。通过针对函数编写单元测试，可以更好地验证函数的行为是否符合预期。这有助于及早发现和修复潜在的问题，提高代码的质量和可靠性。\n",
    "\n",
    "5. 扩展性：使用函数进行代码组织可以使系统更易于扩展。通过添加新的函数或修改现有函数，可以实现新的功能或改进现有功能。由于函数之间的独立性，扩展一个功能不会对其他部分的代码造成太大的影响，减少了潜在的副作用和错误。\n",
    "\n",
    "总之，使用函数来组织代码可以提高代码的可维护性、可重用性、可读性和测试性，使得代码更易于扩展和管理。函数为代码提供了一种模块化的方式，使得开发人员能够更有效地开发、调试和维护代码。"
   ]
  },
  {
   "attachments": {},
   "cell_type": "markdown",
   "metadata": {},
   "source": [
    "# 函数的定义和调用\n",
    "## 函数的定义\n",
    "函数是**提前组织好的**、**可重复使用的**、**用来实现特定功能**的代码段。`input()`、`print()`、`str`、`int()`等都是Python的内置函数。\n",
    "\n",
    "除了Python内置的函数，用户还可以根据自身的需求，自定义函数。函数的基础定义语法如下："
   ]
  },
  {
   "cell_type": "code",
   "execution_count": null,
   "metadata": {},
   "outputs": [],
   "source": [
    "# 函数的基础定义语法\n",
    "def 函数名(传入参数):\n",
    "    函数体\n",
    "    return 返回值\n",
    "    \n",
    "# 调用函数\n",
    "函数名(参数)"
   ]
  },
  {
   "attachments": {},
   "cell_type": "markdown",
   "metadata": {},
   "source": [
    "<video width=\"600\" height=\"450\" controls>\n",
    "  <source src=\"http://szmspython.oss-cn-hangzhou.aliyuncs.com/%E5%91%A8%E4%BA%94%E5%87%BD%E6%95%B0%E4%B8%8E%E6%A8%A1%E5%9D%97/%E5%87%BD%E6%95%B0%E7%9A%84%E5%AE%9A%E4%B9%89.mp4\">\n",
    "</video>\n",
    "\n",
    "\n",
    "在定义函数时，有如下注意事事项：\n",
    "\n",
    "* 参数、返回值如不需要，可以省略\n",
    "\n",
    "* 函数名必须先定义后使用\n",
    "\n",
    "* 在定义函数语句的前后，规范上要求空2行"
   ]
  },
  {
   "attachments": {},
   "cell_type": "markdown",
   "metadata": {},
   "source": [
    "## 函数的命名规则\n",
    "在Python中，函数的命名需要遵循一些规则和约定，以保持代码的可读性和一致性。以下是Python中函数命名的规则：\n",
    "\n",
    "1. 函数名只能包含字母、数字和下划线（_）字符。\n",
    "\n",
    "2. 函数名可以以字母或下划线开头，但不能以数字开头。\n",
    "\n",
    "3. 函数名区分大小写，因此my_function和my_Function是不同的函数名。\n",
    "\n",
    "4. 函数名应该具有描述性，能够清晰地表达函数的作用和功能。推荐使用小写字母和下划线的组合，以增加可读性。例如，`calculate_average`、`print_message`等。\n",
    "\n",
    "5. 如果函数名由多个单词组成，可以使用下划线进行单词间的分隔，这样可以提高函数名的可读性。这种命名方式被称为下划线命名法（snake_case）。例如，`calculate_average_score`。\n",
    "\n",
    "6. 避免使用Python的关键字和保留字作为函数名，以免引起冲突。例如，不要将函数命名为`def`、`print`等。\n",
    "\n",
    "7. 函数名应该尽量简洁明了，避免过长的命名。选择能准确描述函数功能的简洁名称。"
   ]
  },
  {
   "attachments": {},
   "cell_type": "markdown",
   "metadata": {},
   "source": [
    "## 函数的调用方式\n",
    "### 函数的传入参数\n",
    "函数的传入参数的功能是：在函数进行计算的时候，函数将接收外部提供的数据。\n",
    "\n",
    "* 函数的传入参数在函数被调用时指定。\n",
    "\n",
    "* 在**函数定义**中所提供的`n`个传入参数，称为形式参数(形参)，表示函数声明将要使用`n`个形式参数。\n",
    "\n",
    "* 在**函数调用**中所提供的传入参数，称为实际参数(实参)，表示函数执行时真正实用的参数值。\n",
    "\n",
    "在Python中，函数可以接受不同类型的参数作为输入。这些参数可以用于在函数内部进行计算、执行操作或提供必要的数据。以下是Python中函数传入参数的一些常见用法：\n",
    "\n",
    "1. 位置参数（Positional Arguments）：这是最常见的参数传递方式，按照参数在函数定义中的顺序进行传递。调用函数时，传递的参数值按照对应位置依次赋给函数定义中的参数，即实参的位置要与形参一一对应。"
   ]
  },
  {
   "attachments": {},
   "cell_type": "markdown",
   "metadata": {},
   "source": [
    "<video width=\"600\" height=\"450\" controls>\n",
    "  <source src=\"http://szmspython.oss-cn-hangzhou.aliyuncs.com/%E5%91%A8%E4%BA%94%E5%87%BD%E6%95%B0%E4%B8%8E%E6%A8%A1%E5%9D%97/%E4%BD%8D%E7%BD%AE%E5%8F%82%E6%95%B0.mp4\">\n",
    "</video>"
   ]
  },
  {
   "attachments": {},
   "cell_type": "markdown",
   "metadata": {},
   "source": [
    "2. 关键字参数（Keyword Arguments）：使用关键字参数可以通过参数名来指定参数的值，而不必按照参数的顺序进行传递，即实参与形参的位置并不一一对应，但在传入参数时，需对使用参数名来进行标注。"
   ]
  },
  {
   "attachments": {},
   "cell_type": "markdown",
   "metadata": {},
   "source": [
    "<video width=\"600\" height=\"450\" controls>\n",
    "  <source src=\"http://szmspython.oss-cn-hangzhou.aliyuncs.com/%E5%91%A8%E4%BA%94%E5%87%BD%E6%95%B0%E4%B8%8E%E6%A8%A1%E5%9D%97/%E5%85%B3%E9%94%AE%E5%AD%97%E5%8F%82%E6%95%B0.mp4\">\n",
    "</video>"
   ]
  },
  {
   "attachments": {},
   "cell_type": "markdown",
   "metadata": {},
   "source": [
    "3. 默认参数（Default Arguments）：函数定义时，可以为参数指定默认值，当调用函数时没有提供对应参数的值时，将使用默认值。在下面的示例中，将`Hello`设置为参数`message`的默认值，因此如果在调用参数时，没有传入`message`对应的值，`message`将会使用默认值`Hello`。"
   ]
  },
  {
   "attachments": {},
   "cell_type": "markdown",
   "metadata": {},
   "source": [
    "<video width=\"600\" height=\"450\" controls>\n",
    "  <source src=\"http://szmspython.oss-cn-hangzhou.aliyuncs.com/%E5%91%A8%E4%BA%94%E5%87%BD%E6%95%B0%E4%B8%8E%E6%A8%A1%E5%9D%97/%E9%BB%98%E8%AE%A4%E5%8F%82%E6%95%B0.mp4\">\n",
    "</video>"
   ]
  },
  {
   "attachments": {},
   "cell_type": "markdown",
   "metadata": {},
   "source": [
    "4. 可变数量参数（Variable-length Arguments）：有时候，我们需要处理可变数量的参数。Python提供了两种方式来处理这种情况：\n",
    "\n",
    "* `*args`：表示函数接受任意数量的位置参数，这些参数将作为一个元组传递给函数。"
   ]
  },
  {
   "attachments": {},
   "cell_type": "markdown",
   "metadata": {},
   "source": [
    "<video width=\"600\" height=\"450\" controls>\n",
    "  <source src=\"http://szmspython.oss-cn-hangzhou.aliyuncs.com/%E5%91%A8%E4%BA%94%E5%87%BD%E6%95%B0%E4%B8%8E%E6%A8%A1%E5%9D%97/%E5%8F%AF%E6%95%B0%E5%8F%98%E9%87%8F%E5%8F%82%E6%95%B0(1).mp4\">\n",
    "</video>"
   ]
  },
  {
   "attachments": {},
   "cell_type": "markdown",
   "metadata": {},
   "source": [
    "* `**kwargs`：表示函数接受任意数量的关键字参数，这些参数将作为一个字典传递给函数。"
   ]
  },
  {
   "attachments": {},
   "cell_type": "markdown",
   "metadata": {},
   "source": [
    "<video width=\"600\" height=\"450\" controls>\n",
    "  <source src=\"http://szmspython.oss-cn-hangzhou.aliyuncs.com/%E5%91%A8%E4%BA%94%E5%87%BD%E6%95%B0%E4%B8%8E%E6%A8%A1%E5%9D%97/%E5%8F%AF%E6%95%B0%E5%8F%98%E9%87%8F%E5%8F%82%E6%95%B0(2).mp4\">\n",
    "</video>"
   ]
  },
  {
   "attachments": {},
   "cell_type": "markdown",
   "metadata": {},
   "source": [
    "### 函数的返回值\n",
    "函数的返回值，就是程序中函数完成事情后，最后给调用者的结果。在Python中，函数可以通过返回值将计算结果或数据传递给调用方。函数的返回值可以是任意类型的数据，包括数字、字符串、列表、字典等。以下是Python中函数返回值的用法和示例代码：\n",
    "\n",
    "1. 返回单个值：函数可以使用`return`语句返回单个值。一旦执行到`return`语句，函数将立即停止执行，并将指定的值返回给调用方。"
   ]
  },
  {
   "attachments": {},
   "cell_type": "markdown",
   "metadata": {},
   "source": [
    "<video width=\"600\" height=\"450\" controls>\n",
    "  <source src=\"http://szmspython.oss-cn-hangzhou.aliyuncs.com/%E5%91%A8%E4%BA%94%E5%87%BD%E6%95%B0%E4%B8%8E%E6%A8%A1%E5%9D%97/%E5%8D%95%E4%B8%AA%E8%BF%94%E5%9B%9E%E5%80%BC.mp4\">\n",
    "</video>"
   ]
  },
  {
   "attachments": {},
   "cell_type": "markdown",
   "metadata": {},
   "source": [
    "2. 返回多个值：函数可以使用`return`语句返回多个值，这些值将被打包为一个元组。调用方可以使用多个变量来接收这些返回值。"
   ]
  },
  {
   "attachments": {},
   "cell_type": "markdown",
   "metadata": {},
   "source": [
    "<video width=\"600\" height=\"450\" controls>\n",
    "  <source src=\"http://szmspython.oss-cn-hangzhou.aliyuncs.com/%E5%91%A8%E4%BA%94%E5%87%BD%E6%95%B0%E4%B8%8E%E6%A8%A1%E5%9D%97/%E5%A4%9A%E4%B8%AA%E8%BF%94%E5%9B%9E%E5%80%BC.mp4\">\n",
    "</video>"
   ]
  },
  {
   "attachments": {},
   "cell_type": "markdown",
   "metadata": {},
   "source": [
    "3. 空返回值：如果函数没有明确的返回语句，或者使用`return`语句而没有指定返回值，函数将默认返回`None`。\n",
    "\n",
    "   > 在Python中，有一个特殊的字面量：`None`，其类型是：`<class 'NoneType'>`。如果函数没有使用`return`语句返回数据，实际上就是返回了`None`这个字面量。"
   ]
  },
  {
   "attachments": {},
   "cell_type": "markdown",
   "metadata": {},
   "source": [
    "<video width=\"600\" height=\"450\" controls>\n",
    "  <source src=\"http://szmspython.oss-cn-hangzhou.aliyuncs.com/%E5%91%A8%E4%BA%94%E5%87%BD%E6%95%B0%E4%B8%8E%E6%A8%A1%E5%9D%97/%E7%A9%BA%E8%BF%94%E5%9B%9E%E5%80%BC.mp4\">\n",
    "</video>"
   ]
  },
  {
   "attachments": {},
   "cell_type": "markdown",
   "metadata": {},
   "source": [
    "4. 提前返回：在函数执行过程中，可以使用`return`语句提前结束函数的执行，并返回指定的值。这可以在满足某个条件时提前退出函数。"
   ]
  },
  {
   "attachments": {},
   "cell_type": "markdown",
   "metadata": {},
   "source": [
    "<video width=\"600\" height=\"450\" controls>\n",
    "  <source src=\"http://szmspython.oss-cn-hangzhou.aliyuncs.com/%E5%91%A8%E4%BA%94%E5%87%BD%E6%95%B0%E4%B8%8E%E6%A8%A1%E5%9D%97/%E6%8F%90%E5%89%8D%E8%BF%94%E5%9B%9E.mp4\">\n",
    "</video>"
   ]
  },
  {
   "attachments": {},
   "cell_type": "markdown",
   "metadata": {},
   "source": [
    "# 函数的高级特性\n",
    "## 匿名函数（lambda表达式）\n",
    "在Python中，可以使用匿名函数（lambda表达式）来创建简单的、没有函数名的函数。匿名函数通常用于需要定义简短、一次性使用的函数。以下是匿名函数的用法和示例代码："
   ]
  },
  {
   "cell_type": "code",
   "execution_count": null,
   "metadata": {},
   "outputs": [],
   "source": [
    "# 匿名函数的语法\n",
    "lambda arguments: expression"
   ]
  },
  {
   "attachments": {},
   "cell_type": "markdown",
   "metadata": {},
   "source": [
    "* `lambda`关键字表示创建匿名函数。\n",
    "  \n",
    "* `arguments`表示函数的参数列表。\n",
    "  \n",
    "* `expression`表示函数的计算逻辑，即函数的返回值。"
   ]
  },
  {
   "attachments": {},
   "cell_type": "markdown",
   "metadata": {},
   "source": [
    "匿名函数通常与内置函数（如`map()`、`filter()`等）一起使用，或者作为函数的参数传递给其他函数。\n",
    "\n",
    "下面是几个使用匿名函数的示例：\n",
    "\n",
    "1. 匿名函数求平方："
   ]
  },
  {
   "cell_type": "code",
   "execution_count": 11,
   "metadata": {},
   "outputs": [
    {
     "name": "stdout",
     "output_type": "stream",
     "text": [
      "25\n"
     ]
    }
   ],
   "source": [
    "square = lambda x: x**2\n",
    "result = square(5)\n",
    "print(result)  # 输出：25\n"
   ]
  },
  {
   "attachments": {},
   "cell_type": "markdown",
   "metadata": {},
   "source": [
    "2. 匿名函数求和："
   ]
  },
  {
   "cell_type": "code",
   "execution_count": 12,
   "metadata": {},
   "outputs": [
    {
     "name": "stdout",
     "output_type": "stream",
     "text": [
      "7\n"
     ]
    }
   ],
   "source": [
    "addition = lambda a, b: a + b\n",
    "result = addition(3, 4)\n",
    "print(result)  # 输出：7\n"
   ]
  },
  {
   "attachments": {},
   "cell_type": "markdown",
   "metadata": {},
   "source": [
    "3. 使用内置函数`map()`和匿名函数对列表中的每个元素进行平方操作："
   ]
  },
  {
   "cell_type": "code",
   "execution_count": 13,
   "metadata": {},
   "outputs": [
    {
     "name": "stdout",
     "output_type": "stream",
     "text": [
      "[1, 4, 9, 16, 25]\n"
     ]
    }
   ],
   "source": [
    "numbers = [1, 2, 3, 4, 5]\n",
    "squared_numbers = list(map(lambda x: x**2, numbers))\n",
    "print(squared_numbers)  # 输出：[1, 4, 9, 16, 25]\n"
   ]
  },
  {
   "attachments": {},
   "cell_type": "markdown",
   "metadata": {},
   "source": [
    "4. 使用内置函数`filter()`和匿名函数筛选出列表中的偶数："
   ]
  },
  {
   "cell_type": "code",
   "execution_count": 14,
   "metadata": {},
   "outputs": [
    {
     "name": "stdout",
     "output_type": "stream",
     "text": [
      "[2, 4]\n"
     ]
    }
   ],
   "source": [
    "numbers = [1, 2, 3, 4, 5]\n",
    "even_numbers = list(filter(lambda x: x % 2 == 0, numbers))\n",
    "print(even_numbers)  # 输出：[2, 4]\n"
   ]
  },
  {
   "attachments": {},
   "cell_type": "markdown",
   "metadata": {},
   "source": [
    "匿名函数的优势在于其简洁性和灵活性，可以在需要临时定义函数的场景下快速创建函数，避免定义独立的函数名称。然而，由于其只能表示简单的表达式，因此不适合于复杂的逻辑和长代码块的情况。"
   ]
  },
  {
   "attachments": {},
   "cell_type": "markdown",
   "metadata": {},
   "source": [
    "## 函数的嵌套和闭包\n",
    "### 函数的嵌套\n",
    "函数的嵌套调用是指在一个函数的定义中调用了另外的函数。在函数A中调用另外一个函数B时，会先把函数B中的任务都执行完毕后才会继续执行函数A的剩余内容。下面是函数嵌套的示例："
   ]
  },
  {
   "cell_type": "code",
   "execution_count": 17,
   "metadata": {},
   "outputs": [
    {
     "name": "stdout",
     "output_type": "stream",
     "text": [
      "我是新手\n",
      "我爱Python\n",
      "我要好好学习\n"
     ]
    }
   ],
   "source": [
    "def func2():\n",
    "    print(\"我爱Python\")\n",
    "\n",
    "\n",
    "def func1():\n",
    "    print(\"我是新手\")\n",
    "    func2()\n",
    "    print(\"我要好好学习\")\n",
    "\n",
    "\n",
    "func1()"
   ]
  },
  {
   "attachments": {},
   "cell_type": "markdown",
   "metadata": {},
   "source": [
    "在上面的示例中，函数`func1`在执行时，调用了函数`func2`，并且，只有在`func2`执行完成之后，`func1`才会继续执行剩余内容。\n",
    "\n",
    "> ## 在函数中使用的变量作用域\n",
    "\n",
    "**变量的作用域**指的是变量的作用范围，即变量在哪里可用，在哪里不可用。\n",
    "\n",
    "根据变量的作用范围，变量分为局部变量和全局变量。\n",
    "\n",
    "1. 局部变量\n",
    "\n",
    "局部变量是指定义在函数体内部的变量，这种变量只在函数体内部生效。\n",
    "\n",
    "局部变量的作用：在函数体内部临时保存数据，在函数调用完成以后，局部变量就被销毁了。\n",
    "\n",
    "2. 全局变量\n",
    "\n",
    "全局变量就是指在函数体内、外部都能生效的变量。\n",
    "\n",
    "3. `global`关键字\n",
    "\n",
    "使用`global`关键字，可以在函数内部声明变量为全局变量。"
   ]
  },
  {
   "attachments": {},
   "cell_type": "markdown",
   "metadata": {},
   "source": [
    "### 函数的闭包\n",
    "在Python中，闭包（closure）是指在一个函数内部定义的函数，并且该内部函数可以访问外部函数的变量。闭包可以捕获并保持外部函数的状态，即使外部函数已经执行完毕，内部函数仍然可以使用外部函数的变量。这使得闭包在编程中非常有用，特别是在函数式编程和装饰器模式中。\n",
    "\n",
    "闭包的关键是内部函数可以访问外部函数的变量。在Python中，当内部函数引用外部函数的变量时，Python会将该变量包装成一个包含变量值的闭包对象。这个闭包对象可以在内部函数中使用，并且在内部函数被调用时仍然保持着它的值。"
   ]
  },
  {
   "cell_type": "code",
   "execution_count": 1,
   "metadata": {},
   "outputs": [
    {
     "name": "stdout",
     "output_type": "stream",
     "text": [
      "15\n"
     ]
    }
   ],
   "source": [
    "def outer_function(x):\n",
    "    def inner_function(y):\n",
    "        return x + y\n",
    "    return inner_function\n",
    "\n",
    "closure = outer_function(10)\n",
    "result = closure(5)\n",
    "print(result)\n"
   ]
  },
  {
   "attachments": {},
   "cell_type": "markdown",
   "metadata": {},
   "source": [
    "在上面的例子中，`outer_function`是外部函数，它接受一个参数`x`。内部函数`inner_function`定义在外部函数内部，并引用了外部函数的参数 x。`outer_function`返回了内部函数`inner_function`，形成了一个闭包。\n",
    "\n",
    "在这个例子中，我们调用`outer_function(10)`并将返回的内部函数保存在 `closure`变量中。然后，我们调用`closure(5)`，这实际上是调用了内部函数`inner_function`。由于闭包的存在，内部函数仍然可以访问外部函数的变量`x`，所以结果将是`10 + 5 = 15`。\n",
    "\n",
    "通过闭包，我们可以创建具有记忆功能的函数，可以在多次调用之间保持状态。这使得闭包在实现装饰器、缓存功能等方面非常有用。"
   ]
  }
 ],
 "metadata": {
  "kernelspec": {
   "display_name": "Python 3",
   "language": "python",
   "name": "python3"
  },
  "language_info": {
   "codemirror_mode": {
    "name": "ipython",
    "version": 3
   },
   "file_extension": ".py",
   "mimetype": "text/x-python",
   "name": "python",
   "nbconvert_exporter": "python",
   "pygments_lexer": "ipython3",
   "version": "3.9.7"
  },
  "orig_nbformat": 4
 },
 "nbformat": 4,
 "nbformat_minor": 2
}
