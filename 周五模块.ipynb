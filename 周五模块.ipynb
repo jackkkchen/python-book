{
 "cells": [
  {
   "attachments": {},
   "cell_type": "markdown",
   "metadata": {},
   "source": [
    "---\n",
    "title: \"Python模块\"\n",
    "format:\n",
    "  html:\n",
    "   code-fold: true\n",
    "   code-tools: true\n",
    "jupyter: python3\n",
    "---\n",
    "\n",
    "## 模块的概念\n",
    "在Python中，模块是一个包含函数、类和变量的Python文件。它提供了一种组织和重用代码的方式，使得我们可以将相关的代码组织在一个独立的单元中，并通过导入模块来使用其中的函数、类和变量。\n",
    "\n",
    "模块使得代码的组织更加模块化和可维护，可以将相关功能划分到不同的模块中，使得代码更易于理解和扩展。另外，通过使用模块，可以实现代码的复用，不必重复编写相同的代码。\n",
    "\n",
    "要使用一个模块，我们需要使用 import 语句将模块导入到当前的Python环境中。导入模块后，我们就可以通过模块名加点操作符来访问模块中定义的函数、类和变量。"
   ]
  },
  {
   "attachments": {},
   "cell_type": "markdown",
   "metadata": {},
   "source": [
    "<video width=\"600\" height=\"450\" controls>\n",
    "  <source src=\"http://szmspython.oss-cn-hangzhou.aliyuncs.com/%E5%91%A8%E4%BA%94%E5%87%BD%E6%95%B0%E4%B8%8E%E6%A8%A1%E5%9D%97/%E6%A8%A1%E5%9D%97%E7%9A%84%E6%A6%82%E5%BF%B5.mp4\">\n",
    "</video>"
   ]
  },
  {
   "attachments": {},
   "cell_type": "markdown",
   "metadata": {},
   "source": [
    "这就是模块的基本概念和用法。通过模块，我们可以更好地组织和复用代码，使得程序更加模块化和可维护。"
   ]
  },
  {
   "attachments": {},
   "cell_type": "markdown",
   "metadata": {},
   "source": [
    "## 模块的使用\n",
    "学习如何使用Python标准库中的模块非常重要，因为标准库提供了大量功能丰富的模块，可以帮助我们完成各种任务。同时，我们自己定义的模块也常常能在工作中提供很大的帮助。\n",
    "\n",
    "以下是模块的基本使用方法：\n",
    "\n",
    "1. 导入模块：要使用标准库模块，首先需要使用 `import` 语句将模块导入到当前的Python环境中。导入模块的一般语法是 `import module_name`。例如，要导入标准库中的 `math` 模块，可以使用 `import math`。"
   ]
  },
  {
   "cell_type": "code",
   "execution_count": 7,
   "metadata": {},
   "outputs": [
    {
     "name": "stdout",
     "output_type": "stream",
     "text": [
      "5.0\n"
     ]
    }
   ],
   "source": [
    "import math\n",
    "\n",
    "result = math.sqrt(25)\n",
    "print(result)  # 输出: 5.0\n"
   ]
  },
  {
   "attachments": {},
   "cell_type": "markdown",
   "metadata": {},
   "source": [
    "2. 使用模块中的函数、类和变量：一旦导入了模块，就可以使用模块中定义的函数、类和变量。使用的语法是 `module_name.function_name()`、`module_name.ClassName()` 或 `module_name.variable_name`。例如，要使用 `math` 模块中的 `sqrt` 函数，可以使用 `math.sqrt(25)`。"
   ]
  },
  {
   "cell_type": "code",
   "execution_count": 8,
   "metadata": {},
   "outputs": [
    {
     "name": "stdout",
     "output_type": "stream",
     "text": [
      "5.0\n",
      "78.53981633974483\n"
     ]
    }
   ],
   "source": [
    "import math\n",
    "\n",
    "result = math.sqrt(25)\n",
    "print(result)  # 输出: 5.0\n",
    "\n",
    "radius = 5\n",
    "area = math.pi * math.pow(radius, 2)\n",
    "print(area)  # 输出: 78.53981633974483\n"
   ]
  },
  {
   "attachments": {},
   "cell_type": "markdown",
   "metadata": {},
   "source": [
    "3. 给模块起别名：有时模块名很长或与其他名称冲突，可以给模块起一个别名以便更方便地使用。使用别名的语法是 `import module_name as alias`。例如，要将 `math` 模块起别名为 `m`，可以使用 `import math as m`。"
   ]
  },
  {
   "cell_type": "code",
   "execution_count": 9,
   "metadata": {},
   "outputs": [
    {
     "name": "stdout",
     "output_type": "stream",
     "text": [
      "5.0\n"
     ]
    }
   ],
   "source": [
    "import math as m\n",
    "\n",
    "result = m.sqrt(25)\n",
    "print(result)  # 输出: 5.0\n"
   ]
  },
  {
   "attachments": {},
   "cell_type": "markdown",
   "metadata": {},
   "source": [
    "4. 导入模块中的特定函数或变量：如果只需要使用模块中的某些特定函数或变量，可以使用 `from module_name import item_name` 的语法。这样可以直接使用 `item_name`，而无需使用模块名作为前缀。例如，要导入 `math` 模块中的 `sqrt` 函数，可以使用 `from math import sqrt`，然后直接使用 `sqrt(25)`。"
   ]
  },
  {
   "cell_type": "code",
   "execution_count": 10,
   "metadata": {},
   "outputs": [
    {
     "name": "stdout",
     "output_type": "stream",
     "text": [
      "5.0\n",
      "78.53981633974483\n"
     ]
    }
   ],
   "source": [
    "from math import sqrt, pi\n",
    "\n",
    "result = sqrt(25)\n",
    "print(result)  # 输出: 5.0\n",
    "\n",
    "radius = 5\n",
    "area = pi * radius ** 2\n",
    "print(area)  # 输出: 78.53981633974483\n"
   ]
  },
  {
   "attachments": {},
   "cell_type": "markdown",
   "metadata": {},
   "source": [
    "5. 导入模块中的所有内容：如果希望导入模块中的所有函数、类和变量，可以使用 `from module_name import *` 的语法。这样可以直接使用模块中的所有内容，但可能会与其他已有的函数或变量发生冲突，因此需要谨慎使用。"
   ]
  },
  {
   "cell_type": "code",
   "execution_count": 12,
   "metadata": {},
   "outputs": [
    {
     "name": "stdout",
     "output_type": "stream",
     "text": [
      "5.0\n",
      "78.53981633974483\n"
     ]
    }
   ],
   "source": [
    "from math import *\n",
    "\n",
    "result = sqrt(25)\n",
    "print(result)  # 输出: 5.0\n",
    "\n",
    "radius = 5\n",
    "area = pi * radius ** 2\n",
    "print(area)  # 输出: 78.53981633974483\n"
   ]
  },
  {
   "attachments": {},
   "cell_type": "markdown",
   "metadata": {},
   "source": [
    "6. 查看模块的帮助文档：Python标准库模块通常有详细的文档说明。可以使用 `help(module_name)` 函数来查看模块的帮助文档。例如，使用 `help(math)` 可以查看 `math` 模块的帮助文档。"
   ]
  },
  {
   "cell_type": "code",
   "execution_count": null,
   "metadata": {},
   "outputs": [],
   "source": [
    "import math\n",
    "\n",
    "help(math)\n"
   ]
  },
  {
   "attachments": {},
   "cell_type": "markdown",
   "metadata": {},
   "source": [
    "# Python标准库的模块\n",
    "## 常用的内置模块\n",
    "1. `math`模块\n",
    "\n",
    "`math`模块提供了执行数学运算的函数和常量。它包含了许多常见的数学操作，如三角函数、指数函数、对数函数等。"
   ]
  },
  {
   "cell_type": "code",
   "execution_count": 13,
   "metadata": {},
   "outputs": [
    {
     "name": "stdout",
     "output_type": "stream",
     "text": [
      "5.0\n",
      "0.7071067811865476\n",
      "3.141592653589793\n"
     ]
    }
   ],
   "source": [
    "import math\n",
    "\n",
    "result = math.sqrt(25)  # 平方根\n",
    "print(result)  # 输出: 5.0\n",
    "\n",
    "angle = math.radians(45)  # 将角度转换为弧度\n",
    "sine = math.sin(angle)  # 正弦函数\n",
    "print(sine)  # 输出: 0.7071067811865476\n",
    "\n",
    "pi = math.pi  # 圆周率\n",
    "print(pi)  # 输出: 3.141592653589793\n"
   ]
  },
  {
   "attachments": {},
   "cell_type": "markdown",
   "metadata": {},
   "source": [
    "2. `random`模块\n",
    "\n",
    "`random`模块用于生成随机数。它提供了各种随机数生成函数，如生成随机整数、随机选择元素等。"
   ]
  },
  {
   "cell_type": "code",
   "execution_count": 16,
   "metadata": {},
   "outputs": [
    {
     "name": "stdout",
     "output_type": "stream",
     "text": [
      "3\n",
      "1\n"
     ]
    }
   ],
   "source": [
    "import random\n",
    "\n",
    "number = random.randint(1, 10)  # 生成一个1到10之间的随机整数\n",
    "print(number)  # 输出: 随机整数\n",
    "\n",
    "items = [1, 2, 3, 4, 5]\n",
    "random_choice = random.choice(items)  # 从列表中随机选择一个元素\n",
    "print(random_choice)  # 输出: 随机选择的元素\n"
   ]
  },
  {
   "attachments": {},
   "cell_type": "markdown",
   "metadata": {},
   "source": [
    "## 文件和目录操作的模块\n",
    "1. `os`模块\n",
    "\n",
    "`os`模块提供了许多与操作系统交互的函数。它可以用于执行文件和目录操作、获取系统信息等。"
   ]
  },
  {
   "cell_type": "code",
   "execution_count": null,
   "metadata": {},
   "outputs": [],
   "source": [
    "import os\n",
    "\n",
    "current_dir = os.getcwd()  # 获取当前工作目录\n",
    "print(current_dir)  # 输出: 当前工作目录的路径\n",
    "\n",
    "file_list = os.listdir(current_dir)  # 获取当前目录下的文件列表\n",
    "print(file_list)  # 输出: 当前目录下的文件列表\n"
   ]
  },
  {
   "attachments": {},
   "cell_type": "markdown",
   "metadata": {},
   "source": [
    "2. `shutil`模块\n",
    "\n",
    "`shutil`模块用于高级的文件和目录操作。它提供了一些方便的函数，如复制文件、移动文件、删除文件等。"
   ]
  },
  {
   "cell_type": "code",
   "execution_count": null,
   "metadata": {},
   "outputs": [],
   "source": [
    "import shutil\n",
    "\n",
    "source = 'path/to/source/file.txt'\n",
    "destination = 'path/to/destination/file.txt'\n",
    "\n",
    "shutil.copy(source, destination)  # 复制文件\n"
   ]
  },
  {
   "attachments": {},
   "cell_type": "markdown",
   "metadata": {},
   "source": [
    "## 时间和日期处理的模块\n",
    "1. `datetime`模块\n",
    "\n",
    "`datetime`模块提供了处理日期和时间的功能。它包含了日期、时间、时间间隔等对象，以及各种日期和时间操作的函数。"
   ]
  },
  {
   "cell_type": "code",
   "execution_count": 17,
   "metadata": {},
   "outputs": [
    {
     "name": "stdout",
     "output_type": "stream",
     "text": [
      "2023-06-29 00:14:50.958106\n",
      "2023-06-29\n"
     ]
    }
   ],
   "source": [
    "import datetime\n",
    "\n",
    "current_time = datetime.datetime.now()  # 获取当前时间\n",
    "print(current_time)  # 输出: 当前时间\n",
    "\n",
    "current_date = datetime.date.today()  # 获取当前日期\n",
    "print(current_date)  # 输出: 当前日期\n"
   ]
  },
  {
   "attachments": {},
   "cell_type": "markdown",
   "metadata": {},
   "source": [
    "2. `time`模块\n",
    "\n",
    "`time`模块提供了与时间相关的函数。它可以用于获取当前时间、时间的格式化、休眠等操作。"
   ]
  },
  {
   "cell_type": "code",
   "execution_count": 18,
   "metadata": {},
   "outputs": [
    {
     "name": "stdout",
     "output_type": "stream",
     "text": [
      "time.struct_time(tm_year=2023, tm_mon=6, tm_mday=29, tm_hour=0, tm_min=15, tm_sec=30, tm_wday=3, tm_yday=180, tm_isdst=0)\n",
      "2023-06-29 00:15:30\n"
     ]
    }
   ],
   "source": [
    "import time\n",
    "\n",
    "current_time = time.localtime()  # 获取当前时间的本地表示\n",
    "print(current_time)  # 输出: 当前本地时间的结构化表示\n",
    "\n",
    "formatted_time = time.strftime('%Y-%m-%d %H:%M:%S', current_time)  # 格式化时间\n",
    "print(formatted_time)  # 输出: 格式化后的时间字符串\n"
   ]
  },
  {
   "attachments": {},
   "cell_type": "markdown",
   "metadata": {},
   "source": [
    "这些模块是Python标准库中的一小部分，它们提供了广泛的功能和工具，可帮助您处理数学运算、随机数生成、文件和目录操作、日期时间处理等各种任务。\n",
    "\n",
    "要熟练使用Python，就需要掌握这些模块的使用方法，并能够根据需要，自定义模块。"
   ]
  },
  {
   "attachments": {},
   "cell_type": "markdown",
   "metadata": {},
   "source": [
    "# Python中的第三方模块\n",
    "## 第三方模块的概念及安装方法\n",
    "在Python中，第三方模块是由Python社区或其他开发者开发的，用于扩展Python功能和提供额外功能的模块。这些模块通常不包含在Python标准库中，但它们提供了各种用途的功能，例如网络请求、数据分析、图像处理等。\n",
    "\n",
    "安装第三方模块可以通过使用包管理工具pip来完成。pip是Python的默认包管理工具，可用于安装、升级和卸载第三方模块。"
   ]
  },
  {
   "attachments": {},
   "cell_type": "markdown",
   "metadata": {},
   "source": [
    "以下是安装第三方模块的步骤：\n",
    "\n",
    "1. 确保已安装`pip`：\n",
    "\n",
    "在终端或命令提示符中运行以下指令。检查`pip`是否已安装："
   ]
  },
  {
   "cell_type": "code",
   "execution_count": null,
   "metadata": {},
   "outputs": [],
   "source": [
    "pip --version"
   ]
  },
  {
   "attachments": {},
   "cell_type": "markdown",
   "metadata": {},
   "source": [
    "如果输出了`pip`的版本信息，则说明`pip`已安装。如果未找到`pip`或提示未定义的命令，则需要先安装`pip`。\n",
    "\n",
    "2. 使用`pip`安装模块：要安装第三方模块，可以在终端或命令提示符中运行以下命令："
   ]
  },
  {
   "cell_type": "code",
   "execution_count": null,
   "metadata": {},
   "outputs": [],
   "source": [
    "pip install module_name"
   ]
  },
  {
   "attachments": {},
   "cell_type": "markdown",
   "metadata": {},
   "source": [
    "例如，要安装常用的第三方模块`requests`，可以运行："
   ]
  },
  {
   "cell_type": "code",
   "execution_count": null,
   "metadata": {},
   "outputs": [],
   "source": [
    "pip install requests"
   ]
  },
  {
   "attachments": {},
   "cell_type": "markdown",
   "metadata": {},
   "source": [
    "其中，`module_name`是要安装的第三方模块的名称。`pip`将自动下载并安装该模块及其相关依赖项。\n",
    "\n",
    "3. 确认安装成功：安装完成后，可以在Python脚本中导入并使用该模块。如果没有报错，则表示安装成功。示例如下："
   ]
  },
  {
   "cell_type": "code",
   "execution_count": null,
   "metadata": {},
   "outputs": [],
   "source": [
    "import requests\n",
    "\n",
    "response = requests.get('https://www.example.com')\n",
    "print(response.status_code)\n"
   ]
  },
  {
   "attachments": {},
   "cell_type": "markdown",
   "metadata": {},
   "source": [
    "上述代码导入了`requests`模块，并使用该模块发送`HTTP`请求。\n",
    "\n",
    "需要注意的是，有些第三方模块可能需要特定版本的Python或其他依赖项。在安装之前，建议查阅该模块的官方文档或README文件，以了解安装要求和使用说明。\n",
    "\n",
    "另外，还有其他包管理工具可以用于安装第三方模块，例如`conda`、`pipenv`等，具体根据您的需求和使用环境选择合适的工具。\n",
    "\n",
    "总的来说，第三方模块为Python提供了丰富的扩展功能，我们可以根据特定的项目需求安装第三方模块。"
   ]
  },
  {
   "attachments": {},
   "cell_type": "markdown",
   "metadata": {},
   "source": [
    "## 常用的数据分析和科学计算库\n",
    "`NumPy`和`Pandas`是Python数据分析和科学计算中的重要库。`NumPy`提供了高性能的数值计算和数组操作功能，适用于处理大规模数值数据；而`Pandas`则专注于数据分析和操作，提供了灵活且高效的数据结构和数据处理工具，使得数据的清洗、转换和分析更加方便。这两个库通常一起使用，使得数据科学工作更加便捷和高效。\n",
    "\n",
    "1. `NumPy（Numerical Python）`\n",
    "\n",
    "- `NumPy`是Python中用于数值计算和科学计算的核心库。\n",
    "  \n",
    "- `NumPy`提供了一个强大的多维数组对象（ndarray），可以进行高效的数值运算和数组操作。`ndarray`是一个具有相同类型和大小的元素组成的多维容器，它提供了高速的数值运算和广播功能。\n",
    "  \n",
    "- `NumPy`的主要特点包括：\n",
    "  \n",
    "  - 多维数组操作：`NumPy`提供了广泛的数组操作函数，例如索引、切片、形状操作、重塑、拼接等。\n",
    "  \n",
    "  - 数学函数：`NumPy`包含了各种数学函数，如三角函数、指数函数、对数函数、统计函数等。\n",
    "  \n",
    "  - 线性代数运算：`NumPy`提供了线性代数运算功能，如矩阵乘法、逆矩阵、特征值等。\n",
    "  \n",
    "  - 随机数生成：`NumPy`具有随机数生成的功能，可以生成各种概率分布的随机数。\n",
    "\n",
    "`NumPy`是Python科学计算的基础库，许多其他科学计算和数据分析库都建立在`NumPy`之上。\n",
    "\n",
    "下面是NumPy的简单应用示例："
   ]
  },
  {
   "cell_type": "code",
   "execution_count": 20,
   "metadata": {},
   "outputs": [
    {
     "name": "stdout",
     "output_type": "stream",
     "text": [
      "[2 3 4 5 6]\n",
      "[ 2  4  6  8 10]\n",
      "3.0\n",
      "(2, 3)\n",
      "[[19 22]\n",
      " [43 50]]\n"
     ]
    }
   ],
   "source": [
    "import numpy as np\n",
    "\n",
    "# 创建NumPy数组\n",
    "arr = np.array([1, 2, 3, 4, 5])\n",
    "\n",
    "# 数组运算\n",
    "print(arr + 1)  # 加法运算\n",
    "print(arr * 2)  # 乘法运算\n",
    "print(np.mean(arr))  # 平均值\n",
    "\n",
    "# 多维数组\n",
    "arr2d = np.array([[1, 2, 3], [4, 5, 6]])\n",
    "print(arr2d.shape)  # 输出: (2, 3)\n",
    "\n",
    "# 线性代数运算\n",
    "a = np.array([[1, 2], [3, 4]])\n",
    "b = np.array([[5, 6], [7, 8]])\n",
    "print(np.dot(a, b))  # 矩阵相乘"
   ]
  },
  {
   "attachments": {},
   "cell_type": "markdown",
   "metadata": {},
   "source": [
    "2. `Pandas`\n",
    "\n",
    "- `Pandas`是一个功能强大的数据分析和操作库，构建在NumPy之上。\n",
    "  \n",
    "- `Pandas`提供了两个重要的数据结构：`Series`和`DataFrame`。\n",
    "  \n",
    "  - `Series`是一维的标签化数组，类似于带标签的一维数组，可以容纳任意类型的数据。\n",
    "  \n",
    "  - `DataFrame`是二维的表格型数据结构，类似于SQL中的表或Excel中的电子表格，具有行和列的标签，每列可以是不同的数据类型。\n",
    "  \n",
    "- `Pandas`的主要功能包括：\n",
    "\n",
    "  - 数据读取和写入：`Pandas`可以从各种数据源（如CSV文件、Excel文件、SQL数据库等）读取数据，并可以将数据写入不同的格式。\n",
    "  \n",
    "  - 数据清洗和预处理：`Pandas`提供了丰富的功能来处理缺失值、重复数据、异常值等数据清洗任务。\n",
    "  \n",
    "  - 数据操作和计算：`Pandas`支持灵活的数据操作和计算，如索引、切片、筛选、聚合、分组等。\n",
    "  \n",
    "  - 时间序列处理：`Pandas`提供了强大的时间序列处理功能，支持日期和时间的索引、重采样、滚动窗口计算等。\n",
    "  \n",
    "  - 数据可视化：`Pandas`集成了`Matplotlib`库，可以方便地进行数据可视化。\n",
    "\n",
    "Pandas提供了高效的数据处理和分析工具，使得数据科学家和分析师能够更轻松地处理和分析结构化数据。"
   ]
  },
  {
   "cell_type": "code",
   "execution_count": 21,
   "metadata": {},
   "outputs": [
    {
     "name": "stdout",
     "output_type": "stream",
     "text": [
      "      Name  Age      City\n",
      "0    Alice   25  New York\n",
      "1      Bob   30    London\n",
      "2  Charlie   35     Paris\n",
      "3    David   40     Tokyo\n",
      "32.5\n",
      "      Name  Age   City\n",
      "2  Charlie   35  Paris\n",
      "3    David   40  Tokyo\n",
      "City\n",
      "London      30.0\n",
      "New York    25.0\n",
      "Paris       35.0\n",
      "Tokyo       40.0\n",
      "Name: Age, dtype: float64\n",
      "DatetimeIndex(['2021-01-01', '2021-01-02', '2021-01-03', '2021-01-04',\n",
      "               '2021-01-05', '2021-01-06', '2021-01-07', '2021-01-08',\n",
      "               '2021-01-09', '2021-01-10',\n",
      "               ...\n",
      "               '2021-12-22', '2021-12-23', '2021-12-24', '2021-12-25',\n",
      "               '2021-12-26', '2021-12-27', '2021-12-28', '2021-12-29',\n",
      "               '2021-12-30', '2021-12-31'],\n",
      "              dtype='datetime64[ns]', length=365, freq='D')\n"
     ]
    }
   ],
   "source": [
    "import pandas as pd\n",
    "\n",
    "# 创建Pandas DataFrame\n",
    "data = {'Name': ['Alice', 'Bob', 'Charlie', 'David'],\n",
    "        'Age': [25, 30, 35, 40],\n",
    "        'City': ['New York', 'London', 'Paris', 'Tokyo']}\n",
    "\n",
    "df = pd.DataFrame(data)\n",
    "\n",
    "# 数据操作\n",
    "print(df.head())  # 查看前几行数据\n",
    "print(df['Age'].mean())  # 计算年龄的平均值\n",
    "\n",
    "# 数据筛选\n",
    "filtered_df = df[df['Age'] > 30]  # 筛选年龄大于30的数据\n",
    "print(filtered_df)\n",
    "\n",
    "# 数据分组和聚合\n",
    "groupby_city = df.groupby('City')\n",
    "mean_age_by_city = groupby_city['Age'].mean()\n",
    "print(mean_age_by_city)\n",
    "\n",
    "# 时间序列处理\n",
    "dates = pd.date_range(start='2021-01-01', end='2021-12-31', freq='D')\n",
    "print(dates)\n"
   ]
  },
  {
   "attachments": {},
   "cell_type": "markdown",
   "metadata": {},
   "source": [
    "`Pandas`库将是我们后面学习的重点内容，大家可以预先了解。"
   ]
  }
 ],
 "metadata": {
  "kernelspec": {
   "display_name": "Python 3",
   "language": "python",
   "name": "python3"
  },
  "language_info": {
   "codemirror_mode": {
    "name": "ipython",
    "version": 3
   },
   "file_extension": ".py",
   "mimetype": "text/x-python",
   "name": "python",
   "nbconvert_exporter": "python",
   "pygments_lexer": "ipython3",
   "version": "3.9.7"
  },
  "orig_nbformat": 4
 },
 "nbformat": 4,
 "nbformat_minor": 2
}
