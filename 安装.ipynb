{
 "cells": [
  {
   "attachments": {},
   "cell_type": "markdown",
   "metadata": {},
   "source": [
    "---\n",
    "title: \"Pandas安装\"\n",
    "# execute: \n",
    "#   enabled: true\n",
    "  # cache: true\n",
    "# jupyter: python3\n",
    "# toc: true\n",
    "# format:\n",
    "#   html:\n",
    "    # code-fold: true\n",
    "---"
   ]
  },
  {
   "attachments": {},
   "cell_type": "markdown",
   "metadata": {},
   "source": [
    "### 使用Anaconda安装\n",
    "对于没有经验的小白来说，直接上手用代码来安装各种包可能有点困难，而[Anaconda](https://docs.continuum.io/free/anaconda/)作为一个发型平台，可以非常轻松的安装除了Pandas之外的各种Python包（IPython、NumPy、 Matplotlib等）\n",
    "\n",
    "详细的Anaconda安装步骤可以观看我的B站视频，或者[官方文档](https://docs.continuum.io/free/anaconda/install/)\n"
   ]
  },
  {
   "cell_type": "code",
   "execution_count": null,
   "metadata": {},
   "outputs": [],
   "source": [
    "conda install pandas"
   ]
  },
  {
   "attachments": {},
   "cell_type": "markdown",
   "metadata": {},
   "source": [
    "<div style=\"position: relative; padding: 30% 45%;\">\n",
    "<iframe style=\"position: absolute; width: 80%; height: 80%; left: 0; top: 0;\" src=\"//player.bilibili.com/player.html?aid=980446298&bvid=BV1f44y1G73a&cid=569281368&page=1\" frameborder=\"no\" scrolling=\"no\" allowfullscreen=\"true\">\n",
    "</iframe>\n",
    "</div> "
   ]
  },
  {
   "attachments": {},
   "cell_type": "markdown",
   "metadata": {},
   "source": [
    "### 使用[PyPI](https://pypi.org/project/pandas/)中的 pip 安装"
   ]
  },
  {
   "cell_type": "code",
   "execution_count": null,
   "metadata": {},
   "outputs": [],
   "source": [
    "pip install pandas"
   ]
  },
  {
   "attachments": {},
   "cell_type": "markdown",
   "metadata": {},
   "source": [
    "::: {.callout-tip}\n",
    "一般来说这是python自带的安装方式，但有时候你的虚拟环境没有或者服务器里的需要更新，可以[参考文档](https://pip.pypa.io/en/stable/installation/)\n",
    ":::"
   ]
  },
  {
   "attachments": {},
   "cell_type": "markdown",
   "metadata": {},
   "source": [
    "::: {.panel-tabset}\n",
    "## Linux\n",
    "\n",
    "```{python}\n",
    "$ python -m ensurepip --upgrade\n",
    "```\n",
    "\n",
    "## MacOS\n",
    "\n",
    "```{python}\n",
    "$ python -m ensurepip --upgrade\n",
    "```\n",
    "## Windows\n",
    "\n",
    "```{python}\n",
    "C:> py -m ensurepip --upgrade\n",
    "```\n",
    "::: "
   ]
  },
  {
   "attachments": {},
   "cell_type": "markdown",
   "metadata": {},
   "source": [
    "\n",
    "# make simplex button\n",
    "\n",
    "<button type=\"button\" class=\"btn btn-primary btn-lg\">Large button</button>\n",
    "\n",
    "\n",
    "# make card\n",
    "\n",
    "\n",
    "<div class=\"card border-primary mb-3\" style=\"max-width: 20rem;\">\n",
    "<div class=\"card-header\">Header</div>\n",
    "<div class=\"card-body\">\n",
    "<h4 class=\"card-title\">Primary card title</h4>\n",
    "<p class=\"card-text\">Some quick example text to build on the card title and make up the bulk of the card's content.</p>\n",
    "</div>\n",
    "</div>\n",
    "<div class=\"card border-secondary mb-3\" style=\"max-width: 20rem;\">\n",
    "<div class=\"card-header\">Header</div>\n",
    "<div class=\"card-body\">\n",
    "<h4 class=\"card-title\">Secondary card title</h4>\n",
    "<p class=\"card-text\">Some quick example text to build on the card title and make up the bulk of the card's content.</p>\n",
    "</div>\n",
    "</div>"
   ]
  },
  {
   "cell_type": "code",
   "execution_count": null,
   "metadata": {},
   "outputs": [],
   "source": []
  },
  {
   "cell_type": "code",
   "execution_count": null,
   "metadata": {},
   "outputs": [],
   "source": []
  }
 ],
 "metadata": {
  "kernelspec": {
   "display_name": "base",
   "language": "python",
   "name": "python3"
  },
  "language_info": {
   "codemirror_mode": {
    "name": "ipython",
    "version": 3
   },
   "file_extension": ".py",
   "mimetype": "text/x-python",
   "name": "python",
   "nbconvert_exporter": "python",
   "pygments_lexer": "ipython3",
   "version": "3.9.7"
  },
  "orig_nbformat": 4
 },
 "nbformat": 4,
 "nbformat_minor": 2
}
