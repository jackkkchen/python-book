{
 "cells": [
  {
   "attachments": {},
   "cell_type": "markdown",
   "metadata": {},
   "source": [
    "---\n",
    "title: \"Pandas安装\"\n",
    "# execute: \n",
    "#   enabled: true\n",
    "  # cache: true\n",
    "# jupyter: python3\n",
    "# toc: true\n",
    "# format:\n",
    "#   html:\n",
    "    # code-fold: true\n",
    "---"
   ]
  },
  {
   "attachments": {},
   "cell_type": "markdown",
   "metadata": {},
   "source": [
    "### 使用Anaconda安装\n",
    "对于没有经验的小白来说，直接上手用代码来安装各种包可能有点困难，而[Anaconda](https://docs.continuum.io/free/anaconda/)作为一个发型平台，可以非常轻松的安装除了Pandas之外的各种Python包（IPython、NumPy、 Matplotlib等）\n",
    "\n",
    "详细的Anaconda安装步骤可以观看我的B站视频，或者[官方文档](https://docs.continuum.io/free/anaconda/install/)\n"
   ]
  },
  {
   "cell_type": "code",
   "execution_count": null,
   "metadata": {},
   "outputs": [],
   "source": [
    "conda install pandas"
   ]
  },
  {
   "attachments": {},
   "cell_type": "markdown",
   "metadata": {},
   "source": [
    "{{< video http://szmspython.oss-cn-hangzhou.aliyuncs.com/anaconda%E5%AE%89%E8%A3%85.mp4\n",
    "    title=\"Anaconda安装教程\"\n",
    "    <!-- width=\"350\" \n",
    "    height=\"350\" -->\n",
    "    start=\"10\"\n",
    "    aspect-ratio=\"4x3\" \n",
    ">}}"
   ]
  },
  {
   "attachments": {},
   "cell_type": "markdown",
   "metadata": {},
   "source": [
    "<iframe src=\" http://szmspython.oss-cn-hangzhou.aliyuncs.com/anaconda%E5%AE%89%E8%A3%85.mp4\"\n",
    "  allowfullscreen=\"\"\n",
    "  width=\"350\" height=\"250\"></iframe>"
   ]
  },
  {
   "attachments": {},
   "cell_type": "markdown",
   "metadata": {},
   "source": [
    "<video width=\"600\" height=\"450\" controls>\n",
    "  <source src=\"http://szmspython.oss-cn-hangzhou.aliyuncs.com/anaconda%E5%AE%89%E8%A3%85.mp4\">\n",
    "</video>"
   ]
  },
  {
   "attachments": {},
   "cell_type": "markdown",
   "metadata": {},
   "source": []
  },
  {
   "attachments": {},
   "cell_type": "markdown",
   "metadata": {},
   "source": []
  },
  {
   "attachments": {},
   "cell_type": "markdown",
   "metadata": {},
   "source": [
    "### 使用[PyPI](https://pypi.org/project/pandas/)中的 pip 安装"
   ]
  },
  {
   "cell_type": "code",
   "execution_count": null,
   "metadata": {},
   "outputs": [],
   "source": [
    "pip install pandas"
   ]
  },
  {
   "attachments": {},
   "cell_type": "markdown",
   "metadata": {},
   "source": [
    "::: {.callout-tip}\n",
    "一般来说这是python自带的安装方式，但有时候你的虚拟环境没有或者服务器里的需要更新，可以[参考文档](https://pip.pypa.io/en/stable/installation/)\n",
    ":::"
   ]
  },
  {
   "attachments": {},
   "cell_type": "markdown",
   "metadata": {},
   "source": [
    "::: {.panel-tabset}\n",
    "## Linux\n",
    "\n",
    "```{python}\n",
    "$ python -m ensurepip --upgrade\n",
    "```\n",
    "\n",
    "## MacOS\n",
    "\n",
    "```{python}\n",
    "$ python -m ensurepip --upgrade\n",
    "```\n",
    "## Windows\n",
    "\n",
    "```{python}\n",
    "C:> py -m ensurepip --upgrade\n",
    "```\n",
    "::: "
   ]
  }
 ],
 "metadata": {
  "kernelspec": {
   "display_name": "base",
   "language": "python",
   "name": "python3"
  },
  "language_info": {
   "codemirror_mode": {
    "name": "ipython",
    "version": 3
   },
   "file_extension": ".py",
   "mimetype": "text/x-python",
   "name": "python",
   "nbconvert_exporter": "python",
   "pygments_lexer": "ipython3",
   "version": "3.9.7"
  },
  "orig_nbformat": 4
 },
 "nbformat": 4,
 "nbformat_minor": 2
}
