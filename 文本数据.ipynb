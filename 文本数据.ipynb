{
 "cells": [
  {
   "cell_type": "markdown",
   "metadata": {},
   "source": [
    "# Pandas处理文本数据\n",
    "\n",
    "Pandas中的文本数据对象是指包含字符串数据的`Series`或`DataFrame`中的列。可以通过指定`dtype=\"string\"`来创建文本数据对象，或者通过从现有的列或数据源进行转换来创建。文本数据对象具有特殊的方法和属性，可用于在文本数据上执行字符串处理操作。\n",
    "\n",
    "## 一、字符串处理函数\n",
    "\n",
    "### 1. 字符串拆分和连接\n",
    "\n",
    "Pandas可以通过如下函数处理字符串的拆分与连接：\n",
    "\n",
    "* `.split()`: 将字符串拆分为多个子字符串，并返回一个包含拆分结果的列表。\n",
    "\n",
    "* `.join()`: 将字符串列表或Series中的多个字符串连接成一个字符串。\n",
    "\n",
    "* `.str.split()`: 在Series或`DataFrame`的字符串列上进行拆分操作，并返回一个包含拆分结果的`Series`或`DataFrame`。"
   ]
  },
  {
   "cell_type": "code",
   "execution_count": 6,
   "metadata": {},
   "outputs": [
    {
     "name": "stdout",
     "output_type": "stream",
     "text": [
      "0      [John, Smith]\n",
      "1        [Jane, Doe]\n",
      "2    [Mike, Johnson]\n",
      "dtype: object\n"
     ]
    }
   ],
   "source": [
    "import pandas as pd\n",
    "\n",
    "# 创建一个示例字符串列\n",
    "names = pd.Series(['John Smith', 'Jane Doe', 'Mike Johnson'])\n",
    "\n",
    "# 将字符串拆分为姓和名两列\n",
    "split_names = names.str.split(' ')\n",
    "print(split_names)\n"
   ]
  },
  {
   "cell_type": "code",
   "execution_count": 7,
   "metadata": {},
   "outputs": [
    {
     "name": "stdout",
     "output_type": "stream",
     "text": [
      "0      John-Smith\n",
      "1        Jane-Doe\n",
      "2    Mike-Johnson\n",
      "dtype: object\n"
     ]
    }
   ],
   "source": [
    "# 将拆分后的姓和名连接为一个字符串\n",
    "joined_names = split_names.str.join('-')\n",
    "print(joined_names)"
   ]
  },
  {
   "cell_type": "markdown",
   "metadata": {},
   "source": [
    "### 2. 字符串匹配和查找\n",
    "\n",
    "Pandas可以通过如下函数处理字符串的匹配和查找：\n",
    "\n",
    "- `.contains()`: 检查字符串是否包含指定的子字符串，并返回布尔值。\n",
    "- `.match()`: 使用正则表达式对字符串进行匹配，返回匹配的结果。\n",
    "- `.find()`: 查找字符串中第一个匹配子字符串的起始位置，并返回索引。\n",
    "- `.findall()`: 查找字符串中所有匹配的子字符串，并返回一个列表。"
   ]
  },
  {
   "cell_type": "code",
   "execution_count": 8,
   "metadata": {},
   "outputs": [
    {
     "name": "stdout",
     "output_type": "stream",
     "text": [
      "0     True\n",
      "1    False\n",
      "2    False\n",
      "dtype: bool\n"
     ]
    }
   ],
   "source": [
    "import pandas as pd\n",
    "\n",
    "# 创建一个示例字符串列\n",
    "sentences = pd.Series(['Hello, world!', 'How are you?', 'Python is great'])\n",
    "\n",
    "# 检查字符串中是否包含指定子字符串\n",
    "contains_world = sentences.str.contains('world')\n",
    "print(contains_world)\n"
   ]
  },
  {
   "cell_type": "code",
   "execution_count": 9,
   "metadata": {},
   "outputs": [
    {
     "name": "stdout",
     "output_type": "stream",
     "text": [
      "0    True\n",
      "1    True\n",
      "2    True\n",
      "dtype: bool\n"
     ]
    }
   ],
   "source": [
    "# 使用正则表达式匹配字符串\n",
    "matches = sentences.str.match(r'[A-Z][a-z]+')\n",
    "print(matches)\n"
   ]
  },
  {
   "cell_type": "code",
   "execution_count": 10,
   "metadata": {},
   "outputs": [
    {
     "name": "stdout",
     "output_type": "stream",
     "text": [
      "0    -1\n",
      "1    -1\n",
      "2    10\n",
      "dtype: int64\n"
     ]
    }
   ],
   "source": [
    "# 查找字符串中第一个匹配子字符串的起始位置\n",
    "first_index = sentences.str.find('great')\n",
    "print(first_index)\n"
   ]
  },
  {
   "cell_type": "code",
   "execution_count": 11,
   "metadata": {},
   "outputs": [
    {
     "name": "stdout",
     "output_type": "stream",
     "text": [
      "0         [Hello, world]\n",
      "1        [How, are, you]\n",
      "2    [Python, is, great]\n",
      "dtype: object\n"
     ]
    }
   ],
   "source": [
    "# 查找字符串中所有匹配的子字符串\n",
    "all_matches = sentences.str.findall(r'\\b\\w+\\b')\n",
    "print(all_matches)"
   ]
  },
  {
   "cell_type": "markdown",
   "metadata": {},
   "source": [
    "### 3. 字符串替换和删除\n",
    "\n",
    "Pandas可以通过如下函数处理字符串的替换和删除：\n",
    "\n",
    "- `.replace()`: 替换字符串中的指定子字符串为新的子字符串。\n",
    "- `.str.replace()`: 在Series或DataFrame的字符串列上进行替换操作。\n",
    "- `.strip()`: 去除字符串两端的空格或指定的字符。\n",
    "- `.str.strip()`: 在Series或DataFrame的字符串列上进行去除操作。\n",
    "- `.str.replace()`: 删除字符串中的指定子字符串。\n",
    "- `.str.strip()`: 在Series或DataFrame的字符串列上进行删除操作。"
   ]
  },
  {
   "cell_type": "code",
   "execution_count": 12,
   "metadata": {},
   "outputs": [
    {
     "name": "stdout",
     "output_type": "stream",
     "text": [
      "0             Hello,\n",
      "1       How are you?\n",
      "2    Python is great\n",
      "dtype: object\n"
     ]
    }
   ],
   "source": [
    "import pandas as pd\n",
    "\n",
    "# 创建一个示例字符串列\n",
    "text = pd.Series(['  Hello,  ', '  How are you?  ', '  Python is great  '])\n",
    "\n",
    "# 去除字符串两端的空格\n",
    "trimmed_text = text.str.strip()\n",
    "print(trimmed_text)\n",
    "\n"
   ]
  },
  {
   "cell_type": "code",
   "execution_count": 13,
   "metadata": {},
   "outputs": [
    {
     "name": "stdout",
     "output_type": "stream",
     "text": [
      "0                 Hello,  \n",
      "1           How are you?  \n",
      "2      Python is awesome  \n",
      "dtype: object\n"
     ]
    }
   ],
   "source": [
    "# 替换字符串中的指定子字符串\n",
    "replaced_text = text.str.replace('great', 'awesome')\n",
    "print(replaced_text)\n"
   ]
  },
  {
   "cell_type": "code",
   "execution_count": 14,
   "metadata": {},
   "outputs": [
    {
     "name": "stdout",
     "output_type": "stream",
     "text": [
      "0           Hello,\n",
      "1       Howareyou?\n",
      "2    Pythonisgreat\n",
      "dtype: object\n"
     ]
    }
   ],
   "source": [
    "# 删除字符串中的指定子字符串\n",
    "removed_text = text.str.replace(' ', '')\n",
    "print(removed_text)"
   ]
  },
  {
   "cell_type": "markdown",
   "metadata": {},
   "source": [
    "## 二、正则表达式操作\n",
    "\n",
    "### 1. 正则表达式基础知识\n",
    "\n",
    "在Pandas中，正则表达式（Regular Expression）是一种强大的工具，用于处理和操作文本数据。Pandas提供了多个函数和方法，可以使用正则表达式对文本数据进行匹配、查找、替换等操作。\n",
    "\n",
    "正则表达式（Regular Expression）是一种用于描述字符模式的表达式。它是一种强大的工具，用于在文本中搜索、匹配和处理特定模式的字符串。正则表达式由一个或多个字符和特殊符号组成，它们形成了一种规则，用于描述所需的字符串模式。\n",
    "\n",
    "正则表达式的工作原理是通过与输入字符串逐字符匹配，尝试找到与模式匹配的字符串。它使用不同的元字符（Metacharacters）和字符类（Character classes）来表示不同的模式。以下是一些常用的元字符和字符类：\n",
    "\n",
    "#### (1) 元字符：\n",
    "\n",
    "- `.`：匹配任意单个字符，除了换行符。\n",
    "- `*`：匹配前面的字符零次或多次。\n",
    "- `+`：匹配前面的字符一次或多次。\n",
    "- `?`：匹配前面的字符零次或一次。\n",
    "- `|`：用于分隔多个模式，表示或的关系。\n",
    "- `()`：用于分组和捕获匹配的子字符串。\n",
    "\n",
    "#### (2) 字符类：\n",
    "\n",
    "- `[abc]`：匹配字符a、b或c中的任意一个。\n",
    "- `[a-z]`：匹配任意小写字母。\n",
    "- `[0-9]`：匹配任意数字字符。\n",
    "- `[^abc]`：匹配除了字符a、b和c之外的任意字符。\n",
    "\n",
    "正则表达式的匹配过程是从左到右逐字符进行的。它尝试在目标字符串中找到与模式完全匹配的子字符串。如果找到匹配，就可以执行相应的操作，如提取、替换、删除等。正则表达式还支持更复杂的模式匹配，如重复次数、边界限定、转义字符等。\n",
    "\n",
    "在Python中，正则表达式的使用通常使用`re`模块。该模块提供了许多函数和方法，用于对字符串进行正则表达式的匹配和处理。\n",
    "\n",
    "总而言之，正则表达式是一种强大的字符串匹配和处理工具，它通过使用特定的符号和语法规则，描述所需的字符串模式，并可以在文本中进行搜索、匹配和处理。\n",
    "\n",
    "### 2. Pandas中的正则表达式操作\n",
    "\n",
    "#### (1) `.str.match()` 方法： \n",
    "\n",
    "`.str.match()` 方法用于对字符串列应用正则表达式进行匹配操作，返回匹配结果。只返回第一个匹配项。"
   ]
  },
  {
   "cell_type": "code",
   "execution_count": 15,
   "metadata": {},
   "outputs": [
    {
     "name": "stdout",
     "output_type": "stream",
     "text": [
      "0     True\n",
      "1     True\n",
      "2    False\n",
      "dtype: bool\n"
     ]
    }
   ],
   "source": [
    "import pandas as pd\n",
    "\n",
    "# 创建一个示例字符串列\n",
    "names = pd.Series(['John', 'Jane', 'Mike'])\n",
    "\n",
    "# 使用正则表达式匹配以J开头的名字\n",
    "matches = names.str.match(r'J\\w+')\n",
    "print(matches)\n"
   ]
  },
  {
   "cell_type": "markdown",
   "metadata": {},
   "source": [
    "#### (2) `.str.contains()` 方法： \n",
    "\n",
    "`.str.contains()` 方法用于检查字符串列中是否包含匹配正则表达式的子字符串，并返回布尔值。"
   ]
  },
  {
   "cell_type": "code",
   "execution_count": 16,
   "metadata": {},
   "outputs": [
    {
     "name": "stdout",
     "output_type": "stream",
     "text": [
      "0    False\n",
      "1     True\n",
      "2    False\n",
      "dtype: bool\n"
     ]
    }
   ],
   "source": [
    "import pandas as pd\n",
    "\n",
    "# 创建一个示例字符串列\n",
    "sentences = pd.Series(['Hello, world!', 'How are you?', 'Python is great'])\n",
    "\n",
    "# 检查字符串列是否包含以w结尾的单词\n",
    "contains_w = sentences.str.contains(r'\\b\\w+w\\b')\n",
    "print(contains_w)\n"
   ]
  },
  {
   "cell_type": "markdown",
   "metadata": {},
   "source": [
    "#### (3)`.str.extract()` 方法： \n",
    "\n",
    "`.str.extract()` 方法用于从字符串列中提取满足指定正则表达式模式的子字符串，并返回一个新的列或`DataFrame`。"
   ]
  },
  {
   "cell_type": "code",
   "execution_count": 17,
   "metadata": {},
   "outputs": [
    {
     "name": "stdout",
     "output_type": "stream",
     "text": [
      "    0\n",
      "0  25\n",
      "1  30\n"
     ]
    }
   ],
   "source": [
    "import pandas as pd\n",
    "\n",
    "# 创建一个示例字符串列\n",
    "sentences = pd.Series(['John is 25 years old', 'Jane is 30 years old'])\n",
    "\n",
    "# 提取字符串中的年龄\n",
    "ages = sentences.str.extract(r'(\\d+) years')\n",
    "print(ages)\n"
   ]
  },
  {
   "cell_type": "markdown",
   "metadata": {},
   "source": [
    "#### (4)`.str.replace()` 方法：\n",
    "\n",
    "`.str.replace()` 方法用于替换字符串列中匹配正则表达式的子字符串为指定的字符串。 "
   ]
  },
  {
   "cell_type": "code",
   "execution_count": 18,
   "metadata": {},
   "outputs": [
    {
     "name": "stdout",
     "output_type": "stream",
     "text": [
      "0      Hello  world!\n",
      "1       How are you?\n",
      "2    Python is great\n",
      "dtype: object\n"
     ]
    }
   ],
   "source": [
    "import pandas as pd\n",
    "\n",
    "# 创建一个示例字符串列\n",
    "sentences = pd.Series(['Hello, world!', 'How are you?', 'Python is great'])\n",
    "\n",
    "# 将字符串中的逗号替换为空格\n",
    "replaced = sentences.str.replace(',', ' ')\n",
    "print(replaced)\n"
   ]
  },
  {
   "cell_type": "markdown",
   "metadata": {},
   "source": [
    "## 三、文本数据的分组和聚合\n",
    "\n",
    "### 1. 分组操作概述\n",
    "\n",
    "在Pandas中，分组（Grouping）是一种常用的数据操作，用于将数据根据某个标准分成多个组，并在每个组上进行进一步的操作。分组操作可以应用于各种数据类型，包括文本数据。\n",
    "\n",
    "首先，让我们概述一下分组操作的基本流程：\n",
    "\n",
    "- 分组依据：选择一个或多个列作为分组依据。这些列的值将用于对数据进行分组。\n",
    "- 分组创建：根据分组依据，将数据分成多个组。每个组由具有相同值的分组依据列形成。\n",
    "- 分组操作：对每个组进行操作，如聚合、计算统计量、过滤数据等。\n",
    "- 结果合并：将每个组的结果合并为一个新的数据结构，通常是一个新的`DataFrame`。\n",
    "\n",
    "### 2. 文本数据的分组和聚合操作\n",
    "\n",
    "在文本数据中，分组和聚合操作可以用于计算字符串的长度、计数特定单词的出现次数、找到具有最长或最短字符串的组等。下面介绍一些常见的文本数据的分组和聚合操作：\n",
    "\n",
    "#### (1)`.groupby()` 方法： \n",
    "\n",
    "`.groupby()` 方法用于按照指定的列或多个列对数据进行分组。它返回一个`GroupBy`对象，表示按照指定列进行分组后的数据。"
   ]
  },
  {
   "cell_type": "code",
   "execution_count": 19,
   "metadata": {},
   "outputs": [
    {
     "name": "stdout",
     "output_type": "stream",
     "text": [
      "<pandas.core.groupby.generic.DataFrameGroupBy object at 0x000001D3F4659310>\n"
     ]
    }
   ],
   "source": [
    "import pandas as pd\n",
    "\n",
    "# 创建一个示例DataFrame\n",
    "df = pd.DataFrame({\n",
    "    'Name': ['John', 'Jane', 'Mike', 'Emily', 'John'],\n",
    "    'City': ['New York', 'Paris', 'London', 'Paris', 'London'],\n",
    "    'Age': [30, 25, 40, 35, 28]\n",
    "})\n",
    "\n",
    "# 按照City列进行分组\n",
    "grouped = df.groupby('City')\n",
    "print(grouped)\n"
   ]
  },
  {
   "cell_type": "markdown",
   "metadata": {},
   "source": [
    "#### (2) 分组聚合操作\n",
    "\n",
    "通过GroupBy对象，可以应用各种聚合函数来对每个组的数据进行汇总。一些常用的聚合函数包括：\n",
    "\n",
    "- `.count()`：计算每个组中的元素个数。\n",
    "- `.sum()`：计算每个组中数值列的总和。\n",
    "- `.mean()`：计算每个组中数值列的平均值。\n",
    "- `.max()`、`.min()`：计算每个组中数值列的最大值和最小值。\n",
    "- `.size()`：计算每个组中的元素数量"
   ]
  },
  {
   "cell_type": "code",
   "execution_count": 20,
   "metadata": {},
   "outputs": [
    {
     "name": "stdout",
     "output_type": "stream",
     "text": [
      "平均年龄：\n",
      "City\n",
      "London      34.0\n",
      "New York    30.0\n",
      "Paris       30.0\n",
      "Name: Age, dtype: float64\n"
     ]
    }
   ],
   "source": [
    "import pandas as pd\n",
    "\n",
    "# 创建一个示例DataFrame\n",
    "df = pd.DataFrame({\n",
    "    'Name': ['John', 'Jane', 'Mike', 'Emily', 'John'],\n",
    "    'City': ['New York', 'Paris', 'London', 'Paris', 'London'],\n",
    "    'Age': [30, 25, 40, 35, 28]\n",
    "})\n",
    "\n",
    "# 按照City列进行分组，并计算每个城市的平均年龄和人数\n",
    "grouped = df.groupby('City')\n",
    "average_age = grouped['Age'].mean()\n",
    "count = grouped['Age'].count()\n",
    "\n",
    "print(f\"平均年龄：\")\n",
    "print(average_age)\n",
    "\n"
   ]
  },
  {
   "cell_type": "code",
   "execution_count": 21,
   "metadata": {},
   "outputs": [
    {
     "name": "stdout",
     "output_type": "stream",
     "text": [
      "平均人数：\n",
      "City\n",
      "London      2\n",
      "New York    1\n",
      "Paris       2\n",
      "Name: Age, dtype: int64\n"
     ]
    }
   ],
   "source": [
    "print(f\"平均人数：\")\n",
    "print(count)"
   ]
  },
  {
   "cell_type": "markdown",
   "metadata": {},
   "source": [
    "#### (3)其他分组操作：\n",
    "\n",
    "- `.apply()`：在每个组上应用自定义函数。\n",
    "- `.filter()`：根据自定义条件过滤组。\n",
    "- `.transform()`：对每个组应用函数，并将结果返回到原始数据的相应位置。"
   ]
  }
 ],
 "metadata": {
  "kernelspec": {
   "display_name": "Python 3",
   "language": "python",
   "name": "python3"
  },
  "language_info": {
   "codemirror_mode": {
    "name": "ipython",
    "version": 3
   },
   "file_extension": ".py",
   "mimetype": "text/x-python",
   "name": "python",
   "nbconvert_exporter": "python",
   "pygments_lexer": "ipython3",
   "version": "3.11.4"
  },
  "orig_nbformat": 4
 },
 "nbformat": 4,
 "nbformat_minor": 2
}
