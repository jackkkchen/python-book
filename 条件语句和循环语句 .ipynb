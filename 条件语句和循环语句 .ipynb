{
 "cells": [
  {
   "attachments": {},
   "cell_type": "markdown",
   "metadata": {},
   "source": [
    "---\n",
    "title: \"Python条件语句&循环语句\"\n",
    "format:\n",
    "  html:\n",
    "   code-fold: true\n",
    "   code-tools: true\n",
    "jupyter: python3\n",
    "---\n",
    "\n",
    "## 条件语句\n",
    "\n",
    "在本节课程中，我们将学习条件语句的基本结构、逻辑判断以及如何构建复杂的条件表达式。同时，我们还会练习编写带有条件判断的程序，让你能够根据条件执行不同的代码块。\n",
    "\n",
    "1. 条件语句的基本结构\n",
    "   条件语句允许我们根据不同的条件来执行不同的代码块。在Python中，条件语句使用if和else关键字构建。基本结构如下："
   ]
  },
  {
   "cell_type": "code",
   "execution_count": null,
   "metadata": {},
   "outputs": [],
   "source": [
    "if 条件:\n",
    "     #条件为True时执行的代码块\n",
    "else:\n",
    "     #条件为False时执行的代码块"
   ]
  },
  {
   "attachments": {},
   "cell_type": "markdown",
   "metadata": {},
   "source": [
    "2. 逻辑判断\n",
    "   条件语句的逻辑判断基于比较运算符，用于比较两个值的相等性、大小关系等。常见的比较运算符包括：\n",
    "\n",
    "- 相等性判断：==（等于）、!=（不等于）\n",
    "- 大小关系判断：>（大于）、<（小于）、>=（大于等于）、<=（小于等于）\n",
    "\n",
    "举例："
   ]
  },
  {
   "cell_type": "code",
   "execution_count": 3,
   "metadata": {},
   "outputs": [
    {
     "name": "stdout",
     "output_type": "stream",
     "text": [
      "num等于10\n"
     ]
    }
   ],
   "source": [
    "num = 10\n",
    "if num == 10:\n",
    "    print(\"num等于10\")\n",
    "else:\n",
    "    print(\"num不等于10\")"
   ]
  },
  {
   "attachments": {},
   "cell_type": "markdown",
   "metadata": {},
   "source": [
    "3. 复杂的条件表达式\n",
    "   我们可以使用比较运算符和逻辑运算符构建复杂的条件表达式，以实现更灵活的条件判断。常见的逻辑运算符包括：\n",
    "\n",
    "- and（与）：当所有条件都为True时，结果为True\n",
    "- or（或）：当至少一个条件为True时，结果为True\n",
    "- not（非）：取反操作，将True变为False，False变为True\n",
    "\n",
    "举例："
   ]
  },
  {
   "cell_type": "code",
   "execution_count": 4,
   "metadata": {},
   "outputs": [
    {
     "name": "stdout",
     "output_type": "stream",
     "text": [
      "年龄在18到30之间\n"
     ]
    }
   ],
   "source": [
    "age = 25\n",
    "if age > 18 and age < 30:\n",
    "    print(\"年龄在18到30之间\")"
   ]
  },
  {
   "attachments": {},
   "cell_type": "markdown",
   "metadata": {},
   "source": [
    "4. 编写带有条件判断的程序\n",
    "   我们经常需要根据不同的条件执行不同的代码块。条件语句为我们提供了这样的能力。让我们通过一个实际的例子来练习。\n",
    "\n",
    "举例："
   ]
  },
  {
   "cell_type": "code",
   "execution_count": 5,
   "metadata": {},
   "outputs": [
    {
     "name": "stdout",
     "output_type": "stream",
     "text": [
      "良好\n"
     ]
    }
   ],
   "source": [
    "score = int(input(\"请输入你的分数：\"))\n",
    "\n",
    "if score >= 90:\n",
    "    print(\"优秀\")\n",
    "elif score >= 80:\n",
    "    print(\"良好\")\n",
    "elif score >= 60:\n",
    "    print(\"及格\")\n",
    "else:\n",
    "    print(\"不及格\")"
   ]
  },
  {
   "attachments": {},
   "cell_type": "markdown",
   "metadata": {},
   "source": [
    "课后题：\n",
    "\n",
    "1. 编写一个程序，接收用户输入的年龄，并根据以下条件判断输出相应的结果：\n",
    "   - 如果年龄小于18岁，输出\"未成年人\"\n",
    "   - 如果年龄介于18岁（含）和65岁（不含）之间，输出\"成年人\"\n",
    "   - 如果年龄大于等于65岁，输出\"老年人\"\n",
    "\n",
    "2. 编写一个程序，接收用户输入的三个数字，并输出其中最大的数字。"
   ]
  },
  {
   "attachments": {},
   "cell_type": "markdown",
   "metadata": {},
   "source": [
    "**答案：**\n",
    "\n",
    "课后题1："
   ]
  },
  {
   "cell_type": "code",
   "execution_count": 6,
   "metadata": {},
   "outputs": [
    {
     "name": "stdout",
     "output_type": "stream",
     "text": [
      "您是老年人\n"
     ]
    }
   ],
   "source": [
    "age = int(input(\"请输入您的年龄：\"))\n",
    "\n",
    "if age < 18:\n",
    "    print(\"您是未成年人\")\n",
    "elif age >= 18 and age < 65:\n",
    "    print(\"您是成年人\")\n",
    "else:\n",
    "    print(\"您是老年人\")\n"
   ]
  },
  {
   "attachments": {},
   "cell_type": "markdown",
   "metadata": {},
   "source": [
    "课后题2："
   ]
  },
  {
   "cell_type": "code",
   "execution_count": 7,
   "metadata": {},
   "outputs": [
    {
     "name": "stdout",
     "output_type": "stream",
     "text": [
      "最大的数字是： 5.0\n"
     ]
    }
   ],
   "source": [
    "num1 = float(input(\"请输入第一个数字：\"))\n",
    "num2 = float(input(\"请输入第二个数字：\"))\n",
    "num3 = float(input(\"请输入第三个数字：\"))\n",
    "\n",
    "max_num = num1\n",
    "\n",
    "if num2 > max_num:\n",
    "    max_num = num2\n",
    "if num3 > max_num:\n",
    "    max_num = num3\n",
    "\n",
    "print(\"最大的数字是：\", max_num)"
   ]
  },
  {
   "attachments": {},
   "cell_type": "markdown",
   "metadata": {},
   "source": [
    "## 循环语句\n",
    "\n",
    "本节课程中，我们将探索循环语句的基本结构、控制条件和循环体的执行过程。同时，我们还会学习如何使用break语句和continue语句控制循环的执行流程。最后，我们将练习编写带有循环结构的程序，如遍历列表和计算累加和。\n",
    "\n",
    "1. 基本结构\n",
    "   循环语句允许我们重复执行一段代码。Python中有两种常见的循环结构：while循环和for循环。\n",
    "\n",
    "- while循环的基本结构如下："
   ]
  },
  {
   "cell_type": "code",
   "execution_count": null,
   "metadata": {},
   "outputs": [],
   "source": [
    "while 条件:\n",
    "    # 循环体代码块"
   ]
  },
  {
   "attachments": {},
   "cell_type": "markdown",
   "metadata": {},
   "source": [
    "for循环的基本结构如下："
   ]
  },
  {
   "cell_type": "code",
   "execution_count": null,
   "metadata": {},
   "outputs": [],
   "source": [
    "for 变量 in 可迭代对象:\n",
    "    # 循环体代码块"
   ]
  },
  {
   "attachments": {},
   "cell_type": "markdown",
   "metadata": {},
   "source": [
    "2. 控制条件和执行过程\n",
    "   循环的执行依赖于控制条件。在每次循环迭代开始时，会检查控制条件的值。如果条件为True，则执行循环体代码块；否则，跳出循环。\n",
    "\n",
    "举例：\n",
    "\n",
    "- 使用while循环输出1到5的数字："
   ]
  },
  {
   "cell_type": "code",
   "execution_count": 8,
   "metadata": {},
   "outputs": [
    {
     "name": "stdout",
     "output_type": "stream",
     "text": [
      "1\n",
      "2\n",
      "3\n",
      "4\n",
      "5\n"
     ]
    }
   ],
   "source": [
    "num = 1\n",
    "while num <= 5:\n",
    "    print(num)\n",
    "    num += 1"
   ]
  },
  {
   "attachments": {},
   "cell_type": "markdown",
   "metadata": {},
   "source": [
    "使用for循环遍历列表的元素："
   ]
  },
  {
   "cell_type": "code",
   "execution_count": 9,
   "metadata": {},
   "outputs": [
    {
     "name": "stdout",
     "output_type": "stream",
     "text": [
      "苹果\n",
      "香蕉\n",
      "橙子\n"
     ]
    }
   ],
   "source": [
    "fruits = [\"苹果\", \"香蕉\", \"橙子\"]\n",
    "for fruit in fruits:\n",
    "    print(fruit)"
   ]
  },
  {
   "attachments": {},
   "cell_type": "markdown",
   "metadata": {},
   "source": [
    "3. break和continue语句\n",
    "   我们可以使用break语句提前终止循环的执行，跳出循环体。而continue语句则用于跳过当前迭代，继续执行下一次循环。\n",
    "\n",
    "举例：\n",
    "\n",
    "- 使用break语句在满足条件时终止循环："
   ]
  },
  {
   "cell_type": "code",
   "execution_count": 10,
   "metadata": {},
   "outputs": [
    {
     "name": "stdout",
     "output_type": "stream",
     "text": [
      "1\n",
      "2\n",
      "3\n",
      "4\n",
      "5\n"
     ]
    }
   ],
   "source": [
    "num = 1\n",
    "while True:\n",
    "    print(num)\n",
    "    num += 1\n",
    "    if num > 5:\n",
    "        break"
   ]
  },
  {
   "attachments": {},
   "cell_type": "markdown",
   "metadata": {},
   "source": [
    "使用continue语句跳过某些迭代："
   ]
  },
  {
   "cell_type": "code",
   "execution_count": 11,
   "metadata": {},
   "outputs": [
    {
     "name": "stdout",
     "output_type": "stream",
     "text": [
      "1\n",
      "2\n",
      "4\n",
      "5\n"
     ]
    }
   ],
   "source": [
    "for num in range(1, 6):\n",
    "    if num == 3:\n",
    "        continue\n",
    "    print(num)"
   ]
  },
  {
   "attachments": {},
   "cell_type": "markdown",
   "metadata": {},
   "source": [
    "4. 编写带有循环结构的程序\n",
    "   通过练习编写带有循环结构的程序，我们可以进一步巩固循环语句的应用。\n",
    "\n",
    "### 循环语句课后题\n",
    "\n",
    "练习1：计算累加和\n",
    "\n",
    "1. 编写一个程序，使用while循环计算从1到100的偶数的累加和，并将结果打印出来。\n",
    "\n",
    "   练习2：遍历列表\n",
    "\n",
    "2. 编写一个程序，给定一个列表numbers，使用for循环遍历列表的元素，并统计列表中的正数个数。"
   ]
  },
  {
   "cell_type": "code",
   "execution_count": 12,
   "metadata": {},
   "outputs": [
    {
     "name": "stdout",
     "output_type": "stream",
     "text": [
      "从1到100的偶数的累加和为： 2550\n"
     ]
    }
   ],
   "source": [
    "#课后题答案1：\n",
    "# 使用while循环计算从1到100的偶数的累加和\n",
    "num = 1\n",
    "sum_even = 0\n",
    "\n",
    "while num <= 100:\n",
    "    if num % 2 == 0:\n",
    "        sum_even += num\n",
    "    num += 1\n",
    "\n",
    "print(\"从1到100的偶数的累加和为：\", sum_even)"
   ]
  },
  {
   "cell_type": "code",
   "execution_count": 13,
   "metadata": {},
   "outputs": [
    {
     "name": "stdout",
     "output_type": "stream",
     "text": [
      "列表中的正数个数为： 5\n"
     ]
    }
   ],
   "source": [
    "#题目2：\n",
    "# 给定一个列表numbers，使用for循环遍历列表的元素，并统计列表中的正数个数\n",
    "numbers = [-1, 2, -3, 4, -5, 6, -7, 8, -9, 10]\n",
    "count_positive = 0\n",
    "\n",
    "for num in numbers:\n",
    "    if num > 0:\n",
    "        count_positive += 1\n",
    "\n",
    "print(\"列表中的正数个数为：\", count_positive)"
   ]
  },
  {
   "attachments": {},
   "cell_type": "markdown",
   "metadata": {},
   "source": [
    "### **编写具有条件判断和循环结构的程序**\n",
    "\n",
    "在本节课程中，我们将进一步学习如何编写具有条件判断和循环结构的程序，并解决一些简单的问题。\n",
    "\n",
    "1. 判断奇数和偶数\n",
    "   编写一个程序，判断一个数是奇数还是偶数，并打印出所有的奇数或偶数。\n",
    "\n",
    "举例：\n",
    "\n",
    "- 判断一个数是否为奇数："
   ]
  },
  {
   "cell_type": "code",
   "execution_count": 14,
   "metadata": {},
   "outputs": [
    {
     "name": "stdout",
     "output_type": "stream",
     "text": [
      "10 是偶数\n"
     ]
    }
   ],
   "source": [
    "num = int(input(\"请输入一个整数：\"))\n",
    "\n",
    "if num % 2 == 0:\n",
    "    print(num, \"是偶数\")\n",
    "else:\n",
    "    print(num, \"是奇数\")"
   ]
  },
  {
   "attachments": {},
   "cell_type": "markdown",
   "metadata": {},
   "source": [
    "打印出1到10之间的所有偶数："
   ]
  },
  {
   "cell_type": "code",
   "execution_count": 15,
   "metadata": {},
   "outputs": [
    {
     "name": "stdout",
     "output_type": "stream",
     "text": [
      "2\n",
      "4\n",
      "6\n",
      "8\n",
      "10\n"
     ]
    }
   ],
   "source": [
    "for num in range(1, 11):\n",
    "    if num % 2 == 0:\n",
    "        print(num)"
   ]
  },
  {
   "attachments": {},
   "cell_type": "markdown",
   "metadata": {},
   "source": [
    "2. 计算斐波那契数列\n",
    "   编写一个程序，计算斐波那契数列中的前n个数字。\n",
    "\n",
    "举例：\n",
    "\n",
    "- 计算斐波那契数列前10个数字："
   ]
  },
  {
   "cell_type": "code",
   "execution_count": 16,
   "metadata": {},
   "outputs": [
    {
     "name": "stdout",
     "output_type": "stream",
     "text": [
      "0\n",
      "1\n",
      "1\n",
      "2\n",
      "3\n",
      "5\n",
      "8\n",
      "13\n",
      "21\n",
      "34\n"
     ]
    }
   ],
   "source": [
    "n = 10\n",
    "a, b = 0, 1\n",
    "\n",
    "for _ in range(n):\n",
    "    print(a)\n",
    "    a, b = b, a + b"
   ]
  },
  {
   "attachments": {},
   "cell_type": "markdown",
   "metadata": {},
   "source": [
    "3. 判断质数\n",
    "   编写一个程序，判断一个数是否为质数（只能被1和它本身整除的数）。\n",
    "\n",
    "举例：\n",
    "\n",
    "- 判断一个数是否为质数："
   ]
  },
  {
   "cell_type": "code",
   "execution_count": 17,
   "metadata": {},
   "outputs": [
    {
     "name": "stdout",
     "output_type": "stream",
     "text": [
      "30 不是质数\n"
     ]
    }
   ],
   "source": [
    "num = int(input(\"请输入一个整数：\"))\n",
    "\n",
    "if num < 2:\n",
    "    print(num, \"不是质数\")\n",
    "else:\n",
    "    is_prime = True\n",
    "    for i in range(2, int(num ** 0.5) + 1):\n",
    "        if num % i == 0:\n",
    "            is_prime = False\n",
    "            break\n",
    "\n",
    "if is_prime:\n",
    "    print(num, \"是质数\")\n",
    "else:\n",
    "    print(num, \"不是质数\")"
   ]
  },
  {
   "attachments": {},
   "cell_type": "markdown",
   "metadata": {},
   "source": [
    "### 课后题\n",
    "\n",
    "课后题1： 编写一个程序，要求用户输入一个正整数n，然后计算并打印出斐波那契数列的前n个数字。\n",
    "\n",
    "提示：可以使用循环结构和变量来计算斐波那契数列。\n",
    "\n",
    "课后题2： 编写一个程序，要求用户输入一个正整数num，判断该数是否为质数，并打印出相应的结果。\n",
    "\n",
    "提示：可以使用条件判断和循环结构来判断一个数是否为质数。\n",
    "\n",
    "\n",
    "\n",
    "答案：\n",
    "\n",
    "课后题1："
   ]
  },
  {
   "cell_type": "code",
   "execution_count": 18,
   "metadata": {},
   "outputs": [
    {
     "name": "stdout",
     "output_type": "stream",
     "text": [
      "斐波那契数列的前 4 个数字为： [0, 1, 1, 2]\n"
     ]
    }
   ],
   "source": [
    "n = int(input(\"请输入一个正整数：\"))\n",
    "\n",
    "a, b = 0, 1\n",
    "fibonacci_sequence = []\n",
    "\n",
    "for _ in range(n):\n",
    "    fibonacci_sequence.append(a)\n",
    "    a, b = b, a + b\n",
    "\n",
    "print(\"斐波那契数列的前\", n, \"个数字为：\", fibonacci_sequence)"
   ]
  },
  {
   "attachments": {},
   "cell_type": "markdown",
   "metadata": {},
   "source": [
    "课后题2："
   ]
  },
  {
   "cell_type": "code",
   "execution_count": 19,
   "metadata": {},
   "outputs": [
    {
     "name": "stdout",
     "output_type": "stream",
     "text": [
      "7 是质数\n"
     ]
    }
   ],
   "source": [
    "num = int(input(\"请输入一个正整数：\"))\n",
    "\n",
    "if num < 2:\n",
    "    print(num, \"不是质数\")\n",
    "else:\n",
    "    is_prime = True\n",
    "    for i in range(2, int(num ** 0.5) + 1):\n",
    "        if num % i == 0:\n",
    "            is_prime = False\n",
    "            break\n",
    "\n",
    "    if is_prime:\n",
    "        print(num, \"是质数\")\n",
    "    else:\n",
    "        print(num, \"不是质数\")\n"
   ]
  }
 ],
 "metadata": {
  "kernelspec": {
   "display_name": "Python 3",
   "language": "python",
   "name": "python3"
  },
  "language_info": {
   "codemirror_mode": {
    "name": "ipython",
    "version": 3
   },
   "file_extension": ".py",
   "mimetype": "text/x-python",
   "name": "python",
   "nbconvert_exporter": "python",
   "pygments_lexer": "ipython3",
   "version": "3.11.2"
  },
  "orig_nbformat": 4
 },
 "nbformat": 4,
 "nbformat_minor": 2
}
