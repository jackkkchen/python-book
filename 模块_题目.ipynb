{
 "cells": [
  {
   "attachments": {},
   "cell_type": "markdown",
   "metadata": {},
   "source": [
    "# 模块\n",
    "\n",
    "## 第一部分 模块的概念\n",
    "自定义一个模块，命名为`mymodule`，该模块中包含以下两个函数：\n",
    "\n",
    "* 加法：命名为：`add`，效果为两个数相加\n",
    "* 乘法：命名为：`multi`，效果为两个数相乘\n",
    "\n",
    "请导入该模块并调用这两个函数，计算并打印出3和4的和与积。"
   ]
  },
  {
   "cell_type": "code",
   "execution_count": 40,
   "metadata": {},
   "outputs": [],
   "source": [
    "# 创建mymodule.py\n",
    "# def addition(a, b):\n",
    "#     return a + b\n",
    "\n",
    "# def multiplication(a, b):\n",
    "#     return a * b\n"
   ]
  },
  {
   "cell_type": "code",
   "execution_count": 41,
   "metadata": {},
   "outputs": [
    {
     "name": "stdout",
     "output_type": "stream",
     "text": [
      "和: 7\n",
      "积: 12\n"
     ]
    }
   ],
   "source": [
    "import mymodule\n",
    "\n",
    "sum_result = mymodule.add(3, 4)\n",
    "product_result = mymodule.multi(3, 4)\n",
    "\n",
    "print(\"和:\", sum_result)\n",
    "print(\"积:\", product_result)\n"
   ]
  },
  {
   "attachments": {},
   "cell_type": "markdown",
   "metadata": {},
   "source": [
    "## 第二部分 模块的使用\n",
    "\n",
    "`os`模块提供了许多与操作系统交互的函数。它可以用于执行文件和目录操作、获取系统信息等。\n",
    "请使用在你的程序中导入`os`模块，并使用该模块来获取当前的工作目录"
   ]
  },
  {
   "cell_type": "code",
   "execution_count": 42,
   "metadata": {},
   "outputs": [
    {
     "name": "stdout",
     "output_type": "stream",
     "text": [
      "当前目录: d:\\OneDrive\\3_Library\\Code\\Pandas_Book\\python-book\n"
     ]
    }
   ],
   "source": [
    "import os\n",
    "\n",
    "current_directory = os.getcwd()\n",
    "print(\"当前目录:\", current_directory)\n"
   ]
  },
  {
   "attachments": {},
   "cell_type": "markdown",
   "metadata": {},
   "source": [
    "## 第三部分 `math`模块\n",
    "\n",
    "### 第1题\n",
    "编写一个程序，导入`math`模块并使用`math.sqrt`函数计算并打印出100的平方根。"
   ]
  },
  {
   "cell_type": "code",
   "execution_count": 43,
   "metadata": {},
   "outputs": [
    {
     "name": "stdout",
     "output_type": "stream",
     "text": [
      "100的平方根是: 10.0\n"
     ]
    }
   ],
   "source": [
    "import math\n",
    "\n",
    "sqrt_result = math.sqrt(100)\n",
    "print(\"100的平方根是:\", sqrt_result)\n"
   ]
  },
  {
   "attachments": {},
   "cell_type": "markdown",
   "metadata": {},
   "source": [
    "### 第2题\n",
    "编写一个程序，导入`math`模块并使用`math.pi`常量计算并打印出一个圆的面积，其中半径为5。"
   ]
  },
  {
   "cell_type": "code",
   "execution_count": 44,
   "metadata": {},
   "outputs": [
    {
     "name": "stdout",
     "output_type": "stream",
     "text": [
      "圆的面积是: 78.53981633974483\n"
     ]
    }
   ],
   "source": [
    "import math\n",
    "\n",
    "radius = 5\n",
    "area = math.pi * radius ** 2\n",
    "print(\"圆的面积是:\", area)\n"
   ]
  },
  {
   "attachments": {},
   "cell_type": "markdown",
   "metadata": {},
   "source": [
    "## 第四部分 `random`模块\n",
    "\n",
    "### 第1题\n",
    "编写一个程序，导入`random`模块并使用`random.randint`函数生成一个介于1和100之间的随机整数，并将其打印出来。"
   ]
  },
  {
   "cell_type": "code",
   "execution_count": 45,
   "metadata": {},
   "outputs": [
    {
     "name": "stdout",
     "output_type": "stream",
     "text": [
      "随机数: 70\n"
     ]
    }
   ],
   "source": [
    "import random\n",
    "\n",
    "random_number = random.randint(1, 100)\n",
    "print(\"随机数:\", random_number)\n"
   ]
  },
  {
   "attachments": {},
   "cell_type": "markdown",
   "metadata": {},
   "source": [
    "### 第2题\n",
    "在`random`模块中，有一个函数`choice`可以从给定的列表中随机选择一个元素。请使用该函数，从下面的列表中随机选择一个元素，并将其打印出来。"
   ]
  },
  {
   "cell_type": "code",
   "execution_count": 46,
   "metadata": {},
   "outputs": [],
   "source": [
    "# 列表\n",
    "num_list = [1, 2, 3, 4, 5, 6]"
   ]
  },
  {
   "cell_type": "code",
   "execution_count": 47,
   "metadata": {},
   "outputs": [
    {
     "name": "stdout",
     "output_type": "stream",
     "text": [
      "随机选择的元素是: 6\n"
     ]
    }
   ],
   "source": [
    "import random\n",
    "\n",
    "random_element = random.choice(num_list)\n",
    "print(\"随机选择的元素是:\", random_element)\n"
   ]
  },
  {
   "attachments": {},
   "cell_type": "markdown",
   "metadata": {},
   "source": [
    "## 第五部分 `datetime`模块\n",
    "\n",
    "### 第1题\n",
    "在`datetime`模块中，有一个函数`datetime.now`可以获取当前的时间和日期。请获取当前时间，并将它输出出来。"
   ]
  },
  {
   "cell_type": "code",
   "execution_count": 48,
   "metadata": {},
   "outputs": [
    {
     "name": "stdout",
     "output_type": "stream",
     "text": [
      "当前的时间日期为: 2023-06-30 17:49:38.447554\n"
     ]
    }
   ],
   "source": [
    "import datetime\n",
    "\n",
    "current_datetime = datetime.datetime.now()\n",
    "print(\"当前的时间日期为:\", current_datetime)\n"
   ]
  },
  {
   "attachments": {},
   "cell_type": "markdown",
   "metadata": {},
   "source": [
    "### 第2题\n",
    "在`datetime`模块中，有一个函数`datetime.timedelta`，它用于表示两个日期或时间之间的差异，构造该函数的参数如下："
   ]
  },
  {
   "cell_type": "code",
   "execution_count": 49,
   "metadata": {},
   "outputs": [
    {
     "name": "stdout",
     "output_type": "stream",
     "text": [
      "1 day, 0:00:00\n"
     ]
    }
   ],
   "source": [
    "datetime.timedelta(days=0, seconds=0, microseconds=0, milliseconds=0, minutes=0, hours=0, weeks=0)\n",
    "\n",
    "# 创建一个时间间隔为1天的timedelta对象\n",
    "one_day = datetime.timedelta(days=1)\n",
    "print(one_day)"
   ]
  },
  {
   "attachments": {},
   "cell_type": "markdown",
   "metadata": {},
   "source": [
    "请使用该函数计算并输出当前日期的前一天。"
   ]
  },
  {
   "cell_type": "code",
   "execution_count": 50,
   "metadata": {},
   "outputs": [
    {
     "name": "stdout",
     "output_type": "stream",
     "text": [
      "前一天的日期为: 2023-06-29\n"
     ]
    }
   ],
   "source": [
    "import datetime\n",
    "\n",
    "current_date = datetime.date.today()\n",
    "previous_date = current_date - datetime.timedelta(days=1)\n",
    "print(\"前一天的日期为:\", previous_date)\n"
   ]
  },
  {
   "attachments": {},
   "cell_type": "markdown",
   "metadata": {},
   "source": [
    "## 第六部分 `time`模块\n",
    "\n",
    "### 第1题\n",
    "在`time`模块中，有一个函数`sleep`可以程序暂停指定的时间(单位：秒）。请使用该函数，完成下列操作：\n",
    "1. 输出`我爱Python`\n",
    "2. 程序暂停5秒\n",
    "3. 输出`我要好好学习`"
   ]
  },
  {
   "cell_type": "code",
   "execution_count": 51,
   "metadata": {},
   "outputs": [
    {
     "name": "stdout",
     "output_type": "stream",
     "text": [
      "我爱Python\n"
     ]
    },
    {
     "name": "stdout",
     "output_type": "stream",
     "text": [
      "我要好好学习\n"
     ]
    }
   ],
   "source": [
    "import time\n",
    "\n",
    "print(\"我爱Python\")\n",
    "time.sleep(5)\n",
    "print(\"我要好好学习\")\n"
   ]
  },
  {
   "attachments": {},
   "cell_type": "markdown",
   "metadata": {},
   "source": [
    "### 第2题\n",
    "在`time`模块中，有一个函数`time`可以获取当前时间的时间戳。请使用该函数，获取当前的时间戳"
   ]
  },
  {
   "cell_type": "code",
   "execution_count": 52,
   "metadata": {},
   "outputs": [
    {
     "name": "stdout",
     "output_type": "stream",
     "text": [
      "当前时间戳为: 1688118583.7224185\n"
     ]
    }
   ],
   "source": [
    "import time\n",
    "\n",
    "current_timestamp = time.time()\n",
    "print(\"当前时间戳为:\", current_timestamp)\n"
   ]
  }
 ],
 "metadata": {
  "kernelspec": {
   "display_name": "Python 3",
   "language": "python",
   "name": "python3"
  },
  "language_info": {
   "codemirror_mode": {
    "name": "ipython",
    "version": 3
   },
   "file_extension": ".py",
   "mimetype": "text/x-python",
   "name": "python",
   "nbconvert_exporter": "python",
   "pygments_lexer": "ipython3",
   "version": "3.11.1"
  },
  "orig_nbformat": 4
 },
 "nbformat": 4,
 "nbformat_minor": 2
}
