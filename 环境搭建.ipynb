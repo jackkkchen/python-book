{
  "cells": [
    {
      "cell_type": "raw",
      "metadata": {},
      "source": [
        "---\n",
        "title: Quarto Computations\n",
        "---"
      ],
      "id": "a760e665"
    },
    {
      "cell_type": "markdown",
      "metadata": {},
      "source": [
        "# 环境搭建 {.unnumbered}\n",
        "要开始使用Python，首先需要安装Python。你可以访问[Python官网](https://www.python.org/downloads/)下载并安装适合你操作系统的Python版本。\n",
        "\n",
        "安装完成后，打开命令行（Windows）或终端（macOS/Linux），输入以下命令，确认Python已成功安装：\n",
        "\n",
        "```bash\n",
        "python --version\n",
        "```\n",
        "\n",
        "输入python并按回车键。你将看到一条欢迎消息，其末尾\n",
        "\n",
        "为如下提示符：\n",
        "\n",
        "\\>>>\n",
        "\n",
        "如果情况确实如此，就可以输入Python命令了。\n",
        "\n",
        "请尝试像下面这样做，以核实它是否管用：\n",
        "\n",
        "\\>>> print(\"Hello, world!\")\n",
        "\n",
        "等你按下回车键后，将出现如下输出：\n",
        "\n",
        "Hello, world!\n",
        "\n",
        "\\>>>\n",
        "\n",
        "如果你熟悉其他计算机语言，可能习惯了在每行末尾都加上分号。在Python中无需这样做，因为在Python中，一行就是一行。接下来，我们将学习如何编写和运行Python程序。\n"
      ],
      "id": "36c9a773"
    },
    {
      "cell_type": "code",
      "metadata": {},
      "source": [
        "import plotly.express as px\n",
        "import plotly.io as pio\n",
        "gapminder = px.data.gapminder()\n",
        "gapminder2007 = gapminder.query(\"year == 2007\")\n",
        "fig = px.scatter(gapminder2007, \n",
        "                 x=\"gdpPercap\", y=\"lifeExp\", color=\"continent\", \n",
        "                 size=\"pop\", size_max=60,\n",
        "                 hover_name=\"country\")\n",
        "fig.show()"
      ],
      "id": "328b203e",
      "execution_count": null,
      "outputs": []
    }
  ],
  "metadata": {
    "kernelspec": {
      "name": "python3",
      "language": "python",
      "display_name": "Python 3 (ipykernel)"
    }
  },
  "nbformat": 4,
  "nbformat_minor": 5
}