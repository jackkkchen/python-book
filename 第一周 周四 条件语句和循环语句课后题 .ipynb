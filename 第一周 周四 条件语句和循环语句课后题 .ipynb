{
 "cells": [
  {
   "attachments": {},
   "cell_type": "markdown",
   "metadata": {},
   "source": [
    "### 条件语句的学习课后题：\n",
    "\n",
    "1、编写一个程序，接收用户输入的利润金额，并根据以下条件判断输出相应的税率和税款金额：\n",
    "\n",
    "如果利润小于等于100,000，税率为10%\n",
    "如果利润大于100,000且小于等于500,000，税率为20%\n",
    "如果利润大于500,000，税率为30%\n",
    "\n",
    "2、编写一个程序，接收用户输入的两个数值，并判断两个数值中的最大值，并打印出最大值。\n",
    "\n",
    "答案：题目1："
   ]
  },
  {
   "cell_type": "code",
   "execution_count": 6,
   "metadata": {},
   "outputs": [],
   "source": [
    "profit = float(input(\"请输入利润金额：\"))\n",
    "\n",
    "if profit <= 100000:\n",
    "    tax_rate = 0.1\n",
    "elif profit <= 500000:\n",
    "    tax_rate = 0.2\n",
    "else:\n",
    "    tax_rate = 0.3\n",
    "\n",
    "tax_amount = profit * tax_rate\n",
    "print(\"税率：\", tax_rate)\n",
    "print(\"税款金额：\", tax_amount)"
   ]
  },
  {
   "attachments": {},
   "cell_type": "markdown",
   "metadata": {},
   "source": [
    "课后题2："
   ]
  },
  {
   "cell_type": "code",
   "execution_count": null,
   "metadata": {},
   "outputs": [
    {
     "name": "stdout",
     "output_type": "stream",
     "text": [
      "最大值为： 22222.0\n"
     ]
    }
   ],
   "source": [
    "num1 = float(input(\"请输入第一个数值：\"))\n",
    "num2 = float(input(\"请输入第二个数值：\"))\n",
    "\n",
    "if num1 > num2:\n",
    "    max_num = num1\n",
    "else:\n",
    "    max_num = num2\n",
    "\n",
    "print(\"最大值为：\", max_num)"
   ]
  },
  {
   "attachments": {},
   "cell_type": "markdown",
   "metadata": {},
   "source": [
    "### 循环语句的学习课后题：\n",
    "课后题：\n",
    "\n",
    "​   练习1：计算累积收益率\n",
    "假设有一只股票，连续5个交易日的收盘价分别为[105.0, 102.5, 99.2, 101.8, 104.6]，编写一个程序计算这只股票的累积收益率，并将结果打印出来。\n",
    "\n",
    "\n",
    "   练习2：遍历股票价格数据\n",
    "给定上一题的股票价格列表prices，使用for循环遍历列表的元素，并打印出每个价格及其对应的交易日。"
   ]
  },
  {
   "cell_type": "code",
   "execution_count": null,
   "metadata": {},
   "outputs": [],
   "source": [
    "#课后题答案1：\n",
    "prices = [105.0, 102.5, 99.2, 101.8, 104.6]\n",
    "cumulative_return = 1.0\n",
    "for price in prices:\n",
    "    cumulative_return *= price / 100.0\n",
    "print(\"累积收益率:\", (cumulative_return - 1.0) * 100, \"%\")"
   ]
  },
  {
   "cell_type": "code",
   "execution_count": null,
   "metadata": {},
   "outputs": [],
   "source": [
    "#题目2：\n",
    "prices = [105.0, 102.5, 99.2, 101.8, 104.6]\n",
    "for i, price in enumerate(prices, start=1):\n",
    "    print(\"第\", i, \"个交易日的价格:\", price)"
   ]
  },
  {
   "attachments": {},
   "cell_type": "markdown",
   "metadata": {},
   "source": [
    "### **编写具有条件判断和循环结构的程序** 课后题\n",
    "课后题1： 编写一个程序，要求用户输入一个正整数n，然后计算并打印出斐波那契数列的前n个数字。\n",
    "\n",
    "提示：可以使用循环结构和变量来计算斐波那契数列。\n",
    "\n",
    "课后题2： 编写一个程序，要求用户输入一个正整数num，判断该数是否为质数，并打印出相应的结果。\n",
    "\n",
    "提示：可以使用条件判断和循环结构来判断一个数是否为质数。\n"
   ]
  },
  {
   "cell_type": "code",
   "execution_count": null,
   "metadata": {},
   "outputs": [
    {
     "name": "stdout",
     "output_type": "stream",
     "text": [
      "斐波那契数列的前 111 个数字为： [0, 1, 1, 2, 3, 5, 8, 13, 21, 34, 55, 89, 144, 233, 377, 610, 987, 1597, 2584, 4181, 6765, 10946, 17711, 28657, 46368, 75025, 121393, 196418, 317811, 514229, 832040, 1346269, 2178309, 3524578, 5702887, 9227465, 14930352, 24157817, 39088169, 63245986, 102334155, 165580141, 267914296, 433494437, 701408733, 1134903170, 1836311903, 2971215073, 4807526976, 7778742049, 12586269025, 20365011074, 32951280099, 53316291173, 86267571272, 139583862445, 225851433717, 365435296162, 591286729879, 956722026041, 1548008755920, 2504730781961, 4052739537881, 6557470319842, 10610209857723, 17167680177565, 27777890035288, 44945570212853, 72723460248141, 117669030460994, 190392490709135, 308061521170129, 498454011879264, 806515533049393, 1304969544928657, 2111485077978050, 3416454622906707, 5527939700884757, 8944394323791464, 14472334024676221, 23416728348467685, 37889062373143906, 61305790721611591, 99194853094755497, 160500643816367088, 259695496911122585, 420196140727489673, 679891637638612258, 1100087778366101931, 1779979416004714189, 2880067194370816120, 4660046610375530309, 7540113804746346429, 12200160415121876738, 19740274219868223167, 31940434634990099905, 51680708854858323072, 83621143489848422977, 135301852344706746049, 218922995834555169026, 354224848179261915075, 573147844013817084101, 927372692193078999176, 1500520536206896083277, 2427893228399975082453, 3928413764606871165730, 6356306993006846248183, 10284720757613717413913, 16641027750620563662096, 26925748508234281076009, 43566776258854844738105]\n"
     ]
    }
   ],
   "source": [
    "#课后题1答案：\n",
    "n = int(input(\"请输入一个正整数：\"))\n",
    "\n",
    "a, b = 0, 1\n",
    "fibonacci_sequence = []\n",
    "\n",
    "for _ in range(n):\n",
    "    fibonacci_sequence.append(a)\n",
    "    a, b = b, a + b\n",
    "\n",
    "print(\"斐波那契数列的前\", n, \"个数字为：\", fibonacci_sequence)"
   ]
  },
  {
   "cell_type": "code",
   "execution_count": null,
   "metadata": {},
   "outputs": [
    {
     "name": "stdout",
     "output_type": "stream",
     "text": [
      "111 不是质数\n"
     ]
    }
   ],
   "source": [
    "#课后题2答案：\n",
    "num = int(input(\"请输入一个正整数：\"))\n",
    "\n",
    "if num < 2:\n",
    "    print(num, \"不是质数\")\n",
    "else:\n",
    "    is_prime = True\n",
    "    for i in range(2, int(num ** 0.5) + 1):\n",
    "        if num % i == 0:\n",
    "            is_prime = False\n",
    "            break\n",
    "\n",
    "    if is_prime:\n",
    "        print(num, \"是质数\")\n",
    "    else:\n",
    "        print(num, \"不是质数\")"
   ]
  }
 ],
 "metadata": {
  "kernelspec": {
   "display_name": "Python 3",
   "language": "python",
   "name": "python3"
  },
  "language_info": {
   "codemirror_mode": {
    "name": "ipython",
    "version": 3
   },
   "file_extension": ".py",
   "mimetype": "text/x-python",
   "name": "python",
   "nbconvert_exporter": "python",
   "pygments_lexer": "ipython3",
   "version": "3.11.2"
  },
  "orig_nbformat": 4
 },
 "nbformat": 4,
 "nbformat_minor": 2
}
