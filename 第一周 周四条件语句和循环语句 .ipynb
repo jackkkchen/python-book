{
 "cells": [
  {
   "attachments": {},
   "cell_type": "markdown",
   "metadata": {},
   "source": [
    "### 条件语句的学习\n",
    "\n",
    "在本节课程中，我们将学习条件语句的基本结构、逻辑判断以及如何构建复杂的条件表达式。同时，我们还会练习编写带有条件判断的程序，让你能够根据条件执行不同的代码块。\n",
    "\n",
    "1. 条件语句的基本结构\n",
    "   条件语句允许我们根据不同的条件来执行不同的代码块。在Python中，条件语句使用if和else关键字构建。基本结构如下："
   ]
  },
  {
   "cell_type": "code",
   "execution_count": 2,
   "metadata": {},
   "outputs": [
    {
     "ename": "IndentationError",
     "evalue": "expected an indented block after 'if' statement on line 1 (3776604884.py, line 3)",
     "output_type": "error",
     "traceback": [
      "\u001b[1;36m  Cell \u001b[1;32mIn[2], line 3\u001b[1;36m\u001b[0m\n\u001b[1;33m    else:\u001b[0m\n\u001b[1;37m    ^\u001b[0m\n\u001b[1;31mIndentationError\u001b[0m\u001b[1;31m:\u001b[0m expected an indented block after 'if' statement on line 1\n"
     ]
    }
   ],
   "source": [
    "if 条件:\n",
    "     #条件为True时执行的代码块\n",
    "else:\n",
    "     #条件为False时执行的代码块"
   ]
  },
  {
   "attachments": {},
   "cell_type": "markdown",
   "metadata": {},
   "source": [
    "2. 逻辑判断\n",
    "   条件语句的逻辑判断基于比较运算符，用于比较两个值的相等性、大小关系等。常见的比较运算符包括：\n",
    "\n",
    "- 相等性判断：==（等于）、!=（不等于）\n",
    "- 大小关系判断：>（大于）、<（小于）、>=（大于等于）、<=（小于等于）\n",
    "\n",
    "举例："
   ]
  },
  {
   "cell_type": "code",
   "execution_count": 8,
   "metadata": {},
   "outputs": [
    {
     "name": "stdout",
     "output_type": "stream",
     "text": [
      "账户余额不为零\n"
     ]
    }
   ],
   "source": [
    "balance = 1000\n",
    "if balance == 0:\n",
    "    print(\"账户余额为零\")\n",
    "else:\n",
    "    print(\"账户余额不为零\")\n"
   ]
  },
  {
   "attachments": {},
   "cell_type": "markdown",
   "metadata": {},
   "source": [
    "3. 复杂的条件表达式\n",
    "   我们可以使用比较运算符和逻辑运算符构建复杂的条件表达式，以实现更灵活的条件判断。常见的逻辑运算符包括：\n",
    "\n",
    "- and（与）：当所有条件都为True时，结果为True\n",
    "- or（或）：当至少一个条件为True时，结果为True\n",
    "- not（非）：取反操作，将True变为False，False变为True\n",
    "\n",
    "举例："
   ]
  },
  {
   "cell_type": "code",
   "execution_count": 13,
   "metadata": {},
   "outputs": [
    {
     "name": "stdout",
     "output_type": "stream",
     "text": [
      "年收入在50,000到100,000之间\n"
     ]
    }
   ],
   "source": [
    "income = 50000\n",
    "if income >= 50000 and income <= 100000:\n",
    "    print(\"年收入在50,000到100,000之间\")\n"
   ]
  },
  {
   "attachments": {},
   "cell_type": "markdown",
   "metadata": {},
   "source": [
    "4. 编写带有条件判断的程序\n",
    "   我们经常需要根据不同的条件执行不同的代码块。条件语句为我们提供了这样的能力。让我们通过一个实际的例子来练习。\n",
    "\n",
    "举例："
   ]
  },
  {
   "cell_type": "code",
   "execution_count": 10,
   "metadata": {},
   "outputs": [
    {
     "name": "stdout",
     "output_type": "stream",
     "text": [
      "盈利一般\n"
     ]
    }
   ],
   "source": [
    "net_income = 5000\n",
    "if net_income > 0 and net_income <= 10000:\n",
    "    print(\"盈利一般\")\n",
    "elif net_income > 10000 and net_income <= 50000:\n",
    "    print(\"盈利良好\")\n",
    "elif net_income > 50000:\n",
    "    print(\"盈利优秀\")\n",
    "else:\n",
    "    print(\"亏损\")"
   ]
  },
  {
   "cell_type": "code",
   "execution_count": 12,
   "metadata": {},
   "outputs": [
    {
     "name": "stdout",
     "output_type": "stream",
     "text": [
      "应缴纳的所得税为： 60000.0\n"
     ]
    }
   ],
   "source": [
    "revenue = float(input(\"请输入公司的营业收入：\"))\n",
    "\n",
    "if revenue > 1000000:\n",
    "    tax = revenue * 0.3\n",
    "    print(\"应缴纳的所得税为：\", tax)\n",
    "else:\n",
    "    tax = revenue * 0.2\n",
    "    print(\"应缴纳的所得税为：\", tax)\n",
    "\n"
   ]
  },
  {
   "attachments": {},
   "cell_type": "markdown",
   "metadata": {},
   "source": [
    "### 循环语句的学习\n",
    "\n",
    "本节课程中，我们将探索循环语句的基本结构、控制条件和循环体的执行过程。同时，我们还会学习如何使用break语句和continue语句控制循环的执行流程。最后，我们将练习编写带有循环结构的程序，如遍历列表和计算累加和。\n",
    "\n",
    "1. 基本结构\n",
    "   循环语句允许我们重复执行一段代码。Python中有两种常见的循环结构：while循环和for循环。\n",
    "\n",
    "- while循环的基本结构如下："
   ]
  },
  {
   "cell_type": "code",
   "execution_count": null,
   "metadata": {},
   "outputs": [],
   "source": [
    "while 条件:\n",
    "    # 循环体代码块"
   ]
  },
  {
   "attachments": {},
   "cell_type": "markdown",
   "metadata": {},
   "source": [
    "for循环的基本结构如下："
   ]
  },
  {
   "cell_type": "code",
   "execution_count": null,
   "metadata": {},
   "outputs": [],
   "source": [
    "for 变量 in 可迭代对象:\n",
    "    # 循环体代码块"
   ]
  },
  {
   "attachments": {},
   "cell_type": "markdown",
   "metadata": {},
   "source": [
    "2. 控制条件和执行过程\n",
    "   循环的执行依赖于控制条件。在每次循环迭代开始时，会检查控制条件的值。如果条件为True，则执行循环体代码块；否则，跳出循环。\n",
    "\n",
    "举例：\n",
    "\n",
    "- 使用while循环输出1到5的金融数据："
   ]
  },
  {
   "cell_type": "code",
   "execution_count": 1,
   "metadata": {},
   "outputs": [
    {
     "name": "stdout",
     "output_type": "stream",
     "text": [
      "股票价格: 100.0\n",
      "股票价格: 200.0\n",
      "股票价格: 300.0\n",
      "股票价格: 400.0\n",
      "股票价格: 500.0\n"
     ]
    }
   ],
   "source": [
    "price = 100.0\n",
    "while price <= 500.0:\n",
    "    print(\"股票价格:\", price)\n",
    "    price += 100.0"
   ]
  },
  {
   "attachments": {},
   "cell_type": "markdown",
   "metadata": {},
   "source": [
    "使用for循环遍历股票交易日的收盘价："
   ]
  },
  {
   "cell_type": "code",
   "execution_count": null,
   "metadata": {},
   "outputs": [],
   "source": [
    "  prices = [105.0, 102.5, 99.2, 101.8, 104.6]\n",
    "  for price in prices:\n",
    "      print(\"收盘价:\", price)"
   ]
  },
  {
   "attachments": {},
   "cell_type": "markdown",
   "metadata": {},
   "source": [
    "3. break和continue语句\n",
    "   我们可以使用break语句提前终止循环的执行，跳出循环体。而continue语句则用于跳过当前迭代，继续执行下一次循环。\n",
    "\n",
    "举例：\n",
    "\n",
    "- 使用break语句在满足条件时终止循环："
   ]
  },
  {
   "cell_type": "code",
   "execution_count": 4,
   "metadata": {},
   "outputs": [
    {
     "name": "stdout",
     "output_type": "stream",
     "text": [
      "股票价格: 100.0\n",
      "股票价格: 200.0\n",
      "股票价格: 300.0\n",
      "股票价格: 400.0\n",
      "股票价格: 500.0\n"
     ]
    }
   ],
   "source": [
    "price = 100.0\n",
    "while True:\n",
    "    print(\"股票价格:\", price)\n",
    "    price += 100.0\n",
    "    if price > 500.0:\n",
    "        break"
   ]
  },
  {
   "attachments": {},
   "cell_type": "markdown",
   "metadata": {},
   "source": [
    "使用continue语句跳过某些迭代："
   ]
  },
  {
   "cell_type": "code",
   "execution_count": 5,
   "metadata": {},
   "outputs": [
    {
     "name": "stdout",
     "output_type": "stream",
     "text": [
      "收盘价: 105.0\n",
      "收盘价: 102.5\n",
      "收盘价: 101.8\n",
      "收盘价: 104.6\n"
     ]
    }
   ],
   "source": [
    "prices = [105.0, 102.5, 99.2, 101.8, 104.6]\n",
    "for price in prices:\n",
    "    if price < 100.0:\n",
    "        continue\n",
    "    print(\"收盘价:\", price)"
   ]
  },
  {
   "attachments": {},
   "cell_type": "markdown",
   "metadata": {},
   "source": [
    "### **编写具有条件判断和循环结构的程序**\n",
    "\n",
    "在本节课程中，我们将进一步学习如何编写具有条件判断和循环结构的程序，并解决一些简单的问题。\n",
    "\n",
    "1. 判断奇数和偶数\n",
    "   编写一个程序，判断一个数是奇数还是偶数，并打印出所有的奇数或偶数。\n",
    "\n",
    "举例：\n",
    "\n",
    "- 判断一个数是否为奇数："
   ]
  },
  {
   "cell_type": "code",
   "execution_count": 14,
   "metadata": {},
   "outputs": [
    {
     "name": "stdout",
     "output_type": "stream",
     "text": [
      "10 是偶数\n"
     ]
    }
   ],
   "source": [
    "num = int(input(\"请输入一个整数：\"))\n",
    "\n",
    "if num % 2 == 0:\n",
    "    print(num, \"是偶数\")\n",
    "else:\n",
    "    print(num, \"是奇数\")"
   ]
  },
  {
   "attachments": {},
   "cell_type": "markdown",
   "metadata": {},
   "source": [
    "打印出1到10之间的所有偶数："
   ]
  },
  {
   "cell_type": "code",
   "execution_count": 15,
   "metadata": {},
   "outputs": [
    {
     "name": "stdout",
     "output_type": "stream",
     "text": [
      "2\n",
      "4\n",
      "6\n",
      "8\n",
      "10\n"
     ]
    }
   ],
   "source": [
    "for num in range(1, 11):\n",
    "    if num % 2 == 0:\n",
    "        print(num)"
   ]
  },
  {
   "attachments": {},
   "cell_type": "markdown",
   "metadata": {},
   "source": [
    "2. 计算斐波那契数列\n",
    "   编写一个程序，计算斐波那契数列中的前n个数字。\n",
    "\n",
    "   注释：斐波那契数列是什么？\n",
    "   \n",
    "   斐波那契数列是一个数列，其中每个数字都是前两个数字之和。数列的开始通常为0和1，后续的数字由前两个数字相加而得。\n",
    "\n",
    "数列的前几个数字如下：\n",
    "0, 1, 1, 2, 3, 5, 8, 13, 21, 34, ...\n",
    "\n",
    "可以看到，数列中的第一个数字是0，第二个数字是1，而后续的每个数字都是前两个数字之和。\n",
    "\n",
    "斐波那契数列在自然界和数学中都有广泛的应用。例如，斐波那契数列可以用于描述植物的分枝规律、音乐中的节奏模式、金融中的利率计算等。\n",
    "\n",
    "举例：\n",
    "\n",
    "- 计算斐波那契数列前10个数字："
   ]
  },
  {
   "cell_type": "code",
   "execution_count": 16,
   "metadata": {},
   "outputs": [
    {
     "name": "stdout",
     "output_type": "stream",
     "text": [
      "0\n",
      "1\n",
      "1\n",
      "2\n",
      "3\n",
      "5\n",
      "8\n",
      "13\n",
      "21\n",
      "34\n"
     ]
    }
   ],
   "source": [
    "n = 10\n",
    "a, b = 0, 1\n",
    "\n",
    "for _ in range(n):\n",
    "    print(a)\n",
    "    a, b = b, a + b"
   ]
  },
  {
   "attachments": {},
   "cell_type": "markdown",
   "metadata": {},
   "source": [
    "3. 判断质数\n",
    "   编写一个程序，判断一个数是否为质数（只能被1和它本身整除的数）。\n",
    "\n",
    "举例：\n",
    "\n",
    "- 判断一个数是否为质数："
   ]
  },
  {
   "cell_type": "code",
   "execution_count": 17,
   "metadata": {},
   "outputs": [
    {
     "name": "stdout",
     "output_type": "stream",
     "text": [
      "30 不是质数\n"
     ]
    }
   ],
   "source": [
    "num = int(input(\"请输入一个整数：\"))\n",
    "\n",
    "if num < 2:\n",
    "    print(num, \"不是质数\")\n",
    "else:\n",
    "    is_prime = True\n",
    "    for i in range(2, int(num ** 0.5) + 1):\n",
    "        if num % i == 0:\n",
    "            is_prime = False\n",
    "            break\n",
    "\n",
    "if is_prime:\n",
    "    print(num, \"是质数\")\n",
    "else:\n",
    "    print(num, \"不是质数\")"
   ]
  }
 ],
 "metadata": {
  "kernelspec": {
   "display_name": "Python 3",
   "language": "python",
   "name": "python3"
  },
  "language_info": {
   "codemirror_mode": {
    "name": "ipython",
    "version": 3
   },
   "file_extension": ".py",
   "mimetype": "text/x-python",
   "name": "python",
   "nbconvert_exporter": "python",
   "pygments_lexer": "ipython3",
   "version": "3.11.2"
  },
  "orig_nbformat": 4
 },
 "nbformat": 4,
 "nbformat_minor": 2
}
