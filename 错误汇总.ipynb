{
 "cells": [
  {
   "cell_type": "markdown",
   "id": "27a28105-02e5-4744-b428-3f0ea688d58e",
   "metadata": {},
   "source": [
    "---\n",
    "title: \"Python常见的异常提示\"\n",
    "format:\n",
    "  html:\n",
    "   code-fold: false\n",
    "   code-tools: true\n",
    "jupyter: python3\n",
    "---\n",
    "## 含义对照表\n",
    "\n",
    "异常名称 | 描述\n",
    "------- | ------\n",
    "BaseException | 所有异常的基类\n",
    "SystemExit | 解释器请求退出\n",
    "KeyboardInterrupt | 用户中断执行(通常是输入^C)\n",
    "Exception | 常规错误的基类\n",
    "StopIteration | 迭代器没有更多的值\n",
    "GeneratorExit | 生成器(generator)发生异常来通知退出\n",
    "StandardError | 所有的内建标准异常的基类\n",
    "ArithmeticError | 所有数值计算错误的基类\n",
    "FloatingPointError | 浮点计算错误\n",
    "OverflowError | 数值运算超出最大限制\n",
    "ZeroDivisionError | 除(或取模)零 (所有数据类型)\n",
    "AssertionError | 断言语句失败\n",
    "AttributeError | 对象没有这个属性\n",
    "EOFError | 没有内建输入,到达EOF 标记\n",
    "EnvironmentError | 操作系统错误的基类\n",
    "IOError | 输入/输出操作失败\n",
    "OSError | 操作系统错误\n",
    "WindowsError | 系统调用失败\n",
    "ImportError | 导入模块/对象失败\n",
    "LookupError | 无效数据查询的基类\n",
    "IndexError | 序列中没有此索引(index)\n",
    "KeyError | 映射中没有这个键\n",
    "MemoryError | 内存溢出错误(对于Python 解释器不是致命的)\n",
    "NameError | 未声明/初始化对象 (没有属性)\n",
    "UnboundLocalError | 访问未初始化的本地变量\n",
    "ReferenceError | 弱引用(Weak reference)试图访问已经垃圾回收了的对象\n",
    "RuntimeError | 一般的运行时错误\n",
    "NotImplementedError | 尚未实现的方法\n",
    "SyntaxError | Python 语法错误\n",
    "IndentationError | 缩进错误\n",
    "TabError | Tab 和空格混用\n",
    "SystemError | 一般的解释器系统错误\n",
    "TypeError | 对类型无效的操作\n",
    "ValueError | 传入无效的参数\n",
    "UnicodeError | Unicode 相关的错误\n",
    "UnicodeDecodeError | Unicode 解码时的错误\n",
    "UnicodeEncodeError | Unicode 编码时错误\n",
    "UnicodeTranslateError | Unicode 转换时错误\n",
    "Warning | 警告的基类\n",
    "DeprecationWarning | 关于被弃用的特征的警告\n",
    "FutureWarning | 关于构造将来语义会有改变的警告\n",
    "OverflowWarning | 旧的关于自动提升为长整型(long)的警告\n",
    "PendingDeprecationWarning | 关于特性将会被废弃的警告\n",
    "RuntimeWarning | 可疑的运行时行为(runtime behavior)的警告\n",
    "SyntaxWarning | 可疑的语法的警告"
   ]
  },
  {
   "cell_type": "code",
   "execution_count": null,
   "id": "2338b4bf-811f-4e1c-a397-cf417d99093f",
   "metadata": {},
   "outputs": [],
   "source": []
  }
 ],
 "metadata": {
  "kernelspec": {
   "display_name": "Python 3 (ipykernel)",
   "language": "python",
   "name": "python3"
  },
  "language_info": {
   "codemirror_mode": {
    "name": "ipython",
    "version": 3
   },
   "file_extension": ".py",
   "mimetype": "text/x-python",
   "name": "python",
   "nbconvert_exporter": "python",
   "pygments_lexer": "ipython3",
   "version": "3.9.7"
  }
 },
 "nbformat": 4,
 "nbformat_minor": 5
}
